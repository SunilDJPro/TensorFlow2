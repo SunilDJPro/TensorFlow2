{
 "cells": [
  {
   "cell_type": "markdown",
   "id": "bbde1e4e-8d54-490b-be07-70f9eda02653",
   "metadata": {},
   "source": [
    "# Intro to regression with neural network\n"
   ]
  },
  {
   "cell_type": "code",
   "execution_count": 1,
   "id": "20f105d4-bf27-4d95-b6fe-08e093b93d9c",
   "metadata": {},
   "outputs": [
    {
     "name": "stderr",
     "output_type": "stream",
     "text": [
      "2023-12-10 12:26:26.207759: E tensorflow/compiler/xla/stream_executor/cuda/cuda_dnn.cc:9342] Unable to register cuDNN factory: Attempting to register factory for plugin cuDNN when one has already been registered\n",
      "2023-12-10 12:26:26.207807: E tensorflow/compiler/xla/stream_executor/cuda/cuda_fft.cc:609] Unable to register cuFFT factory: Attempting to register factory for plugin cuFFT when one has already been registered\n",
      "2023-12-10 12:26:26.210233: E tensorflow/compiler/xla/stream_executor/cuda/cuda_blas.cc:1518] Unable to register cuBLAS factory: Attempting to register factory for plugin cuBLAS when one has already been registered\n",
      "2023-12-10 12:26:26.408754: I tensorflow/core/platform/cpu_feature_guard.cc:182] This TensorFlow binary is optimized to use available CPU instructions in performance-critical operations.\n",
      "To enable the following instructions: AVX2 FMA, in other operations, rebuild TensorFlow with the appropriate compiler flags.\n",
      "/usr/lib/python3/dist-packages/scipy/__init__.py:146: UserWarning: A NumPy version >=1.17.3 and <1.25.0 is required for this version of SciPy (detected version 1.26.2\n",
      "  warnings.warn(f\"A NumPy version >={np_minversion} and <{np_maxversion}\"\n"
     ]
    },
    {
     "name": "stdout",
     "output_type": "stream",
     "text": [
      "2.14.1\n"
     ]
    }
   ],
   "source": [
    "import tensorflow as tf\n",
    "print(tf.__version__)\n",
    "config = tf.compat.v1.ConfigProto()\n",
    "config.gpu_options.allow_growth = True"
   ]
  },
  {
   "cell_type": "code",
   "execution_count": 2,
   "id": "b2edaf0d-0dc0-41fa-a0f5-e35d9a55a6b0",
   "metadata": {},
   "outputs": [
    {
     "name": "stderr",
     "output_type": "stream",
     "text": [
      "2023-12-10 12:26:29.292135: I tensorflow/compiler/xla/stream_executor/cuda/cuda_gpu_executor.cc:894] successful NUMA node read from SysFS had negative value (-1), but there must be at least one NUMA node, so returning NUMA node zero. See more at https://github.com/torvalds/linux/blob/v6.0/Documentation/ABI/testing/sysfs-bus-pci#L344-L355\n",
      "2023-12-10 12:26:29.475325: I tensorflow/compiler/xla/stream_executor/cuda/cuda_gpu_executor.cc:894] successful NUMA node read from SysFS had negative value (-1), but there must be at least one NUMA node, so returning NUMA node zero. See more at https://github.com/torvalds/linux/blob/v6.0/Documentation/ABI/testing/sysfs-bus-pci#L344-L355\n",
      "2023-12-10 12:26:29.475528: I tensorflow/compiler/xla/stream_executor/cuda/cuda_gpu_executor.cc:894] successful NUMA node read from SysFS had negative value (-1), but there must be at least one NUMA node, so returning NUMA node zero. See more at https://github.com/torvalds/linux/blob/v6.0/Documentation/ABI/testing/sysfs-bus-pci#L344-L355\n",
      "2023-12-10 12:26:30.638735: I tensorflow/compiler/xla/stream_executor/cuda/cuda_gpu_executor.cc:894] successful NUMA node read from SysFS had negative value (-1), but there must be at least one NUMA node, so returning NUMA node zero. See more at https://github.com/torvalds/linux/blob/v6.0/Documentation/ABI/testing/sysfs-bus-pci#L344-L355\n",
      "2023-12-10 12:26:30.638915: I tensorflow/compiler/xla/stream_executor/cuda/cuda_gpu_executor.cc:894] successful NUMA node read from SysFS had negative value (-1), but there must be at least one NUMA node, so returning NUMA node zero. See more at https://github.com/torvalds/linux/blob/v6.0/Documentation/ABI/testing/sysfs-bus-pci#L344-L355\n",
      "2023-12-10 12:26:30.639055: I tensorflow/compiler/xla/stream_executor/cuda/cuda_gpu_executor.cc:894] successful NUMA node read from SysFS had negative value (-1), but there must be at least one NUMA node, so returning NUMA node zero. See more at https://github.com/torvalds/linux/blob/v6.0/Documentation/ABI/testing/sysfs-bus-pci#L344-L355\n",
      "2023-12-10 12:26:30.639172: I tensorflow/core/common_runtime/gpu/gpu_device.cc:1886] Created device /job:localhost/replica:0/task:0/device:GPU:0 with 6193 MB memory:  -> device: 0, name: NVIDIA GeForce RTX 2060 SUPER, pci bus id: 0000:09:00.0, compute capability: 7.5\n"
     ]
    },
    {
     "data": {
      "text/plain": [
       "<matplotlib.collections.PathCollection at 0x7fae20780c70>"
      ]
     },
     "execution_count": 2,
     "metadata": {},
     "output_type": "execute_result"
    },
    {
     "data": {
      "image/png": "[encoded data removed]",
      "text/plain": [
       "<Figure size 432x288 with 1 Axes>"
      ]
     },
     "metadata": {
      "needs_background": "light"
     },
     "output_type": "display_data"
    }
   ],
   "source": [
    "# Creating the data top view and fit\n",
    "sess = tf.compat.v1.Session(config=config)\n",
    "import numpy as np\n",
    "import matplotlib.pyplot as plt\n",
    "\n",
    "X = np.array([-7.0, -4.0, -1.0, 2.0, 5.0, 8.0, 11.0, 14.0])\n",
    "\n",
    "y = np.array([3.0, 6.0, 9.0, 12.0, 15.0, 18.0, 21.0, 24.0])\n",
    "\n",
    "plt.scatter(X, y)"
   ]
  },
  {
   "cell_type": "code",
   "execution_count": 3,
   "id": "e660128e-f0af-4db2-baab-2b82f3256669",
   "metadata": {},
   "outputs": [
    {
     "data": {
      "text/plain": [
       "array([ True,  True,  True,  True,  True,  True,  True,  True])"
      ]
     },
     "execution_count": 3,
     "metadata": {},
     "output_type": "execute_result"
    }
   ],
   "source": [
    "y == X + 10"
   ]
  },
  {
   "cell_type": "markdown",
   "id": "0bb34f96-de96-4aab-9c77-1171b79c4806",
   "metadata": {},
   "source": [
    "# Inputs and Output Shapes"
   ]
  },
  {
   "cell_type": "code",
   "execution_count": 4,
   "id": "90968722-f111-4fe7-ab8c-49cbe03826e5",
   "metadata": {},
   "outputs": [
    {
     "name": "stderr",
     "output_type": "stream",
     "text": [
      "2023-12-10 12:26:31.132411: I tensorflow/compiler/xla/stream_executor/cuda/cuda_gpu_executor.cc:894] successful NUMA node read from SysFS had negative value (-1), but there must be at least one NUMA node, so returning NUMA node zero. See more at https://github.com/torvalds/linux/blob/v6.0/Documentation/ABI/testing/sysfs-bus-pci#L344-L355\n"
     ]
    },
    {
     "data": {
      "text/plain": [
       "(<tf.Tensor: shape=(3,), dtype=string, numpy=array([b'bedroom', b'bathroom', b'garage'], dtype=object)>,\n",
       " <tf.Tensor: shape=(1,), dtype=int32, numpy=array([939700], dtype=int32)>)"
      ]
     },
     "execution_count": 4,
     "metadata": {},
     "output_type": "execute_result"
    },
    {
     "name": "stderr",
     "output_type": "stream",
     "text": [
      "2023-12-10 12:26:31.132617: I tensorflow/compiler/xla/stream_executor/cuda/cuda_gpu_executor.cc:894] successful NUMA node read from SysFS had negative value (-1), but there must be at least one NUMA node, so returning NUMA node zero. See more at https://github.com/torvalds/linux/blob/v6.0/Documentation/ABI/testing/sysfs-bus-pci#L344-L355\n",
      "2023-12-10 12:26:31.132742: I tensorflow/compiler/xla/stream_executor/cuda/cuda_gpu_executor.cc:894] successful NUMA node read from SysFS had negative value (-1), but there must be at least one NUMA node, so returning NUMA node zero. See more at https://github.com/torvalds/linux/blob/v6.0/Documentation/ABI/testing/sysfs-bus-pci#L344-L355\n",
      "2023-12-10 12:26:31.133007: I tensorflow/compiler/xla/stream_executor/cuda/cuda_gpu_executor.cc:894] successful NUMA node read from SysFS had negative value (-1), but there must be at least one NUMA node, so returning NUMA node zero. See more at https://github.com/torvalds/linux/blob/v6.0/Documentation/ABI/testing/sysfs-bus-pci#L344-L355\n",
      "2023-12-10 12:26:31.133138: I tensorflow/compiler/xla/stream_executor/cuda/cuda_gpu_executor.cc:894] successful NUMA node read from SysFS had negative value (-1), but there must be at least one NUMA node, so returning NUMA node zero. See more at https://github.com/torvalds/linux/blob/v6.0/Documentation/ABI/testing/sysfs-bus-pci#L344-L355\n",
      "2023-12-10 12:26:31.133275: I tensorflow/compiler/xla/stream_executor/cuda/cuda_gpu_executor.cc:894] successful NUMA node read from SysFS had negative value (-1), but there must be at least one NUMA node, so returning NUMA node zero. See more at https://github.com/torvalds/linux/blob/v6.0/Documentation/ABI/testing/sysfs-bus-pci#L344-L355\n",
      "2023-12-10 12:26:31.133439: I tensorflow/compiler/xla/stream_executor/cuda/cuda_gpu_executor.cc:894] successful NUMA node read from SysFS had negative value (-1), but there must be at least one NUMA node, so returning NUMA node zero. See more at https://github.com/torvalds/linux/blob/v6.0/Documentation/ABI/testing/sysfs-bus-pci#L344-L355\n",
      "2023-12-10 12:26:31.133580: I tensorflow/compiler/xla/stream_executor/cuda/cuda_gpu_executor.cc:894] successful NUMA node read from SysFS had negative value (-1), but there must be at least one NUMA node, so returning NUMA node zero. See more at https://github.com/torvalds/linux/blob/v6.0/Documentation/ABI/testing/sysfs-bus-pci#L344-L355\n",
      "2023-12-10 12:26:31.133689: I tensorflow/core/common_runtime/gpu/gpu_device.cc:1886] Created device /job:localhost/replica:0/task:0/device:GPU:0 with 6193 MB memory:  -> device: 0, name: NVIDIA GeForce RTX 2060 SUPER, pci bus id: 0000:09:00.0, compute capability: 7.5\n"
     ]
    }
   ],
   "source": [
    "#Demo\n",
    "house_info = tf.constant([\"bedroom\", \"bathroom\", \"garage\"])\n",
    "house_price = tf.constant([939700])\n",
    "house_info, house_price"
   ]
  },
  {
   "cell_type": "code",
   "execution_count": 5,
   "id": "e1dfe016-57a5-4cf9-b44a-fcca49f2f897",
   "metadata": {},
   "outputs": [
    {
     "data": {
      "text/plain": [
       "((8,), (8,))"
      ]
     },
     "execution_count": 5,
     "metadata": {},
     "output_type": "execute_result"
    }
   ],
   "source": [
    "input_shape = X.shape\n",
    "output_shape = y.shape\n",
    "input_shape, output_shape"
   ]
  },
  {
   "cell_type": "code",
   "execution_count": 6,
   "id": "d3c21e8e-7b74-4378-9432-992479bfb147",
   "metadata": {},
   "outputs": [
    {
     "data": {
      "text/plain": [
       "(-7.0, 3.0)"
      ]
     },
     "execution_count": 6,
     "metadata": {},
     "output_type": "execute_result"
    }
   ],
   "source": [
    "X[0], y[0]"
   ]
  },
  {
   "cell_type": "code",
   "execution_count": 7,
   "id": "8049c90c-1adb-4447-abe9-47c64ce77777",
   "metadata": {},
   "outputs": [
    {
     "data": {
      "text/plain": [
       "0"
      ]
     },
     "execution_count": 7,
     "metadata": {},
     "output_type": "execute_result"
    }
   ],
   "source": [
    "X[0].ndim"
   ]
  },
  {
   "cell_type": "code",
   "execution_count": 8,
   "id": "080b458e-2177-4536-b6ce-b6f79ae77bfa",
   "metadata": {},
   "outputs": [
    {
     "data": {
      "text/plain": [
       "(<tf.Tensor: shape=(8,), dtype=float32, numpy=array([-7., -4., -1.,  2.,  5.,  8., 11., 14.], dtype=float32)>,\n",
       " <tf.Tensor: shape=(8,), dtype=float32, numpy=array([ 3.,  6.,  9., 12., 15., 18., 21., 24.], dtype=float32)>)"
      ]
     },
     "execution_count": 8,
     "metadata": {},
     "output_type": "execute_result"
    }
   ],
   "source": [
    "#Turn our Numpy arrays into Tensors\n",
    "\n",
    "x = tf.cast(tf.constant(X), dtype=tf.float32)\n",
    "y = tf.cast(tf.constant(y), dtype=tf.float32)\n",
    "x, y"
   ]
  },
  {
   "cell_type": "code",
   "execution_count": 9,
   "id": "7d3e4a87-e7fd-449e-8554-0f1d8b3c9a93",
   "metadata": {},
   "outputs": [
    {
     "data": {
      "text/plain": [
       "(TensorShape([]), TensorShape([]))"
      ]
     },
     "execution_count": 9,
     "metadata": {},
     "output_type": "execute_result"
    }
   ],
   "source": [
    "input_shape = x[0].shape\n",
    "output_shape = y[0].shape\n",
    "input_shape, output_shape"
   ]
  },
  {
   "cell_type": "code",
   "execution_count": 10,
   "id": "b4cc478d-0933-448a-8b0a-adae9ba604e1",
   "metadata": {},
   "outputs": [
    {
     "data": {
      "text/plain": [
       "<matplotlib.collections.PathCollection at 0x7fae2062fa60>"
      ]
     },
     "execution_count": 10,
     "metadata": {},
     "output_type": "execute_result"
    },
    {
     "data": {
      "image/png": "[encoded data removed]",
      "text/plain": [
       "<Figure size 432x288 with 1 Axes>"
      ]
     },
     "metadata": {
      "needs_background": "light"
     },
     "output_type": "display_data"
    }
   ],
   "source": [
    "plt.scatter(x, y)"
   ]
  },
  {
   "cell_type": "code",
   "execution_count": 11,
   "id": "0122d4f1-6666-406f-96a0-ce1d8f280063",
   "metadata": {},
   "outputs": [
    {
     "name": "stdout",
     "output_type": "stream",
     "text": [
      "Epoch 1/50\n"
     ]
    },
    {
     "name": "stderr",
     "output_type": "stream",
     "text": [
      "2023-12-10 12:26:33.184570: I tensorflow/tsl/platform/default/subprocess.cc:304] Start cannot spawn child process: No such file or directory\n",
      "2023-12-10 12:26:33.308332: I tensorflow/compiler/xla/service/service.cc:168] XLA service 0x7fad617bfd90 initialized for platform CUDA (this does not guarantee that XLA will be used). Devices:\n",
      "2023-12-10 12:26:33.308359: I tensorflow/compiler/xla/service/service.cc:176]   StreamExecutor device (0): NVIDIA GeForce RTX 2060 SUPER, Compute Capability 7.5\n"
     ]
    },
    {
     "name": "stdout",
     "output_type": "stream",
     "text": [
      "1/1 [==============================] - 4s 4s/step - loss: 10.8034 - mae: 10.8034\n",
      "Epoch 2/50\n",
      "1/1 [==============================] - 0s 5ms/step - loss: 10.6709 - mae: 10.6709\n",
      "Epoch 3/50\n",
      "1/1 [==============================] - 0s 4ms/step - loss: 10.5384 - mae: 10.5384\n",
      "Epoch 4/50\n",
      "1/1 [==============================] - 0s 3ms/step - loss: 10.4059 - mae: 10.4059\n",
      "Epoch 5/50\n",
      "1/1 [==============================] - 0s 4ms/step - loss: 10.2734 - mae: 10.2734\n",
      "Epoch 6/50\n",
      "1/1 [==============================] - 0s 4ms/step - loss: 10.1409 - mae: 10.1409\n",
      "Epoch 7/50\n",
      "1/1 [==============================] - 0s 4ms/step - loss: 10.0084 - mae: 10.0084\n",
      "Epoch 8/50\n",
      "1/1 [==============================] - 0s 4ms/step - loss: 9.8759 - mae: 9.8759\n",
      "Epoch 9/50\n",
      "1/1 [==============================] - 0s 4ms/step - loss: 9.7434 - mae: 9.7434\n",
      "Epoch 10/50\n",
      "1/1 [==============================] - 0s 4ms/step - loss: 9.6109 - mae: 9.6109\n",
      "Epoch 11/50\n",
      "1/1 [==============================] - 0s 4ms/step - loss: 9.4784 - mae: 9.4784\n",
      "Epoch 12/50\n",
      "1/1 [==============================] - 0s 4ms/step - loss: 9.3459 - mae: 9.3459\n",
      "Epoch 13/50\n",
      "1/1 [==============================] - 0s 4ms/step - loss: 9.2134 - mae: 9.2134\n",
      "Epoch 14/50\n",
      "1/1 [==============================] - 0s 4ms/step - loss: 9.0809 - mae: 9.0809\n",
      "Epoch 15/50\n",
      "1/1 [==============================] - 0s 4ms/step - loss: 8.9484 - mae: 8.9484\n",
      "Epoch 16/50\n",
      "1/1 [==============================] - 0s 4ms/step - loss: 8.8159 - mae: 8.8159\n",
      "Epoch 17/50\n",
      "1/1 [==============================] - 0s 4ms/step - loss: 8.6834 - mae: 8.6834\n",
      "Epoch 18/50\n",
      "1/1 [==============================] - 0s 4ms/step - loss: 8.5509 - mae: 8.5509\n",
      "Epoch 19/50\n",
      "1/1 [==============================] - 0s 4ms/step - loss: 8.4184 - mae: 8.4184\n",
      "Epoch 20/50\n",
      "1/1 [==============================] - 0s 4ms/step - loss: 8.2859 - mae: 8.2859\n",
      "Epoch 21/50\n",
      "1/1 [==============================] - 0s 3ms/step - loss: 8.1534 - mae: 8.1534\n",
      "Epoch 22/50\n",
      "1/1 [==============================] - 0s 3ms/step - loss: 8.0209 - mae: 8.0209\n",
      "Epoch 23/50\n"
     ]
    },
    {
     "name": "stderr",
     "output_type": "stream",
     "text": [
      "2023-12-10 12:26:35.035213: I tensorflow/compiler/xla/stream_executor/cuda/cuda_dnn.cc:442] Loaded cuDNN version 8906\n",
      "2023-12-10 12:26:35.096547: I ./tensorflow/compiler/jit/device_compiler.h:186] Compiled cluster using XLA!  This line is logged at most once for the lifetime of the process.\n"
     ]
    },
    {
     "name": "stdout",
     "output_type": "stream",
     "text": [
      "1/1 [==============================] - 0s 4ms/step - loss: 7.8884 - mae: 7.8884\n",
      "Epoch 24/50\n",
      "1/1 [==============================] - 0s 3ms/step - loss: 7.7559 - mae: 7.7559\n",
      "Epoch 25/50\n",
      "1/1 [==============================] - 0s 3ms/step - loss: 7.6234 - mae: 7.6234\n",
      "Epoch 26/50\n",
      "1/1 [==============================] - 0s 4ms/step - loss: 7.4909 - mae: 7.4909\n",
      "Epoch 27/50\n",
      "1/1 [==============================] - 0s 3ms/step - loss: 7.3584 - mae: 7.3584\n",
      "Epoch 28/50\n",
      "1/1 [==============================] - 0s 4ms/step - loss: 7.2975 - mae: 7.2975\n",
      "Epoch 29/50\n",
      "1/1 [==============================] - 0s 3ms/step - loss: 7.2919 - mae: 7.2919\n",
      "Epoch 30/50\n",
      "1/1 [==============================] - 0s 4ms/step - loss: 7.2862 - mae: 7.2862\n",
      "Epoch 31/50\n",
      "1/1 [==============================] - 0s 3ms/step - loss: 7.2806 - mae: 7.2806\n",
      "Epoch 32/50\n",
      "1/1 [==============================] - 0s 3ms/step - loss: 7.2750 - mae: 7.2750\n",
      "Epoch 33/50\n",
      "1/1 [==============================] - 0s 3ms/step - loss: 7.2694 - mae: 7.2694\n",
      "Epoch 34/50\n",
      "1/1 [==============================] - 0s 4ms/step - loss: 7.2638 - mae: 7.2638\n",
      "Epoch 35/50\n",
      "1/1 [==============================] - 0s 4ms/step - loss: 7.2581 - mae: 7.2581\n",
      "Epoch 36/50\n",
      "1/1 [==============================] - 0s 3ms/step - loss: 7.2525 - mae: 7.2525\n",
      "Epoch 37/50\n",
      "1/1 [==============================] - 0s 4ms/step - loss: 7.2469 - mae: 7.2469\n",
      "Epoch 38/50\n",
      "1/1 [==============================] - 0s 4ms/step - loss: 7.2413 - mae: 7.2413\n",
      "Epoch 39/50\n",
      "1/1 [==============================] - 0s 3ms/step - loss: 7.2356 - mae: 7.2356\n",
      "Epoch 40/50\n",
      "1/1 [==============================] - 0s 5ms/step - loss: 7.2300 - mae: 7.2300\n",
      "Epoch 41/50\n",
      "1/1 [==============================] - 0s 4ms/step - loss: 7.2244 - mae: 7.2244\n",
      "Epoch 42/50\n",
      "1/1 [==============================] - 0s 3ms/step - loss: 7.2188 - mae: 7.2188\n",
      "Epoch 43/50\n",
      "1/1 [==============================] - 0s 4ms/step - loss: 7.2131 - mae: 7.2131\n",
      "Epoch 44/50\n",
      "1/1 [==============================] - 0s 4ms/step - loss: 7.2075 - mae: 7.2075\n",
      "Epoch 45/50\n",
      "1/1 [==============================] - 0s 3ms/step - loss: 7.2019 - mae: 7.2019\n",
      "Epoch 46/50\n",
      "1/1 [==============================] - 0s 3ms/step - loss: 7.1962 - mae: 7.1962\n",
      "Epoch 47/50\n",
      "1/1 [==============================] - 0s 4ms/step - loss: 7.1906 - mae: 7.1906\n",
      "Epoch 48/50\n",
      "1/1 [==============================] - 0s 3ms/step - loss: 7.1850 - mae: 7.1850\n",
      "Epoch 49/50\n",
      "1/1 [==============================] - 0s 3ms/step - loss: 7.1794 - mae: 7.1794\n",
      "Epoch 50/50\n",
      "1/1 [==============================] - 0s 4ms/step - loss: 7.1737 - mae: 7.1737\n"
     ]
    },
    {
     "data": {
      "text/plain": [
       "<keras.src.callbacks.History at 0x7fae205bf760>"
      ]
     },
     "execution_count": 11,
     "metadata": {},
     "output_type": "execute_result"
    }
   ],
   "source": [
    "# Set seed\n",
    "tf.random.set_seed(42)\n",
    "\n",
    "#Sequential API\n",
    "model = tf.keras.Sequential([\n",
    "    tf.keras.layers.Dense(1)\n",
    "    # tf.keras.layers.Dense(1)\n",
    "])\n",
    "\n",
    "#mae - Mean Absolute Error\n",
    "model.compile(loss = tf.keras.losses.mae, \n",
    "              optimizer= tf.keras.optimizers.SGD(),\n",
    "              metrics=[\"mae\"])\n",
    "\n",
    "model.fit(tf.expand_dims(X, axis=-1), y, epochs=50)\n"
   ]
  },
  {
   "cell_type": "code",
   "execution_count": 12,
   "id": "b39621d7-7e7b-4fba-8518-a51ec6dbd129",
   "metadata": {},
   "outputs": [
    {
     "data": {
      "text/plain": [
       "(<tf.Tensor: shape=(8,), dtype=float32, numpy=array([-7., -4., -1.,  2.,  5.,  8., 11., 14.], dtype=float32)>,\n",
       " <tf.Tensor: shape=(8,), dtype=float32, numpy=array([ 3.,  6.,  9., 12., 15., 18., 21., 24.], dtype=float32)>)"
      ]
     },
     "execution_count": 12,
     "metadata": {},
     "output_type": "execute_result"
    }
   ],
   "source": [
    "x, y"
   ]
  },
  {
   "cell_type": "code",
   "execution_count": 13,
   "id": "d81d5e1c-50bd-46f9-9b07-9e50fae8cb34",
   "metadata": {},
   "outputs": [
    {
     "name": "stdout",
     "output_type": "stream",
     "text": [
      "1/1 [==============================] - 0s 52ms/step\n"
     ]
    },
    {
     "data": {
      "text/plain": [
       "array([[29.605488]], dtype=float32)"
      ]
     },
     "execution_count": 13,
     "metadata": {},
     "output_type": "execute_result"
    }
   ],
   "source": [
    "model.predict([17.0])"
   ]
  },
  {
   "cell_type": "code",
   "execution_count": 14,
   "id": "2643b443-7d89-4aec-a5cb-635d73657432",
   "metadata": {},
   "outputs": [
    {
     "name": "stdout",
     "output_type": "stream",
     "text": [
      "1/1 [==============================] - 0s 23ms/step\n"
     ]
    },
    {
     "data": {
      "text/plain": [
       "array([[24.459078]], dtype=float32)"
      ]
     },
     "execution_count": 14,
     "metadata": {},
     "output_type": "execute_result"
    }
   ],
   "source": [
    "y_pred = model.predict([14.0])\n",
    "y_pred"
   ]
  },
  {
   "cell_type": "markdown",
   "id": "a9ea6798-4a20-4398-a30b-c83c6862de4d",
   "metadata": {},
   "source": [
    "# Improving our Model"
   ]
  },
  {
   "cell_type": "code",
   "execution_count": 16,
   "id": "3b04d010-0fa0-4d87-9926-9f731f57e83a",
   "metadata": {},
   "outputs": [
    {
     "name": "stdout",
     "output_type": "stream",
     "text": [
      "Epoch 1/100\n",
      "1/1 [==============================] - 0s 191ms/step - loss: 17.8384 - mae: 17.8384\n",
      "Epoch 2/100\n",
      "1/1 [==============================] - 0s 4ms/step - loss: 17.5572 - mae: 17.5572\n",
      "Epoch 3/100\n",
      "1/1 [==============================] - 0s 4ms/step - loss: 17.2759 - mae: 17.2759\n",
      "Epoch 4/100\n",
      "1/1 [==============================] - 0s 4ms/step - loss: 16.9947 - mae: 16.9947\n",
      "Epoch 5/100\n",
      "1/1 [==============================] - 0s 4ms/step - loss: 16.7134 - mae: 16.7134\n",
      "Epoch 6/100\n",
      "1/1 [==============================] - 0s 3ms/step - loss: 16.4322 - mae: 16.4322\n",
      "Epoch 7/100\n",
      "1/1 [==============================] - 0s 4ms/step - loss: 16.1509 - mae: 16.1509\n",
      "Epoch 8/100\n",
      "1/1 [==============================] - 0s 4ms/step - loss: 15.8697 - mae: 15.8697\n",
      "Epoch 9/100\n",
      "1/1 [==============================] - 0s 4ms/step - loss: 15.5884 - mae: 15.5884\n",
      "Epoch 10/100\n",
      "1/1 [==============================] - 0s 4ms/step - loss: 15.3072 - mae: 15.3072\n",
      "Epoch 11/100\n",
      "1/1 [==============================] - 0s 3ms/step - loss: 15.0259 - mae: 15.0259\n",
      "Epoch 12/100\n",
      "1/1 [==============================] - 0s 4ms/step - loss: 14.7885 - mae: 14.7885\n",
      "Epoch 13/100\n",
      "1/1 [==============================] - 0s 4ms/step - loss: 14.6560 - mae: 14.6560\n",
      "Epoch 14/100\n",
      "1/1 [==============================] - 0s 3ms/step - loss: 14.5235 - mae: 14.5235\n",
      "Epoch 15/100\n",
      "1/1 [==============================] - 0s 3ms/step - loss: 14.3910 - mae: 14.3910\n",
      "Epoch 16/100\n",
      "1/1 [==============================] - 0s 4ms/step - loss: 14.2585 - mae: 14.2585\n",
      "Epoch 17/100\n",
      "1/1 [==============================] - 0s 3ms/step - loss: 14.1260 - mae: 14.1260\n",
      "Epoch 18/100\n",
      "1/1 [==============================] - 0s 4ms/step - loss: 13.9935 - mae: 13.9935\n",
      "Epoch 19/100\n",
      "1/1 [==============================] - 0s 3ms/step - loss: 13.8610 - mae: 13.8610\n",
      "Epoch 20/100\n",
      "1/1 [==============================] - 0s 4ms/step - loss: 13.7285 - mae: 13.7285\n",
      "Epoch 21/100\n",
      "1/1 [==============================] - 0s 4ms/step - loss: 13.5960 - mae: 13.5960\n",
      "Epoch 22/100\n",
      "1/1 [==============================] - 0s 3ms/step - loss: 13.4635 - mae: 13.4635\n",
      "Epoch 23/100\n",
      "1/1 [==============================] - 0s 5ms/step - loss: 13.3310 - mae: 13.3310\n",
      "Epoch 24/100\n",
      "1/1 [==============================] - 0s 4ms/step - loss: 13.1985 - mae: 13.1985\n",
      "Epoch 25/100\n",
      "1/1 [==============================] - 0s 4ms/step - loss: 13.0660 - mae: 13.0660\n",
      "Epoch 26/100\n",
      "1/1 [==============================] - 0s 4ms/step - loss: 12.9335 - mae: 12.9335\n",
      "Epoch 27/100\n",
      "1/1 [==============================] - 0s 4ms/step - loss: 12.8010 - mae: 12.8010\n",
      "Epoch 28/100\n",
      "1/1 [==============================] - 0s 3ms/step - loss: 12.6685 - mae: 12.6685\n",
      "Epoch 29/100\n",
      "1/1 [==============================] - 0s 3ms/step - loss: 12.5360 - mae: 12.5360\n",
      "Epoch 30/100\n",
      "1/1 [==============================] - 0s 3ms/step - loss: 12.4035 - mae: 12.4035\n",
      "Epoch 31/100\n",
      "1/1 [==============================] - 0s 3ms/step - loss: 12.2710 - mae: 12.2710\n",
      "Epoch 32/100\n",
      "1/1 [==============================] - 0s 3ms/step - loss: 12.1385 - mae: 12.1385\n",
      "Epoch 33/100\n",
      "1/1 [==============================] - 0s 4ms/step - loss: 12.0060 - mae: 12.0060\n",
      "Epoch 34/100\n",
      "1/1 [==============================] - 0s 3ms/step - loss: 11.8735 - mae: 11.8735\n",
      "Epoch 35/100\n",
      "1/1 [==============================] - 0s 3ms/step - loss: 11.7410 - mae: 11.7410\n",
      "Epoch 36/100\n",
      "1/1 [==============================] - 0s 3ms/step - loss: 11.6085 - mae: 11.6085\n",
      "Epoch 37/100\n",
      "1/1 [==============================] - 0s 4ms/step - loss: 11.4760 - mae: 11.4760\n",
      "Epoch 38/100\n",
      "1/1 [==============================] - 0s 3ms/step - loss: 11.3435 - mae: 11.3435\n",
      "Epoch 39/100\n",
      "1/1 [==============================] - 0s 3ms/step - loss: 11.2110 - mae: 11.2110\n",
      "Epoch 40/100\n",
      "1/1 [==============================] - 0s 4ms/step - loss: 11.0785 - mae: 11.0785\n",
      "Epoch 41/100\n",
      "1/1 [==============================] - 0s 3ms/step - loss: 10.9460 - mae: 10.9460\n",
      "Epoch 42/100\n",
      "1/1 [==============================] - 0s 3ms/step - loss: 10.8135 - mae: 10.8135\n",
      "Epoch 43/100\n",
      "1/1 [==============================] - 0s 4ms/step - loss: 10.6810 - mae: 10.6810\n",
      "Epoch 44/100\n",
      "1/1 [==============================] - 0s 4ms/step - loss: 10.5485 - mae: 10.5485\n",
      "Epoch 45/100\n",
      "1/1 [==============================] - 0s 4ms/step - loss: 10.4160 - mae: 10.4160\n",
      "Epoch 46/100\n",
      "1/1 [==============================] - 0s 4ms/step - loss: 10.2835 - mae: 10.2835\n",
      "Epoch 47/100\n",
      "1/1 [==============================] - 0s 4ms/step - loss: 10.1510 - mae: 10.1510\n",
      "Epoch 48/100\n",
      "1/1 [==============================] - 0s 3ms/step - loss: 10.0185 - mae: 10.0185\n",
      "Epoch 49/100\n",
      "1/1 [==============================] - 0s 3ms/step - loss: 9.8860 - mae: 9.8860\n",
      "Epoch 50/100\n",
      "1/1 [==============================] - 0s 4ms/step - loss: 9.7535 - mae: 9.7535\n",
      "Epoch 51/100\n",
      "1/1 [==============================] - 0s 3ms/step - loss: 9.6210 - mae: 9.6210\n",
      "Epoch 52/100\n",
      "1/1 [==============================] - 0s 3ms/step - loss: 9.4885 - mae: 9.4885\n",
      "Epoch 53/100\n",
      "1/1 [==============================] - 0s 3ms/step - loss: 9.3560 - mae: 9.3560\n",
      "Epoch 54/100\n",
      "1/1 [==============================] - 0s 5ms/step - loss: 9.2235 - mae: 9.2235\n",
      "Epoch 55/100\n",
      "1/1 [==============================] - 0s 3ms/step - loss: 9.0910 - mae: 9.0910\n",
      "Epoch 56/100\n",
      "1/1 [==============================] - 0s 3ms/step - loss: 8.9585 - mae: 8.9585\n",
      "Epoch 57/100\n",
      "1/1 [==============================] - 0s 3ms/step - loss: 8.8260 - mae: 8.8260\n",
      "Epoch 58/100\n",
      "1/1 [==============================] - 0s 4ms/step - loss: 8.6935 - mae: 8.6935\n",
      "Epoch 59/100\n",
      "1/1 [==============================] - 0s 3ms/step - loss: 8.5610 - mae: 8.5610\n",
      "Epoch 60/100\n",
      "1/1 [==============================] - 0s 3ms/step - loss: 8.4285 - mae: 8.4285\n",
      "Epoch 61/100\n",
      "1/1 [==============================] - 0s 4ms/step - loss: 8.2960 - mae: 8.2960\n",
      "Epoch 62/100\n",
      "1/1 [==============================] - 0s 4ms/step - loss: 8.1635 - mae: 8.1635\n",
      "Epoch 63/100\n",
      "1/1 [==============================] - 0s 3ms/step - loss: 8.0310 - mae: 8.0310\n",
      "Epoch 64/100\n",
      "1/1 [==============================] - 0s 4ms/step - loss: 7.8985 - mae: 7.8985\n",
      "Epoch 65/100\n",
      "1/1 [==============================] - 0s 4ms/step - loss: 7.7660 - mae: 7.7660\n",
      "Epoch 66/100\n",
      "1/1 [==============================] - 0s 4ms/step - loss: 7.6335 - mae: 7.6335\n",
      "Epoch 67/100\n",
      "1/1 [==============================] - 0s 4ms/step - loss: 7.5010 - mae: 7.5010\n",
      "Epoch 68/100\n",
      "1/1 [==============================] - 0s 4ms/step - loss: 7.3685 - mae: 7.3685\n",
      "Epoch 69/100\n",
      "1/1 [==============================] - 0s 4ms/step - loss: 7.2360 - mae: 7.2360\n",
      "Epoch 70/100\n",
      "1/1 [==============================] - 0s 4ms/step - loss: 7.1035 - mae: 7.1035\n",
      "Epoch 71/100\n",
      "1/1 [==============================] - 0s 4ms/step - loss: 6.9956 - mae: 6.9956\n",
      "Epoch 72/100\n",
      "1/1 [==============================] - 0s 4ms/step - loss: 6.9900 - mae: 6.9900\n",
      "Epoch 73/100\n",
      "1/1 [==============================] - 0s 4ms/step - loss: 6.9844 - mae: 6.9844\n",
      "Epoch 74/100\n",
      "1/1 [==============================] - 0s 4ms/step - loss: 6.9788 - mae: 6.9788\n",
      "Epoch 75/100\n",
      "1/1 [==============================] - 0s 4ms/step - loss: 6.9731 - mae: 6.9731\n",
      "Epoch 76/100\n",
      "1/1 [==============================] - 0s 4ms/step - loss: 6.9675 - mae: 6.9675\n",
      "Epoch 77/100\n",
      "1/1 [==============================] - 0s 4ms/step - loss: 6.9619 - mae: 6.9619\n",
      "Epoch 78/100\n",
      "1/1 [==============================] - 0s 3ms/step - loss: 6.9563 - mae: 6.9563\n",
      "Epoch 79/100\n",
      "1/1 [==============================] - 0s 3ms/step - loss: 6.9506 - mae: 6.9506\n",
      "Epoch 80/100\n",
      "1/1 [==============================] - 0s 5ms/step - loss: 6.9450 - mae: 6.9450\n",
      "Epoch 81/100\n",
      "1/1 [==============================] - 0s 4ms/step - loss: 6.9394 - mae: 6.9394\n",
      "Epoch 82/100\n",
      "1/1 [==============================] - 0s 3ms/step - loss: 6.9338 - mae: 6.9338\n",
      "Epoch 83/100\n",
      "1/1 [==============================] - 0s 4ms/step - loss: 6.9281 - mae: 6.9281\n",
      "Epoch 84/100\n",
      "1/1 [==============================] - 0s 3ms/step - loss: 6.9225 - mae: 6.9225\n",
      "Epoch 85/100\n",
      "1/1 [==============================] - 0s 3ms/step - loss: 6.9169 - mae: 6.9169\n",
      "Epoch 86/100\n",
      "1/1 [==============================] - 0s 3ms/step - loss: 6.9113 - mae: 6.9113\n",
      "Epoch 87/100\n",
      "1/1 [==============================] - 0s 5ms/step - loss: 6.9056 - mae: 6.9056\n",
      "Epoch 88/100\n"
     ]
    },
    {
     "name": "stdout",
     "output_type": "stream",
     "text": [
      "1/1 [==============================] - 0s 3ms/step - loss: 6.9000 - mae: 6.9000\n",
      "Epoch 89/100\n",
      "1/1 [==============================] - 0s 3ms/step - loss: 6.8944 - mae: 6.8944\n",
      "Epoch 90/100\n",
      "1/1 [==============================] - 0s 5ms/step - loss: 6.8888 - mae: 6.8888\n",
      "Epoch 91/100\n",
      "1/1 [==============================] - 0s 3ms/step - loss: 6.8831 - mae: 6.8831\n",
      "Epoch 92/100\n",
      "1/1 [==============================] - 0s 4ms/step - loss: 6.8775 - mae: 6.8775\n",
      "Epoch 93/100\n",
      "1/1 [==============================] - 0s 4ms/step - loss: 6.8719 - mae: 6.8719\n",
      "Epoch 94/100\n",
      "1/1 [==============================] - 0s 3ms/step - loss: 6.8663 - mae: 6.8663\n",
      "Epoch 95/100\n",
      "1/1 [==============================] - 0s 3ms/step - loss: 6.8606 - mae: 6.8606\n",
      "Epoch 96/100\n",
      "1/1 [==============================] - 0s 3ms/step - loss: 6.8550 - mae: 6.8550\n",
      "Epoch 97/100\n",
      "1/1 [==============================] - 0s 3ms/step - loss: 6.8494 - mae: 6.8494\n",
      "Epoch 98/100\n",
      "1/1 [==============================] - 0s 3ms/step - loss: 6.8438 - mae: 6.8438\n",
      "Epoch 99/100\n",
      "1/1 [==============================] - 0s 3ms/step - loss: 6.8381 - mae: 6.8381\n",
      "Epoch 100/100\n",
      "1/1 [==============================] - 0s 3ms/step - loss: 6.8325 - mae: 6.8325\n"
     ]
    },
    {
     "data": {
      "text/plain": [
       "<keras.src.callbacks.History at 0x7fae202d9bd0>"
      ]
     },
     "execution_count": 16,
     "metadata": {},
     "output_type": "execute_result"
    }
   ],
   "source": [
    "model = tf.keras.Sequential([\n",
    "    tf.keras.layers.Dense(1)\n",
    "])\n",
    "\n",
    "model.compile(loss=tf.keras.losses.mae,\n",
    "             optimizer=tf.keras.optimizers.SGD(),\n",
    "             metrics=[\"mae\"])\n",
    "\n",
    "model.fit(tf.expand_dims(X, axis=-1), y, epochs=100)"
   ]
  },
  {
   "cell_type": "code",
   "execution_count": 17,
   "id": "3e49347e",
   "metadata": {},
   "outputs": [
    {
     "data": {
      "text/plain": [
       "array([-7., -4., -1.,  2.,  5.,  8., 11., 14.])"
      ]
     },
     "execution_count": 17,
     "metadata": {},
     "output_type": "execute_result"
    }
   ],
   "source": [
    "X"
   ]
  },
  {
   "cell_type": "code",
   "execution_count": 18,
   "id": "cd5161d3",
   "metadata": {},
   "outputs": [
    {
     "data": {
      "text/plain": [
       "<tf.Tensor: shape=(8,), dtype=float32, numpy=array([ 3.,  6.,  9., 12., 15., 18., 21., 24.], dtype=float32)>"
      ]
     },
     "execution_count": 18,
     "metadata": {},
     "output_type": "execute_result"
    }
   ],
   "source": [
    "y\n"
   ]
  },
  {
   "cell_type": "code",
   "execution_count": 19,
   "id": "210b66c6",
   "metadata": {},
   "outputs": [
    {
     "name": "stdout",
     "output_type": "stream",
     "text": [
      "1/1 [==============================] - 0s 35ms/step\n"
     ]
    },
    {
     "data": {
      "text/plain": [
       "array([[29.343243]], dtype=float32)"
      ]
     },
     "execution_count": 19,
     "metadata": {},
     "output_type": "execute_result"
    }
   ],
   "source": [
    "model.predict([17.0])"
   ]
  },
  {
   "cell_type": "code",
   "execution_count": 44,
   "id": "fe63f484",
   "metadata": {},
   "outputs": [
    {
     "name": "stdout",
     "output_type": "stream",
     "text": [
      "Epoch 1/50\n",
      "1/1 [==============================] - 0s 393ms/step - loss: 14.0138 - mae: 14.0138\n",
      "Epoch 2/50\n",
      "1/1 [==============================] - 0s 4ms/step - loss: 13.0697 - mae: 13.0697\n",
      "Epoch 3/50\n",
      "1/1 [==============================] - 0s 4ms/step - loss: 12.1287 - mae: 12.1287\n",
      "Epoch 4/50\n",
      "1/1 [==============================] - 0s 5ms/step - loss: 11.1854 - mae: 11.1854\n",
      "Epoch 5/50\n",
      "1/1 [==============================] - 0s 4ms/step - loss: 10.2352 - mae: 10.2352\n",
      "Epoch 6/50\n",
      "1/1 [==============================] - 0s 5ms/step - loss: 9.2720 - mae: 9.2720\n",
      "Epoch 7/50\n",
      "1/1 [==============================] - 0s 5ms/step - loss: 8.2884 - mae: 8.2884\n",
      "Epoch 8/50\n",
      "1/1 [==============================] - 0s 4ms/step - loss: 7.2767 - mae: 7.2767\n",
      "Epoch 9/50\n",
      "1/1 [==============================] - 0s 4ms/step - loss: 6.6959 - mae: 6.6959\n",
      "Epoch 10/50\n",
      "1/1 [==============================] - 0s 4ms/step - loss: 7.1467 - mae: 7.1467\n",
      "Epoch 11/50\n",
      "1/1 [==============================] - 0s 5ms/step - loss: 7.6866 - mae: 7.6866\n",
      "Epoch 12/50\n",
      "1/1 [==============================] - 0s 4ms/step - loss: 7.9409 - mae: 7.9409\n",
      "Epoch 13/50\n",
      "1/1 [==============================] - 0s 4ms/step - loss: 7.8693 - mae: 7.8693\n",
      "Epoch 14/50\n",
      "1/1 [==============================] - 0s 5ms/step - loss: 7.5655 - mae: 7.5655\n",
      "Epoch 15/50\n",
      "1/1 [==============================] - 0s 4ms/step - loss: 7.0955 - mae: 7.0955\n",
      "Epoch 16/50\n",
      "1/1 [==============================] - 0s 4ms/step - loss: 6.6547 - mae: 6.6547\n",
      "Epoch 17/50\n",
      "1/1 [==============================] - 0s 4ms/step - loss: 6.2778 - mae: 6.2778\n",
      "Epoch 18/50\n",
      "1/1 [==============================] - 0s 4ms/step - loss: 6.0054 - mae: 6.0054\n",
      "Epoch 19/50\n",
      "1/1 [==============================] - 0s 4ms/step - loss: 5.9552 - mae: 5.9552\n",
      "Epoch 20/50\n",
      "1/1 [==============================] - 0s 5ms/step - loss: 6.1904 - mae: 6.1904\n",
      "Epoch 21/50\n",
      "1/1 [==============================] - 0s 4ms/step - loss: 6.2883 - mae: 6.2883\n",
      "Epoch 22/50\n",
      "1/1 [==============================] - 0s 4ms/step - loss: 6.2478 - mae: 6.2478\n",
      "Epoch 23/50\n",
      "1/1 [==============================] - 0s 5ms/step - loss: 6.0878 - mae: 6.0878\n",
      "Epoch 24/50\n",
      "1/1 [==============================] - 0s 4ms/step - loss: 5.8214 - mae: 5.8214\n",
      "Epoch 25/50\n",
      "1/1 [==============================] - 0s 4ms/step - loss: 5.4574 - mae: 5.4574\n",
      "Epoch 26/50\n",
      "1/1 [==============================] - 0s 5ms/step - loss: 5.2057 - mae: 5.2057\n",
      "Epoch 27/50\n",
      "1/1 [==============================] - 0s 4ms/step - loss: 5.0765 - mae: 5.0765\n",
      "Epoch 28/50\n",
      "1/1 [==============================] - 0s 4ms/step - loss: 5.0989 - mae: 5.0989\n",
      "Epoch 29/50\n",
      "1/1 [==============================] - 0s 4ms/step - loss: 5.0646 - mae: 5.0646\n",
      "Epoch 30/50\n",
      "1/1 [==============================] - 0s 4ms/step - loss: 4.9773 - mae: 4.9773\n",
      "Epoch 31/50\n",
      "1/1 [==============================] - 0s 4ms/step - loss: 4.8406 - mae: 4.8406\n",
      "Epoch 32/50\n",
      "1/1 [==============================] - 0s 4ms/step - loss: 4.6582 - mae: 4.6582\n",
      "Epoch 33/50\n",
      "1/1 [==============================] - 0s 4ms/step - loss: 4.4333 - mae: 4.4333\n",
      "Epoch 34/50\n",
      "1/1 [==============================] - 0s 3ms/step - loss: 4.1692 - mae: 4.1692\n",
      "Epoch 35/50\n",
      "1/1 [==============================] - 0s 4ms/step - loss: 3.9626 - mae: 3.9626\n",
      "Epoch 36/50\n",
      "1/1 [==============================] - 0s 4ms/step - loss: 3.8243 - mae: 3.8243\n",
      "Epoch 37/50\n",
      "1/1 [==============================] - 0s 3ms/step - loss: 3.8041 - mae: 3.8041\n",
      "Epoch 38/50\n",
      "1/1 [==============================] - 0s 3ms/step - loss: 3.6546 - mae: 3.6546\n",
      "Epoch 39/50\n",
      "1/1 [==============================] - 0s 4ms/step - loss: 3.3496 - mae: 3.3496\n",
      "Epoch 40/50\n",
      "1/1 [==============================] - 0s 3ms/step - loss: 3.0359 - mae: 3.0359\n",
      "Epoch 41/50\n",
      "1/1 [==============================] - 0s 3ms/step - loss: 2.8628 - mae: 2.8628\n",
      "Epoch 42/50\n",
      "1/1 [==============================] - 0s 4ms/step - loss: 2.7252 - mae: 2.7252\n",
      "Epoch 43/50\n",
      "1/1 [==============================] - 0s 3ms/step - loss: 2.5166 - mae: 2.5166\n",
      "Epoch 44/50\n",
      "1/1 [==============================] - 0s 3ms/step - loss: 2.2384 - mae: 2.2384\n",
      "Epoch 45/50\n",
      "1/1 [==============================] - 0s 3ms/step - loss: 1.8920 - mae: 1.8920\n",
      "Epoch 46/50\n",
      "1/1 [==============================] - 0s 4ms/step - loss: 1.5215 - mae: 1.5215\n",
      "Epoch 47/50\n",
      "1/1 [==============================] - 0s 4ms/step - loss: 1.3565 - mae: 1.3565\n",
      "Epoch 48/50\n",
      "1/1 [==============================] - 0s 3ms/step - loss: 1.0509 - mae: 1.0509\n",
      "Epoch 49/50\n",
      "1/1 [==============================] - 0s 4ms/step - loss: 0.5710 - mae: 0.5710\n",
      "Epoch 50/50\n",
      "1/1 [==============================] - 0s 4ms/step - loss: 0.4639 - mae: 0.4639\n"
     ]
    },
    {
     "data": {
      "text/plain": [
       "<keras.src.callbacks.History at 0x7fad5cf13160>"
      ]
     },
     "execution_count": 44,
     "metadata": {},
     "output_type": "execute_result"
    }
   ],
   "source": [
    "model = tf.keras.Sequential([\n",
    "    tf.keras.layers.Dense(100, activation=None),\n",
    "    #tf.keras.layers.Dense(50, activation=\"relu\"),\n",
    "    tf.keras.layers.Dense(1)\n",
    "])\n",
    "\n",
    "model.compile(loss=\"mae\",\n",
    "             optimizer=tf.keras.optimizers.Adam(learning_rate=0.01),\n",
    "             metrics=[\"mae\"])\n",
    "\n",
    "model.fit(tf.expand_dims(X, axis=-1), y, epochs=50)"
   ]
  },
  {
   "cell_type": "code",
   "execution_count": 45,
   "id": "81046dde",
   "metadata": {},
   "outputs": [
    {
     "name": "stdout",
     "output_type": "stream",
     "text": [
      "1/1 [==============================] - 0s 45ms/step\n"
     ]
    },
    {
     "data": {
      "text/plain": [
       "array([[27.45342]], dtype=float32)"
      ]
     },
     "execution_count": 45,
     "metadata": {},
     "output_type": "execute_result"
    }
   ],
   "source": [
    "model.predict([17.0])"
   ]
  },
  {
   "cell_type": "markdown",
   "id": "10e1cf6a",
   "metadata": {},
   "source": [
    "# Evaluating a model\n",
    "\n"
   ]
  },
  {
   "cell_type": "code",
   "execution_count": 47,
   "id": "f58e0569",
   "metadata": {},
   "outputs": [
    {
     "data": {
      "text/plain": [
       "<tf.Tensor: shape=(50,), dtype=int32, numpy=\n",
       "array([-100,  -96,  -92,  -88,  -84,  -80,  -76,  -72,  -68,  -64,  -60,\n",
       "        -56,  -52,  -48,  -44,  -40,  -36,  -32,  -28,  -24,  -20,  -16,\n",
       "        -12,   -8,   -4,    0,    4,    8,   12,   16,   20,   24,   28,\n",
       "         32,   36,   40,   44,   48,   52,   56,   60,   64,   68,   72,\n",
       "         76,   80,   84,   88,   92,   96], dtype=int32)>"
      ]
     },
     "execution_count": 47,
     "metadata": {},
     "output_type": "execute_result"
    }
   ],
   "source": [
    "#Bigger Data\n",
    "\n",
    "X = tf.range(-100, 100, 4)\n",
    "X"
   ]
  },
  {
   "cell_type": "code",
   "execution_count": 48,
   "id": "4ded724b",
   "metadata": {},
   "outputs": [
    {
     "data": {
      "text/plain": [
       "<tf.Tensor: shape=(50,), dtype=int32, numpy=\n",
       "array([-90, -86, -82, -78, -74, -70, -66, -62, -58, -54, -50, -46, -42,\n",
       "       -38, -34, -30, -26, -22, -18, -14, -10,  -6,  -2,   2,   6,  10,\n",
       "        14,  18,  22,  26,  30,  34,  38,  42,  46,  50,  54,  58,  62,\n",
       "        66,  70,  74,  78,  82,  86,  90,  94,  98, 102, 106], dtype=int32)>"
      ]
     },
     "execution_count": 48,
     "metadata": {},
     "output_type": "execute_result"
    }
   ],
   "source": [
    "# make labels\n",
    "y = X + 10\n",
    "y"
   ]
  },
  {
   "cell_type": "code",
   "execution_count": 50,
   "id": "8793a074",
   "metadata": {},
   "outputs": [],
   "source": [
    "#visualize\n",
    "import matplotlib.pyplot as plt\n"
   ]
  },
  {
   "cell_type": "code",
   "execution_count": 51,
   "id": "4859f33e",
   "metadata": {},
   "outputs": [
    {
     "data": {
      "text/plain": [
       "<matplotlib.collections.PathCollection at 0x7fadda90ac50>"
      ]
     },
     "execution_count": 51,
     "metadata": {},
     "output_type": "execute_result"
    },
    {
     "data": {
      "image/png": "[encoded data removed]",
      "text/plain": [
       "<Figure size 432x288 with 1 Axes>"
      ]
     },
     "metadata": {
      "needs_background": "light"
     },
     "output_type": "display_data"
    }
   ],
   "source": [
    "plt.scatter(X, y)"
   ]
  },
  {
   "cell_type": "markdown",
   "id": "bd909a8d",
   "metadata": {},
   "source": [
    "# 3 Sets"
   ]
  },
  {
   "cell_type": "code",
   "execution_count": 52,
   "id": "b3491e11",
   "metadata": {},
   "outputs": [
    {
     "data": {
      "text/plain": [
       "50"
      ]
     },
     "execution_count": 52,
     "metadata": {},
     "output_type": "execute_result"
    }
   ],
   "source": [
    "len(X)"
   ]
  },
  {
   "cell_type": "code",
   "execution_count": 54,
   "id": "8ed64871",
   "metadata": {},
   "outputs": [
    {
     "data": {
      "text/plain": [
       "(40, 10)"
      ]
     },
     "execution_count": 54,
     "metadata": {},
     "output_type": "execute_result"
    }
   ],
   "source": [
    "# split the data into train and test data\n",
    "X_train = X[:40] \n",
    "y_train = y[:40]\n",
    "X_test = X[40:]\n",
    "y_test = y[40:]\n",
    "\n",
    "len(X_train), len(y_test)\n"
   ]
  },
  {
   "cell_type": "code",
   "execution_count": 58,
   "id": "fae556c7",
   "metadata": {},
   "outputs": [
    {
     "data": {
      "image/png": "[encoded data removed]",
      "text/plain": [
       "<Figure size 720x504 with 1 Axes>"
      ]
     },
     "metadata": {
      "needs_background": "light"
     },
     "output_type": "display_data"
    }
   ],
   "source": [
    "plt.figure(figsize=(10, 7))\n",
    "plt.scatter(X_train, y_train, c=\"b\", label=\"Training data\")\n",
    "plt.scatter(X_test, y_test, c=\"g\", label=\"Testing data\")\n",
    "plt.legend();"
   ]
  },
  {
   "cell_type": "code",
   "execution_count": 63,
   "id": "564c80fd",
   "metadata": {},
   "outputs": [
    {
     "name": "stdout",
     "output_type": "stream",
     "text": [
      "Epoch 1/50\n",
      "2/2 [==============================] - 0s 3ms/step - loss: 21.5793 - mae: 21.5793\n",
      "Epoch 2/50\n",
      "2/2 [==============================] - 0s 3ms/step - loss: 9.8536 - mae: 9.8536\n",
      "Epoch 3/50\n",
      "2/2 [==============================] - 0s 3ms/step - loss: 11.2763 - mae: 11.2763\n",
      "Epoch 4/50\n",
      "2/2 [==============================] - 0s 3ms/step - loss: 9.5589 - mae: 9.5589\n",
      "Epoch 5/50\n",
      "2/2 [==============================] - 0s 4ms/step - loss: 10.4682 - mae: 10.4682\n",
      "Epoch 6/50\n",
      "2/2 [==============================] - 0s 3ms/step - loss: 9.6939 - mae: 9.6939\n",
      "Epoch 7/50\n",
      "2/2 [==============================] - 0s 4ms/step - loss: 8.7900 - mae: 8.7900\n",
      "Epoch 8/50\n",
      "2/2 [==============================] - 0s 3ms/step - loss: 9.0575 - mae: 9.0575\n",
      "Epoch 9/50\n",
      "2/2 [==============================] - 0s 3ms/step - loss: 19.3116 - mae: 19.3116\n",
      "Epoch 10/50\n",
      "2/2 [==============================] - 0s 3ms/step - loss: 10.4218 - mae: 10.4218\n",
      "Epoch 11/50\n",
      "2/2 [==============================] - 0s 3ms/step - loss: 8.5145 - mae: 8.5145\n",
      "Epoch 12/50\n",
      "2/2 [==============================] - 0s 4ms/step - loss: 10.9151 - mae: 10.9151\n",
      "Epoch 13/50\n",
      "2/2 [==============================] - 0s 3ms/step - loss: 7.5541 - mae: 7.5541\n",
      "Epoch 14/50\n",
      "2/2 [==============================] - 0s 3ms/step - loss: 9.9769 - mae: 9.9769\n",
      "Epoch 15/50\n",
      "2/2 [==============================] - 0s 3ms/step - loss: 9.3784 - mae: 9.3784\n",
      "Epoch 16/50\n",
      "2/2 [==============================] - 0s 3ms/step - loss: 8.5564 - mae: 8.5564\n",
      "Epoch 17/50\n",
      "2/2 [==============================] - 0s 4ms/step - loss: 13.6841 - mae: 13.6841\n",
      "Epoch 18/50\n",
      "2/2 [==============================] - 0s 3ms/step - loss: 11.5270 - mae: 11.5270\n",
      "Epoch 19/50\n",
      "2/2 [==============================] - 0s 4ms/step - loss: 17.8198 - mae: 17.8198\n",
      "Epoch 20/50\n",
      "2/2 [==============================] - 0s 3ms/step - loss: 14.9551 - mae: 14.9551\n",
      "Epoch 21/50\n",
      "2/2 [==============================] - 0s 3ms/step - loss: 10.8347 - mae: 10.8347\n",
      "Epoch 22/50\n",
      "2/2 [==============================] - 0s 3ms/step - loss: 8.5849 - mae: 8.5849\n",
      "Epoch 23/50\n",
      "2/2 [==============================] - 0s 3ms/step - loss: 9.7015 - mae: 9.7015\n",
      "Epoch 24/50\n",
      "2/2 [==============================] - 0s 3ms/step - loss: 10.9480 - mae: 10.9480\n",
      "Epoch 25/50\n",
      "2/2 [==============================] - 0s 3ms/step - loss: 9.1501 - mae: 9.1501\n",
      "Epoch 26/50\n",
      "2/2 [==============================] - 0s 3ms/step - loss: 13.1863 - mae: 13.1863\n",
      "Epoch 27/50\n",
      "2/2 [==============================] - 0s 4ms/step - loss: 10.6560 - mae: 10.6560\n",
      "Epoch 28/50\n",
      "2/2 [==============================] - 0s 3ms/step - loss: 12.8771 - mae: 12.8771\n",
      "Epoch 29/50\n",
      "2/2 [==============================] - 0s 3ms/step - loss: 9.4994 - mae: 9.4994\n",
      "Epoch 30/50\n",
      "2/2 [==============================] - 0s 3ms/step - loss: 16.4042 - mae: 16.4042\n",
      "Epoch 31/50\n",
      "2/2 [==============================] - 0s 3ms/step - loss: 23.5772 - mae: 23.5772\n",
      "Epoch 32/50\n",
      "2/2 [==============================] - 0s 4ms/step - loss: 7.5990 - mae: 7.5990\n",
      "Epoch 33/50\n",
      "2/2 [==============================] - 0s 3ms/step - loss: 9.2965 - mae: 9.2965\n",
      "Epoch 34/50\n",
      "2/2 [==============================] - 0s 3ms/step - loss: 13.6741 - mae: 13.6741\n",
      "Epoch 35/50\n",
      "2/2 [==============================] - 0s 3ms/step - loss: 11.1439 - mae: 11.1439\n",
      "Epoch 36/50\n",
      "2/2 [==============================] - 0s 3ms/step - loss: 13.3683 - mae: 13.3683\n",
      "Epoch 37/50\n",
      "2/2 [==============================] - 0s 4ms/step - loss: 9.4431 - mae: 9.4431\n",
      "Epoch 38/50\n",
      "2/2 [==============================] - 0s 3ms/step - loss: 10.0950 - mae: 10.0950\n",
      "Epoch 39/50\n",
      "2/2 [==============================] - 0s 3ms/step - loss: 10.1958 - mae: 10.1958\n",
      "Epoch 40/50\n",
      "2/2 [==============================] - 0s 3ms/step - loss: 10.9417 - mae: 10.9417\n",
      "Epoch 41/50\n",
      "2/2 [==============================] - 0s 3ms/step - loss: 7.9162 - mae: 7.9162\n",
      "Epoch 42/50\n",
      "2/2 [==============================] - 0s 3ms/step - loss: 10.5730 - mae: 10.5730\n",
      "Epoch 43/50\n",
      "2/2 [==============================] - 0s 3ms/step - loss: 7.1991 - mae: 7.1991\n",
      "Epoch 44/50\n",
      "2/2 [==============================] - 0s 3ms/step - loss: 7.9873 - mae: 7.9873\n",
      "Epoch 45/50\n",
      "2/2 [==============================] - 0s 3ms/step - loss: 9.7799 - mae: 9.7799\n",
      "Epoch 46/50\n",
      "2/2 [==============================] - 0s 3ms/step - loss: 8.8564 - mae: 8.8564\n",
      "Epoch 47/50\n",
      "2/2 [==============================] - 0s 4ms/step - loss: 7.5616 - mae: 7.5616\n",
      "Epoch 48/50\n",
      "2/2 [==============================] - 0s 3ms/step - loss: 8.5636 - mae: 8.5636\n",
      "Epoch 49/50\n",
      "2/2 [==============================] - 0s 3ms/step - loss: 9.9851 - mae: 9.9851\n",
      "Epoch 50/50\n",
      "2/2 [==============================] - 0s 4ms/step - loss: 9.0156 - mae: 9.0156\n"
     ]
    },
    {
     "data": {
      "text/plain": [
       "<keras.src.callbacks.History at 0x7fad5cb3fa90>"
      ]
     },
     "execution_count": 63,
     "metadata": {},
     "output_type": "execute_result"
    }
   ],
   "source": [
    "model = tf.keras.Sequential([\n",
    "    tf.keras.layers.Dense(1)\n",
    "])\n",
    "\n",
    "model.compile(loss=tf.losses.mae,\n",
    "             optimizer=tf.keras.optimizers.SGD(),\n",
    "             metrics=[\"mae\"])\n",
    "\n",
    "model.fit(tf.expand_dims(X_train, axis=-1), y_train, epochs=50)"
   ]
  },
  {
   "cell_type": "code",
   "execution_count": 64,
   "id": "d293eb8e",
   "metadata": {},
   "outputs": [
    {
     "name": "stdout",
     "output_type": "stream",
     "text": [
      "Model: \"sequential_19\"\n",
      "_________________________________________________________________\n",
      " Layer (type)                Output Shape              Param #   \n",
      "=================================================================\n",
      " dense_34 (Dense)            (None, 1)                 2         \n",
      "                                                                 \n",
      "=================================================================\n",
      "Total params: 2 (8.00 Byte)\n",
      "Trainable params: 2 (8.00 Byte)\n",
      "Non-trainable params: 0 (0.00 Byte)\n",
      "_________________________________________________________________\n"
     ]
    }
   ],
   "source": [
    "model.summary()"
   ]
  },
  {
   "cell_type": "code",
   "execution_count": 100,
   "id": "96796319",
   "metadata": {},
   "outputs": [],
   "source": [
    "tf.random.set_seed(42)\n",
    "\n",
    "model = tf.keras.Sequential([\n",
    "    tf.keras.layers.Dense(10, input_shape=[1], name=\"input_layer\"),\n",
    "    tf.keras.layers.Dense(1, name=\"output_layer\")\n",
    "],name=\"TensorFlow_regression\")\n",
    "\n",
    "model.compile(loss=tf.keras.losses.mae,\n",
    "             optimizer=tf.keras.optimizers.SGD(),\n",
    "             metrics=[\"mae\"])"
   ]
  },
  {
   "cell_type": "code",
   "execution_count": 101,
   "id": "70f4081a",
   "metadata": {},
   "outputs": [
    {
     "name": "stdout",
     "output_type": "stream",
     "text": [
      "Model: \"TensorFlow_regression\"\n",
      "_________________________________________________________________\n",
      " Layer (type)                Output Shape              Param #   \n",
      "=================================================================\n",
      " input_layer (Dense)         (None, 10)                20        \n",
      "                                                                 \n",
      " output_layer (Dense)        (None, 1)                 11        \n",
      "                                                                 \n",
      "=================================================================\n",
      "Total params: 31 (124.00 Byte)\n",
      "Trainable params: 31 (124.00 Byte)\n",
      "Non-trainable params: 0 (0.00 Byte)\n",
      "_________________________________________________________________\n"
     ]
    }
   ],
   "source": [
    "model.summary()"
   ]
  },
  {
   "cell_type": "code",
   "execution_count": 102,
   "id": "792ed918",
   "metadata": {},
   "outputs": [
    {
     "name": "stdout",
     "output_type": "stream",
     "text": [
      "Epoch 1/100\n",
      "2/2 [==============================] - 0s 5ms/step - loss: 43.5440 - mae: 43.5440\n",
      "Epoch 2/100\n",
      "2/2 [==============================] - 0s 3ms/step - loss: 25.3804 - mae: 25.3804\n",
      "Epoch 3/100\n",
      "2/2 [==============================] - 0s 3ms/step - loss: 29.8463 - mae: 29.8463\n",
      "Epoch 4/100\n",
      "2/2 [==============================] - 0s 4ms/step - loss: 13.1051 - mae: 13.1051\n",
      "Epoch 5/100\n",
      "2/2 [==============================] - 0s 4ms/step - loss: 16.7516 - mae: 16.7516\n",
      "Epoch 6/100\n",
      "2/2 [==============================] - 0s 3ms/step - loss: 11.3523 - mae: 11.3523\n",
      "Epoch 7/100\n",
      "2/2 [==============================] - 0s 4ms/step - loss: 12.4109 - mae: 12.4109\n",
      "Epoch 8/100\n",
      "2/2 [==============================] - 0s 3ms/step - loss: 10.9895 - mae: 10.9895\n",
      "Epoch 9/100\n",
      "2/2 [==============================] - 0s 3ms/step - loss: 39.1631 - mae: 39.1631\n",
      "Epoch 10/100\n",
      "2/2 [==============================] - 0s 4ms/step - loss: 26.7294 - mae: 26.7294\n",
      "Epoch 11/100\n",
      "2/2 [==============================] - 0s 3ms/step - loss: 11.7840 - mae: 11.7840\n",
      "Epoch 12/100\n",
      "2/2 [==============================] - 0s 4ms/step - loss: 23.5502 - mae: 23.5502\n",
      "Epoch 13/100\n",
      "2/2 [==============================] - 0s 3ms/step - loss: 21.3117 - mae: 21.3117\n",
      "Epoch 14/100\n",
      "2/2 [==============================] - 0s 3ms/step - loss: 23.8086 - mae: 23.8086\n",
      "Epoch 15/100\n",
      "2/2 [==============================] - 0s 3ms/step - loss: 15.8364 - mae: 15.8364\n",
      "Epoch 16/100\n",
      "2/2 [==============================] - 0s 3ms/step - loss: 10.4534 - mae: 10.4534\n",
      "Epoch 17/100\n",
      "2/2 [==============================] - 0s 4ms/step - loss: 20.0952 - mae: 20.0952\n",
      "Epoch 18/100\n",
      "2/2 [==============================] - 0s 3ms/step - loss: 10.8419 - mae: 10.8419\n",
      "Epoch 19/100\n",
      "2/2 [==============================] - 0s 3ms/step - loss: 10.7344 - mae: 10.7344\n",
      "Epoch 20/100\n",
      "2/2 [==============================] - 0s 3ms/step - loss: 12.0589 - mae: 12.0589\n",
      "Epoch 21/100\n",
      "2/2 [==============================] - 0s 3ms/step - loss: 20.2487 - mae: 20.2487\n",
      "Epoch 22/100\n",
      "2/2 [==============================] - 0s 4ms/step - loss: 13.8333 - mae: 13.8333\n",
      "Epoch 23/100\n",
      "2/2 [==============================] - 0s 3ms/step - loss: 9.5588 - mae: 9.5588\n",
      "Epoch 24/100\n",
      "2/2 [==============================] - 0s 3ms/step - loss: 11.9196 - mae: 11.9196\n",
      "Epoch 25/100\n",
      "2/2 [==============================] - 0s 3ms/step - loss: 16.3071 - mae: 16.3071\n",
      "Epoch 26/100\n",
      "2/2 [==============================] - 0s 3ms/step - loss: 16.4920 - mae: 16.4920\n",
      "Epoch 27/100\n",
      "2/2 [==============================] - 0s 4ms/step - loss: 11.6031 - mae: 11.6031\n",
      "Epoch 28/100\n",
      "2/2 [==============================] - 0s 3ms/step - loss: 30.1942 - mae: 30.1942\n",
      "Epoch 29/100\n",
      "2/2 [==============================] - 0s 3ms/step - loss: 9.2388 - mae: 9.2388\n",
      "Epoch 30/100\n",
      "2/2 [==============================] - 0s 3ms/step - loss: 30.7084 - mae: 30.7084\n",
      "Epoch 31/100\n",
      "2/2 [==============================] - 0s 3ms/step - loss: 42.0181 - mae: 42.0181\n",
      "Epoch 32/100\n",
      "2/2 [==============================] - 0s 4ms/step - loss: 11.8891 - mae: 11.8891\n",
      "Epoch 33/100\n",
      "2/2 [==============================] - 0s 3ms/step - loss: 15.4990 - mae: 15.4990\n",
      "Epoch 34/100\n",
      "2/2 [==============================] - 0s 4ms/step - loss: 12.5813 - mae: 12.5813\n",
      "Epoch 35/100\n",
      "2/2 [==============================] - 0s 3ms/step - loss: 9.1742 - mae: 9.1742\n",
      "Epoch 36/100\n",
      "2/2 [==============================] - 0s 4ms/step - loss: 16.5147 - mae: 16.5147\n",
      "Epoch 37/100\n",
      "2/2 [==============================] - 0s 3ms/step - loss: 11.0472 - mae: 11.0472\n",
      "Epoch 38/100\n",
      "2/2 [==============================] - 0s 3ms/step - loss: 18.1762 - mae: 18.1762\n",
      "Epoch 39/100\n",
      "2/2 [==============================] - 0s 3ms/step - loss: 19.1083 - mae: 19.1083\n",
      "Epoch 40/100\n",
      "2/2 [==============================] - 0s 3ms/step - loss: 20.4529 - mae: 20.4529\n",
      "Epoch 41/100\n",
      "2/2 [==============================] - 0s 4ms/step - loss: 14.8369 - mae: 14.8369\n",
      "Epoch 42/100\n",
      "2/2 [==============================] - 0s 3ms/step - loss: 12.2241 - mae: 12.2241\n",
      "Epoch 43/100\n",
      "2/2 [==============================] - 0s 4ms/step - loss: 10.6872 - mae: 10.6872\n",
      "Epoch 44/100\n",
      "2/2 [==============================] - 0s 3ms/step - loss: 23.0038 - mae: 23.0038\n",
      "Epoch 45/100\n",
      "2/2 [==============================] - 0s 3ms/step - loss: 10.3491 - mae: 10.3491\n",
      "Epoch 46/100\n",
      "2/2 [==============================] - 0s 4ms/step - loss: 11.7519 - mae: 11.7519\n",
      "Epoch 47/100\n",
      "2/2 [==============================] - 0s 3ms/step - loss: 9.6188 - mae: 9.6188\n",
      "Epoch 48/100\n",
      "2/2 [==============================] - 0s 4ms/step - loss: 17.2068 - mae: 17.2068\n",
      "Epoch 49/100\n",
      "2/2 [==============================] - 0s 3ms/step - loss: 9.5502 - mae: 9.5502\n",
      "Epoch 50/100\n",
      "2/2 [==============================] - 0s 4ms/step - loss: 13.8081 - mae: 13.8081\n",
      "Epoch 51/100\n",
      "2/2 [==============================] - 0s 3ms/step - loss: 11.5717 - mae: 11.5717\n",
      "Epoch 52/100\n",
      "2/2 [==============================] - 0s 3ms/step - loss: 30.6651 - mae: 30.6651\n",
      "Epoch 53/100\n",
      "2/2 [==============================] - 0s 4ms/step - loss: 14.3861 - mae: 14.3861\n",
      "Epoch 54/100\n",
      "2/2 [==============================] - 0s 3ms/step - loss: 24.0538 - mae: 24.0538\n",
      "Epoch 55/100\n",
      "2/2 [==============================] - 0s 5ms/step - loss: 23.2766 - mae: 23.2766\n",
      "Epoch 56/100\n",
      "2/2 [==============================] - 0s 3ms/step - loss: 10.8780 - mae: 10.8780\n",
      "Epoch 57/100\n",
      "2/2 [==============================] - 0s 3ms/step - loss: 12.7569 - mae: 12.7569\n",
      "Epoch 58/100\n",
      "2/2 [==============================] - 0s 3ms/step - loss: 9.5969 - mae: 9.5969\n",
      "Epoch 59/100\n",
      "2/2 [==============================] - 0s 3ms/step - loss: 12.9407 - mae: 12.9407\n",
      "Epoch 60/100\n",
      "2/2 [==============================] - 0s 4ms/step - loss: 10.6395 - mae: 10.6395\n",
      "Epoch 61/100\n",
      "2/2 [==============================] - 0s 3ms/step - loss: 17.4173 - mae: 17.4173\n",
      "Epoch 62/100\n",
      "2/2 [==============================] - 0s 3ms/step - loss: 10.5622 - mae: 10.5622\n",
      "Epoch 63/100\n",
      "2/2 [==============================] - 0s 3ms/step - loss: 10.4511 - mae: 10.4511\n",
      "Epoch 64/100\n",
      "2/2 [==============================] - 0s 3ms/step - loss: 24.8416 - mae: 24.8416\n",
      "Epoch 65/100\n",
      "2/2 [==============================] - 0s 3ms/step - loss: 10.6404 - mae: 10.6404\n",
      "Epoch 66/100\n",
      "2/2 [==============================] - 0s 3ms/step - loss: 21.9737 - mae: 21.9737\n",
      "Epoch 67/100\n",
      "2/2 [==============================] - 0s 3ms/step - loss: 10.1624 - mae: 10.1624\n",
      "Epoch 68/100\n",
      "2/2 [==============================] - 0s 3ms/step - loss: 13.3375 - mae: 13.3375\n",
      "Epoch 69/100\n",
      "2/2 [==============================] - 0s 3ms/step - loss: 11.3239 - mae: 11.3239\n",
      "Epoch 70/100\n",
      "2/2 [==============================] - 0s 4ms/step - loss: 13.5029 - mae: 13.5029\n",
      "Epoch 71/100\n",
      "2/2 [==============================] - 0s 3ms/step - loss: 15.5183 - mae: 15.5183\n",
      "Epoch 72/100\n",
      "2/2 [==============================] - 0s 4ms/step - loss: 11.7653 - mae: 11.7653\n",
      "Epoch 73/100\n",
      "2/2 [==============================] - 0s 3ms/step - loss: 16.5503 - mae: 16.5503\n",
      "Epoch 74/100\n",
      "2/2 [==============================] - 0s 4ms/step - loss: 24.0763 - mae: 24.0763\n",
      "Epoch 75/100\n",
      "2/2 [==============================] - 0s 3ms/step - loss: 9.5679 - mae: 9.5679\n",
      "Epoch 76/100\n",
      "2/2 [==============================] - 0s 5ms/step - loss: 12.4202 - mae: 12.4202\n",
      "Epoch 77/100\n",
      "2/2 [==============================] - 0s 3ms/step - loss: 16.6928 - mae: 16.6928\n",
      "Epoch 78/100\n",
      "2/2 [==============================] - 0s 3ms/step - loss: 9.0338 - mae: 9.0338\n",
      "Epoch 79/100\n",
      "2/2 [==============================] - 0s 3ms/step - loss: 24.0567 - mae: 24.0567\n",
      "Epoch 80/100\n",
      "2/2 [==============================] - 0s 3ms/step - loss: 26.8524 - mae: 26.8524\n",
      "Epoch 81/100\n",
      "2/2 [==============================] - 0s 4ms/step - loss: 11.6896 - mae: 11.6896\n",
      "Epoch 82/100\n",
      "2/2 [==============================] - 0s 3ms/step - loss: 11.9747 - mae: 11.9747\n",
      "Epoch 83/100\n",
      "2/2 [==============================] - 0s 4ms/step - loss: 17.3514 - mae: 17.3514\n",
      "Epoch 84/100\n",
      "2/2 [==============================] - 0s 4ms/step - loss: 7.2222 - mae: 7.2222\n",
      "Epoch 85/100\n",
      "2/2 [==============================] - 0s 3ms/step - loss: 14.9000 - mae: 14.9000\n",
      "Epoch 86/100\n",
      "2/2 [==============================] - 0s 4ms/step - loss: 15.2298 - mae: 15.2298\n",
      "Epoch 87/100\n"
     ]
    },
    {
     "name": "stdout",
     "output_type": "stream",
     "text": [
      "2/2 [==============================] - 0s 3ms/step - loss: 19.0070 - mae: 19.0070\n",
      "Epoch 88/100\n",
      "2/2 [==============================] - 0s 4ms/step - loss: 30.0755 - mae: 30.0755\n",
      "Epoch 89/100\n",
      "2/2 [==============================] - 0s 3ms/step - loss: 10.1818 - mae: 10.1818\n",
      "Epoch 90/100\n",
      "2/2 [==============================] - 0s 3ms/step - loss: 21.7474 - mae: 21.7474\n",
      "Epoch 91/100\n",
      "2/2 [==============================] - 0s 3ms/step - loss: 10.5989 - mae: 10.5989\n",
      "Epoch 92/100\n",
      "2/2 [==============================] - 0s 3ms/step - loss: 18.6092 - mae: 18.6092\n",
      "Epoch 93/100\n",
      "2/2 [==============================] - 0s 4ms/step - loss: 8.1542 - mae: 8.1542\n",
      "Epoch 94/100\n",
      "2/2 [==============================] - 0s 3ms/step - loss: 11.3729 - mae: 11.3729\n",
      "Epoch 95/100\n",
      "2/2 [==============================] - 0s 4ms/step - loss: 25.6109 - mae: 25.6109\n",
      "Epoch 96/100\n",
      "2/2 [==============================] - 0s 3ms/step - loss: 10.9977 - mae: 10.9977\n",
      "Epoch 97/100\n",
      "2/2 [==============================] - 0s 3ms/step - loss: 16.4286 - mae: 16.4286\n",
      "Epoch 98/100\n",
      "2/2 [==============================] - 0s 4ms/step - loss: 6.7926 - mae: 6.7926\n",
      "Epoch 99/100\n",
      "2/2 [==============================] - 0s 3ms/step - loss: 11.6531 - mae: 11.6531\n",
      "Epoch 100/100\n",
      "2/2 [==============================] - 0s 5ms/step - loss: 23.4407 - mae: 23.4407\n"
     ]
    },
    {
     "data": {
      "text/plain": [
       "<keras.src.callbacks.History at 0x7fad5efa4850>"
      ]
     },
     "execution_count": 102,
     "metadata": {},
     "output_type": "execute_result"
    }
   ],
   "source": [
    "model.fit(tf.expand_dims(X_train,axis=-1),y_train, epochs=100, verbose=1)"
   ]
  },
  {
   "cell_type": "code",
   "execution_count": 104,
   "id": "ce8ac2a5",
   "metadata": {},
   "outputs": [
    {
     "data": {
      "image/png": "[encoded data removed]",
      "text/plain": [
       "<IPython.core.display.Image object>"
      ]
     },
     "execution_count": 104,
     "metadata": {},
     "output_type": "execute_result"
    }
   ],
   "source": [
    "from tensorflow.keras.utils import plot_model\n",
    "\n",
    "plot_model(model=model, show_shapes=True)"
   ]
  },
  {
   "cell_type": "markdown",
   "id": "8ccba2fe",
   "metadata": {},
   "source": [
    "## Visualizing Model's prediction"
   ]
  },
  {
   "cell_type": "code",
   "execution_count": 105,
   "id": "c8ddfee5",
   "metadata": {},
   "outputs": [
    {
     "name": "stdout",
     "output_type": "stream",
     "text": [
      "1/1 [==============================] - 0s 30ms/step\n"
     ]
    },
    {
     "data": {
      "text/plain": [
       "array([[ 88.77097 ],\n",
       "       [ 94.562744],\n",
       "       [100.35453 ],\n",
       "       [106.1463  ],\n",
       "       [111.93807 ],\n",
       "       [117.72985 ],\n",
       "       [123.521614],\n",
       "       [129.3134  ],\n",
       "       [135.10518 ],\n",
       "       [140.89696 ]], dtype=float32)"
      ]
     },
     "execution_count": 105,
     "metadata": {},
     "output_type": "execute_result"
    }
   ],
   "source": [
    "y_pred = model.predict(X_test)\n",
    "y_pred"
   ]
  },
  {
   "cell_type": "code",
   "execution_count": null,
   "id": "5128cd1f",
   "metadata": {},
   "outputs": [],
   "source": [
    "def plot_predictions(train_data=X_train,\n",
    "                    train_labels=y_train,\n",
    "                    test_data=X_test,\n",
    "                    )\n",
    "plt.scatter(X_test, )"
   ]
  }
 ],
 "metadata": {
  "kernelspec": {
   "display_name": "Python 3 (ipykernel)",
   "language": "python",
   "name": "python3"
  },
  "language_info": {
   "codemirror_mode": {
    "name": "ipython",
    "version": 3
   },
   "file_extension": ".py",
   "mimetype": "text/x-python",
   "name": "python",
   "nbconvert_exporter": "python",
   "pygments_lexer": "ipython3",
   "version": "3.10.12"
  }
 },
 "nbformat": 4,
 "nbformat_minor": 5
}
