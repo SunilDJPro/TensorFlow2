{
 "cells": [
  {
   "cell_type": "markdown",
   "id": "bbde1e4e-8d54-490b-be07-70f9eda02653",
   "metadata": {},
   "source": [
    "# Intro to regression with neural network\n"
   ]
  },
  {
   "cell_type": "code",
   "execution_count": 1,
   "id": "20f105d4-bf27-4d95-b6fe-08e093b93d9c",
   "metadata": {},
   "outputs": [
    {
     "name": "stderr",
     "output_type": "stream",
     "text": [
      "2024-02-12 09:59:30.387975: E external/local_xla/xla/stream_executor/cuda/cuda_dnn.cc:9261] Unable to register cuDNN factory: Attempting to register factory for plugin cuDNN when one has already been registered\n",
      "2024-02-12 09:59:30.388008: E external/local_xla/xla/stream_executor/cuda/cuda_fft.cc:607] Unable to register cuFFT factory: Attempting to register factory for plugin cuFFT when one has already been registered\n",
      "2024-02-12 09:59:30.388711: E external/local_xla/xla/stream_executor/cuda/cuda_blas.cc:1515] Unable to register cuBLAS factory: Attempting to register factory for plugin cuBLAS when one has already been registered\n",
      "2024-02-12 09:59:30.393618: I tensorflow/core/platform/cpu_feature_guard.cc:182] This TensorFlow binary is optimized to use available CPU instructions in performance-critical operations.\n",
      "To enable the following instructions: AVX2 FMA, in other operations, rebuild TensorFlow with the appropriate compiler flags.\n"
     ]
    },
    {
     "name": "stdout",
     "output_type": "stream",
     "text": [
      "2.15.0\n"
     ]
    }
   ],
   "source": [
    "import tensorflow as tf\n",
    "print(tf.__version__)\n",
    "config = tf.compat.v1.ConfigProto()\n",
    "config.gpu_options.allow_growth = True"
   ]
  },
  {
   "cell_type": "code",
   "execution_count": 2,
   "id": "b2edaf0d-0dc0-41fa-a0f5-e35d9a55a6b0",
   "metadata": {},
   "outputs": [
    {
     "name": "stderr",
     "output_type": "stream",
     "text": [
      "2024-02-12 09:59:31.469480: I external/local_xla/xla/stream_executor/cuda/cuda_executor.cc:901] successful NUMA node read from SysFS had negative value (-1), but there must be at least one NUMA node, so returning NUMA node zero. See more at https://github.com/torvalds/linux/blob/v6.0/Documentation/ABI/testing/sysfs-bus-pci#L344-L355\n",
      "2024-02-12 09:59:31.473951: I external/local_xla/xla/stream_executor/cuda/cuda_executor.cc:901] successful NUMA node read from SysFS had negative value (-1), but there must be at least one NUMA node, so returning NUMA node zero. See more at https://github.com/torvalds/linux/blob/v6.0/Documentation/ABI/testing/sysfs-bus-pci#L344-L355\n",
      "2024-02-12 09:59:31.474173: I external/local_xla/xla/stream_executor/cuda/cuda_executor.cc:901] successful NUMA node read from SysFS had negative value (-1), but there must be at least one NUMA node, so returning NUMA node zero. See more at https://github.com/torvalds/linux/blob/v6.0/Documentation/ABI/testing/sysfs-bus-pci#L344-L355\n",
      "2024-02-12 09:59:31.559949: I external/local_xla/xla/stream_executor/cuda/cuda_executor.cc:901] successful NUMA node read from SysFS had negative value (-1), but there must be at least one NUMA node, so returning NUMA node zero. See more at https://github.com/torvalds/linux/blob/v6.0/Documentation/ABI/testing/sysfs-bus-pci#L344-L355\n",
      "2024-02-12 09:59:31.560120: I external/local_xla/xla/stream_executor/cuda/cuda_executor.cc:901] successful NUMA node read from SysFS had negative value (-1), but there must be at least one NUMA node, so returning NUMA node zero. See more at https://github.com/torvalds/linux/blob/v6.0/Documentation/ABI/testing/sysfs-bus-pci#L344-L355\n",
      "2024-02-12 09:59:31.560268: I external/local_xla/xla/stream_executor/cuda/cuda_executor.cc:901] successful NUMA node read from SysFS had negative value (-1), but there must be at least one NUMA node, so returning NUMA node zero. See more at https://github.com/torvalds/linux/blob/v6.0/Documentation/ABI/testing/sysfs-bus-pci#L344-L355\n",
      "2024-02-12 09:59:31.560387: I tensorflow/core/common_runtime/gpu/gpu_device.cc:1929] Created device /job:localhost/replica:0/task:0/device:GPU:0 with 6469 MB memory:  -> device: 0, name: NVIDIA GeForce RTX 2060 SUPER, pci bus id: 0000:09:00.0, compute capability: 7.5\n"
     ]
    },
    {
     "data": {
      "text/plain": [
       "<matplotlib.collections.PathCollection at 0x7f37f0237850>"
      ]
     },
     "execution_count": 2,
     "metadata": {},
     "output_type": "execute_result"
    },
    {
     "data": {
      "image/png": "[encoded data removed]",
      "text/plain": [
       "<Figure size 640x480 with 1 Axes>"
      ]
     },
     "metadata": {},
     "output_type": "display_data"
    }
   ],
   "source": [
    "# Creating the data top view and fit\n",
    "sess = tf.compat.v1.Session(config=config)\n",
    "import numpy as np\n",
    "import matplotlib.pyplot as plt\n",
    "\n",
    "X = np.array([-7.0, -4.0, -1.0, 2.0, 5.0, 8.0, 11.0, 14.0])\n",
    "\n",
    "y = np.array([3.0, 6.0, 9.0, 12.0, 15.0, 18.0, 21.0, 24.0])\n",
    "\n",
    "plt.scatter(X, y)"
   ]
  },
  {
   "cell_type": "code",
   "execution_count": 3,
   "id": "e660128e-f0af-4db2-baab-2b82f3256669",
   "metadata": {},
   "outputs": [
    {
     "data": {
      "text/plain": [
       "array([ True,  True,  True,  True,  True,  True,  True,  True])"
      ]
     },
     "execution_count": 3,
     "metadata": {},
     "output_type": "execute_result"
    }
   ],
   "source": [
    "y == X + 10"
   ]
  },
  {
   "cell_type": "markdown",
   "id": "0bb34f96-de96-4aab-9c77-1171b79c4806",
   "metadata": {},
   "source": [
    "# Inputs and Output Shapes"
   ]
  },
  {
   "cell_type": "code",
   "execution_count": 4,
   "id": "90968722-f111-4fe7-ab8c-49cbe03826e5",
   "metadata": {},
   "outputs": [
    {
     "name": "stderr",
     "output_type": "stream",
     "text": [
      "2024-02-12 09:59:31.929869: I external/local_xla/xla/stream_executor/cuda/cuda_executor.cc:901] successful NUMA node read from SysFS had negative value (-1), but there must be at least one NUMA node, so returning NUMA node zero. See more at https://github.com/torvalds/linux/blob/v6.0/Documentation/ABI/testing/sysfs-bus-pci#L344-L355\n",
      "2024-02-12 09:59:31.930064: I external/local_xla/xla/stream_executor/cuda/cuda_executor.cc:901] successful NUMA node read from SysFS had negative value (-1), but there must be at least one NUMA node, so returning NUMA node zero. See more at https://github.com/torvalds/linux/blob/v6.0/Documentation/ABI/testing/sysfs-bus-pci#L344-L355\n",
      "2024-02-12 09:59:31.930195: I external/local_xla/xla/stream_executor/cuda/cuda_executor.cc:901] successful NUMA node read from SysFS had negative value (-1), but there must be at least one NUMA node, so returning NUMA node zero. See more at https://github.com/torvalds/linux/blob/v6.0/Documentation/ABI/testing/sysfs-bus-pci#L344-L355\n",
      "2024-02-12 09:59:31.930442: I external/local_xla/xla/stream_executor/cuda/cuda_executor.cc:901] successful NUMA node read from SysFS had negative value (-1), but there must be at least one NUMA node, so returning NUMA node zero. See more at https://github.com/torvalds/linux/blob/v6.0/Documentation/ABI/testing/sysfs-bus-pci#L344-L355\n",
      "2024-02-12 09:59:31.930581: I external/local_xla/xla/stream_executor/cuda/cuda_executor.cc:901] successful NUMA node read from SysFS had negative value (-1), but there must be at least one NUMA node, so returning NUMA node zero. See more at https://github.com/torvalds/linux/blob/v6.0/Documentation/ABI/testing/sysfs-bus-pci#L344-L355\n",
      "2024-02-12 09:59:31.930709: I external/local_xla/xla/stream_executor/cuda/cuda_executor.cc:901] successful NUMA node read from SysFS had negative value (-1), but there must be at least one NUMA node, so returning NUMA node zero. See more at https://github.com/torvalds/linux/blob/v6.0/Documentation/ABI/testing/sysfs-bus-pci#L344-L355\n",
      "2024-02-12 09:59:31.930876: I external/local_xla/xla/stream_executor/cuda/cuda_executor.cc:901] successful NUMA node read from SysFS had negative value (-1), but there must be at least one NUMA node, so returning NUMA node zero. See more at https://github.com/torvalds/linux/blob/v6.0/Documentation/ABI/testing/sysfs-bus-pci#L344-L355\n",
      "2024-02-12 09:59:31.931009: I external/local_xla/xla/stream_executor/cuda/cuda_executor.cc:901] successful NUMA node read from SysFS had negative value (-1), but there must be at least one NUMA node, so returning NUMA node zero. See more at https://github.com/torvalds/linux/blob/v6.0/Documentation/ABI/testing/sysfs-bus-pci#L344-L355\n",
      "2024-02-12 09:59:31.931122: I tensorflow/core/common_runtime/gpu/gpu_device.cc:1929] Created device /job:localhost/replica:0/task:0/device:GPU:0 with 6469 MB memory:  -> device: 0, name: NVIDIA GeForce RTX 2060 SUPER, pci bus id: 0000:09:00.0, compute capability: 7.5\n"
     ]
    },
    {
     "data": {
      "text/plain": [
       "(<tf.Tensor: shape=(3,), dtype=string, numpy=array([b'bedroom', b'bathroom', b'garage'], dtype=object)>,\n",
       " <tf.Tensor: shape=(1,), dtype=int32, numpy=array([939700], dtype=int32)>)"
      ]
     },
     "execution_count": 4,
     "metadata": {},
     "output_type": "execute_result"
    }
   ],
   "source": [
    "#Demo\n",
    "house_info = tf.constant([\"bedroom\", \"bathroom\", \"garage\"])\n",
    "house_price = tf.constant([939700])\n",
    "house_info, house_price"
   ]
  },
  {
   "cell_type": "code",
   "execution_count": 5,
   "id": "e1dfe016-57a5-4cf9-b44a-fcca49f2f897",
   "metadata": {},
   "outputs": [
    {
     "data": {
      "text/plain": [
       "((8,), (8,))"
      ]
     },
     "execution_count": 5,
     "metadata": {},
     "output_type": "execute_result"
    }
   ],
   "source": [
    "input_shape = X.shape\n",
    "output_shape = y.shape\n",
    "input_shape, output_shape"
   ]
  },
  {
   "cell_type": "code",
   "execution_count": 6,
   "id": "d3c21e8e-7b74-4378-9432-992479bfb147",
   "metadata": {},
   "outputs": [
    {
     "data": {
      "text/plain": [
       "(-7.0, 3.0)"
      ]
     },
     "execution_count": 6,
     "metadata": {},
     "output_type": "execute_result"
    }
   ],
   "source": [
    "X[0], y[0]"
   ]
  },
  {
   "cell_type": "code",
   "execution_count": 7,
   "id": "8049c90c-1adb-4447-abe9-47c64ce77777",
   "metadata": {},
   "outputs": [
    {
     "data": {
      "text/plain": [
       "0"
      ]
     },
     "execution_count": 7,
     "metadata": {},
     "output_type": "execute_result"
    }
   ],
   "source": [
    "X[0].ndim"
   ]
  },
  {
   "cell_type": "code",
   "execution_count": 8,
   "id": "080b458e-2177-4536-b6ce-b6f79ae77bfa",
   "metadata": {},
   "outputs": [
    {
     "data": {
      "text/plain": [
       "(<tf.Tensor: shape=(8,), dtype=float32, numpy=array([-7., -4., -1.,  2.,  5.,  8., 11., 14.], dtype=float32)>,\n",
       " <tf.Tensor: shape=(8,), dtype=float32, numpy=array([ 3.,  6.,  9., 12., 15., 18., 21., 24.], dtype=float32)>)"
      ]
     },
     "execution_count": 8,
     "metadata": {},
     "output_type": "execute_result"
    }
   ],
   "source": [
    "#Turn our Numpy arrays into Tensors\n",
    "\n",
    "x = tf.cast(tf.constant(X), dtype=tf.float32)\n",
    "y = tf.cast(tf.constant(y), dtype=tf.float32)\n",
    "x, y"
   ]
  },
  {
   "cell_type": "code",
   "execution_count": 9,
   "id": "7d3e4a87-e7fd-449e-8554-0f1d8b3c9a93",
   "metadata": {},
   "outputs": [
    {
     "data": {
      "text/plain": [
       "(TensorShape([]), TensorShape([]))"
      ]
     },
     "execution_count": 9,
     "metadata": {},
     "output_type": "execute_result"
    }
   ],
   "source": [
    "input_shape = x[0].shape\n",
    "output_shape = y[0].shape\n",
    "input_shape, output_shape"
   ]
  },
  {
   "cell_type": "code",
   "execution_count": 10,
   "id": "b4cc478d-0933-448a-8b0a-adae9ba604e1",
   "metadata": {},
   "outputs": [
    {
     "data": {
      "text/plain": [
       "<matplotlib.collections.PathCollection at 0x7f37f0109190>"
      ]
     },
     "execution_count": 10,
     "metadata": {},
     "output_type": "execute_result"
    },
    {
     "data": {
      "image/png": "[encoded data removed]",
      "text/plain": [
       "<Figure size 640x480 with 1 Axes>"
      ]
     },
     "metadata": {},
     "output_type": "display_data"
    }
   ],
   "source": [
    "plt.scatter(x, y)"
   ]
  },
  {
   "cell_type": "code",
   "execution_count": 11,
   "id": "0122d4f1-6666-406f-96a0-ce1d8f280063",
   "metadata": {},
   "outputs": [
    {
     "name": "stdout",
     "output_type": "stream",
     "text": [
      "Epoch 1/50\n",
      "1/1 [==============================] - 0s 333ms/step - loss: 17.8923 - mae: 17.8923\n",
      "Epoch 2/50\n",
      "1/1 [==============================] - 0s 6ms/step - loss: 17.6110 - mae: 17.6110\n",
      "Epoch 3/50\n",
      "1/1 [==============================] - 0s 3ms/step - loss: 17.3298 - mae: 17.3298\n",
      "Epoch 4/50\n",
      "1/1 [==============================] - 0s 3ms/step - loss: 17.0485 - mae: 17.0485\n",
      "Epoch 5/50\n",
      "1/1 [==============================] - 0s 4ms/step - loss: 16.7673 - mae: 16.7673\n",
      "Epoch 6/50\n",
      "1/1 [==============================] - 0s 4ms/step - loss: 16.4860 - mae: 16.4860\n",
      "Epoch 7/50\n",
      "1/1 [==============================] - 0s 4ms/step - loss: 16.2048 - mae: 16.2048\n",
      "Epoch 8/50\n",
      "1/1 [==============================] - 0s 4ms/step - loss: 15.9235 - mae: 15.9235\n",
      "Epoch 9/50\n",
      "1/1 [==============================] - 0s 5ms/step - loss: 15.6423 - mae: 15.6423\n",
      "Epoch 10/50\n",
      "1/1 [==============================] - 0s 4ms/step - loss: 15.3610 - mae: 15.3610\n",
      "Epoch 11/50\n",
      "1/1 [==============================] - 0s 4ms/step - loss: 15.0798 - mae: 15.0798\n",
      "Epoch 12/50\n",
      "1/1 [==============================] - 0s 3ms/step - loss: 14.8244 - mae: 14.8244\n",
      "Epoch 13/50\n",
      "1/1 [==============================] - 0s 3ms/step - loss: 14.6919 - mae: 14.6919\n",
      "Epoch 14/50\n",
      "1/1 [==============================] - 0s 3ms/step - loss: 14.5594 - mae: 14.5594\n",
      "Epoch 15/50\n",
      "1/1 [==============================] - 0s 4ms/step - loss: 14.4269 - mae: 14.4269\n",
      "Epoch 16/50\n",
      "1/1 [==============================] - 0s 8ms/step - loss: 14.2944 - mae: 14.2944\n",
      "Epoch 17/50\n",
      "1/1 [==============================] - 0s 5ms/step - loss: 14.1619 - mae: 14.1619\n",
      "Epoch 18/50\n",
      "1/1 [==============================] - 0s 4ms/step - loss: 14.0294 - mae: 14.0294\n",
      "Epoch 19/50\n",
      "1/1 [==============================] - 0s 3ms/step - loss: 13.8969 - mae: 13.8969\n",
      "Epoch 20/50\n",
      "1/1 [==============================] - 0s 3ms/step - loss: 13.7644 - mae: 13.7644\n",
      "Epoch 21/50\n",
      "1/1 [==============================] - 0s 4ms/step - loss: 13.6319 - mae: 13.6319\n",
      "Epoch 22/50\n",
      "1/1 [==============================] - 0s 3ms/step - loss: 13.4994 - mae: 13.4994\n",
      "Epoch 23/50\n",
      "1/1 [==============================] - 0s 3ms/step - loss: 13.3669 - mae: 13.3669\n",
      "Epoch 24/50\n",
      "1/1 [==============================] - 0s 4ms/step - loss: 13.2344 - mae: 13.2344\n",
      "Epoch 25/50\n",
      "1/1 [==============================] - 0s 4ms/step - loss: 13.1019 - mae: 13.1019\n",
      "Epoch 26/50\n",
      "1/1 [==============================] - 0s 4ms/step - loss: 12.9694 - mae: 12.9694\n",
      "Epoch 27/50\n",
      "1/1 [==============================] - 0s 4ms/step - loss: 12.8369 - mae: 12.8369\n",
      "Epoch 28/50\n",
      "1/1 [==============================] - 0s 4ms/step - loss: 12.7044 - mae: 12.7044\n",
      "Epoch 29/50\n",
      "1/1 [==============================] - ETA: 0s - loss: 12.5719 - mae: 12.5719"
     ]
    },
    {
     "name": "stderr",
     "output_type": "stream",
     "text": [
      "2024-02-12 09:59:32.483447: I external/local_xla/xla/service/service.cc:168] XLA service 0x7f3771506a70 initialized for platform CUDA (this does not guarantee that XLA will be used). Devices:\n",
      "2024-02-12 09:59:32.483474: I external/local_xla/xla/service/service.cc:176]   StreamExecutor device (0): NVIDIA GeForce RTX 2060 SUPER, Compute Capability 7.5\n",
      "2024-02-12 09:59:32.490400: I external/local_xla/xla/stream_executor/cuda/cuda_dnn.cc:454] Loaded cuDNN version 8906\n",
      "WARNING: All log messages before absl::InitializeLog() is called are written to STDERR\n",
      "I0000 00:00:1707731972.516353     224 device_compiler.h:186] Compiled cluster using XLA!  This line is logged at most once for the lifetime of the process.\n"
     ]
    },
    {
     "name": "stdout",
     "output_type": "stream",
     "text": [
      "1/1 [==============================] - 0s 3ms/step - loss: 12.5719 - mae: 12.5719\n",
      "Epoch 30/50\n",
      "1/1 [==============================] - 0s 3ms/step - loss: 12.4394 - mae: 12.4394\n",
      "Epoch 31/50\n",
      "1/1 [==============================] - 0s 3ms/step - loss: 12.3069 - mae: 12.3069\n",
      "Epoch 32/50\n",
      "1/1 [==============================] - 0s 3ms/step - loss: 12.1744 - mae: 12.1744\n",
      "Epoch 33/50\n",
      "1/1 [==============================] - 0s 3ms/step - loss: 12.0419 - mae: 12.0419\n",
      "Epoch 34/50\n",
      "1/1 [==============================] - 0s 4ms/step - loss: 11.9094 - mae: 11.9094\n",
      "Epoch 35/50\n",
      "1/1 [==============================] - 0s 3ms/step - loss: 11.7769 - mae: 11.7769\n",
      "Epoch 36/50\n",
      "1/1 [==============================] - 0s 3ms/step - loss: 11.6444 - mae: 11.6444\n",
      "Epoch 37/50\n",
      "1/1 [==============================] - 0s 3ms/step - loss: 11.5119 - mae: 11.5119\n",
      "Epoch 38/50\n",
      "1/1 [==============================] - 0s 4ms/step - loss: 11.3794 - mae: 11.3794\n",
      "Epoch 39/50\n",
      "1/1 [==============================] - 0s 3ms/step - loss: 11.2469 - mae: 11.2469\n",
      "Epoch 40/50\n",
      "1/1 [==============================] - 0s 3ms/step - loss: 11.1144 - mae: 11.1144\n",
      "Epoch 41/50\n",
      "1/1 [==============================] - 0s 4ms/step - loss: 10.9819 - mae: 10.9819\n",
      "Epoch 42/50\n",
      "1/1 [==============================] - 0s 4ms/step - loss: 10.8494 - mae: 10.8494\n",
      "Epoch 43/50\n",
      "1/1 [==============================] - 0s 3ms/step - loss: 10.7169 - mae: 10.7169\n",
      "Epoch 44/50\n",
      "1/1 [==============================] - 0s 3ms/step - loss: 10.5844 - mae: 10.5844\n",
      "Epoch 45/50\n",
      "1/1 [==============================] - 0s 3ms/step - loss: 10.4519 - mae: 10.4519\n",
      "Epoch 46/50\n",
      "1/1 [==============================] - 0s 3ms/step - loss: 10.3194 - mae: 10.3194\n",
      "Epoch 47/50\n",
      "1/1 [==============================] - 0s 3ms/step - loss: 10.1869 - mae: 10.1869\n",
      "Epoch 48/50\n",
      "1/1 [==============================] - 0s 4ms/step - loss: 10.0544 - mae: 10.0544\n",
      "Epoch 49/50\n",
      "1/1 [==============================] - 0s 3ms/step - loss: 9.9219 - mae: 9.9219\n",
      "Epoch 50/50\n",
      "1/1 [==============================] - 0s 3ms/step - loss: 9.7894 - mae: 9.7894\n"
     ]
    },
    {
     "data": {
      "text/plain": [
       "<keras.src.callbacks.History at 0x7f37f02185d0>"
      ]
     },
     "execution_count": 11,
     "metadata": {},
     "output_type": "execute_result"
    }
   ],
   "source": [
    "# Set seed\n",
    "tf.random.set_seed(42)\n",
    "\n",
    "#Sequential API\n",
    "model = tf.keras.Sequential([\n",
    "    tf.keras.layers.Dense(1)\n",
    "    # tf.keras.layers.Dense(1)\n",
    "])\n",
    "\n",
    "#mae - Mean Absolute Error\n",
    "model.compile(loss = tf.keras.losses.mae, \n",
    "              optimizer= tf.keras.optimizers.SGD(),\n",
    "              metrics=[\"mae\"])\n",
    "\n",
    "model.fit(tf.expand_dims(X, axis=-1), y, epochs=50)\n"
   ]
  },
  {
   "cell_type": "code",
   "execution_count": 12,
   "id": "b39621d7-7e7b-4fba-8518-a51ec6dbd129",
   "metadata": {},
   "outputs": [
    {
     "data": {
      "text/plain": [
       "(<tf.Tensor: shape=(8,), dtype=float32, numpy=array([-7., -4., -1.,  2.,  5.,  8., 11., 14.], dtype=float32)>,\n",
       " <tf.Tensor: shape=(8,), dtype=float32, numpy=array([ 3.,  6.,  9., 12., 15., 18., 21., 24.], dtype=float32)>)"
      ]
     },
     "execution_count": 12,
     "metadata": {},
     "output_type": "execute_result"
    }
   ],
   "source": [
    "x, y"
   ]
  },
  {
   "cell_type": "code",
   "execution_count": 13,
   "id": "d81d5e1c-50bd-46f9-9b07-9e50fae8cb34",
   "metadata": {},
   "outputs": [
    {
     "name": "stdout",
     "output_type": "stream",
     "text": [
      "1/1 [==============================] - 0s 47ms/step\n"
     ]
    },
    {
     "data": {
      "text/plain": [
       "array([[16.8439]], dtype=float32)"
      ]
     },
     "execution_count": 13,
     "metadata": {},
     "output_type": "execute_result"
    }
   ],
   "source": [
    "model.predict([17.0])"
   ]
  },
  {
   "cell_type": "code",
   "execution_count": 14,
   "id": "2643b443-7d89-4aec-a5cb-635d73657432",
   "metadata": {},
   "outputs": [
    {
     "name": "stdout",
     "output_type": "stream",
     "text": [
      "1/1 [==============================] - 0s 21ms/step\n"
     ]
    },
    {
     "data": {
      "text/plain": [
       "array([[13.95483]], dtype=float32)"
      ]
     },
     "execution_count": 14,
     "metadata": {},
     "output_type": "execute_result"
    }
   ],
   "source": [
    "y_pred = model.predict([14.0])\n",
    "y_pred"
   ]
  },
  {
   "cell_type": "markdown",
   "id": "a9ea6798-4a20-4398-a30b-c83c6862de4d",
   "metadata": {},
   "source": [
    "# Improving our Model"
   ]
  },
  {
   "cell_type": "code",
   "execution_count": 15,
   "id": "3b04d010-0fa0-4d87-9926-9f731f57e83a",
   "metadata": {},
   "outputs": [
    {
     "name": "stdout",
     "output_type": "stream",
     "text": [
      "Epoch 1/100\n",
      "1/1 [==============================] - 0s 191ms/step - loss: 18.7322 - mae: 18.7322\n",
      "Epoch 2/100\n",
      "1/1 [==============================] - 0s 4ms/step - loss: 18.4509 - mae: 18.4509\n",
      "Epoch 3/100\n",
      "1/1 [==============================] - 0s 4ms/step - loss: 18.1697 - mae: 18.1697\n",
      "Epoch 4/100\n",
      "1/1 [==============================] - 0s 3ms/step - loss: 17.8884 - mae: 17.8884\n",
      "Epoch 5/100\n",
      "1/1 [==============================] - 0s 3ms/step - loss: 17.6072 - mae: 17.6072\n",
      "Epoch 6/100\n",
      "1/1 [==============================] - 0s 3ms/step - loss: 17.3259 - mae: 17.3259\n",
      "Epoch 7/100\n",
      "1/1 [==============================] - 0s 3ms/step - loss: 17.0447 - mae: 17.0447\n",
      "Epoch 8/100\n",
      "1/1 [==============================] - 0s 3ms/step - loss: 16.7634 - mae: 16.7634\n",
      "Epoch 9/100\n",
      "1/1 [==============================] - 0s 3ms/step - loss: 16.4822 - mae: 16.4822\n",
      "Epoch 10/100\n",
      "1/1 [==============================] - 0s 3ms/step - loss: 16.2009 - mae: 16.2009\n",
      "Epoch 11/100\n",
      "1/1 [==============================] - 0s 3ms/step - loss: 15.9197 - mae: 15.9197\n",
      "Epoch 12/100\n",
      "1/1 [==============================] - 0s 3ms/step - loss: 15.6384 - mae: 15.6384\n",
      "Epoch 13/100\n",
      "1/1 [==============================] - 0s 4ms/step - loss: 15.3572 - mae: 15.3572\n",
      "Epoch 14/100\n",
      "1/1 [==============================] - 0s 4ms/step - loss: 15.0759 - mae: 15.0759\n",
      "Epoch 15/100\n",
      "1/1 [==============================] - 0s 3ms/step - loss: 14.8106 - mae: 14.8106\n",
      "Epoch 16/100\n",
      "1/1 [==============================] - 0s 3ms/step - loss: 14.6781 - mae: 14.6781\n",
      "Epoch 17/100\n",
      "1/1 [==============================] - 0s 4ms/step - loss: 14.5456 - mae: 14.5456\n",
      "Epoch 18/100\n",
      "1/1 [==============================] - 0s 3ms/step - loss: 14.4131 - mae: 14.4131\n",
      "Epoch 19/100\n",
      "1/1 [==============================] - 0s 3ms/step - loss: 14.2806 - mae: 14.2806\n",
      "Epoch 20/100\n",
      "1/1 [==============================] - 0s 3ms/step - loss: 14.1481 - mae: 14.1481\n",
      "Epoch 21/100\n",
      "1/1 [==============================] - 0s 4ms/step - loss: 14.0156 - mae: 14.0156\n",
      "Epoch 22/100\n",
      "1/1 [==============================] - 0s 3ms/step - loss: 13.8831 - mae: 13.8831\n",
      "Epoch 23/100\n",
      "1/1 [==============================] - 0s 4ms/step - loss: 13.7506 - mae: 13.7506\n",
      "Epoch 24/100\n",
      "1/1 [==============================] - 0s 3ms/step - loss: 13.6181 - mae: 13.6181\n",
      "Epoch 25/100\n",
      "1/1 [==============================] - 0s 4ms/step - loss: 13.4856 - mae: 13.4856\n",
      "Epoch 26/100\n",
      "1/1 [==============================] - 0s 3ms/step - loss: 13.3531 - mae: 13.3531\n",
      "Epoch 27/100\n",
      "1/1 [==============================] - 0s 4ms/step - loss: 13.2206 - mae: 13.2206\n",
      "Epoch 28/100\n",
      "1/1 [==============================] - 0s 5ms/step - loss: 13.0881 - mae: 13.0881\n",
      "Epoch 29/100\n",
      "1/1 [==============================] - 0s 3ms/step - loss: 12.9556 - mae: 12.9556\n",
      "Epoch 30/100\n",
      "1/1 [==============================] - 0s 3ms/step - loss: 12.8231 - mae: 12.8231\n",
      "Epoch 31/100\n",
      "1/1 [==============================] - 0s 4ms/step - loss: 12.6906 - mae: 12.6906\n",
      "Epoch 32/100\n",
      "1/1 [==============================] - 0s 3ms/step - loss: 12.5581 - mae: 12.5581\n",
      "Epoch 33/100\n",
      "1/1 [==============================] - 0s 3ms/step - loss: 12.4256 - mae: 12.4256\n",
      "Epoch 34/100\n",
      "1/1 [==============================] - 0s 3ms/step - loss: 12.2931 - mae: 12.2931\n",
      "Epoch 35/100\n",
      "1/1 [==============================] - 0s 3ms/step - loss: 12.1606 - mae: 12.1606\n",
      "Epoch 36/100\n",
      "1/1 [==============================] - 0s 3ms/step - loss: 12.0281 - mae: 12.0281\n",
      "Epoch 37/100\n",
      "1/1 [==============================] - 0s 3ms/step - loss: 11.8956 - mae: 11.8956\n",
      "Epoch 38/100\n",
      "1/1 [==============================] - 0s 3ms/step - loss: 11.7631 - mae: 11.7631\n",
      "Epoch 39/100\n",
      "1/1 [==============================] - 0s 3ms/step - loss: 11.6306 - mae: 11.6306\n",
      "Epoch 40/100\n",
      "1/1 [==============================] - 0s 3ms/step - loss: 11.4981 - mae: 11.4981\n",
      "Epoch 41/100\n",
      "1/1 [==============================] - 0s 3ms/step - loss: 11.3656 - mae: 11.3656\n",
      "Epoch 42/100\n",
      "1/1 [==============================] - 0s 3ms/step - loss: 11.2331 - mae: 11.2331\n",
      "Epoch 43/100\n",
      "1/1 [==============================] - 0s 3ms/step - loss: 11.1006 - mae: 11.1006\n",
      "Epoch 44/100\n",
      "1/1 [==============================] - 0s 3ms/step - loss: 10.9681 - mae: 10.9681\n",
      "Epoch 45/100\n",
      "1/1 [==============================] - 0s 3ms/step - loss: 10.8356 - mae: 10.8356\n",
      "Epoch 46/100\n",
      "1/1 [==============================] - 0s 3ms/step - loss: 10.7031 - mae: 10.7031\n",
      "Epoch 47/100\n",
      "1/1 [==============================] - 0s 4ms/step - loss: 10.5706 - mae: 10.5706\n",
      "Epoch 48/100\n",
      "1/1 [==============================] - 0s 3ms/step - loss: 10.4381 - mae: 10.4381\n",
      "Epoch 49/100\n",
      "1/1 [==============================] - 0s 3ms/step - loss: 10.3056 - mae: 10.3056\n",
      "Epoch 50/100\n",
      "1/1 [==============================] - 0s 3ms/step - loss: 10.1731 - mae: 10.1731\n",
      "Epoch 51/100\n",
      "1/1 [==============================] - 0s 4ms/step - loss: 10.0406 - mae: 10.0406\n",
      "Epoch 52/100\n",
      "1/1 [==============================] - 0s 4ms/step - loss: 9.9081 - mae: 9.9081\n",
      "Epoch 53/100\n",
      "1/1 [==============================] - 0s 3ms/step - loss: 9.7756 - mae: 9.7756\n",
      "Epoch 54/100\n",
      "1/1 [==============================] - 0s 4ms/step - loss: 9.6431 - mae: 9.6431\n",
      "Epoch 55/100\n",
      "1/1 [==============================] - 0s 3ms/step - loss: 9.5106 - mae: 9.5106\n",
      "Epoch 56/100\n",
      "1/1 [==============================] - 0s 4ms/step - loss: 9.3781 - mae: 9.3781\n",
      "Epoch 57/100\n",
      "1/1 [==============================] - 0s 4ms/step - loss: 9.2456 - mae: 9.2456\n",
      "Epoch 58/100\n",
      "1/1 [==============================] - 0s 3ms/step - loss: 9.1131 - mae: 9.1131\n",
      "Epoch 59/100\n",
      "1/1 [==============================] - 0s 3ms/step - loss: 8.9806 - mae: 8.9806\n",
      "Epoch 60/100\n",
      "1/1 [==============================] - 0s 3ms/step - loss: 8.8481 - mae: 8.8481\n",
      "Epoch 61/100\n",
      "1/1 [==============================] - 0s 3ms/step - loss: 8.7156 - mae: 8.7156\n",
      "Epoch 62/100\n",
      "1/1 [==============================] - 0s 3ms/step - loss: 8.5831 - mae: 8.5831\n",
      "Epoch 63/100\n",
      "1/1 [==============================] - 0s 3ms/step - loss: 8.4506 - mae: 8.4506\n",
      "Epoch 64/100\n",
      "1/1 [==============================] - 0s 3ms/step - loss: 8.3181 - mae: 8.3181\n",
      "Epoch 65/100\n",
      "1/1 [==============================] - 0s 3ms/step - loss: 8.1856 - mae: 8.1856\n",
      "Epoch 66/100\n",
      "1/1 [==============================] - 0s 3ms/step - loss: 8.0531 - mae: 8.0531\n",
      "Epoch 67/100\n",
      "1/1 [==============================] - 0s 3ms/step - loss: 7.9206 - mae: 7.9206\n",
      "Epoch 68/100\n",
      "1/1 [==============================] - 0s 3ms/step - loss: 7.7881 - mae: 7.7881\n",
      "Epoch 69/100\n",
      "1/1 [==============================] - 0s 4ms/step - loss: 7.6556 - mae: 7.6556\n",
      "Epoch 70/100\n",
      "1/1 [==============================] - 0s 3ms/step - loss: 7.5231 - mae: 7.5231\n",
      "Epoch 71/100\n",
      "1/1 [==============================] - 0s 3ms/step - loss: 7.3906 - mae: 7.3906\n",
      "Epoch 72/100\n",
      "1/1 [==============================] - 0s 3ms/step - loss: 7.2581 - mae: 7.2581\n",
      "Epoch 73/100\n",
      "1/1 [==============================] - 0s 4ms/step - loss: 7.1256 - mae: 7.1256\n",
      "Epoch 74/100\n",
      "1/1 [==============================] - 0s 3ms/step - loss: 6.9931 - mae: 6.9931\n",
      "Epoch 75/100\n",
      "1/1 [==============================] - 0s 3ms/step - loss: 6.9713 - mae: 6.9713\n",
      "Epoch 76/100\n",
      "1/1 [==============================] - 0s 3ms/step - loss: 6.9656 - mae: 6.9656\n",
      "Epoch 77/100\n",
      "1/1 [==============================] - 0s 3ms/step - loss: 6.9600 - mae: 6.9600\n",
      "Epoch 78/100\n",
      "1/1 [==============================] - 0s 3ms/step - loss: 6.9544 - mae: 6.9544\n",
      "Epoch 79/100\n",
      "1/1 [==============================] - 0s 3ms/step - loss: 6.9488 - mae: 6.9488\n",
      "Epoch 80/100\n",
      "1/1 [==============================] - 0s 3ms/step - loss: 6.9431 - mae: 6.9431\n",
      "Epoch 81/100\n",
      "1/1 [==============================] - 0s 3ms/step - loss: 6.9375 - mae: 6.9375\n",
      "Epoch 82/100\n",
      "1/1 [==============================] - 0s 3ms/step - loss: 6.9319 - mae: 6.9319\n",
      "Epoch 83/100\n",
      "1/1 [==============================] - 0s 3ms/step - loss: 6.9263 - mae: 6.9263\n",
      "Epoch 84/100\n",
      "1/1 [==============================] - 0s 3ms/step - loss: 6.9206 - mae: 6.9206\n",
      "Epoch 85/100\n",
      "1/1 [==============================] - 0s 3ms/step - loss: 6.9150 - mae: 6.9150\n",
      "Epoch 86/100\n",
      "1/1 [==============================] - 0s 3ms/step - loss: 6.9094 - mae: 6.9094\n",
      "Epoch 87/100\n",
      "1/1 [==============================] - 0s 3ms/step - loss: 6.9038 - mae: 6.9038\n",
      "Epoch 88/100\n",
      "1/1 [==============================] - 0s 3ms/step - loss: 6.8981 - mae: 6.8981\n",
      "Epoch 89/100\n",
      "1/1 [==============================] - 0s 3ms/step - loss: 6.8925 - mae: 6.8925\n",
      "Epoch 90/100\n",
      "1/1 [==============================] - 0s 3ms/step - loss: 6.8869 - mae: 6.8869\n",
      "Epoch 91/100\n",
      "1/1 [==============================] - 0s 3ms/step - loss: 6.8813 - mae: 6.8813\n",
      "Epoch 92/100\n",
      "1/1 [==============================] - 0s 3ms/step - loss: 6.8756 - mae: 6.8756\n",
      "Epoch 93/100\n",
      "1/1 [==============================] - 0s 3ms/step - loss: 6.8700 - mae: 6.8700\n",
      "Epoch 94/100\n",
      "1/1 [==============================] - 0s 3ms/step - loss: 6.8644 - mae: 6.8644\n",
      "Epoch 95/100\n",
      "1/1 [==============================] - 0s 3ms/step - loss: 6.8588 - mae: 6.8588\n",
      "Epoch 96/100\n",
      "1/1 [==============================] - 0s 3ms/step - loss: 6.8531 - mae: 6.8531\n",
      "Epoch 97/100\n",
      "1/1 [==============================] - 0s 3ms/step - loss: 6.8475 - mae: 6.8475\n",
      "Epoch 98/100\n",
      "1/1 [==============================] - 0s 3ms/step - loss: 6.8419 - mae: 6.8419\n",
      "Epoch 99/100\n",
      "1/1 [==============================] - 0s 3ms/step - loss: 6.8363 - mae: 6.8363\n",
      "Epoch 100/100\n",
      "1/1 [==============================] - 0s 3ms/step - loss: 6.8306 - mae: 6.8306\n"
     ]
    },
    {
     "data": {
      "text/plain": [
       "<keras.src.callbacks.History at 0x7f37c01a6710>"
      ]
     },
     "execution_count": 15,
     "metadata": {},
     "output_type": "execute_result"
    }
   ],
   "source": [
    "model = tf.keras.Sequential([\n",
    "    tf.keras.layers.Dense(1)\n",
    "])\n",
    "\n",
    "model.compile(loss=tf.keras.losses.mae,\n",
    "             optimizer=tf.keras.optimizers.SGD(),\n",
    "             metrics=[\"mae\"])\n",
    "\n",
    "model.fit(tf.expand_dims(X, axis=-1), y, epochs=100)"
   ]
  },
  {
   "cell_type": "code",
   "execution_count": 16,
   "id": "3e49347e",
   "metadata": {},
   "outputs": [
    {
     "data": {
      "text/plain": [
       "array([-7., -4., -1.,  2.,  5.,  8., 11., 14.])"
      ]
     },
     "execution_count": 16,
     "metadata": {},
     "output_type": "execute_result"
    }
   ],
   "source": [
    "X"
   ]
  },
  {
   "cell_type": "code",
   "execution_count": 17,
   "id": "cd5161d3",
   "metadata": {},
   "outputs": [
    {
     "data": {
      "text/plain": [
       "<tf.Tensor: shape=(8,), dtype=float32, numpy=array([ 3.,  6.,  9., 12., 15., 18., 21., 24.], dtype=float32)>"
      ]
     },
     "execution_count": 17,
     "metadata": {},
     "output_type": "execute_result"
    }
   ],
   "source": [
    "y\n"
   ]
  },
  {
   "cell_type": "code",
   "execution_count": 18,
   "id": "210b66c6",
   "metadata": {},
   "outputs": [
    {
     "name": "stdout",
     "output_type": "stream",
     "text": [
      "1/1 [==============================] - 0s 34ms/step\n"
     ]
    },
    {
     "data": {
      "text/plain": [
       "array([[29.724222]], dtype=float32)"
      ]
     },
     "execution_count": 18,
     "metadata": {},
     "output_type": "execute_result"
    }
   ],
   "source": [
    "model.predict([17.0])"
   ]
  },
  {
   "cell_type": "code",
   "execution_count": 19,
   "id": "fe63f484",
   "metadata": {},
   "outputs": [
    {
     "name": "stdout",
     "output_type": "stream",
     "text": [
      "Epoch 1/50\n",
      "1/1 [==============================] - 0s 460ms/step - loss: 12.2335 - mae: 12.2335\n"
     ]
    },
    {
     "name": "stderr",
     "output_type": "stream",
     "text": [
      "2024-02-12 09:59:33.969200: I tensorflow/compiler/mlir/tensorflow/utils/dump_mlir_util.cc:269] disabling MLIR crash reproducer, set env var `MLIR_CRASH_REPRODUCER_DIRECTORY` to enable.\n"
     ]
    },
    {
     "name": "stdout",
     "output_type": "stream",
     "text": [
      "Epoch 2/50\n",
      "1/1 [==============================] - 0s 4ms/step - loss: 11.2323 - mae: 11.2323\n",
      "Epoch 3/50\n",
      "1/1 [==============================] - 0s 3ms/step - loss: 10.2141 - mae: 10.2141\n",
      "Epoch 4/50\n",
      "1/1 [==============================] - 0s 4ms/step - loss: 9.1707 - mae: 9.1707\n",
      "Epoch 5/50\n",
      "1/1 [==============================] - 0s 4ms/step - loss: 8.0957 - mae: 8.0957\n",
      "Epoch 6/50\n",
      "1/1 [==============================] - 0s 4ms/step - loss: 6.9837 - mae: 6.9837\n",
      "Epoch 7/50\n",
      "1/1 [==============================] - 0s 4ms/step - loss: 7.0768 - mae: 7.0768\n",
      "Epoch 8/50\n",
      "1/1 [==============================] - 0s 4ms/step - loss: 7.5042 - mae: 7.5042\n",
      "Epoch 9/50\n",
      "1/1 [==============================] - 0s 3ms/step - loss: 7.9818 - mae: 7.9818\n",
      "Epoch 10/50\n",
      "1/1 [==============================] - 0s 5ms/step - loss: 8.0093 - mae: 8.0093\n",
      "Epoch 11/50\n",
      "1/1 [==============================] - 0s 3ms/step - loss: 7.7362 - mae: 7.7362\n",
      "Epoch 12/50\n",
      "1/1 [==============================] - 0s 3ms/step - loss: 7.2577 - mae: 7.2577\n",
      "Epoch 13/50\n",
      "1/1 [==============================] - 0s 5ms/step - loss: 6.7941 - mae: 6.7941\n",
      "Epoch 14/50\n",
      "1/1 [==============================] - 0s 5ms/step - loss: 6.3884 - mae: 6.3884\n",
      "Epoch 15/50\n",
      "1/1 [==============================] - 0s 5ms/step - loss: 6.1175 - mae: 6.1175\n",
      "Epoch 16/50\n",
      "1/1 [==============================] - 0s 4ms/step - loss: 6.0850 - mae: 6.0850\n",
      "Epoch 17/50\n",
      "1/1 [==============================] - 0s 4ms/step - loss: 6.2330 - mae: 6.2330\n",
      "Epoch 18/50\n",
      "1/1 [==============================] - 0s 4ms/step - loss: 6.2250 - mae: 6.2250\n",
      "Epoch 19/50\n",
      "1/1 [==============================] - 0s 3ms/step - loss: 6.0836 - mae: 6.0836\n",
      "Epoch 20/50\n",
      "1/1 [==============================] - 0s 3ms/step - loss: 5.8240 - mae: 5.8240\n",
      "Epoch 21/50\n",
      "1/1 [==============================] - 0s 4ms/step - loss: 5.5084 - mae: 5.5084\n",
      "Epoch 22/50\n",
      "1/1 [==============================] - 0s 4ms/step - loss: 5.3624 - mae: 5.3624\n",
      "Epoch 23/50\n",
      "1/1 [==============================] - 0s 4ms/step - loss: 5.2224 - mae: 5.2224\n",
      "Epoch 24/50\n",
      "1/1 [==============================] - 0s 3ms/step - loss: 5.1853 - mae: 5.1853\n",
      "Epoch 25/50\n",
      "1/1 [==============================] - 0s 4ms/step - loss: 5.0872 - mae: 5.0872\n",
      "Epoch 26/50\n",
      "1/1 [==============================] - 0s 4ms/step - loss: 4.9325 - mae: 4.9325\n",
      "Epoch 27/50\n",
      "1/1 [==============================] - 0s 3ms/step - loss: 4.7256 - mae: 4.7256\n",
      "Epoch 28/50\n",
      "1/1 [==============================] - 0s 4ms/step - loss: 4.5021 - mae: 4.5021\n",
      "Epoch 29/50\n",
      "1/1 [==============================] - 0s 5ms/step - loss: 4.3537 - mae: 4.3537\n",
      "Epoch 30/50\n",
      "1/1 [==============================] - 0s 4ms/step - loss: 4.1925 - mae: 4.1925\n",
      "Epoch 31/50\n",
      "1/1 [==============================] - 0s 4ms/step - loss: 4.0178 - mae: 4.0178\n",
      "Epoch 32/50\n",
      "1/1 [==============================] - 0s 4ms/step - loss: 3.8671 - mae: 3.8671\n",
      "Epoch 33/50\n",
      "1/1 [==============================] - 0s 4ms/step - loss: 3.6124 - mae: 3.6124\n",
      "Epoch 34/50\n",
      "1/1 [==============================] - 0s 4ms/step - loss: 3.3814 - mae: 3.3814\n",
      "Epoch 35/50\n",
      "1/1 [==============================] - 0s 4ms/step - loss: 3.1356 - mae: 3.1356\n",
      "Epoch 36/50\n",
      "1/1 [==============================] - 0s 4ms/step - loss: 2.9339 - mae: 2.9339\n",
      "Epoch 37/50\n",
      "1/1 [==============================] - 0s 3ms/step - loss: 2.6925 - mae: 2.6925\n",
      "Epoch 38/50\n",
      "1/1 [==============================] - 0s 4ms/step - loss: 2.3690 - mae: 2.3690\n",
      "Epoch 39/50\n",
      "1/1 [==============================] - 0s 4ms/step - loss: 2.0891 - mae: 2.0891\n",
      "Epoch 40/50\n",
      "1/1 [==============================] - 0s 3ms/step - loss: 1.9463 - mae: 1.9463\n",
      "Epoch 41/50\n",
      "1/1 [==============================] - 0s 4ms/step - loss: 1.5962 - mae: 1.5962\n",
      "Epoch 42/50\n",
      "1/1 [==============================] - 0s 4ms/step - loss: 1.1259 - mae: 1.1259\n",
      "Epoch 43/50\n",
      "1/1 [==============================] - 0s 3ms/step - loss: 0.8552 - mae: 0.8552\n",
      "Epoch 44/50\n",
      "1/1 [==============================] - 0s 3ms/step - loss: 0.4978 - mae: 0.4978\n",
      "Epoch 45/50\n",
      "1/1 [==============================] - 0s 3ms/step - loss: 0.2466 - mae: 0.2466\n",
      "Epoch 46/50\n",
      "1/1 [==============================] - 0s 4ms/step - loss: 0.3225 - mae: 0.3225\n",
      "Epoch 47/50\n",
      "1/1 [==============================] - 0s 3ms/step - loss: 0.7564 - mae: 0.7564\n",
      "Epoch 48/50\n",
      "1/1 [==============================] - 0s 4ms/step - loss: 0.9059 - mae: 0.9059\n",
      "Epoch 49/50\n",
      "1/1 [==============================] - 0s 4ms/step - loss: 0.8655 - mae: 0.8655\n",
      "Epoch 50/50\n",
      "1/1 [==============================] - 0s 3ms/step - loss: 0.9550 - mae: 0.9550\n"
     ]
    },
    {
     "data": {
      "text/plain": [
       "<keras.src.callbacks.History at 0x7f37c0152190>"
      ]
     },
     "execution_count": 19,
     "metadata": {},
     "output_type": "execute_result"
    }
   ],
   "source": [
    "model = tf.keras.Sequential([\n",
    "    tf.keras.layers.Dense(100, activation=None),\n",
    "    #tf.keras.layers.Dense(50, activation=\"relu\"),\n",
    "    tf.keras.layers.Dense(1)\n",
    "])\n",
    "\n",
    "model.compile(loss=\"mae\",\n",
    "             optimizer=tf.keras.optimizers.Adam(learning_rate=0.01),\n",
    "             metrics=[\"mae\"])\n",
    "\n",
    "model.fit(tf.expand_dims(X, axis=-1), y, epochs=50)"
   ]
  },
  {
   "cell_type": "code",
   "execution_count": 20,
   "id": "81046dde",
   "metadata": {},
   "outputs": [
    {
     "name": "stdout",
     "output_type": "stream",
     "text": [
      "1/1 [==============================] - 0s 37ms/step\n"
     ]
    },
    {
     "data": {
      "text/plain": [
       "array([[26.066736]], dtype=float32)"
      ]
     },
     "execution_count": 20,
     "metadata": {},
     "output_type": "execute_result"
    }
   ],
   "source": [
    "model.predict([17.0])"
   ]
  },
  {
   "cell_type": "markdown",
   "id": "10e1cf6a",
   "metadata": {},
   "source": [
    "# Evaluating a model\n",
    "\n"
   ]
  },
  {
   "cell_type": "code",
   "execution_count": 21,
   "id": "f58e0569",
   "metadata": {},
   "outputs": [
    {
     "data": {
      "text/plain": [
       "<tf.Tensor: shape=(50,), dtype=int32, numpy=\n",
       "array([-100,  -96,  -92,  -88,  -84,  -80,  -76,  -72,  -68,  -64,  -60,\n",
       "        -56,  -52,  -48,  -44,  -40,  -36,  -32,  -28,  -24,  -20,  -16,\n",
       "        -12,   -8,   -4,    0,    4,    8,   12,   16,   20,   24,   28,\n",
       "         32,   36,   40,   44,   48,   52,   56,   60,   64,   68,   72,\n",
       "         76,   80,   84,   88,   92,   96], dtype=int32)>"
      ]
     },
     "execution_count": 21,
     "metadata": {},
     "output_type": "execute_result"
    }
   ],
   "source": [
    "#Bigger Data\n",
    "\n",
    "X = tf.range(-100, 100, 4)\n",
    "X"
   ]
  },
  {
   "cell_type": "code",
   "execution_count": 22,
   "id": "4ded724b",
   "metadata": {},
   "outputs": [
    {
     "data": {
      "text/plain": [
       "<tf.Tensor: shape=(50,), dtype=int32, numpy=\n",
       "array([-90, -86, -82, -78, -74, -70, -66, -62, -58, -54, -50, -46, -42,\n",
       "       -38, -34, -30, -26, -22, -18, -14, -10,  -6,  -2,   2,   6,  10,\n",
       "        14,  18,  22,  26,  30,  34,  38,  42,  46,  50,  54,  58,  62,\n",
       "        66,  70,  74,  78,  82,  86,  90,  94,  98, 102, 106], dtype=int32)>"
      ]
     },
     "execution_count": 22,
     "metadata": {},
     "output_type": "execute_result"
    }
   ],
   "source": [
    "# make labels\n",
    "y = X + 10\n",
    "y"
   ]
  },
  {
   "cell_type": "code",
   "execution_count": 23,
   "id": "8793a074",
   "metadata": {},
   "outputs": [],
   "source": [
    "#visualize\n",
    "import matplotlib.pyplot as plt\n"
   ]
  },
  {
   "cell_type": "code",
   "execution_count": 24,
   "id": "4859f33e",
   "metadata": {},
   "outputs": [
    {
     "data": {
      "text/plain": [
       "<matplotlib.collections.PathCollection at 0x7f37a061d390>"
      ]
     },
     "execution_count": 24,
     "metadata": {},
     "output_type": "execute_result"
    },
    {
     "data": {
      "image/png": "[encoded data removed]",
      "text/plain": [
       "<Figure size 640x480 with 1 Axes>"
      ]
     },
     "metadata": {},
     "output_type": "display_data"
    }
   ],
   "source": [
    "plt.scatter(X, y)"
   ]
  },
  {
   "cell_type": "markdown",
   "id": "bd909a8d",
   "metadata": {},
   "source": [
    "# 3 Sets"
   ]
  },
  {
   "cell_type": "code",
   "execution_count": 25,
   "id": "b3491e11",
   "metadata": {},
   "outputs": [
    {
     "data": {
      "text/plain": [
       "50"
      ]
     },
     "execution_count": 25,
     "metadata": {},
     "output_type": "execute_result"
    }
   ],
   "source": [
    "len(X)"
   ]
  },
  {
   "cell_type": "code",
   "execution_count": 26,
   "id": "8ed64871",
   "metadata": {},
   "outputs": [
    {
     "data": {
      "text/plain": [
       "(40, 10)"
      ]
     },
     "execution_count": 26,
     "metadata": {},
     "output_type": "execute_result"
    }
   ],
   "source": [
    "# split the data into train and test data\n",
    "X_train = X[:40] \n",
    "y_train = y[:40]\n",
    "X_test = X[40:]\n",
    "y_test = y[40:]\n",
    "\n",
    "len(X_train), len(y_test)\n"
   ]
  },
  {
   "cell_type": "code",
   "execution_count": 27,
   "id": "fae556c7",
   "metadata": {},
   "outputs": [
    {
     "data": {
      "image/png": "[encoded data removed]",
      "text/plain": [
       "<Figure size 1000x700 with 1 Axes>"
      ]
     },
     "metadata": {},
     "output_type": "display_data"
    }
   ],
   "source": [
    "plt.figure(figsize=(10, 7))\n",
    "plt.scatter(X_train, y_train, c=\"b\", label=\"Training data\")\n",
    "plt.scatter(X_test, y_test, c=\"g\", label=\"Testing data\")\n",
    "plt.legend();"
   ]
  },
  {
   "cell_type": "code",
   "execution_count": 28,
   "id": "564c80fd",
   "metadata": {},
   "outputs": [
    {
     "name": "stdout",
     "output_type": "stream",
     "text": [
      "Epoch 1/50\n",
      "2/2 [==============================] - 0s 4ms/step - loss: 30.6059 - mae: 30.6059\n",
      "Epoch 2/50\n",
      "2/2 [==============================] - 0s 3ms/step - loss: 9.8111 - mae: 9.8111\n",
      "Epoch 3/50\n",
      "2/2 [==============================] - 0s 3ms/step - loss: 10.7285 - mae: 10.7285\n",
      "Epoch 4/50\n",
      "2/2 [==============================] - 0s 3ms/step - loss: 9.5179 - mae: 9.5179\n",
      "Epoch 5/50\n",
      "2/2 [==============================] - 0s 3ms/step - loss: 10.4213 - mae: 10.4213\n",
      "Epoch 6/50\n",
      "2/2 [==============================] - 0s 3ms/step - loss: 9.6523 - mae: 9.6523\n",
      "Epoch 7/50\n",
      "2/2 [==============================] - 0s 3ms/step - loss: 8.7550 - mae: 8.7550\n",
      "Epoch 8/50\n",
      "2/2 [==============================] - 0s 2ms/step - loss: 9.0529 - mae: 9.0529\n",
      "Epoch 9/50\n",
      "2/2 [==============================] - 0s 3ms/step - loss: 19.2272 - mae: 19.2272\n",
      "Epoch 10/50\n",
      "2/2 [==============================] - 0s 3ms/step - loss: 10.3737 - mae: 10.3737\n",
      "Epoch 11/50\n",
      "2/2 [==============================] - 0s 3ms/step - loss: 8.4947 - mae: 8.4947\n",
      "Epoch 12/50\n",
      "2/2 [==============================] - 0s 3ms/step - loss: 10.8701 - mae: 10.8701\n",
      "Epoch 13/50\n",
      "2/2 [==============================] - 0s 3ms/step - loss: 9.9111 - mae: 9.9111\n",
      "Epoch 14/50\n",
      "2/2 [==============================] - 0s 3ms/step - loss: 9.4704 - mae: 9.4704\n",
      "Epoch 15/50\n",
      "2/2 [==============================] - 0s 5ms/step - loss: 13.6867 - mae: 13.6867\n",
      "Epoch 16/50\n",
      "2/2 [==============================] - 0s 3ms/step - loss: 8.9347 - mae: 8.9347\n",
      "Epoch 17/50\n",
      "2/2 [==============================] - 0s 3ms/step - loss: 12.8430 - mae: 12.8430\n",
      "Epoch 18/50\n",
      "2/2 [==============================] - 0s 3ms/step - loss: 10.4758 - mae: 10.4758\n",
      "Epoch 19/50\n",
      "2/2 [==============================] - 0s 3ms/step - loss: 19.2189 - mae: 19.2189\n",
      "Epoch 20/50\n",
      "2/2 [==============================] - 0s 3ms/step - loss: 15.8839 - mae: 15.8839\n",
      "Epoch 21/50\n",
      "2/2 [==============================] - 0s 3ms/step - loss: 11.7145 - mae: 11.7145\n",
      "Epoch 22/50\n",
      "2/2 [==============================] - 0s 3ms/step - loss: 8.9150 - mae: 8.9150\n",
      "Epoch 23/50\n",
      "2/2 [==============================] - 0s 3ms/step - loss: 10.0577 - mae: 10.0577\n",
      "Epoch 24/50\n",
      "2/2 [==============================] - 0s 3ms/step - loss: 15.6113 - mae: 15.6113\n",
      "Epoch 25/50\n",
      "2/2 [==============================] - 0s 3ms/step - loss: 12.0818 - mae: 12.0818\n",
      "Epoch 26/50\n",
      "2/2 [==============================] - 0s 3ms/step - loss: 13.1916 - mae: 13.1916\n",
      "Epoch 27/50\n",
      "2/2 [==============================] - 0s 3ms/step - loss: 10.6600 - mae: 10.6600\n",
      "Epoch 28/50\n",
      "2/2 [==============================] - 0s 3ms/step - loss: 12.8827 - mae: 12.8827\n",
      "Epoch 29/50\n",
      "2/2 [==============================] - 0s 4ms/step - loss: 9.5016 - mae: 9.5016\n",
      "Epoch 30/50\n",
      "2/2 [==============================] - 0s 3ms/step - loss: 16.4120 - mae: 16.4120\n",
      "Epoch 31/50\n",
      "2/2 [==============================] - 0s 3ms/step - loss: 23.5712 - mae: 23.5712\n",
      "Epoch 32/50\n",
      "2/2 [==============================] - 0s 3ms/step - loss: 7.5994 - mae: 7.5994\n",
      "Epoch 33/50\n",
      "2/2 [==============================] - 0s 3ms/step - loss: 9.2966 - mae: 9.2966\n",
      "Epoch 34/50\n",
      "2/2 [==============================] - 0s 3ms/step - loss: 13.6706 - mae: 13.6706\n",
      "Epoch 35/50\n",
      "2/2 [==============================] - 0s 3ms/step - loss: 11.1479 - mae: 11.1479\n",
      "Epoch 36/50\n",
      "2/2 [==============================] - 0s 3ms/step - loss: 13.3747 - mae: 13.3747\n",
      "Epoch 37/50\n",
      "2/2 [==============================] - 0s 3ms/step - loss: 9.4424 - mae: 9.4424\n",
      "Epoch 38/50\n",
      "2/2 [==============================] - 0s 3ms/step - loss: 10.0935 - mae: 10.0935\n",
      "Epoch 39/50\n",
      "2/2 [==============================] - 0s 3ms/step - loss: 10.2000 - mae: 10.2000\n",
      "Epoch 40/50\n",
      "2/2 [==============================] - 0s 3ms/step - loss: 10.9466 - mae: 10.9466\n",
      "Epoch 41/50\n",
      "2/2 [==============================] - 0s 3ms/step - loss: 7.9210 - mae: 7.9210\n",
      "Epoch 42/50\n",
      "2/2 [==============================] - 0s 3ms/step - loss: 10.5714 - mae: 10.5714\n",
      "Epoch 43/50\n",
      "2/2 [==============================] - 0s 3ms/step - loss: 7.2007 - mae: 7.2007\n",
      "Epoch 44/50\n",
      "2/2 [==============================] - 0s 3ms/step - loss: 7.9869 - mae: 7.9869\n",
      "Epoch 45/50\n",
      "2/2 [==============================] - 0s 3ms/step - loss: 9.7788 - mae: 9.7788\n",
      "Epoch 46/50\n",
      "2/2 [==============================] - 0s 3ms/step - loss: 8.8549 - mae: 8.8549\n",
      "Epoch 47/50\n",
      "2/2 [==============================] - 0s 3ms/step - loss: 7.5638 - mae: 7.5638\n",
      "Epoch 48/50\n",
      "2/2 [==============================] - 0s 3ms/step - loss: 8.5690 - mae: 8.5690\n",
      "Epoch 49/50\n",
      "2/2 [==============================] - 0s 3ms/step - loss: 9.9834 - mae: 9.9834\n",
      "Epoch 50/50\n",
      "2/2 [==============================] - 0s 4ms/step - loss: 9.0215 - mae: 9.0215\n"
     ]
    },
    {
     "data": {
      "text/plain": [
       "<keras.src.callbacks.History at 0x7f37a0549190>"
      ]
     },
     "execution_count": 28,
     "metadata": {},
     "output_type": "execute_result"
    }
   ],
   "source": [
    "model = tf.keras.Sequential([\n",
    "    tf.keras.layers.Dense(1)\n",
    "])\n",
    "\n",
    "model.compile(loss=tf.losses.mae,\n",
    "             optimizer=tf.keras.optimizers.SGD(),\n",
    "             metrics=[\"mae\"])\n",
    "\n",
    "model.fit(tf.expand_dims(X_train, axis=-1), y_train, epochs=50)"
   ]
  },
  {
   "cell_type": "code",
   "execution_count": 29,
   "id": "d293eb8e",
   "metadata": {},
   "outputs": [
    {
     "name": "stdout",
     "output_type": "stream",
     "text": [
      "Model: \"sequential_3\"\n",
      "_________________________________________________________________\n",
      " Layer (type)                Output Shape              Param #   \n",
      "=================================================================\n",
      " dense_4 (Dense)             (None, 1)                 2         \n",
      "                                                                 \n",
      "=================================================================\n",
      "Total params: 2 (8.00 Byte)\n",
      "Trainable params: 2 (8.00 Byte)\n",
      "Non-trainable params: 0 (0.00 Byte)\n",
      "_________________________________________________________________\n"
     ]
    }
   ],
   "source": [
    "model.summary()"
   ]
  },
  {
   "cell_type": "code",
   "execution_count": 30,
   "id": "96796319",
   "metadata": {},
   "outputs": [],
   "source": [
    "tf.random.set_seed(42)\n",
    "\n",
    "model = tf.keras.Sequential([\n",
    "    tf.keras.layers.Dense(10, input_shape=[1], name=\"input_layer\"),\n",
    "    tf.keras.layers.Dense(1, name=\"output_layer\")\n",
    "],name=\"TensorFlow_regression\")\n",
    "\n",
    "model.compile(loss=tf.keras.losses.mae,\n",
    "             optimizer=tf.keras.optimizers.SGD(),\n",
    "             metrics=[\"mae\"])"
   ]
  },
  {
   "cell_type": "code",
   "execution_count": 31,
   "id": "70f4081a",
   "metadata": {},
   "outputs": [
    {
     "name": "stdout",
     "output_type": "stream",
     "text": [
      "Model: \"TensorFlow_regression\"\n",
      "_________________________________________________________________\n",
      " Layer (type)                Output Shape              Param #   \n",
      "=================================================================\n",
      " input_layer (Dense)         (None, 10)                20        \n",
      "                                                                 \n",
      " output_layer (Dense)        (None, 1)                 11        \n",
      "                                                                 \n",
      "=================================================================\n",
      "Total params: 31 (124.00 Byte)\n",
      "Trainable params: 31 (124.00 Byte)\n",
      "Non-trainable params: 0 (0.00 Byte)\n",
      "_________________________________________________________________\n"
     ]
    }
   ],
   "source": [
    "model.summary()"
   ]
  },
  {
   "cell_type": "code",
   "execution_count": 32,
   "id": "792ed918",
   "metadata": {},
   "outputs": [
    {
     "name": "stdout",
     "output_type": "stream",
     "text": [
      "Epoch 1/50\n",
      "2/2 [==============================] - 0s 5ms/step - loss: 48.3838 - mae: 48.3838\n",
      "Epoch 2/50\n",
      "2/2 [==============================] - 0s 3ms/step - loss: 34.9950 - mae: 34.9950\n",
      "Epoch 3/50\n",
      "2/2 [==============================] - 0s 3ms/step - loss: 38.9530 - mae: 38.9530\n",
      "Epoch 4/50\n",
      "2/2 [==============================] - 0s 3ms/step - loss: 27.7744 - mae: 27.7744\n",
      "Epoch 5/50\n",
      "2/2 [==============================] - 0s 3ms/step - loss: 15.1395 - mae: 15.1395\n",
      "Epoch 6/50\n",
      "2/2 [==============================] - 0s 3ms/step - loss: 12.0450 - mae: 12.0450\n",
      "Epoch 7/50\n",
      "2/2 [==============================] - 0s 4ms/step - loss: 11.3781 - mae: 11.3781\n",
      "Epoch 8/50\n",
      "2/2 [==============================] - 0s 3ms/step - loss: 11.2015 - mae: 11.2015\n",
      "Epoch 9/50\n",
      "2/2 [==============================] - 0s 3ms/step - loss: 41.5735 - mae: 41.5735\n",
      "Epoch 10/50\n",
      "2/2 [==============================] - 0s 3ms/step - loss: 28.8260 - mae: 28.8260\n",
      "Epoch 11/50\n",
      "2/2 [==============================] - 0s 3ms/step - loss: 9.4140 - mae: 9.4140\n",
      "Epoch 12/50\n",
      "2/2 [==============================] - 0s 3ms/step - loss: 26.2615 - mae: 26.2615\n",
      "Epoch 13/50\n",
      "2/2 [==============================] - 0s 3ms/step - loss: 14.5443 - mae: 14.5443\n",
      "Epoch 14/50\n",
      "2/2 [==============================] - 0s 3ms/step - loss: 30.1353 - mae: 30.1353\n",
      "Epoch 15/50\n",
      "2/2 [==============================] - 0s 4ms/step - loss: 19.9284 - mae: 19.9284\n",
      "Epoch 16/50\n",
      "2/2 [==============================] - 0s 3ms/step - loss: 9.9003 - mae: 9.9003\n",
      "Epoch 17/50\n",
      "2/2 [==============================] - 0s 3ms/step - loss: 17.7952 - mae: 17.7952\n",
      "Epoch 18/50\n",
      "2/2 [==============================] - 0s 3ms/step - loss: 14.2680 - mae: 14.2680\n",
      "Epoch 19/50\n",
      "2/2 [==============================] - 0s 3ms/step - loss: 14.1134 - mae: 14.1134\n",
      "Epoch 20/50\n",
      "2/2 [==============================] - 0s 4ms/step - loss: 11.2806 - mae: 11.2806\n",
      "Epoch 21/50\n",
      "2/2 [==============================] - 0s 3ms/step - loss: 17.4467 - mae: 17.4467\n",
      "Epoch 22/50\n",
      "2/2 [==============================] - 0s 3ms/step - loss: 15.9737 - mae: 15.9737\n",
      "Epoch 23/50\n",
      "2/2 [==============================] - 0s 3ms/step - loss: 9.8464 - mae: 9.8464\n",
      "Epoch 24/50\n",
      "2/2 [==============================] - 0s 3ms/step - loss: 16.4346 - mae: 16.4346\n",
      "Epoch 25/50\n",
      "2/2 [==============================] - 0s 3ms/step - loss: 15.3717 - mae: 15.3717\n",
      "Epoch 26/50\n",
      "2/2 [==============================] - 0s 3ms/step - loss: 20.5798 - mae: 20.5798\n",
      "Epoch 27/50\n",
      "2/2 [==============================] - 0s 3ms/step - loss: 26.3425 - mae: 26.3425\n",
      "Epoch 28/50\n",
      "2/2 [==============================] - 0s 5ms/step - loss: 18.7910 - mae: 18.7910\n",
      "Epoch 29/50\n",
      "2/2 [==============================] - 0s 3ms/step - loss: 9.2561 - mae: 9.2561\n",
      "Epoch 30/50\n",
      "2/2 [==============================] - 0s 4ms/step - loss: 29.4280 - mae: 29.4280\n",
      "Epoch 31/50\n",
      "2/2 [==============================] - 0s 3ms/step - loss: 53.3407 - mae: 53.3407\n",
      "Epoch 32/50\n",
      "2/2 [==============================] - 0s 3ms/step - loss: 9.4828 - mae: 9.4828\n",
      "Epoch 33/50\n",
      "2/2 [==============================] - 0s 3ms/step - loss: 12.0584 - mae: 12.0584\n",
      "Epoch 34/50\n",
      "2/2 [==============================] - 0s 3ms/step - loss: 23.2955 - mae: 23.2955\n",
      "Epoch 35/50\n",
      "2/2 [==============================] - 0s 4ms/step - loss: 11.8465 - mae: 11.8465\n",
      "Epoch 36/50\n",
      "2/2 [==============================] - 0s 5ms/step - loss: 21.8136 - mae: 21.8136\n",
      "Epoch 37/50\n",
      "2/2 [==============================] - 0s 4ms/step - loss: 11.1447 - mae: 11.1447\n",
      "Epoch 38/50\n",
      "2/2 [==============================] - 0s 3ms/step - loss: 12.7401 - mae: 12.7401\n",
      "Epoch 39/50\n",
      "2/2 [==============================] - 0s 4ms/step - loss: 11.6093 - mae: 11.6093\n",
      "Epoch 40/50\n",
      "2/2 [==============================] - 0s 3ms/step - loss: 19.2586 - mae: 19.2586\n",
      "Epoch 41/50\n",
      "2/2 [==============================] - 0s 3ms/step - loss: 10.9762 - mae: 10.9762\n",
      "Epoch 42/50\n",
      "2/2 [==============================] - 0s 3ms/step - loss: 9.3040 - mae: 9.3040\n",
      "Epoch 43/50\n",
      "2/2 [==============================] - 0s 3ms/step - loss: 9.6007 - mae: 9.6007\n",
      "Epoch 44/50\n",
      "2/2 [==============================] - 0s 4ms/step - loss: 27.9562 - mae: 27.9562\n",
      "Epoch 45/50\n",
      "2/2 [==============================] - 0s 3ms/step - loss: 11.2857 - mae: 11.2857\n",
      "Epoch 46/50\n",
      "2/2 [==============================] - 0s 3ms/step - loss: 13.8896 - mae: 13.8896\n",
      "Epoch 47/50\n",
      "2/2 [==============================] - 0s 3ms/step - loss: 11.9177 - mae: 11.9177\n",
      "Epoch 48/50\n",
      "2/2 [==============================] - 0s 3ms/step - loss: 16.9470 - mae: 16.9470\n",
      "Epoch 49/50\n",
      "2/2 [==============================] - 0s 3ms/step - loss: 9.7914 - mae: 9.7914\n",
      "Epoch 50/50\n",
      "2/2 [==============================] - 0s 3ms/step - loss: 14.1893 - mae: 14.1893\n"
     ]
    },
    {
     "data": {
      "text/plain": [
       "<keras.src.callbacks.History at 0x7f37a040cf50>"
      ]
     },
     "execution_count": 32,
     "metadata": {},
     "output_type": "execute_result"
    }
   ],
   "source": [
    "model.fit(tf.expand_dims(X_train,axis=-1),y_train, epochs=50, verbose=1)"
   ]
  },
  {
   "cell_type": "code",
   "execution_count": 33,
   "id": "ce8ac2a5",
   "metadata": {},
   "outputs": [
    {
     "name": "stdout",
     "output_type": "stream",
     "text": [
      "You must install pydot (`pip install pydot`) and install graphviz (see instructions at https://graphviz.gitlab.io/download/) for plot_model to work.\n"
     ]
    }
   ],
   "source": [
    "from tensorflow.keras.utils import plot_model\n",
    "\n",
    "plot_model(model=model, show_shapes=True)"
   ]
  },
  {
   "cell_type": "markdown",
   "id": "8ccba2fe",
   "metadata": {},
   "source": [
    "## Visualizing Model's prediction"
   ]
  },
  {
   "cell_type": "code",
   "execution_count": 34,
   "id": "c8ddfee5",
   "metadata": {},
   "outputs": [
    {
     "name": "stdout",
     "output_type": "stream",
     "text": [
      "1/1 [==============================] - 0s 28ms/step\n"
     ]
    },
    {
     "data": {
      "text/plain": [
       "array([[ 66.72912 ],\n",
       "       [ 71.12167 ],\n",
       "       [ 75.51424 ],\n",
       "       [ 79.9068  ],\n",
       "       [ 84.29936 ],\n",
       "       [ 88.691925],\n",
       "       [ 93.08449 ],\n",
       "       [ 97.47705 ],\n",
       "       [101.869606],\n",
       "       [106.26216 ]], dtype=float32)"
      ]
     },
     "execution_count": 34,
     "metadata": {},
     "output_type": "execute_result"
    }
   ],
   "source": [
    "y_pred = model.predict(X_test)\n",
    "y_pred"
   ]
  },
  {
   "cell_type": "code",
   "execution_count": 35,
   "id": "b86fac79-6275-4dfc-8ca2-a388e426bd16",
   "metadata": {},
   "outputs": [
    {
     "data": {
      "text/plain": [
       "<tf.Tensor: shape=(10,), dtype=int32, numpy=array([ 70,  74,  78,  82,  86,  90,  94,  98, 102, 106], dtype=int32)>"
      ]
     },
     "execution_count": 35,
     "metadata": {},
     "output_type": "execute_result"
    }
   ],
   "source": [
    "y_test"
   ]
  },
  {
   "cell_type": "code",
   "execution_count": 36,
   "id": "5128cd1f",
   "metadata": {},
   "outputs": [],
   "source": [
    "def plot_predictions(train_data=X_train,\n",
    "                    train_labels=y_train,\n",
    "                    test_data=X_test,\n",
    "                     test_labels=y_test,\n",
    "                    predictions = y_pred,\n",
    "                    ):\n",
    "    plt.figure(figsize=(10, 7))\n",
    "\n",
    "    plt.scatter(train_data, train_labels, c=\"b\", label=\"Training Data\")\n",
    "    plt.scatter(test_data, test_labels, c=\"g\", label=\"Testing Data\")\n",
    "    plt.scatter(test_data, predictions, c=\"r\", label=\"Predictions\")\n",
    "    plt.legend();"
   ]
  },
  {
   "cell_type": "code",
   "execution_count": 37,
   "id": "9fd1beb0-f5fe-4c4b-a809-86fbca9a29ce",
   "metadata": {},
   "outputs": [
    {
     "data": {
      "image/png": "[encoded data removed]",
      "text/plain": [
       "<Figure size 1000x700 with 1 Axes>"
      ]
     },
     "metadata": {},
     "output_type": "display_data"
    }
   ],
   "source": [
    "plot_predictions(train_data=X_train,\n",
    "                train_labels=y_train,\n",
    "                test_data=X_test,\n",
    "                test_labels=y_test,\n",
    "                predictions=y_pred,)"
   ]
  },
  {
   "cell_type": "markdown",
   "id": "5c5400ab-8059-4c96-bde1-ee45c1acad1d",
   "metadata": {},
   "source": [
    "### Evaluating model's predictions with regression evaluation metrics\n",
    "\n",
    "2 Main metrics:\n",
    "    1) MAE - Mean Absolute Error, \"On avg how wrong is each of my model's predictions\"\n",
    "    2) MSE - Mean Squared Error, \"Square the average errors\""
   ]
  },
  {
   "cell_type": "code",
   "execution_count": 38,
   "id": "2d2f62c5-6b11-47ed-b561-bed80a7123ef",
   "metadata": {},
   "outputs": [
    {
     "name": "stdout",
     "output_type": "stream",
     "text": [
      "1/1 [==============================] - 0s 73ms/step - loss: 1.5568 - mae: 1.5568\n"
     ]
    },
    {
     "data": {
      "text/plain": [
       "[1.5567901134490967, 1.5567901134490967]"
      ]
     },
     "execution_count": 38,
     "metadata": {},
     "output_type": "execute_result"
    }
   ],
   "source": [
    "#Evaluate the model on the test\n",
    "model.evaluate(X_test, y_test)"
   ]
  },
  {
   "cell_type": "code",
   "execution_count": 39,
   "id": "ed0402b3-2a31-4315-9116-32744820137b",
   "metadata": {},
   "outputs": [
    {
     "data": {
      "text/plain": [
       "<tf.Tensor: shape=(), dtype=float32, numpy=1.5567901>"
      ]
     },
     "execution_count": 39,
     "metadata": {},
     "output_type": "execute_result"
    }
   ],
   "source": [
    "# Calc MAE\n",
    "\n",
    "mae = tf.metrics.mean_absolute_error(y_true=y_test, y_pred=tf.squeeze(y_pred))\n",
    "mae"
   ]
  },
  {
   "cell_type": "code",
   "execution_count": 40,
   "id": "c9eeb9d4-7997-455a-9ecf-b756b796c027",
   "metadata": {},
   "outputs": [
    {
     "data": {
      "text/plain": [
       "<tf.Tensor: shape=(), dtype=float32, numpy=3.5344536>"
      ]
     },
     "execution_count": 40,
     "metadata": {},
     "output_type": "execute_result"
    }
   ],
   "source": [
    "# calc MSE\n",
    "\n",
    "mse = tf.metrics.mean_squared_error(y_true=y_test, y_pred=tf.squeeze(y_pred))\n",
    "mse\n"
   ]
  },
  {
   "cell_type": "code",
   "execution_count": 41,
   "id": "f3098bca-14e9-43b2-9b62-4acc7af5ab26",
   "metadata": {},
   "outputs": [
    {
     "data": {
      "text/plain": [
       "<tf.Tensor: shape=(10,), dtype=float32, numpy=\n",
       "array([ 66.72912 ,  71.12167 ,  75.51424 ,  79.9068  ,  84.29936 ,\n",
       "        88.691925,  93.08449 ,  97.47705 , 101.869606, 106.26216 ],\n",
       "      dtype=float32)>"
      ]
     },
     "execution_count": 41,
     "metadata": {},
     "output_type": "execute_result"
    }
   ],
   "source": [
    "#RESHAPE REQ\n",
    "tf.squeeze(y_pred)"
   ]
  },
  {
   "cell_type": "code",
   "execution_count": 42,
   "id": "49f6ee07-eae4-4901-ad73-baae8c1a3db3",
   "metadata": {},
   "outputs": [
    {
     "data": {
      "text/plain": [
       "<tf.Tensor: shape=(10,), dtype=int32, numpy=array([ 70,  74,  78,  82,  86,  90,  94,  98, 102, 106], dtype=int32)>"
      ]
     },
     "execution_count": 42,
     "metadata": {},
     "output_type": "execute_result"
    }
   ],
   "source": [
    "y_test"
   ]
  },
  {
   "cell_type": "code",
   "execution_count": 53,
   "id": "40c661de-3cca-4cf0-9727-eb21443a91d5",
   "metadata": {},
   "outputs": [],
   "source": [
    "# Functions to reuse MAE and MSE\n",
    "\n",
    "def mae(y_true, y_pred):\n",
    "    mae = tf.metrics.mean_absolute_error(y_true=y_true, y_pred=tf.squeeze(y_pred))\n",
    "    return mae\n",
    "\n",
    "def mse(y_true, y_pred):\n",
    "    mse = tf.metrics.mean_squared_error(y_true=y_true, y_pred=tf.squeeze(y_pred))\n",
    "    return mse"
   ]
  },
  {
   "cell_type": "markdown",
   "id": "efdecb01-6c62-4e6a-a250-254ca4a38615",
   "metadata": {},
   "source": [
    "### Modelling expriments\n",
    "\n",
    "1) 'model_1' - same 1 layer, trained with 100 epoch\n",
    "2) 'model_2' - 2 layers, 100 epochs\n",
    "3) 'model_3' - 3 layers, 40 epochs, Adam Optimizer (lr=0.1)"
   ]
  },
  {
   "cell_type": "code",
   "execution_count": 44,
   "id": "98c1dc56-6d6b-4df6-8483-e0dced61656e",
   "metadata": {},
   "outputs": [
    {
     "data": {
      "text/plain": [
       "(<tf.Tensor: shape=(40,), dtype=int32, numpy=\n",
       " array([-100,  -96,  -92,  -88,  -84,  -80,  -76,  -72,  -68,  -64,  -60,\n",
       "         -56,  -52,  -48,  -44,  -40,  -36,  -32,  -28,  -24,  -20,  -16,\n",
       "         -12,   -8,   -4,    0,    4,    8,   12,   16,   20,   24,   28,\n",
       "          32,   36,   40,   44,   48,   52,   56], dtype=int32)>,\n",
       " <tf.Tensor: shape=(40,), dtype=int32, numpy=\n",
       " array([-90, -86, -82, -78, -74, -70, -66, -62, -58, -54, -50, -46, -42,\n",
       "        -38, -34, -30, -26, -22, -18, -14, -10,  -6,  -2,   2,   6,  10,\n",
       "         14,  18,  22,  26,  30,  34,  38,  42,  46,  50,  54,  58,  62,\n",
       "         66], dtype=int32)>)"
      ]
     },
     "execution_count": 44,
     "metadata": {},
     "output_type": "execute_result"
    }
   ],
   "source": [
    "X_train, y_train"
   ]
  },
  {
   "cell_type": "code",
   "execution_count": 48,
   "id": "460bc1e1-97e9-42f5-8f89-998d4d587ab2",
   "metadata": {},
   "outputs": [
    {
     "name": "stdout",
     "output_type": "stream",
     "text": [
      "Epoch 1/100\n",
      "2/2 [==============================] - 0s 4ms/step - loss: 109.1945 - mae: 109.1945\n",
      "Epoch 2/100\n",
      "2/2 [==============================] - 0s 3ms/step - loss: 73.7391 - mae: 73.7391\n",
      "Epoch 3/100\n",
      "2/2 [==============================] - 0s 3ms/step - loss: 36.1858 - mae: 36.1858\n",
      "Epoch 4/100\n",
      "2/2 [==============================] - 0s 3ms/step - loss: 7.5955 - mae: 7.5955\n",
      "Epoch 5/100\n",
      "2/2 [==============================] - 0s 3ms/step - loss: 7.6123 - mae: 7.6123\n",
      "Epoch 6/100\n",
      "2/2 [==============================] - 0s 3ms/step - loss: 9.0250 - mae: 9.0250\n",
      "Epoch 7/100\n",
      "2/2 [==============================] - 0s 3ms/step - loss: 9.4390 - mae: 9.4390\n",
      "Epoch 8/100\n",
      "2/2 [==============================] - 0s 3ms/step - loss: 9.3052 - mae: 9.3052\n",
      "Epoch 9/100\n",
      "2/2 [==============================] - 0s 4ms/step - loss: 12.0177 - mae: 12.0177\n",
      "Epoch 10/100\n",
      "2/2 [==============================] - 0s 3ms/step - loss: 13.9887 - mae: 13.9887\n",
      "Epoch 11/100\n",
      "2/2 [==============================] - 0s 3ms/step - loss: 12.1399 - mae: 12.1399\n",
      "Epoch 12/100\n",
      "2/2 [==============================] - 0s 3ms/step - loss: 16.0333 - mae: 16.0333\n",
      "Epoch 13/100\n",
      "2/2 [==============================] - 0s 3ms/step - loss: 11.6906 - mae: 11.6906\n",
      "Epoch 14/100\n",
      "2/2 [==============================] - 0s 3ms/step - loss: 13.5250 - mae: 13.5250\n",
      "Epoch 15/100\n",
      "2/2 [==============================] - 0s 3ms/step - loss: 10.8394 - mae: 10.8394\n",
      "Epoch 16/100\n",
      "2/2 [==============================] - 0s 3ms/step - loss: 8.5559 - mae: 8.5559\n",
      "Epoch 17/100\n",
      "2/2 [==============================] - 0s 3ms/step - loss: 13.6393 - mae: 13.6393\n",
      "Epoch 18/100\n",
      "2/2 [==============================] - 0s 3ms/step - loss: 11.4605 - mae: 11.4605\n",
      "Epoch 19/100\n",
      "2/2 [==============================] - 0s 3ms/step - loss: 17.9785 - mae: 17.9785\n",
      "Epoch 20/100\n",
      "2/2 [==============================] - 0s 3ms/step - loss: 15.1127 - mae: 15.1127\n",
      "Epoch 21/100\n",
      "2/2 [==============================] - 0s 3ms/step - loss: 11.0822 - mae: 11.0822\n",
      "Epoch 22/100\n",
      "2/2 [==============================] - 0s 4ms/step - loss: 8.2166 - mae: 8.2166\n",
      "Epoch 23/100\n",
      "2/2 [==============================] - 0s 3ms/step - loss: 9.5223 - mae: 9.5223\n",
      "Epoch 24/100\n",
      "2/2 [==============================] - 0s 4ms/step - loss: 7.7018 - mae: 7.7018\n",
      "Epoch 25/100\n",
      "2/2 [==============================] - 0s 3ms/step - loss: 13.1479 - mae: 13.1479\n",
      "Epoch 26/100\n",
      "2/2 [==============================] - 0s 3ms/step - loss: 16.4835 - mae: 16.4835\n",
      "Epoch 27/100\n",
      "2/2 [==============================] - 0s 3ms/step - loss: 13.2236 - mae: 13.2236\n",
      "Epoch 28/100\n",
      "2/2 [==============================] - 0s 3ms/step - loss: 14.3238 - mae: 14.3238\n",
      "Epoch 29/100\n",
      "2/2 [==============================] - 0s 3ms/step - loss: 10.1091 - mae: 10.1091\n",
      "Epoch 30/100\n",
      "2/2 [==============================] - 0s 3ms/step - loss: 16.4237 - mae: 16.4237\n",
      "Epoch 31/100\n",
      "2/2 [==============================] - 0s 3ms/step - loss: 23.5932 - mae: 23.5932\n",
      "Epoch 32/100\n",
      "2/2 [==============================] - 0s 3ms/step - loss: 7.6444 - mae: 7.6444\n",
      "Epoch 33/100\n",
      "2/2 [==============================] - 0s 3ms/step - loss: 9.3408 - mae: 9.3408\n",
      "Epoch 34/100\n",
      "2/2 [==============================] - 0s 3ms/step - loss: 13.7138 - mae: 13.7138\n",
      "Epoch 35/100\n",
      "2/2 [==============================] - 0s 4ms/step - loss: 11.1832 - mae: 11.1832\n",
      "Epoch 36/100\n",
      "2/2 [==============================] - 0s 3ms/step - loss: 13.3949 - mae: 13.3949\n",
      "Epoch 37/100\n",
      "2/2 [==============================] - 0s 3ms/step - loss: 9.4881 - mae: 9.4881\n",
      "Epoch 38/100\n",
      "2/2 [==============================] - 0s 3ms/step - loss: 10.1431 - mae: 10.1431\n",
      "Epoch 39/100\n",
      "2/2 [==============================] - 0s 3ms/step - loss: 10.2352 - mae: 10.2352\n",
      "Epoch 40/100\n",
      "2/2 [==============================] - 0s 3ms/step - loss: 10.9752 - mae: 10.9752\n",
      "Epoch 41/100\n",
      "2/2 [==============================] - 0s 3ms/step - loss: 7.9647 - mae: 7.9647\n",
      "Epoch 42/100\n",
      "2/2 [==============================] - 0s 3ms/step - loss: 10.1000 - mae: 10.1000\n",
      "Epoch 43/100\n",
      "2/2 [==============================] - 0s 3ms/step - loss: 8.7231 - mae: 8.7231\n",
      "Epoch 44/100\n",
      "2/2 [==============================] - 0s 3ms/step - loss: 12.1867 - mae: 12.1867\n",
      "Epoch 45/100\n",
      "2/2 [==============================] - 0s 3ms/step - loss: 13.8645 - mae: 13.8645\n",
      "Epoch 46/100\n",
      "2/2 [==============================] - 0s 3ms/step - loss: 8.5292 - mae: 8.5292\n",
      "Epoch 47/100\n",
      "2/2 [==============================] - 0s 3ms/step - loss: 9.1440 - mae: 9.1440\n",
      "Epoch 48/100\n",
      "2/2 [==============================] - 0s 3ms/step - loss: 10.6214 - mae: 10.6214\n",
      "Epoch 49/100\n",
      "2/2 [==============================] - 0s 3ms/step - loss: 7.7624 - mae: 7.7624\n",
      "Epoch 50/100\n",
      "2/2 [==============================] - 0s 3ms/step - loss: 9.5443 - mae: 9.5443\n",
      "Epoch 51/100\n",
      "2/2 [==============================] - 0s 3ms/step - loss: 9.1833 - mae: 9.1833\n",
      "Epoch 52/100\n",
      "2/2 [==============================] - 0s 3ms/step - loss: 16.3136 - mae: 16.3136\n",
      "Epoch 53/100\n",
      "2/2 [==============================] - 0s 3ms/step - loss: 14.1793 - mae: 14.1793\n",
      "Epoch 54/100\n",
      "2/2 [==============================] - 0s 4ms/step - loss: 21.2069 - mae: 21.2069\n",
      "Epoch 55/100\n",
      "2/2 [==============================] - 0s 3ms/step - loss: 16.3585 - mae: 16.3585\n",
      "Epoch 56/100\n",
      "2/2 [==============================] - 0s 4ms/step - loss: 10.0468 - mae: 10.0468\n",
      "Epoch 57/100\n",
      "2/2 [==============================] - 0s 3ms/step - loss: 9.9675 - mae: 9.9675\n",
      "Epoch 58/100\n",
      "2/2 [==============================] - 0s 3ms/step - loss: 9.2323 - mae: 9.2323\n",
      "Epoch 59/100\n",
      "2/2 [==============================] - 0s 4ms/step - loss: 8.4311 - mae: 8.4311\n",
      "Epoch 60/100\n",
      "2/2 [==============================] - 0s 3ms/step - loss: 9.5024 - mae: 9.5024\n",
      "Epoch 61/100\n",
      "2/2 [==============================] - 0s 3ms/step - loss: 11.4330 - mae: 11.4330\n",
      "Epoch 62/100\n",
      "2/2 [==============================] - 0s 3ms/step - loss: 11.7563 - mae: 11.7563\n",
      "Epoch 63/100\n",
      "2/2 [==============================] - 0s 3ms/step - loss: 7.1047 - mae: 7.1047\n",
      "Epoch 64/100\n",
      "2/2 [==============================] - 0s 3ms/step - loss: 17.0315 - mae: 17.0315\n",
      "Epoch 65/100\n",
      "2/2 [==============================] - 0s 3ms/step - loss: 12.5177 - mae: 12.5177\n",
      "Epoch 66/100\n",
      "2/2 [==============================] - 0s 3ms/step - loss: 13.0851 - mae: 13.0851\n",
      "Epoch 67/100\n",
      "2/2 [==============================] - 0s 3ms/step - loss: 8.1074 - mae: 8.1074\n",
      "Epoch 68/100\n",
      "2/2 [==============================] - 0s 3ms/step - loss: 10.2430 - mae: 10.2430\n",
      "Epoch 69/100\n",
      "2/2 [==============================] - 0s 3ms/step - loss: 12.4337 - mae: 12.4337\n",
      "Epoch 70/100\n",
      "2/2 [==============================] - 0s 3ms/step - loss: 9.0639 - mae: 9.0639\n",
      "Epoch 71/100\n",
      "2/2 [==============================] - 0s 3ms/step - loss: 10.0468 - mae: 10.0468\n",
      "Epoch 72/100\n",
      "2/2 [==============================] - 0s 3ms/step - loss: 10.0659 - mae: 10.0659\n",
      "Epoch 73/100\n",
      "2/2 [==============================] - 0s 3ms/step - loss: 12.6051 - mae: 12.6051\n",
      "Epoch 74/100\n",
      "2/2 [==============================] - 0s 3ms/step - loss: 10.4532 - mae: 10.4532\n",
      "Epoch 75/100\n",
      "2/2 [==============================] - 0s 3ms/step - loss: 9.7335 - mae: 9.7335\n",
      "Epoch 76/100\n",
      "2/2 [==============================] - 0s 3ms/step - loss: 11.2293 - mae: 11.2293\n",
      "Epoch 77/100\n",
      "2/2 [==============================] - 0s 3ms/step - loss: 8.3747 - mae: 8.3747\n",
      "Epoch 78/100\n",
      "2/2 [==============================] - 0s 3ms/step - loss: 9.1250 - mae: 9.1250\n",
      "Epoch 79/100\n",
      "2/2 [==============================] - 0s 3ms/step - loss: 19.5841 - mae: 19.5841\n",
      "Epoch 80/100\n",
      "2/2 [==============================] - 0s 4ms/step - loss: 14.8644 - mae: 14.8644\n",
      "Epoch 81/100\n",
      "2/2 [==============================] - 0s 3ms/step - loss: 9.0805 - mae: 9.0805\n",
      "Epoch 82/100\n",
      "2/2 [==============================] - 0s 3ms/step - loss: 13.0017 - mae: 13.0017\n",
      "Epoch 83/100\n",
      "2/2 [==============================] - 0s 3ms/step - loss: 7.9339 - mae: 7.9339\n",
      "Epoch 84/100\n",
      "2/2 [==============================] - 0s 3ms/step - loss: 7.7313 - mae: 7.7313\n",
      "Epoch 85/100\n",
      "2/2 [==============================] - 0s 3ms/step - loss: 10.0906 - mae: 10.0906\n",
      "Epoch 86/100\n",
      "2/2 [==============================] - 0s 3ms/step - loss: 9.2918 - mae: 9.2918\n",
      "Epoch 87/100\n",
      "2/2 [==============================] - 0s 3ms/step - loss: 12.0789 - mae: 12.0789\n",
      "Epoch 88/100\n",
      "2/2 [==============================] - 0s 3ms/step - loss: 10.7015 - mae: 10.7015\n",
      "Epoch 89/100\n",
      "2/2 [==============================] - 0s 3ms/step - loss: 7.3022 - mae: 7.3022\n",
      "Epoch 90/100\n",
      "2/2 [==============================] - 0s 3ms/step - loss: 12.8449 - mae: 12.8449\n",
      "Epoch 91/100\n",
      "2/2 [==============================] - 0s 3ms/step - loss: 7.5192 - mae: 7.5192\n",
      "Epoch 92/100\n",
      "2/2 [==============================] - 0s 3ms/step - loss: 6.7841 - mae: 6.7841\n",
      "Epoch 93/100\n",
      "2/2 [==============================] - 0s 3ms/step - loss: 11.9950 - mae: 11.9950\n",
      "Epoch 94/100\n",
      "2/2 [==============================] - 0s 3ms/step - loss: 8.9252 - mae: 8.9252\n",
      "Epoch 95/100\n",
      "2/2 [==============================] - 0s 3ms/step - loss: 7.7629 - mae: 7.7629\n",
      "Epoch 96/100\n",
      "2/2 [==============================] - 0s 3ms/step - loss: 6.7856 - mae: 6.7856\n",
      "Epoch 97/100\n",
      "2/2 [==============================] - 0s 3ms/step - loss: 8.6800 - mae: 8.6800\n",
      "Epoch 98/100\n",
      "2/2 [==============================] - 0s 2ms/step - loss: 9.4158 - mae: 9.4158\n",
      "Epoch 99/100\n",
      "2/2 [==============================] - 0s 3ms/step - loss: 9.1526 - mae: 9.1526\n",
      "Epoch 100/100\n",
      "2/2 [==============================] - 0s 3ms/step - loss: 10.5057 - mae: 10.5057\n"
     ]
    },
    {
     "data": {
      "text/plain": [
       "<keras.src.callbacks.History at 0x7f3788330c10>"
      ]
     },
     "execution_count": 48,
     "metadata": {},
     "output_type": "execute_result"
    }
   ],
   "source": [
    "tf.random.set_seed(42)\n",
    "\n",
    "\n",
    "model_1=tf.keras.Sequential([\n",
    "    tf.keras.layers.Dense(1)\n",
    "])\n",
    "\n",
    "model_1.compile(loss=tf.keras.losses.mae,\n",
    "                optimizer=tf.keras.optimizers.SGD(),\n",
    "                metrics=[\"mae\"])\n",
    "\n",
    "\n",
    "model_1.fit(tf.expand_dims(X_train,axis=-1), y_train, epochs=100)"
   ]
  },
  {
   "cell_type": "code",
   "execution_count": 49,
   "id": "ac5cbe3f-970e-4461-a93f-6d76a994d103",
   "metadata": {},
   "outputs": [
    {
     "name": "stdout",
     "output_type": "stream",
     "text": [
      "WARNING:tensorflow:5 out of the last 6 calls to <function Model.make_predict_function.<locals>.predict_function at 0x7f3788315da0> triggered tf.function retracing. Tracing is expensive and the excessive number of tracings could be due to (1) creating @tf.function repeatedly in a loop, (2) passing tensors with different shapes, (3) passing Python objects instead of tensors. For (1), please define your @tf.function outside of the loop. For (2), @tf.function has reduce_retracing=True option that can avoid unnecessary retracing. For (3), please refer to https://www.tensorflow.org/guide/function#controlling_retracing and https://www.tensorflow.org/api_docs/python/tf/function for  more details.\n",
      "1/1 [==============================] - 0s 26ms/step\n"
     ]
    },
    {
     "data": {
      "image/png": "[encoded data removed]",
      "text/plain": [
       "<Figure size 1000x700 with 1 Axes>"
      ]
     },
     "metadata": {},
     "output_type": "display_data"
    }
   ],
   "source": [
    "y_pred_1 = model_1.predict(X_test)\n",
    "plot_predictions(predictions=y_pred_1)"
   ]
  },
  {
   "cell_type": "code",
   "execution_count": 54,
   "id": "a1ece191-6084-4368-9865-5047e86e46d1",
   "metadata": {},
   "outputs": [
    {
     "data": {
      "text/plain": [
       "(<tf.Tensor: shape=(), dtype=float32, numpy=15.046153>,\n",
       " <tf.Tensor: shape=(), dtype=float32, numpy=227.24765>)"
      ]
     },
     "execution_count": 54,
     "metadata": {},
     "output_type": "execute_result"
    }
   ],
   "source": [
    "mae_1 = mae(y_test, y_pred_1)\n",
    "mse_1 = mse(y_test, y_pred_1)\n",
    "mae_1, mse_1"
   ]
  },
  {
   "cell_type": "code",
   "execution_count": 59,
   "id": "2e280c31-a0bd-42de-ae6b-250aa5843f3b",
   "metadata": {},
   "outputs": [
    {
     "name": "stdout",
     "output_type": "stream",
     "text": [
      "Epoch 1/100\n",
      "2/2 [==============================] - 0s 5ms/step - loss: 31.7961 - mse: 1483.7692\n",
      "Epoch 2/100\n",
      "2/2 [==============================] - 0s 3ms/step - loss: 21.3252 - mse: 580.4666\n",
      "Epoch 3/100\n",
      "2/2 [==============================] - 0s 3ms/step - loss: 27.6318 - mse: 1107.8430\n",
      "Epoch 4/100\n",
      "2/2 [==============================] - 0s 3ms/step - loss: 23.1187 - mse: 770.3525\n",
      "Epoch 5/100\n",
      "2/2 [==============================] - 0s 3ms/step - loss: 13.8045 - mse: 231.5266\n",
      "Epoch 6/100\n",
      "2/2 [==============================] - 0s 3ms/step - loss: 11.0576 - mse: 135.4850\n",
      "Epoch 7/100\n",
      "2/2 [==============================] - 0s 3ms/step - loss: 12.0343 - mse: 182.5763\n",
      "Epoch 8/100\n",
      "2/2 [==============================] - 0s 4ms/step - loss: 10.8194 - mse: 132.2182\n",
      "Epoch 9/100\n",
      "2/2 [==============================] - 0s 4ms/step - loss: 37.3448 - mse: 2146.1904\n",
      "Epoch 10/100\n",
      "2/2 [==============================] - 0s 4ms/step - loss: 25.0368 - mse: 878.9881\n",
      "Epoch 11/100\n",
      "2/2 [==============================] - 0s 3ms/step - loss: 10.2315 - mse: 145.7255\n",
      "Epoch 12/100\n",
      "2/2 [==============================] - 0s 3ms/step - loss: 25.4175 - mse: 898.8888\n",
      "Epoch 13/100\n",
      "2/2 [==============================] - 0s 3ms/step - loss: 16.7338 - mse: 385.4808\n",
      "Epoch 14/100\n",
      "2/2 [==============================] - 0s 3ms/step - loss: 25.4699 - mse: 1009.2198\n",
      "Epoch 15/100\n",
      "2/2 [==============================] - 0s 3ms/step - loss: 17.3870 - mse: 417.8966\n",
      "Epoch 16/100\n",
      "2/2 [==============================] - 0s 3ms/step - loss: 9.9806 - mse: 124.4909\n",
      "Epoch 17/100\n",
      "2/2 [==============================] - 0s 3ms/step - loss: 18.4277 - mse: 453.3186\n",
      "Epoch 18/100\n",
      "2/2 [==============================] - 0s 3ms/step - loss: 11.3042 - mse: 196.2422\n",
      "Epoch 19/100\n",
      "2/2 [==============================] - 0s 3ms/step - loss: 13.8644 - mse: 298.9722\n",
      "Epoch 20/100\n",
      "2/2 [==============================] - 0s 3ms/step - loss: 11.1561 - mse: 145.7619\n",
      "Epoch 21/100\n",
      "2/2 [==============================] - 0s 3ms/step - loss: 17.1859 - mse: 417.6781\n",
      "Epoch 22/100\n",
      "2/2 [==============================] - 0s 3ms/step - loss: 15.4239 - mse: 327.5449\n",
      "Epoch 23/100\n",
      "2/2 [==============================] - 0s 3ms/step - loss: 9.2304 - mse: 118.2731\n",
      "Epoch 24/100\n",
      "2/2 [==============================] - 0s 4ms/step - loss: 17.2863 - mse: 409.8820\n",
      "Epoch 25/100\n",
      "2/2 [==============================] - 0s 4ms/step - loss: 15.9483 - mse: 334.4282\n",
      "Epoch 26/100\n",
      "2/2 [==============================] - 0s 3ms/step - loss: 20.9650 - mse: 650.9615\n",
      "Epoch 27/100\n",
      "2/2 [==============================] - 0s 3ms/step - loss: 25.8824 - mse: 1044.3435\n",
      "Epoch 28/100\n",
      "2/2 [==============================] - 0s 3ms/step - loss: 18.3897 - mse: 535.0648\n",
      "Epoch 29/100\n",
      "2/2 [==============================] - 0s 3ms/step - loss: 9.2255 - mse: 97.6930\n",
      "Epoch 30/100\n",
      "2/2 [==============================] - 0s 3ms/step - loss: 29.0130 - mse: 1501.5660\n",
      "Epoch 31/100\n",
      "2/2 [==============================] - 0s 3ms/step - loss: 52.5382 - mse: 4934.1631\n",
      "Epoch 32/100\n",
      "2/2 [==============================] - 0s 3ms/step - loss: 11.8825 - mse: 204.7997\n",
      "Epoch 33/100\n",
      "2/2 [==============================] - 0s 3ms/step - loss: 15.4650 - mse: 329.5098\n",
      "Epoch 34/100\n",
      "2/2 [==============================] - 0s 3ms/step - loss: 12.5670 - mse: 208.0307\n",
      "Epoch 35/100\n",
      "2/2 [==============================] - 0s 3ms/step - loss: 9.1765 - mse: 91.1482\n",
      "Epoch 36/100\n",
      "2/2 [==============================] - 0s 3ms/step - loss: 16.4551 - mse: 393.6130\n",
      "Epoch 37/100\n",
      "2/2 [==============================] - 0s 3ms/step - loss: 11.0785 - mse: 191.9539\n",
      "Epoch 38/100\n",
      "2/2 [==============================] - 0s 3ms/step - loss: 18.2085 - mse: 436.9574\n",
      "Epoch 39/100\n",
      "2/2 [==============================] - 0s 3ms/step - loss: 19.1391 - mse: 533.5768\n",
      "Epoch 40/100\n",
      "2/2 [==============================] - 0s 4ms/step - loss: 20.5042 - mse: 614.2511\n",
      "Epoch 41/100\n",
      "2/2 [==============================] - 0s 4ms/step - loss: 14.7980 - mse: 274.2968\n",
      "Epoch 42/100\n",
      "2/2 [==============================] - 0s 3ms/step - loss: 12.1960 - mse: 182.3762\n",
      "Epoch 43/100\n",
      "2/2 [==============================] - 0s 3ms/step - loss: 10.6830 - mse: 163.4577\n",
      "Epoch 44/100\n",
      "2/2 [==============================] - 0s 3ms/step - loss: 32.3295 - mse: 1719.3840\n",
      "Epoch 45/100\n",
      "2/2 [==============================] - 0s 3ms/step - loss: 12.4683 - mse: 202.3630\n",
      "Epoch 46/100\n",
      "2/2 [==============================] - 0s 3ms/step - loss: 17.5665 - mse: 462.4485\n",
      "Epoch 47/100\n",
      "2/2 [==============================] - 0s 3ms/step - loss: 15.7268 - mse: 338.2486\n",
      "Epoch 48/100\n",
      "2/2 [==============================] - 0s 4ms/step - loss: 8.3504 - mse: 112.3774\n",
      "Epoch 49/100\n",
      "2/2 [==============================] - 0s 3ms/step - loss: 13.9526 - mse: 268.1983\n",
      "Epoch 50/100\n",
      "2/2 [==============================] - 0s 3ms/step - loss: 12.8007 - mse: 214.5070\n",
      "Epoch 51/100\n",
      "2/2 [==============================] - 0s 3ms/step - loss: 14.8134 - mse: 308.2629\n",
      "Epoch 52/100\n",
      "2/2 [==============================] - 0s 3ms/step - loss: 18.7007 - mse: 527.6942\n",
      "Epoch 53/100\n",
      "2/2 [==============================] - 0s 3ms/step - loss: 24.1325 - mse: 826.2865\n",
      "Epoch 54/100\n",
      "2/2 [==============================] - 0s 3ms/step - loss: 23.2590 - mse: 811.0098\n",
      "Epoch 55/100\n",
      "2/2 [==============================] - 0s 4ms/step - loss: 24.1236 - mse: 876.1439\n",
      "Epoch 56/100\n",
      "2/2 [==============================] - 0s 3ms/step - loss: 11.1752 - mse: 170.7601\n",
      "Epoch 57/100\n",
      "2/2 [==============================] - 0s 3ms/step - loss: 13.1446 - mse: 215.6919\n",
      "Epoch 58/100\n",
      "2/2 [==============================] - 0s 4ms/step - loss: 9.8224 - mse: 106.5417\n",
      "Epoch 59/100\n",
      "2/2 [==============================] - 0s 3ms/step - loss: 13.3478 - mse: 252.2213\n",
      "Epoch 60/100\n",
      "2/2 [==============================] - 0s 4ms/step - loss: 10.8882 - mse: 140.2571\n",
      "Epoch 61/100\n",
      "2/2 [==============================] - 0s 3ms/step - loss: 13.5108 - mse: 244.3007\n",
      "Epoch 62/100\n",
      "2/2 [==============================] - 0s 3ms/step - loss: 17.8267 - mse: 483.7923\n",
      "Epoch 63/100\n",
      "2/2 [==============================] - 0s 3ms/step - loss: 8.7061 - mse: 91.8458\n",
      "Epoch 64/100\n",
      "2/2 [==============================] - 0s 3ms/step - loss: 16.0964 - mse: 371.5264\n",
      "Epoch 65/100\n",
      "2/2 [==============================] - 0s 3ms/step - loss: 10.7133 - mse: 145.6779\n",
      "Epoch 66/100\n",
      "2/2 [==============================] - 0s 3ms/step - loss: 22.1573 - mse: 727.2360\n",
      "Epoch 67/100\n",
      "2/2 [==============================] - 0s 3ms/step - loss: 10.2390 - mse: 120.6198\n",
      "Epoch 68/100\n",
      "2/2 [==============================] - 0s 4ms/step - loss: 13.4492 - mse: 268.4975\n",
      "Epoch 69/100\n",
      "2/2 [==============================] - 0s 3ms/step - loss: 11.4087 - mse: 162.6877\n",
      "Epoch 70/100\n",
      "2/2 [==============================] - 0s 3ms/step - loss: 13.5942 - mse: 245.4492\n",
      "Epoch 71/100\n",
      "2/2 [==============================] - 0s 3ms/step - loss: 15.6235 - mse: 346.9995\n",
      "Epoch 72/100\n",
      "2/2 [==============================] - 0s 3ms/step - loss: 11.8365 - mse: 168.3213\n",
      "Epoch 73/100\n",
      "2/2 [==============================] - 0s 3ms/step - loss: 16.6323 - mse: 373.0211\n",
      "Epoch 74/100\n",
      "2/2 [==============================] - 0s 3ms/step - loss: 24.1947 - mse: 921.4532\n",
      "Epoch 75/100\n",
      "2/2 [==============================] - 0s 3ms/step - loss: 9.6238 - mse: 148.5378\n",
      "Epoch 76/100\n",
      "2/2 [==============================] - 0s 3ms/step - loss: 12.4800 - mse: 190.0820\n",
      "Epoch 77/100\n",
      "2/2 [==============================] - 0s 3ms/step - loss: 16.7625 - mse: 436.1255\n",
      "Epoch 78/100\n",
      "2/2 [==============================] - 0s 3ms/step - loss: 9.0700 - mse: 96.7089\n",
      "Epoch 79/100\n",
      "2/2 [==============================] - 0s 3ms/step - loss: 24.1166 - mse: 876.3322\n",
      "Epoch 80/100\n",
      "2/2 [==============================] - 0s 3ms/step - loss: 26.9260 - mse: 1120.8643\n",
      "Epoch 81/100\n",
      "2/2 [==============================] - 0s 3ms/step - loss: 11.7486 - mse: 174.3937\n",
      "Epoch 82/100\n",
      "2/2 [==============================] - 0s 3ms/step - loss: 11.9698 - mse: 210.9616\n",
      "Epoch 83/100\n",
      "2/2 [==============================] - 0s 3ms/step - loss: 17.3468 - mse: 392.0457\n",
      "Epoch 84/100\n",
      "2/2 [==============================] - 0s 4ms/step - loss: 6.8285 - mse: 63.5463\n",
      "Epoch 85/100\n",
      "2/2 [==============================] - 0s 3ms/step - loss: 16.0088 - mse: 361.3416\n",
      "Epoch 86/100\n",
      "2/2 [==============================] - 0s 3ms/step - loss: 15.8525 - mse: 334.7925\n",
      "Epoch 87/100\n",
      "2/2 [==============================] - 0s 3ms/step - loss: 20.3170 - mse: 578.0717\n",
      "Epoch 88/100\n",
      "2/2 [==============================] - 0s 3ms/step - loss: 34.0935 - mse: 1706.4011\n",
      "Epoch 89/100\n",
      "2/2 [==============================] - 0s 3ms/step - loss: 10.6191 - mse: 131.8933\n",
      "Epoch 90/100\n",
      "2/2 [==============================] - 0s 3ms/step - loss: 23.5709 - mse: 803.8812\n",
      "Epoch 91/100\n",
      "2/2 [==============================] - 0s 3ms/step - loss: 11.1278 - mse: 159.8940\n",
      "Epoch 92/100\n",
      "2/2 [==============================] - 0s 4ms/step - loss: 20.4343 - mse: 578.0568\n",
      "Epoch 93/100\n",
      "2/2 [==============================] - 0s 3ms/step - loss: 6.7938 - mse: 67.0721\n",
      "Epoch 94/100\n",
      "2/2 [==============================] - 0s 3ms/step - loss: 12.9933 - mse: 229.6416\n",
      "Epoch 95/100\n",
      "2/2 [==============================] - 0s 3ms/step - loss: 18.3941 - mse: 498.9778\n",
      "Epoch 96/100\n",
      "2/2 [==============================] - 0s 3ms/step - loss: 10.3316 - mse: 178.1012\n",
      "Epoch 97/100\n",
      "2/2 [==============================] - 0s 3ms/step - loss: 14.4155 - mse: 314.1528\n",
      "Epoch 98/100\n",
      "2/2 [==============================] - 0s 3ms/step - loss: 6.5580 - mse: 60.1733\n",
      "Epoch 99/100\n",
      "2/2 [==============================] - 0s 3ms/step - loss: 12.5834 - mse: 229.0811\n",
      "Epoch 100/100\n",
      "2/2 [==============================] - 0s 4ms/step - loss: 19.3958 - mse: 552.6717\n"
     ]
    },
    {
     "data": {
      "text/plain": [
       "<keras.src.callbacks.History at 0x7f377ee4f590>"
      ]
     },
     "execution_count": 59,
     "metadata": {},
     "output_type": "execute_result"
    }
   ],
   "source": [
    "# Model 2\n",
    "\n",
    "tf.random.set_seed(42)\n",
    "\n",
    "\n",
    "model_2 = tf.keras.Sequential([\n",
    "    tf.keras.layers.Dense(10),\n",
    "    tf.keras.layers.Dense(1)\n",
    "])\n",
    "\n",
    "model_2.compile(loss=tf.keras.losses.mae,\n",
    "                optimizer=tf.keras.optimizers.SGD(),\n",
    "                metrics=[\"mse\"])\n",
    "\n",
    "model_2.fit(tf.expand_dims(X_train, axis=-1), y_train, epochs=100)"
   ]
  },
  {
   "cell_type": "code",
   "execution_count": 60,
   "id": "9e869051-671b-4339-a104-d9b679bd73af",
   "metadata": {},
   "outputs": [
    {
     "name": "stdout",
     "output_type": "stream",
     "text": [
      "1/1 [==============================] - 0s 43ms/step\n"
     ]
    },
    {
     "data": {
      "image/png": "[encoded data removed]",
      "text/plain": [
       "<Figure size 1000x700 with 1 Axes>"
      ]
     },
     "metadata": {},
     "output_type": "display_data"
    }
   ],
   "source": [
    "y_pred_2 = model_2.predict(X_test)\n",
    "plot_predictions(predictions=y_pred_2)"
   ]
  },
  {
   "cell_type": "code",
   "execution_count": 61,
   "id": "fb42b61d-cd66-4ccf-a78b-fe456b3bea06",
   "metadata": {},
   "outputs": [
    {
     "data": {
      "text/plain": [
       "(<tf.Tensor: shape=(), dtype=float32, numpy=13.392023>,\n",
       " <tf.Tensor: shape=(), dtype=float32, numpy=189.4512>)"
      ]
     },
     "execution_count": 61,
     "metadata": {},
     "output_type": "execute_result"
    }
   ],
   "source": [
    "mae_2 = mae(y_test, y_pred_2)\n",
    "mse_2 = mse(y_test, y_pred_2)\n",
    "\n",
    "mae_2, mse_2"
   ]
  },
  {
   "cell_type": "code",
   "execution_count": 103,
   "id": "954cc157-2fac-46c8-96f5-18928ed72482",
   "metadata": {},
   "outputs": [
    {
     "name": "stdout",
     "output_type": "stream",
     "text": [
      "Epoch 1/40\n",
      "2/2 [==============================] - 1s 5ms/step - loss: 58.8408 - mse: 4883.1592\n",
      "Epoch 2/40\n",
      "2/2 [==============================] - 0s 4ms/step - loss: 15.2384 - mse: 386.9274\n",
      "Epoch 3/40\n",
      "2/2 [==============================] - 0s 4ms/step - loss: 26.5266 - mse: 975.0791\n",
      "Epoch 4/40\n",
      "2/2 [==============================] - 0s 4ms/step - loss: 8.0661 - mse: 69.8828\n",
      "Epoch 5/40\n",
      "2/2 [==============================] - 0s 4ms/step - loss: 9.6608 - mse: 105.3085\n",
      "Epoch 6/40\n",
      "2/2 [==============================] - 0s 4ms/step - loss: 8.3287 - mse: 91.7893\n",
      "Epoch 7/40\n",
      "2/2 [==============================] - 0s 4ms/step - loss: 6.5424 - mse: 52.3716\n",
      "Epoch 8/40\n",
      "2/2 [==============================] - 0s 4ms/step - loss: 6.1282 - mse: 51.6480\n",
      "Epoch 9/40\n",
      "2/2 [==============================] - 0s 3ms/step - loss: 7.7087 - mse: 82.3841\n",
      "Epoch 10/40\n",
      "2/2 [==============================] - 0s 3ms/step - loss: 13.2473 - mse: 248.2838\n",
      "Epoch 11/40\n",
      "2/2 [==============================] - 0s 3ms/step - loss: 6.6535 - mse: 83.8159\n",
      "Epoch 12/40\n",
      "2/2 [==============================] - 0s 3ms/step - loss: 15.0644 - mse: 322.6015\n",
      "Epoch 13/40\n",
      "2/2 [==============================] - 0s 3ms/step - loss: 4.5995 - mse: 101.3546\n",
      "Epoch 14/40\n",
      "2/2 [==============================] - 0s 3ms/step - loss: 14.6227 - mse: 308.9620\n",
      "Epoch 15/40\n",
      "2/2 [==============================] - 0s 3ms/step - loss: 4.3195 - mse: 30.9607\n",
      "Epoch 16/40\n",
      "2/2 [==============================] - 0s 3ms/step - loss: 8.5204 - mse: 102.0760\n",
      "Epoch 17/40\n",
      "2/2 [==============================] - 0s 4ms/step - loss: 2.8261 - mse: 12.2207\n",
      "Epoch 18/40\n",
      "2/2 [==============================] - 0s 3ms/step - loss: 1.9953 - mse: 15.6318\n",
      "Epoch 19/40\n",
      "2/2 [==============================] - 0s 4ms/step - loss: 9.1041 - mse: 114.6667\n",
      "Epoch 20/40\n",
      "2/2 [==============================] - 0s 3ms/step - loss: 3.9205 - mse: 21.8505\n",
      "Epoch 21/40\n",
      "2/2 [==============================] - 0s 4ms/step - loss: 4.8736 - mse: 35.4976\n",
      "Epoch 22/40\n",
      "2/2 [==============================] - 0s 4ms/step - loss: 3.5175 - mse: 17.0235\n",
      "Epoch 23/40\n",
      "2/2 [==============================] - 0s 3ms/step - loss: 3.4714 - mse: 16.1257\n",
      "Epoch 24/40\n",
      "2/2 [==============================] - 0s 3ms/step - loss: 3.0304 - mse: 13.7743\n",
      "Epoch 25/40\n",
      "2/2 [==============================] - 0s 3ms/step - loss: 5.2525 - mse: 40.8035\n",
      "Epoch 26/40\n",
      "2/2 [==============================] - 0s 3ms/step - loss: 3.9895 - mse: 26.5787\n",
      "Epoch 27/40\n",
      "2/2 [==============================] - 0s 3ms/step - loss: 3.4228 - mse: 15.8469\n",
      "Epoch 28/40\n",
      "2/2 [==============================] - 0s 3ms/step - loss: 3.1959 - mse: 14.5802\n",
      "Epoch 29/40\n",
      "2/2 [==============================] - 0s 4ms/step - loss: 2.4792 - mse: 8.4168\n",
      "Epoch 30/40\n",
      "2/2 [==============================] - 0s 3ms/step - loss: 1.4443 - mse: 4.9273\n",
      "Epoch 31/40\n",
      "2/2 [==============================] - 0s 4ms/step - loss: 1.5630 - mse: 5.2286\n",
      "Epoch 32/40\n",
      "2/2 [==============================] - 0s 3ms/step - loss: 5.4917 - mse: 43.4753\n",
      "Epoch 33/40\n",
      "2/2 [==============================] - 0s 4ms/step - loss: 2.4156 - mse: 9.1510\n",
      "Epoch 34/40\n",
      "2/2 [==============================] - 0s 4ms/step - loss: 2.2874 - mse: 7.6016\n",
      "Epoch 35/40\n",
      "2/2 [==============================] - 0s 4ms/step - loss: 3.8065 - mse: 21.1545\n",
      "Epoch 36/40\n",
      "2/2 [==============================] - 0s 3ms/step - loss: 3.2470 - mse: 15.3567\n",
      "Epoch 37/40\n",
      "2/2 [==============================] - 0s 3ms/step - loss: 3.0388 - mse: 15.6820\n",
      "Epoch 38/40\n",
      "2/2 [==============================] - 0s 3ms/step - loss: 4.5408 - mse: 28.3751\n",
      "Epoch 39/40\n",
      "2/2 [==============================] - 0s 3ms/step - loss: 2.0465 - mse: 7.9979\n",
      "Epoch 40/40\n",
      "2/2 [==============================] - 0s 4ms/step - loss: 7.0419 - mse: 67.5793\n"
     ]
    },
    {
     "data": {
      "text/plain": [
       "<keras.src.callbacks.History at 0x7f377e93a410>"
      ]
     },
     "execution_count": 103,
     "metadata": {},
     "output_type": "execute_result"
    }
   ],
   "source": [
    "# Model 3\n",
    "\n",
    "tf.random.set_seed(42)\n",
    "\n",
    "\n",
    "model_3 = tf.keras.Sequential([\n",
    "    tf.keras.layers.Dense(20),\n",
    "    tf.keras.layers.Dense(10),\n",
    "    tf.keras.layers.Dense(1)\n",
    "])\n",
    "\n",
    "model_3.compile(loss=tf.keras.losses.mae,\n",
    "                optimizer=tf.keras.optimizers.Adam(learning_rate=0.1),\n",
    "                metrics=[\"mse\"]\n",
    "               )\n",
    "\n",
    "model_3.fit(tf.expand_dims(X_train, axis=-1), y_train, epochs=40)\n"
   ]
  },
  {
   "cell_type": "code",
   "execution_count": 104,
   "id": "285dcc01-f9d3-4ee1-9c9b-01b46f7b458f",
   "metadata": {},
   "outputs": [
    {
     "name": "stdout",
     "output_type": "stream",
     "text": [
      "1/1 [==============================] - 0s 53ms/step\n"
     ]
    },
    {
     "data": {
      "image/png": "[encoded data removed]",
      "text/plain": [
       "<Figure size 1000x700 with 1 Axes>"
      ]
     },
     "metadata": {},
     "output_type": "display_data"
    }
   ],
   "source": [
    "y_pred_3 = model_3.predict(y_test)\n",
    "plot_predictions(predictions=y_pred_3)"
   ]
  },
  {
   "cell_type": "code",
   "execution_count": 105,
   "id": "94d0619c-f019-4ed8-a8d8-3d52d16e4d05",
   "metadata": {},
   "outputs": [
    {
     "data": {
      "text/plain": [
       "(array([[ 73.32782],\n",
       "        [ 77.0082 ],\n",
       "        [ 80.6886 ],\n",
       "        [ 84.36898],\n",
       "        [ 88.04937],\n",
       "        [ 91.72976],\n",
       "        [ 95.41014],\n",
       "        [ 99.09053],\n",
       "        [102.77092],\n",
       "        [106.4513 ]], dtype=float32),\n",
       " <tf.Tensor: shape=(10,), dtype=int32, numpy=array([ 70,  74,  78,  82,  86,  90,  94,  98, 102, 106], dtype=int32)>)"
      ]
     },
     "execution_count": 105,
     "metadata": {},
     "output_type": "execute_result"
    }
   ],
   "source": [
    "y_pred_3, y_test"
   ]
  },
  {
   "cell_type": "code",
   "execution_count": null,
   "id": "d0a7219b-90e8-4e68-b5a6-71fcc955b5d1",
   "metadata": {},
   "outputs": [],
   "source": []
  }
 ],
 "metadata": {
  "kernelspec": {
   "display_name": "Python 3 (ipykernel)",
   "language": "python",
   "name": "python3"
  },
  "language_info": {
   "codemirror_mode": {
    "name": "ipython",
    "version": 3
   },
   "file_extension": ".py",
   "mimetype": "text/x-python",
   "name": "python",
   "nbconvert_exporter": "python",
   "pygments_lexer": "ipython3",
   "version": "3.11.0rc1"
  }
 },
 "nbformat": 4,
 "nbformat_minor": 5
}
