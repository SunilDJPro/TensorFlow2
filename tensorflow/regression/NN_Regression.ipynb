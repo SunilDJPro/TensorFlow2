{
 "cells": [
  {
   "cell_type": "markdown",
   "id": "bbde1e4e-8d54-490b-be07-70f9eda02653",
   "metadata": {},
   "source": [
    "# Intro to regression with neural network\n"
   ]
  },
  {
   "cell_type": "code",
   "execution_count": 1,
   "id": "20f105d4-bf27-4d95-b6fe-08e093b93d9c",
   "metadata": {},
   "outputs": [
    {
     "name": "stderr",
     "output_type": "stream",
     "text": [
      "2024-02-12 06:40:57.761004: E external/local_xla/xla/stream_executor/cuda/cuda_dnn.cc:9261] Unable to register cuDNN factory: Attempting to register factory for plugin cuDNN when one has already been registered\n",
      "2024-02-12 06:40:57.761065: E external/local_xla/xla/stream_executor/cuda/cuda_fft.cc:607] Unable to register cuFFT factory: Attempting to register factory for plugin cuFFT when one has already been registered\n",
      "2024-02-12 06:40:57.816992: E external/local_xla/xla/stream_executor/cuda/cuda_blas.cc:1515] Unable to register cuBLAS factory: Attempting to register factory for plugin cuBLAS when one has already been registered\n",
      "2024-02-12 06:40:57.929046: I tensorflow/core/platform/cpu_feature_guard.cc:182] This TensorFlow binary is optimized to use available CPU instructions in performance-critical operations.\n",
      "To enable the following instructions: AVX2 FMA, in other operations, rebuild TensorFlow with the appropriate compiler flags.\n"
     ]
    },
    {
     "name": "stdout",
     "output_type": "stream",
     "text": [
      "2.15.0\n"
     ]
    }
   ],
   "source": [
    "import tensorflow as tf\n",
    "print(tf.__version__)\n",
    "config = tf.compat.v1.ConfigProto()\n",
    "config.gpu_options.allow_growth = True"
   ]
  },
  {
   "cell_type": "code",
   "execution_count": 2,
   "id": "b2edaf0d-0dc0-41fa-a0f5-e35d9a55a6b0",
   "metadata": {},
   "outputs": [
    {
     "name": "stderr",
     "output_type": "stream",
     "text": [
      "2024-02-12 06:41:00.215190: I external/local_xla/xla/stream_executor/cuda/cuda_executor.cc:901] successful NUMA node read from SysFS had negative value (-1), but there must be at least one NUMA node, so returning NUMA node zero. See more at https://github.com/torvalds/linux/blob/v6.0/Documentation/ABI/testing/sysfs-bus-pci#L344-L355\n",
      "2024-02-12 06:41:00.294568: I external/local_xla/xla/stream_executor/cuda/cuda_executor.cc:901] successful NUMA node read from SysFS had negative value (-1), but there must be at least one NUMA node, so returning NUMA node zero. See more at https://github.com/torvalds/linux/blob/v6.0/Documentation/ABI/testing/sysfs-bus-pci#L344-L355\n",
      "2024-02-12 06:41:00.294764: I external/local_xla/xla/stream_executor/cuda/cuda_executor.cc:901] successful NUMA node read from SysFS had negative value (-1), but there must be at least one NUMA node, so returning NUMA node zero. See more at https://github.com/torvalds/linux/blob/v6.0/Documentation/ABI/testing/sysfs-bus-pci#L344-L355\n",
      "2024-02-12 06:41:00.385212: I external/local_xla/xla/stream_executor/cuda/cuda_executor.cc:901] successful NUMA node read from SysFS had negative value (-1), but there must be at least one NUMA node, so returning NUMA node zero. See more at https://github.com/torvalds/linux/blob/v6.0/Documentation/ABI/testing/sysfs-bus-pci#L344-L355\n",
      "2024-02-12 06:41:00.385380: I external/local_xla/xla/stream_executor/cuda/cuda_executor.cc:901] successful NUMA node read from SysFS had negative value (-1), but there must be at least one NUMA node, so returning NUMA node zero. See more at https://github.com/torvalds/linux/blob/v6.0/Documentation/ABI/testing/sysfs-bus-pci#L344-L355\n",
      "2024-02-12 06:41:00.385548: I external/local_xla/xla/stream_executor/cuda/cuda_executor.cc:901] successful NUMA node read from SysFS had negative value (-1), but there must be at least one NUMA node, so returning NUMA node zero. See more at https://github.com/torvalds/linux/blob/v6.0/Documentation/ABI/testing/sysfs-bus-pci#L344-L355\n",
      "2024-02-12 06:41:00.385667: I tensorflow/core/common_runtime/gpu/gpu_device.cc:1929] Created device /job:localhost/replica:0/task:0/device:GPU:0 with 6456 MB memory:  -> device: 0, name: NVIDIA GeForce RTX 2060 SUPER, pci bus id: 0000:09:00.0, compute capability: 7.5\n"
     ]
    },
    {
     "data": {
      "text/plain": [
       "<matplotlib.collections.PathCollection at 0x7fbb0046c290>"
      ]
     },
     "execution_count": 2,
     "metadata": {},
     "output_type": "execute_result"
    },
    {
     "data": {
      "image/png": "[encoded data removed]",
      "text/plain": [
       "<Figure size 640x480 with 1 Axes>"
      ]
     },
     "metadata": {},
     "output_type": "display_data"
    }
   ],
   "source": [
    "# Creating the data top view and fit\n",
    "sess = tf.compat.v1.Session(config=config)\n",
    "import numpy as np\n",
    "import matplotlib.pyplot as plt\n",
    "\n",
    "X = np.array([-7.0, -4.0, -1.0, 2.0, 5.0, 8.0, 11.0, 14.0])\n",
    "\n",
    "y = np.array([3.0, 6.0, 9.0, 12.0, 15.0, 18.0, 21.0, 24.0])\n",
    "\n",
    "plt.scatter(X, y)"
   ]
  },
  {
   "cell_type": "code",
   "execution_count": 3,
   "id": "e660128e-f0af-4db2-baab-2b82f3256669",
   "metadata": {},
   "outputs": [
    {
     "data": {
      "text/plain": [
       "array([ True,  True,  True,  True,  True,  True,  True,  True])"
      ]
     },
     "execution_count": 3,
     "metadata": {},
     "output_type": "execute_result"
    }
   ],
   "source": [
    "y == X + 10"
   ]
  },
  {
   "cell_type": "markdown",
   "id": "0bb34f96-de96-4aab-9c77-1171b79c4806",
   "metadata": {},
   "source": [
    "# Inputs and Output Shapes"
   ]
  },
  {
   "cell_type": "code",
   "execution_count": 4,
   "id": "90968722-f111-4fe7-ab8c-49cbe03826e5",
   "metadata": {},
   "outputs": [
    {
     "name": "stderr",
     "output_type": "stream",
     "text": [
      "2024-02-12 06:41:00.848615: I external/local_xla/xla/stream_executor/cuda/cuda_executor.cc:901] successful NUMA node read from SysFS had negative value (-1), but there must be at least one NUMA node, so returning NUMA node zero. See more at https://github.com/torvalds/linux/blob/v6.0/Documentation/ABI/testing/sysfs-bus-pci#L344-L355\n",
      "2024-02-12 06:41:00.848815: I external/local_xla/xla/stream_executor/cuda/cuda_executor.cc:901] successful NUMA node read from SysFS had negative value (-1), but there must be at least one NUMA node, so returning NUMA node zero. See more at https://github.com/torvalds/linux/blob/v6.0/Documentation/ABI/testing/sysfs-bus-pci#L344-L355\n",
      "2024-02-12 06:41:00.848946: I external/local_xla/xla/stream_executor/cuda/cuda_executor.cc:901] successful NUMA node read from SysFS had negative value (-1), but there must be at least one NUMA node, so returning NUMA node zero. See more at https://github.com/torvalds/linux/blob/v6.0/Documentation/ABI/testing/sysfs-bus-pci#L344-L355\n",
      "2024-02-12 06:41:00.849179: I external/local_xla/xla/stream_executor/cuda/cuda_executor.cc:901] successful NUMA node read from SysFS had negative value (-1), but there must be at least one NUMA node, so returning NUMA node zero. See more at https://github.com/torvalds/linux/blob/v6.0/Documentation/ABI/testing/sysfs-bus-pci#L344-L355\n",
      "2024-02-12 06:41:00.849317: I external/local_xla/xla/stream_executor/cuda/cuda_executor.cc:901] successful NUMA node read from SysFS had negative value (-1), but there must be at least one NUMA node, so returning NUMA node zero. See more at https://github.com/torvalds/linux/blob/v6.0/Documentation/ABI/testing/sysfs-bus-pci#L344-L355\n",
      "2024-02-12 06:41:00.849445: I external/local_xla/xla/stream_executor/cuda/cuda_executor.cc:901] successful NUMA node read from SysFS had negative value (-1), but there must be at least one NUMA node, so returning NUMA node zero. See more at https://github.com/torvalds/linux/blob/v6.0/Documentation/ABI/testing/sysfs-bus-pci#L344-L355\n",
      "2024-02-12 06:41:00.849610: I external/local_xla/xla/stream_executor/cuda/cuda_executor.cc:901] successful NUMA node read from SysFS had negative value (-1), but there must be at least one NUMA node, so returning NUMA node zero. See more at https://github.com/torvalds/linux/blob/v6.0/Documentation/ABI/testing/sysfs-bus-pci#L344-L355\n",
      "2024-02-12 06:41:00.849741: I external/local_xla/xla/stream_executor/cuda/cuda_executor.cc:901] successful NUMA node read from SysFS had negative value (-1), but there must be at least one NUMA node, so returning NUMA node zero. See more at https://github.com/torvalds/linux/blob/v6.0/Documentation/ABI/testing/sysfs-bus-pci#L344-L355\n",
      "2024-02-12 06:41:00.849853: I tensorflow/core/common_runtime/gpu/gpu_device.cc:1929] Created device /job:localhost/replica:0/task:0/device:GPU:0 with 6456 MB memory:  -> device: 0, name: NVIDIA GeForce RTX 2060 SUPER, pci bus id: 0000:09:00.0, compute capability: 7.5\n"
     ]
    },
    {
     "data": {
      "text/plain": [
       "(<tf.Tensor: shape=(3,), dtype=string, numpy=array([b'bedroom', b'bathroom', b'garage'], dtype=object)>,\n",
       " <tf.Tensor: shape=(1,), dtype=int32, numpy=array([939700], dtype=int32)>)"
      ]
     },
     "execution_count": 4,
     "metadata": {},
     "output_type": "execute_result"
    }
   ],
   "source": [
    "#Demo\n",
    "house_info = tf.constant([\"bedroom\", \"bathroom\", \"garage\"])\n",
    "house_price = tf.constant([939700])\n",
    "house_info, house_price"
   ]
  },
  {
   "cell_type": "code",
   "execution_count": 5,
   "id": "e1dfe016-57a5-4cf9-b44a-fcca49f2f897",
   "metadata": {},
   "outputs": [
    {
     "data": {
      "text/plain": [
       "((8,), (8,))"
      ]
     },
     "execution_count": 5,
     "metadata": {},
     "output_type": "execute_result"
    }
   ],
   "source": [
    "input_shape = X.shape\n",
    "output_shape = y.shape\n",
    "input_shape, output_shape"
   ]
  },
  {
   "cell_type": "code",
   "execution_count": 6,
   "id": "d3c21e8e-7b74-4378-9432-992479bfb147",
   "metadata": {},
   "outputs": [
    {
     "data": {
      "text/plain": [
       "(-7.0, 3.0)"
      ]
     },
     "execution_count": 6,
     "metadata": {},
     "output_type": "execute_result"
    }
   ],
   "source": [
    "X[0], y[0]"
   ]
  },
  {
   "cell_type": "code",
   "execution_count": 7,
   "id": "8049c90c-1adb-4447-abe9-47c64ce77777",
   "metadata": {},
   "outputs": [
    {
     "data": {
      "text/plain": [
       "0"
      ]
     },
     "execution_count": 7,
     "metadata": {},
     "output_type": "execute_result"
    }
   ],
   "source": [
    "X[0].ndim"
   ]
  },
  {
   "cell_type": "code",
   "execution_count": 8,
   "id": "080b458e-2177-4536-b6ce-b6f79ae77bfa",
   "metadata": {},
   "outputs": [
    {
     "data": {
      "text/plain": [
       "(<tf.Tensor: shape=(8,), dtype=float32, numpy=array([-7., -4., -1.,  2.,  5.,  8., 11., 14.], dtype=float32)>,\n",
       " <tf.Tensor: shape=(8,), dtype=float32, numpy=array([ 3.,  6.,  9., 12., 15., 18., 21., 24.], dtype=float32)>)"
      ]
     },
     "execution_count": 8,
     "metadata": {},
     "output_type": "execute_result"
    }
   ],
   "source": [
    "#Turn our Numpy arrays into Tensors\n",
    "\n",
    "x = tf.cast(tf.constant(X), dtype=tf.float32)\n",
    "y = tf.cast(tf.constant(y), dtype=tf.float32)\n",
    "x, y"
   ]
  },
  {
   "cell_type": "code",
   "execution_count": 9,
   "id": "7d3e4a87-e7fd-449e-8554-0f1d8b3c9a93",
   "metadata": {},
   "outputs": [
    {
     "data": {
      "text/plain": [
       "(TensorShape([]), TensorShape([]))"
      ]
     },
     "execution_count": 9,
     "metadata": {},
     "output_type": "execute_result"
    }
   ],
   "source": [
    "input_shape = x[0].shape\n",
    "output_shape = y[0].shape\n",
    "input_shape, output_shape"
   ]
  },
  {
   "cell_type": "code",
   "execution_count": 10,
   "id": "b4cc478d-0933-448a-8b0a-adae9ba604e1",
   "metadata": {},
   "outputs": [
    {
     "data": {
      "text/plain": [
       "<matplotlib.collections.PathCollection at 0x7fbb00319f10>"
      ]
     },
     "execution_count": 10,
     "metadata": {},
     "output_type": "execute_result"
    },
    {
     "data": {
      "image/png": "[encoded data removed]",
      "text/plain": [
       "<Figure size 640x480 with 1 Axes>"
      ]
     },
     "metadata": {},
     "output_type": "display_data"
    }
   ],
   "source": [
    "plt.scatter(x, y)"
   ]
  },
  {
   "cell_type": "code",
   "execution_count": 11,
   "id": "0122d4f1-6666-406f-96a0-ce1d8f280063",
   "metadata": {},
   "outputs": [
    {
     "name": "stdout",
     "output_type": "stream",
     "text": [
      "Epoch 1/50\n",
      "1/1 [==============================] - 1s 587ms/step - loss: 19.7571 - mae: 19.7571\n",
      "Epoch 2/50\n",
      "1/1 [==============================] - 0s 4ms/step - loss: 19.4758 - mae: 19.4758\n",
      "Epoch 3/50\n",
      "1/1 [==============================] - 0s 4ms/step - loss: 19.1946 - mae: 19.1946\n",
      "Epoch 4/50\n",
      "1/1 [==============================] - 0s 4ms/step - loss: 18.9133 - mae: 18.9133\n",
      "Epoch 5/50\n",
      "1/1 [==============================] - 0s 4ms/step - loss: 18.6321 - mae: 18.6321\n",
      "Epoch 6/50\n",
      "1/1 [==============================] - 0s 3ms/step - loss: 18.3508 - mae: 18.3508\n",
      "Epoch 7/50\n",
      "1/1 [==============================] - 0s 3ms/step - loss: 18.0696 - mae: 18.0696\n",
      "Epoch 8/50\n",
      "1/1 [==============================] - 0s 3ms/step - loss: 17.7883 - mae: 17.7883\n",
      "Epoch 9/50\n",
      "1/1 [==============================] - 0s 3ms/step - loss: 17.5071 - mae: 17.5071\n",
      "Epoch 10/50\n",
      "1/1 [==============================] - 0s 3ms/step - loss: 17.2258 - mae: 17.2258\n",
      "Epoch 11/50\n",
      "1/1 [==============================] - 0s 4ms/step - loss: 16.9446 - mae: 16.9446\n",
      "Epoch 12/50\n",
      "1/1 [==============================] - 0s 3ms/step - loss: 16.6633 - mae: 16.6633\n",
      "Epoch 13/50\n",
      "1/1 [==============================] - 0s 4ms/step - loss: 16.3821 - mae: 16.3821\n",
      "Epoch 14/50\n",
      "1/1 [==============================] - 0s 3ms/step - loss: 16.1008 - mae: 16.1008\n",
      "Epoch 15/50\n",
      "1/1 [==============================] - 0s 3ms/step - loss: 15.8196 - mae: 15.8196\n",
      "Epoch 16/50\n",
      "1/1 [==============================] - 0s 4ms/step - loss: 15.5383 - mae: 15.5383\n",
      "Epoch 17/50\n",
      "1/1 [==============================] - 0s 3ms/step - loss: 15.2571 - mae: 15.2571\n",
      "Epoch 18/50\n",
      "1/1 [==============================] - 0s 4ms/step - loss: 14.9758 - mae: 14.9758\n",
      "Epoch 19/50\n",
      "1/1 [==============================] - 0s 3ms/step - loss: 14.7289 - mae: 14.7289\n",
      "Epoch 20/50\n",
      "1/1 [==============================] - 0s 3ms/step - loss: 14.5964 - mae: 14.5964\n",
      "Epoch 21/50\n",
      "1/1 [==============================] - 0s 3ms/step - loss: 14.4639 - mae: 14.4639\n",
      "Epoch 22/50\n",
      "1/1 [==============================] - 0s 4ms/step - loss: 14.3314 - mae: 14.3314\n",
      "Epoch 23/50\n",
      "1/1 [==============================] - 0s 3ms/step - loss: 14.1989 - mae: 14.1989\n",
      "Epoch 24/50\n",
      "1/1 [==============================] - 0s 4ms/step - loss: 14.0664 - mae: 14.0664\n",
      "Epoch 25/50\n",
      "1/1 [==============================] - 0s 3ms/step - loss: 13.9339 - mae: 13.9339\n",
      "Epoch 26/50\n",
      "1/1 [==============================] - 0s 4ms/step - loss: 13.8014 - mae: 13.8014\n",
      "Epoch 27/50\n",
      "1/1 [==============================] - 0s 3ms/step - loss: 13.6689 - mae: 13.6689\n"
     ]
    },
    {
     "name": "stderr",
     "output_type": "stream",
     "text": [
      "2024-02-12 06:41:02.997073: I external/local_xla/xla/service/service.cc:168] XLA service 0x7fba81df1ee0 initialized for platform CUDA (this does not guarantee that XLA will be used). Devices:\n",
      "2024-02-12 06:41:02.997103: I external/local_xla/xla/service/service.cc:176]   StreamExecutor device (0): NVIDIA GeForce RTX 2060 SUPER, Compute Capability 7.5\n",
      "2024-02-12 06:41:03.020076: I external/local_xla/xla/stream_executor/cuda/cuda_dnn.cc:454] Loaded cuDNN version 8906\n",
      "WARNING: All log messages before absl::InitializeLog() is called are written to STDERR\n",
      "I0000 00:00:1707720063.052729     480 device_compiler.h:186] Compiled cluster using XLA!  This line is logged at most once for the lifetime of the process.\n"
     ]
    },
    {
     "name": "stdout",
     "output_type": "stream",
     "text": [
      "Epoch 28/50\n",
      "1/1 [==============================] - 0s 4ms/step - loss: 13.5364 - mae: 13.5364\n",
      "Epoch 29/50\n",
      "1/1 [==============================] - 0s 4ms/step - loss: 13.4039 - mae: 13.4039\n",
      "Epoch 30/50\n",
      "1/1 [==============================] - 0s 3ms/step - loss: 13.2714 - mae: 13.2714\n",
      "Epoch 31/50\n",
      "1/1 [==============================] - 0s 3ms/step - loss: 13.1389 - mae: 13.1389\n",
      "Epoch 32/50\n",
      "1/1 [==============================] - 0s 3ms/step - loss: 13.0064 - mae: 13.0064\n",
      "Epoch 33/50\n",
      "1/1 [==============================] - 0s 4ms/step - loss: 12.8739 - mae: 12.8739\n",
      "Epoch 34/50\n",
      "1/1 [==============================] - 0s 3ms/step - loss: 12.7414 - mae: 12.7414\n",
      "Epoch 35/50\n",
      "1/1 [==============================] - 0s 3ms/step - loss: 12.6089 - mae: 12.6089\n",
      "Epoch 36/50\n",
      "1/1 [==============================] - 0s 3ms/step - loss: 12.4764 - mae: 12.4764\n",
      "Epoch 37/50\n",
      "1/1 [==============================] - 0s 3ms/step - loss: 12.3439 - mae: 12.3439\n",
      "Epoch 38/50\n",
      "1/1 [==============================] - 0s 3ms/step - loss: 12.2114 - mae: 12.2114\n",
      "Epoch 39/50\n",
      "1/1 [==============================] - 0s 4ms/step - loss: 12.0789 - mae: 12.0789\n",
      "Epoch 40/50\n",
      "1/1 [==============================] - 0s 5ms/step - loss: 11.9464 - mae: 11.9464\n",
      "Epoch 41/50\n",
      "1/1 [==============================] - 0s 3ms/step - loss: 11.8139 - mae: 11.8139\n",
      "Epoch 42/50\n",
      "1/1 [==============================] - 0s 4ms/step - loss: 11.6814 - mae: 11.6814\n",
      "Epoch 43/50\n",
      "1/1 [==============================] - 0s 3ms/step - loss: 11.5489 - mae: 11.5489\n",
      "Epoch 44/50\n",
      "1/1 [==============================] - 0s 3ms/step - loss: 11.4164 - mae: 11.4164\n",
      "Epoch 45/50\n",
      "1/1 [==============================] - 0s 3ms/step - loss: 11.2839 - mae: 11.2839\n",
      "Epoch 46/50\n",
      "1/1 [==============================] - 0s 3ms/step - loss: 11.1514 - mae: 11.1514\n",
      "Epoch 47/50\n",
      "1/1 [==============================] - 0s 3ms/step - loss: 11.0189 - mae: 11.0189\n",
      "Epoch 48/50\n",
      "1/1 [==============================] - 0s 3ms/step - loss: 10.8864 - mae: 10.8864\n",
      "Epoch 49/50\n",
      "1/1 [==============================] - 0s 3ms/step - loss: 10.7539 - mae: 10.7539\n",
      "Epoch 50/50\n",
      "1/1 [==============================] - 0s 4ms/step - loss: 10.6214 - mae: 10.6214\n"
     ]
    },
    {
     "data": {
      "text/plain": [
       "<keras.src.callbacks.History at 0x7fbb003b9890>"
      ]
     },
     "execution_count": 11,
     "metadata": {},
     "output_type": "execute_result"
    }
   ],
   "source": [
    "# Set seed\n",
    "tf.random.set_seed(42)\n",
    "\n",
    "#Sequential API\n",
    "model = tf.keras.Sequential([\n",
    "    tf.keras.layers.Dense(1)\n",
    "    # tf.keras.layers.Dense(1)\n",
    "])\n",
    "\n",
    "#mae - Mean Absolute Error\n",
    "model.compile(loss = tf.keras.losses.mae, \n",
    "              optimizer= tf.keras.optimizers.SGD(),\n",
    "              metrics=[\"mae\"])\n",
    "\n",
    "model.fit(tf.expand_dims(X, axis=-1), y, epochs=50)\n"
   ]
  },
  {
   "cell_type": "code",
   "execution_count": 12,
   "id": "b39621d7-7e7b-4fba-8518-a51ec6dbd129",
   "metadata": {},
   "outputs": [
    {
     "data": {
      "text/plain": [
       "(<tf.Tensor: shape=(8,), dtype=float32, numpy=array([-7., -4., -1.,  2.,  5.,  8., 11., 14.], dtype=float32)>,\n",
       " <tf.Tensor: shape=(8,), dtype=float32, numpy=array([ 3.,  6.,  9., 12., 15., 18., 21., 24.], dtype=float32)>)"
      ]
     },
     "execution_count": 12,
     "metadata": {},
     "output_type": "execute_result"
    }
   ],
   "source": [
    "x, y"
   ]
  },
  {
   "cell_type": "code",
   "execution_count": 13,
   "id": "d81d5e1c-50bd-46f9-9b07-9e50fae8cb34",
   "metadata": {},
   "outputs": [
    {
     "name": "stdout",
     "output_type": "stream",
     "text": [
      "1/1 [==============================] - 0s 62ms/step\n"
     ]
    },
    {
     "data": {
      "text/plain": [
       "array([[12.870395]], dtype=float32)"
      ]
     },
     "execution_count": 13,
     "metadata": {},
     "output_type": "execute_result"
    }
   ],
   "source": [
    "model.predict([17.0])"
   ]
  },
  {
   "cell_type": "code",
   "execution_count": 14,
   "id": "2643b443-7d89-4aec-a5cb-635d73657432",
   "metadata": {},
   "outputs": [
    {
     "name": "stdout",
     "output_type": "stream",
     "text": [
      "1/1 [==============================] - 0s 35ms/step\n"
     ]
    },
    {
     "data": {
      "text/plain": [
       "array([[10.679443]], dtype=float32)"
      ]
     },
     "execution_count": 14,
     "metadata": {},
     "output_type": "execute_result"
    }
   ],
   "source": [
    "y_pred = model.predict([14.0])\n",
    "y_pred"
   ]
  },
  {
   "cell_type": "markdown",
   "id": "a9ea6798-4a20-4398-a30b-c83c6862de4d",
   "metadata": {},
   "source": [
    "# Improving our Model"
   ]
  },
  {
   "cell_type": "code",
   "execution_count": 15,
   "id": "3b04d010-0fa0-4d87-9926-9f731f57e83a",
   "metadata": {},
   "outputs": [
    {
     "name": "stdout",
     "output_type": "stream",
     "text": [
      "Epoch 1/100\n",
      "1/1 [==============================] - 0s 200ms/step - loss: 7.6537 - mae: 7.6537\n",
      "Epoch 2/100\n",
      "1/1 [==============================] - 0s 3ms/step - loss: 7.5212 - mae: 7.5212\n",
      "Epoch 3/100\n",
      "1/1 [==============================] - 0s 3ms/step - loss: 7.4850 - mae: 7.4850\n",
      "Epoch 4/100\n",
      "1/1 [==============================] - 0s 3ms/step - loss: 7.4794 - mae: 7.4794\n",
      "Epoch 5/100\n",
      "1/1 [==============================] - 0s 3ms/step - loss: 7.4738 - mae: 7.4738\n",
      "Epoch 6/100\n",
      "1/1 [==============================] - 0s 3ms/step - loss: 7.4681 - mae: 7.4681\n",
      "Epoch 7/100\n",
      "1/1 [==============================] - 0s 3ms/step - loss: 7.4625 - mae: 7.4625\n",
      "Epoch 8/100\n",
      "1/1 [==============================] - 0s 4ms/step - loss: 7.4569 - mae: 7.4569\n",
      "Epoch 9/100\n",
      "1/1 [==============================] - 0s 3ms/step - loss: 7.4513 - mae: 7.4513\n",
      "Epoch 10/100\n",
      "1/1 [==============================] - 0s 3ms/step - loss: 7.4456 - mae: 7.4456\n",
      "Epoch 11/100\n",
      "1/1 [==============================] - 0s 3ms/step - loss: 7.4400 - mae: 7.4400\n",
      "Epoch 12/100\n",
      "1/1 [==============================] - 0s 3ms/step - loss: 7.4344 - mae: 7.4344\n",
      "Epoch 13/100\n",
      "1/1 [==============================] - 0s 3ms/step - loss: 7.4288 - mae: 7.4288\n",
      "Epoch 14/100\n",
      "1/1 [==============================] - 0s 4ms/step - loss: 7.4231 - mae: 7.4231\n",
      "Epoch 15/100\n",
      "1/1 [==============================] - 0s 4ms/step - loss: 7.4175 - mae: 7.4175\n",
      "Epoch 16/100\n",
      "1/1 [==============================] - 0s 4ms/step - loss: 7.4119 - mae: 7.4119\n",
      "Epoch 17/100\n",
      "1/1 [==============================] - 0s 3ms/step - loss: 7.4062 - mae: 7.4062\n",
      "Epoch 18/100\n",
      "1/1 [==============================] - 0s 4ms/step - loss: 7.4006 - mae: 7.4006\n",
      "Epoch 19/100\n",
      "1/1 [==============================] - 0s 4ms/step - loss: 7.3950 - mae: 7.3950\n",
      "Epoch 20/100\n",
      "1/1 [==============================] - 0s 3ms/step - loss: 7.3894 - mae: 7.3894\n",
      "Epoch 21/100\n",
      "1/1 [==============================] - 0s 3ms/step - loss: 7.3837 - mae: 7.3837\n",
      "Epoch 22/100\n",
      "1/1 [==============================] - 0s 3ms/step - loss: 7.3781 - mae: 7.3781\n",
      "Epoch 23/100\n",
      "1/1 [==============================] - 0s 3ms/step - loss: 7.3725 - mae: 7.3725\n",
      "Epoch 24/100\n",
      "1/1 [==============================] - 0s 3ms/step - loss: 7.3669 - mae: 7.3669\n",
      "Epoch 25/100\n",
      "1/1 [==============================] - 0s 3ms/step - loss: 7.3612 - mae: 7.3612\n",
      "Epoch 26/100\n",
      "1/1 [==============================] - 0s 3ms/step - loss: 7.3556 - mae: 7.3556\n",
      "Epoch 27/100\n",
      "1/1 [==============================] - 0s 3ms/step - loss: 7.3500 - mae: 7.3500\n",
      "Epoch 28/100\n",
      "1/1 [==============================] - 0s 3ms/step - loss: 7.3444 - mae: 7.3444\n",
      "Epoch 29/100\n",
      "1/1 [==============================] - 0s 4ms/step - loss: 7.3387 - mae: 7.3387\n",
      "Epoch 30/100\n",
      "1/1 [==============================] - 0s 3ms/step - loss: 7.3331 - mae: 7.3331\n",
      "Epoch 31/100\n",
      "1/1 [==============================] - 0s 3ms/step - loss: 7.3275 - mae: 7.3275\n",
      "Epoch 32/100\n",
      "1/1 [==============================] - 0s 3ms/step - loss: 7.3219 - mae: 7.3219\n",
      "Epoch 33/100\n",
      "1/1 [==============================] - 0s 4ms/step - loss: 7.3162 - mae: 7.3162\n",
      "Epoch 34/100\n",
      "1/1 [==============================] - 0s 3ms/step - loss: 7.3106 - mae: 7.3106\n",
      "Epoch 35/100\n",
      "1/1 [==============================] - 0s 3ms/step - loss: 7.3050 - mae: 7.3050\n",
      "Epoch 36/100\n",
      "1/1 [==============================] - 0s 3ms/step - loss: 7.2994 - mae: 7.2994\n",
      "Epoch 37/100\n",
      "1/1 [==============================] - 0s 3ms/step - loss: 7.2938 - mae: 7.2938\n",
      "Epoch 38/100\n",
      "1/1 [==============================] - 0s 3ms/step - loss: 7.2881 - mae: 7.2881\n",
      "Epoch 39/100\n",
      "1/1 [==============================] - 0s 3ms/step - loss: 7.2825 - mae: 7.2825\n",
      "Epoch 40/100\n",
      "1/1 [==============================] - 0s 3ms/step - loss: 7.2769 - mae: 7.2769\n",
      "Epoch 41/100\n",
      "1/1 [==============================] - 0s 4ms/step - loss: 7.2712 - mae: 7.2712\n",
      "Epoch 42/100\n",
      "1/1 [==============================] - 0s 4ms/step - loss: 7.2656 - mae: 7.2656\n",
      "Epoch 43/100\n",
      "1/1 [==============================] - 0s 3ms/step - loss: 7.2600 - mae: 7.2600\n",
      "Epoch 44/100\n",
      "1/1 [==============================] - 0s 4ms/step - loss: 7.2544 - mae: 7.2544\n",
      "Epoch 45/100\n",
      "1/1 [==============================] - 0s 3ms/step - loss: 7.2488 - mae: 7.2488\n",
      "Epoch 46/100\n",
      "1/1 [==============================] - 0s 3ms/step - loss: 7.2431 - mae: 7.2431\n",
      "Epoch 47/100\n",
      "1/1 [==============================] - 0s 4ms/step - loss: 7.2375 - mae: 7.2375\n",
      "Epoch 48/100\n",
      "1/1 [==============================] - 0s 3ms/step - loss: 7.2319 - mae: 7.2319\n",
      "Epoch 49/100\n",
      "1/1 [==============================] - 0s 3ms/step - loss: 7.2263 - mae: 7.2263\n",
      "Epoch 50/100\n",
      "1/1 [==============================] - 0s 3ms/step - loss: 7.2206 - mae: 7.2206\n",
      "Epoch 51/100\n",
      "1/1 [==============================] - 0s 3ms/step - loss: 7.2150 - mae: 7.2150\n",
      "Epoch 52/100\n",
      "1/1 [==============================] - 0s 3ms/step - loss: 7.2094 - mae: 7.2094\n",
      "Epoch 53/100\n",
      "1/1 [==============================] - 0s 3ms/step - loss: 7.2038 - mae: 7.2038\n",
      "Epoch 54/100\n",
      "1/1 [==============================] - 0s 3ms/step - loss: 7.1981 - mae: 7.1981\n",
      "Epoch 55/100\n",
      "1/1 [==============================] - 0s 3ms/step - loss: 7.1925 - mae: 7.1925\n",
      "Epoch 56/100\n",
      "1/1 [==============================] - 0s 4ms/step - loss: 7.1869 - mae: 7.1869\n",
      "Epoch 57/100\n",
      "1/1 [==============================] - 0s 3ms/step - loss: 7.1813 - mae: 7.1813\n",
      "Epoch 58/100\n",
      "1/1 [==============================] - 0s 4ms/step - loss: 7.1756 - mae: 7.1756\n",
      "Epoch 59/100\n",
      "1/1 [==============================] - 0s 4ms/step - loss: 7.1700 - mae: 7.1700\n",
      "Epoch 60/100\n",
      "1/1 [==============================] - 0s 3ms/step - loss: 7.1644 - mae: 7.1644\n",
      "Epoch 61/100\n",
      "1/1 [==============================] - 0s 3ms/step - loss: 7.1587 - mae: 7.1587\n",
      "Epoch 62/100\n",
      "1/1 [==============================] - 0s 4ms/step - loss: 7.1531 - mae: 7.1531\n",
      "Epoch 63/100\n",
      "1/1 [==============================] - 0s 4ms/step - loss: 7.1475 - mae: 7.1475\n",
      "Epoch 64/100\n",
      "1/1 [==============================] - 0s 3ms/step - loss: 7.1419 - mae: 7.1419\n",
      "Epoch 65/100\n",
      "1/1 [==============================] - 0s 3ms/step - loss: 7.1363 - mae: 7.1363\n",
      "Epoch 66/100\n",
      "1/1 [==============================] - 0s 3ms/step - loss: 7.1306 - mae: 7.1306\n",
      "Epoch 67/100\n",
      "1/1 [==============================] - 0s 3ms/step - loss: 7.1250 - mae: 7.1250\n",
      "Epoch 68/100\n",
      "1/1 [==============================] - 0s 3ms/step - loss: 7.1194 - mae: 7.1194\n",
      "Epoch 69/100\n",
      "1/1 [==============================] - 0s 3ms/step - loss: 7.1138 - mae: 7.1138\n",
      "Epoch 70/100\n",
      "1/1 [==============================] - 0s 3ms/step - loss: 7.1081 - mae: 7.1081\n",
      "Epoch 71/100\n",
      "1/1 [==============================] - 0s 3ms/step - loss: 7.1025 - mae: 7.1025\n",
      "Epoch 72/100\n",
      "1/1 [==============================] - 0s 3ms/step - loss: 7.0969 - mae: 7.0969\n",
      "Epoch 73/100\n",
      "1/1 [==============================] - 0s 4ms/step - loss: 7.0913 - mae: 7.0913\n",
      "Epoch 74/100\n",
      "1/1 [==============================] - 0s 3ms/step - loss: 7.0856 - mae: 7.0856\n",
      "Epoch 75/100\n",
      "1/1 [==============================] - 0s 3ms/step - loss: 7.0800 - mae: 7.0800\n",
      "Epoch 76/100\n",
      "1/1 [==============================] - 0s 3ms/step - loss: 7.0744 - mae: 7.0744\n",
      "Epoch 77/100\n",
      "1/1 [==============================] - 0s 3ms/step - loss: 7.0687 - mae: 7.0687\n",
      "Epoch 78/100\n",
      "1/1 [==============================] - 0s 3ms/step - loss: 7.0631 - mae: 7.0631\n",
      "Epoch 79/100\n",
      "1/1 [==============================] - 0s 3ms/step - loss: 7.0575 - mae: 7.0575\n",
      "Epoch 80/100\n",
      "1/1 [==============================] - 0s 3ms/step - loss: 7.0519 - mae: 7.0519\n",
      "Epoch 81/100\n",
      "1/1 [==============================] - 0s 3ms/step - loss: 7.0463 - mae: 7.0463\n",
      "Epoch 82/100\n",
      "1/1 [==============================] - 0s 3ms/step - loss: 7.0406 - mae: 7.0406\n",
      "Epoch 83/100\n",
      "1/1 [==============================] - 0s 3ms/step - loss: 7.0350 - mae: 7.0350\n",
      "Epoch 84/100\n",
      "1/1 [==============================] - 0s 3ms/step - loss: 7.0294 - mae: 7.0294\n",
      "Epoch 85/100\n",
      "1/1 [==============================] - 0s 3ms/step - loss: 7.0238 - mae: 7.0238\n",
      "Epoch 86/100\n",
      "1/1 [==============================] - 0s 3ms/step - loss: 7.0181 - mae: 7.0181\n",
      "Epoch 87/100\n",
      "1/1 [==============================] - 0s 3ms/step - loss: 7.0125 - mae: 7.0125\n",
      "Epoch 88/100\n",
      "1/1 [==============================] - 0s 3ms/step - loss: 7.0069 - mae: 7.0069\n",
      "Epoch 89/100\n",
      "1/1 [==============================] - 0s 3ms/step - loss: 7.0013 - mae: 7.0013\n",
      "Epoch 90/100\n",
      "1/1 [==============================] - 0s 3ms/step - loss: 6.9956 - mae: 6.9956\n",
      "Epoch 91/100\n",
      "1/1 [==============================] - 0s 3ms/step - loss: 6.9900 - mae: 6.9900\n",
      "Epoch 92/100\n",
      "1/1 [==============================] - 0s 3ms/step - loss: 6.9844 - mae: 6.9844\n",
      "Epoch 93/100\n",
      "1/1 [==============================] - 0s 3ms/step - loss: 6.9788 - mae: 6.9788\n",
      "Epoch 94/100\n",
      "1/1 [==============================] - 0s 4ms/step - loss: 6.9731 - mae: 6.9731\n",
      "Epoch 95/100\n",
      "1/1 [==============================] - 0s 3ms/step - loss: 6.9675 - mae: 6.9675\n",
      "Epoch 96/100\n",
      "1/1 [==============================] - 0s 3ms/step - loss: 6.9619 - mae: 6.9619\n",
      "Epoch 97/100\n",
      "1/1 [==============================] - 0s 3ms/step - loss: 6.9563 - mae: 6.9563\n",
      "Epoch 98/100\n",
      "1/1 [==============================] - 0s 3ms/step - loss: 6.9506 - mae: 6.9506\n",
      "Epoch 99/100\n",
      "1/1 [==============================] - 0s 3ms/step - loss: 6.9450 - mae: 6.9450\n",
      "Epoch 100/100\n",
      "1/1 [==============================] - 0s 4ms/step - loss: 6.9394 - mae: 6.9394\n"
     ]
    },
    {
     "data": {
      "text/plain": [
       "<keras.src.callbacks.History at 0x7fbb00294410>"
      ]
     },
     "execution_count": 15,
     "metadata": {},
     "output_type": "execute_result"
    }
   ],
   "source": [
    "model = tf.keras.Sequential([\n",
    "    tf.keras.layers.Dense(1)\n",
    "])\n",
    "\n",
    "model.compile(loss=tf.keras.losses.mae,\n",
    "             optimizer=tf.keras.optimizers.SGD(),\n",
    "             metrics=[\"mae\"])\n",
    "\n",
    "model.fit(tf.expand_dims(X, axis=-1), y, epochs=100)"
   ]
  },
  {
   "cell_type": "code",
   "execution_count": 16,
   "id": "3e49347e",
   "metadata": {},
   "outputs": [
    {
     "data": {
      "text/plain": [
       "array([-7., -4., -1.,  2.,  5.,  8., 11., 14.])"
      ]
     },
     "execution_count": 16,
     "metadata": {},
     "output_type": "execute_result"
    }
   ],
   "source": [
    "X"
   ]
  },
  {
   "cell_type": "code",
   "execution_count": 17,
   "id": "cd5161d3",
   "metadata": {},
   "outputs": [
    {
     "data": {
      "text/plain": [
       "<tf.Tensor: shape=(8,), dtype=float32, numpy=array([ 3.,  6.,  9., 12., 15., 18., 21., 24.], dtype=float32)>"
      ]
     },
     "execution_count": 17,
     "metadata": {},
     "output_type": "execute_result"
    }
   ],
   "source": [
    "y\n"
   ]
  },
  {
   "cell_type": "code",
   "execution_count": 18,
   "id": "210b66c6",
   "metadata": {},
   "outputs": [
    {
     "name": "stdout",
     "output_type": "stream",
     "text": [
      "1/1 [==============================] - 0s 34ms/step\n"
     ]
    },
    {
     "data": {
      "text/plain": [
       "array([[30.341078]], dtype=float32)"
      ]
     },
     "execution_count": 18,
     "metadata": {},
     "output_type": "execute_result"
    }
   ],
   "source": [
    "model.predict([17.0])"
   ]
  },
  {
   "cell_type": "code",
   "execution_count": 19,
   "id": "fe63f484",
   "metadata": {},
   "outputs": [
    {
     "name": "stdout",
     "output_type": "stream",
     "text": [
      "Epoch 1/50\n"
     ]
    },
    {
     "name": "stderr",
     "output_type": "stream",
     "text": [
      "2024-02-12 06:41:07.774466: I tensorflow/compiler/mlir/tensorflow/utils/dump_mlir_util.cc:269] disabling MLIR crash reproducer, set env var `MLIR_CRASH_REPRODUCER_DIRECTORY` to enable.\n"
     ]
    },
    {
     "name": "stdout",
     "output_type": "stream",
     "text": [
      "1/1 [==============================] - 0s 477ms/step - loss: 14.2826 - mae: 14.2826\n",
      "Epoch 2/50\n",
      "1/1 [==============================] - 0s 4ms/step - loss: 13.2705 - mae: 13.2705\n",
      "Epoch 3/50\n",
      "1/1 [==============================] - 0s 4ms/step - loss: 12.2697 - mae: 12.2697\n",
      "Epoch 4/50\n",
      "1/1 [==============================] - 0s 4ms/step - loss: 11.2749 - mae: 11.2749\n",
      "Epoch 5/50\n",
      "1/1 [==============================] - 0s 4ms/step - loss: 10.2788 - mae: 10.2788\n",
      "Epoch 6/50\n",
      "1/1 [==============================] - 0s 3ms/step - loss: 9.2729 - mae: 9.2729\n",
      "Epoch 7/50\n",
      "1/1 [==============================] - 0s 3ms/step - loss: 8.2484 - mae: 8.2484\n",
      "Epoch 8/50\n",
      "1/1 [==============================] - 0s 5ms/step - loss: 7.1971 - mae: 7.1971\n",
      "Epoch 9/50\n",
      "1/1 [==============================] - 0s 3ms/step - loss: 6.6275 - mae: 6.6275\n",
      "Epoch 10/50\n",
      "1/1 [==============================] - 0s 3ms/step - loss: 7.1354 - mae: 7.1354\n",
      "Epoch 11/50\n",
      "1/1 [==============================] - 0s 4ms/step - loss: 7.7555 - mae: 7.7555\n",
      "Epoch 12/50\n",
      "1/1 [==============================] - 0s 3ms/step - loss: 8.0315 - mae: 8.0315\n",
      "Epoch 13/50\n",
      "1/1 [==============================] - 0s 3ms/step - loss: 7.9754 - mae: 7.9754\n",
      "Epoch 14/50\n",
      "1/1 [==============================] - 0s 4ms/step - loss: 7.6810 - mae: 7.6810\n",
      "Epoch 15/50\n",
      "1/1 [==============================] - 0s 4ms/step - loss: 7.2147 - mae: 7.2147\n",
      "Epoch 16/50\n",
      "1/1 [==============================] - 0s 3ms/step - loss: 6.6740 - mae: 6.6740\n",
      "Epoch 17/50\n",
      "1/1 [==============================] - 0s 3ms/step - loss: 6.2920 - mae: 6.2920\n",
      "Epoch 18/50\n",
      "1/1 [==============================] - 0s 4ms/step - loss: 5.8997 - mae: 5.8997\n",
      "Epoch 19/50\n",
      "1/1 [==============================] - 0s 3ms/step - loss: 5.8508 - mae: 5.8508\n",
      "Epoch 20/50\n",
      "1/1 [==============================] - 0s 4ms/step - loss: 6.1017 - mae: 6.1017\n",
      "Epoch 21/50\n",
      "1/1 [==============================] - 0s 3ms/step - loss: 6.2626 - mae: 6.2626\n",
      "Epoch 22/50\n",
      "1/1 [==============================] - 0s 4ms/step - loss: 6.2765 - mae: 6.2765\n",
      "Epoch 23/50\n",
      "1/1 [==============================] - 0s 3ms/step - loss: 6.1647 - mae: 6.1647\n",
      "Epoch 24/50\n",
      "1/1 [==============================] - 0s 3ms/step - loss: 5.9418 - mae: 5.9418\n",
      "Epoch 25/50\n",
      "1/1 [==============================] - 0s 3ms/step - loss: 5.6183 - mae: 5.6183\n",
      "Epoch 26/50\n",
      "1/1 [==============================] - 0s 4ms/step - loss: 5.2012 - mae: 5.2012\n",
      "Epoch 27/50\n",
      "1/1 [==============================] - 0s 3ms/step - loss: 4.9513 - mae: 4.9513\n",
      "Epoch 28/50\n",
      "1/1 [==============================] - 0s 3ms/step - loss: 4.8956 - mae: 4.8956\n",
      "Epoch 29/50\n",
      "1/1 [==============================] - 0s 3ms/step - loss: 4.9274 - mae: 4.9274\n",
      "Epoch 30/50\n",
      "1/1 [==============================] - 0s 3ms/step - loss: 4.8982 - mae: 4.8982\n",
      "Epoch 31/50\n",
      "1/1 [==============================] - 0s 3ms/step - loss: 4.8113 - mae: 4.8113\n",
      "Epoch 32/50\n",
      "1/1 [==============================] - 0s 3ms/step - loss: 4.6862 - mae: 4.6862\n",
      "Epoch 33/50\n",
      "1/1 [==============================] - 0s 4ms/step - loss: 4.4446 - mae: 4.4446\n",
      "Epoch 34/50\n",
      "1/1 [==============================] - 0s 4ms/step - loss: 4.1762 - mae: 4.1762\n",
      "Epoch 35/50\n",
      "1/1 [==============================] - 0s 3ms/step - loss: 3.8679 - mae: 3.8679\n",
      "Epoch 36/50\n",
      "1/1 [==============================] - 0s 3ms/step - loss: 3.5815 - mae: 3.5815\n",
      "Epoch 37/50\n",
      "1/1 [==============================] - 0s 4ms/step - loss: 3.4276 - mae: 3.4276\n",
      "Epoch 38/50\n",
      "1/1 [==============================] - 0s 3ms/step - loss: 3.4605 - mae: 3.4605\n",
      "Epoch 39/50\n",
      "1/1 [==============================] - 0s 3ms/step - loss: 3.3261 - mae: 3.3261\n",
      "Epoch 40/50\n",
      "1/1 [==============================] - 0s 5ms/step - loss: 3.0299 - mae: 3.0299\n",
      "Epoch 41/50\n",
      "1/1 [==============================] - 0s 4ms/step - loss: 2.5797 - mae: 2.5797\n",
      "Epoch 42/50\n",
      "1/1 [==============================] - 0s 4ms/step - loss: 2.3486 - mae: 2.3486\n",
      "Epoch 43/50\n",
      "1/1 [==============================] - 0s 5ms/step - loss: 2.2507 - mae: 2.2507\n",
      "Epoch 44/50\n",
      "1/1 [==============================] - 0s 3ms/step - loss: 2.0827 - mae: 2.0827\n",
      "Epoch 45/50\n",
      "1/1 [==============================] - 0s 3ms/step - loss: 1.7070 - mae: 1.7070\n",
      "Epoch 46/50\n",
      "1/1 [==============================] - 0s 4ms/step - loss: 1.2365 - mae: 1.2365\n",
      "Epoch 47/50\n",
      "1/1 [==============================] - 0s 4ms/step - loss: 1.1698 - mae: 1.1698\n",
      "Epoch 48/50\n",
      "1/1 [==============================] - 0s 3ms/step - loss: 1.0401 - mae: 1.0401\n",
      "Epoch 49/50\n",
      "1/1 [==============================] - 0s 3ms/step - loss: 0.7187 - mae: 0.7187\n",
      "Epoch 50/50\n",
      "1/1 [==============================] - 0s 4ms/step - loss: 0.2730 - mae: 0.2730\n"
     ]
    },
    {
     "data": {
      "text/plain": [
       "<keras.src.callbacks.History at 0x7fbaddf17490>"
      ]
     },
     "execution_count": 19,
     "metadata": {},
     "output_type": "execute_result"
    }
   ],
   "source": [
    "model = tf.keras.Sequential([\n",
    "    tf.keras.layers.Dense(100, activation=None),\n",
    "    #tf.keras.layers.Dense(50, activation=\"relu\"),\n",
    "    tf.keras.layers.Dense(1)\n",
    "])\n",
    "\n",
    "model.compile(loss=\"mae\",\n",
    "             optimizer=tf.keras.optimizers.Adam(learning_rate=0.01),\n",
    "             metrics=[\"mae\"])\n",
    "\n",
    "model.fit(tf.expand_dims(X, axis=-1), y, epochs=50)"
   ]
  },
  {
   "cell_type": "code",
   "execution_count": 20,
   "id": "81046dde",
   "metadata": {},
   "outputs": [
    {
     "name": "stdout",
     "output_type": "stream",
     "text": [
      "1/1 [==============================] - 0s 38ms/step\n"
     ]
    },
    {
     "data": {
      "text/plain": [
       "array([[28.39532]], dtype=float32)"
      ]
     },
     "execution_count": 20,
     "metadata": {},
     "output_type": "execute_result"
    }
   ],
   "source": [
    "model.predict([17.0])"
   ]
  },
  {
   "cell_type": "markdown",
   "id": "10e1cf6a",
   "metadata": {},
   "source": [
    "# Evaluating a model\n",
    "\n"
   ]
  },
  {
   "cell_type": "code",
   "execution_count": 21,
   "id": "f58e0569",
   "metadata": {},
   "outputs": [
    {
     "data": {
      "text/plain": [
       "<tf.Tensor: shape=(50,), dtype=int32, numpy=\n",
       "array([-100,  -96,  -92,  -88,  -84,  -80,  -76,  -72,  -68,  -64,  -60,\n",
       "        -56,  -52,  -48,  -44,  -40,  -36,  -32,  -28,  -24,  -20,  -16,\n",
       "        -12,   -8,   -4,    0,    4,    8,   12,   16,   20,   24,   28,\n",
       "         32,   36,   40,   44,   48,   52,   56,   60,   64,   68,   72,\n",
       "         76,   80,   84,   88,   92,   96], dtype=int32)>"
      ]
     },
     "execution_count": 21,
     "metadata": {},
     "output_type": "execute_result"
    }
   ],
   "source": [
    "#Bigger Data\n",
    "\n",
    "X = tf.range(-100, 100, 4)\n",
    "X"
   ]
  },
  {
   "cell_type": "code",
   "execution_count": 22,
   "id": "4ded724b",
   "metadata": {},
   "outputs": [
    {
     "data": {
      "text/plain": [
       "<tf.Tensor: shape=(50,), dtype=int32, numpy=\n",
       "array([-90, -86, -82, -78, -74, -70, -66, -62, -58, -54, -50, -46, -42,\n",
       "       -38, -34, -30, -26, -22, -18, -14, -10,  -6,  -2,   2,   6,  10,\n",
       "        14,  18,  22,  26,  30,  34,  38,  42,  46,  50,  54,  58,  62,\n",
       "        66,  70,  74,  78,  82,  86,  90,  94,  98, 102, 106], dtype=int32)>"
      ]
     },
     "execution_count": 22,
     "metadata": {},
     "output_type": "execute_result"
    }
   ],
   "source": [
    "# make labels\n",
    "y = X + 10\n",
    "y"
   ]
  },
  {
   "cell_type": "code",
   "execution_count": 23,
   "id": "8793a074",
   "metadata": {},
   "outputs": [],
   "source": [
    "#visualize\n",
    "import matplotlib.pyplot as plt\n"
   ]
  },
  {
   "cell_type": "code",
   "execution_count": 24,
   "id": "4859f33e",
   "metadata": {},
   "outputs": [
    {
     "data": {
      "text/plain": [
       "<matplotlib.collections.PathCollection at 0x7fbada920f90>"
      ]
     },
     "execution_count": 24,
     "metadata": {},
     "output_type": "execute_result"
    },
    {
     "data": {
      "image/png": "[encoded data removed]",
      "text/plain": [
       "<Figure size 640x480 with 1 Axes>"
      ]
     },
     "metadata": {},
     "output_type": "display_data"
    }
   ],
   "source": [
    "plt.scatter(X, y)"
   ]
  },
  {
   "cell_type": "markdown",
   "id": "bd909a8d",
   "metadata": {},
   "source": [
    "# 3 Sets"
   ]
  },
  {
   "cell_type": "code",
   "execution_count": 25,
   "id": "b3491e11",
   "metadata": {},
   "outputs": [
    {
     "data": {
      "text/plain": [
       "50"
      ]
     },
     "execution_count": 25,
     "metadata": {},
     "output_type": "execute_result"
    }
   ],
   "source": [
    "len(X)"
   ]
  },
  {
   "cell_type": "code",
   "execution_count": 26,
   "id": "8ed64871",
   "metadata": {},
   "outputs": [
    {
     "data": {
      "text/plain": [
       "(40, 10)"
      ]
     },
     "execution_count": 26,
     "metadata": {},
     "output_type": "execute_result"
    }
   ],
   "source": [
    "# split the data into train and test data\n",
    "X_train = X[:40] \n",
    "y_train = y[:40]\n",
    "X_test = X[40:]\n",
    "y_test = y[40:]\n",
    "\n",
    "len(X_train), len(y_test)\n"
   ]
  },
  {
   "cell_type": "code",
   "execution_count": 27,
   "id": "fae556c7",
   "metadata": {},
   "outputs": [
    {
     "data": {
      "image/png": "[encoded data removed]",
      "text/plain": [
       "<Figure size 1000x700 with 1 Axes>"
      ]
     },
     "metadata": {},
     "output_type": "display_data"
    }
   ],
   "source": [
    "plt.figure(figsize=(10, 7))\n",
    "plt.scatter(X_train, y_train, c=\"b\", label=\"Training data\")\n",
    "plt.scatter(X_test, y_test, c=\"g\", label=\"Testing data\")\n",
    "plt.legend();"
   ]
  },
  {
   "cell_type": "code",
   "execution_count": 28,
   "id": "564c80fd",
   "metadata": {},
   "outputs": [
    {
     "name": "stdout",
     "output_type": "stream",
     "text": [
      "Epoch 1/50\n",
      "2/2 [==============================] - 0s 3ms/step - loss: 78.4215 - mae: 78.4215\n",
      "Epoch 2/50\n",
      "2/2 [==============================] - 0s 3ms/step - loss: 43.0565 - mae: 43.0565\n",
      "Epoch 3/50\n",
      "2/2 [==============================] - 0s 3ms/step - loss: 10.6565 - mae: 10.6565\n",
      "Epoch 4/50\n",
      "2/2 [==============================] - 0s 4ms/step - loss: 9.6080 - mae: 9.6080\n",
      "Epoch 5/50\n",
      "2/2 [==============================] - 0s 3ms/step - loss: 10.5194 - mae: 10.5194\n",
      "Epoch 6/50\n",
      "2/2 [==============================] - 0s 3ms/step - loss: 9.7432 - mae: 9.7432\n",
      "Epoch 7/50\n",
      "2/2 [==============================] - 0s 3ms/step - loss: 8.8350 - mae: 8.8350\n",
      "Epoch 8/50\n",
      "2/2 [==============================] - 0s 3ms/step - loss: 9.0880 - mae: 9.0880\n",
      "Epoch 9/50\n",
      "2/2 [==============================] - 0s 4ms/step - loss: 19.3722 - mae: 19.3722\n",
      "Epoch 10/50\n",
      "2/2 [==============================] - 0s 4ms/step - loss: 10.4754 - mae: 10.4754\n",
      "Epoch 11/50\n",
      "2/2 [==============================] - 0s 3ms/step - loss: 8.5522 - mae: 8.5522\n",
      "Epoch 12/50\n",
      "2/2 [==============================] - 0s 3ms/step - loss: 10.9692 - mae: 10.9692\n",
      "Epoch 13/50\n",
      "2/2 [==============================] - 0s 3ms/step - loss: 7.5877 - mae: 7.5877\n",
      "Epoch 14/50\n",
      "2/2 [==============================] - 0s 4ms/step - loss: 16.0123 - mae: 16.0123\n",
      "Epoch 15/50\n",
      "2/2 [==============================] - 0s 3ms/step - loss: 13.0931 - mae: 13.0931\n",
      "Epoch 16/50\n",
      "2/2 [==============================] - 0s 3ms/step - loss: 7.9568 - mae: 7.9568\n",
      "Epoch 17/50\n",
      "2/2 [==============================] - 0s 3ms/step - loss: 11.2954 - mae: 11.2954\n",
      "Epoch 18/50\n",
      "2/2 [==============================] - 0s 3ms/step - loss: 10.2678 - mae: 10.2678\n",
      "Epoch 19/50\n",
      "2/2 [==============================] - 0s 4ms/step - loss: 19.5387 - mae: 19.5387\n",
      "Epoch 20/50\n",
      "2/2 [==============================] - 0s 3ms/step - loss: 16.1922 - mae: 16.1922\n",
      "Epoch 21/50\n",
      "2/2 [==============================] - 0s 3ms/step - loss: 12.0917 - mae: 12.0917\n",
      "Epoch 22/50\n",
      "2/2 [==============================] - 0s 3ms/step - loss: 8.6932 - mae: 8.6932\n",
      "Epoch 23/50\n",
      "2/2 [==============================] - 0s 3ms/step - loss: 9.6778 - mae: 9.6778\n",
      "Epoch 24/50\n",
      "2/2 [==============================] - 0s 3ms/step - loss: 8.5938 - mae: 8.5938\n",
      "Epoch 25/50\n",
      "2/2 [==============================] - 0s 3ms/step - loss: 11.5668 - mae: 11.5668\n",
      "Epoch 26/50\n",
      "2/2 [==============================] - 0s 3ms/step - loss: 15.2060 - mae: 15.2060\n",
      "Epoch 27/50\n",
      "2/2 [==============================] - 0s 4ms/step - loss: 12.0885 - mae: 12.0885\n",
      "Epoch 28/50\n",
      "2/2 [==============================] - 0s 3ms/step - loss: 13.3884 - mae: 13.3884\n",
      "Epoch 29/50\n",
      "2/2 [==============================] - 0s 3ms/step - loss: 9.6249 - mae: 9.6249\n",
      "Epoch 30/50\n",
      "2/2 [==============================] - 0s 3ms/step - loss: 17.1833 - mae: 17.1833\n",
      "Epoch 31/50\n",
      "2/2 [==============================] - 0s 3ms/step - loss: 22.8929 - mae: 22.8929\n",
      "Epoch 32/50\n",
      "2/2 [==============================] - 0s 3ms/step - loss: 7.9355 - mae: 7.9355\n",
      "Epoch 33/50\n",
      "2/2 [==============================] - 0s 3ms/step - loss: 14.1392 - mae: 14.1392\n",
      "Epoch 34/50\n",
      "2/2 [==============================] - 0s 3ms/step - loss: 12.3839 - mae: 12.3839\n",
      "Epoch 35/50\n",
      "2/2 [==============================] - 0s 3ms/step - loss: 8.2826 - mae: 8.2826\n",
      "Epoch 36/50\n",
      "2/2 [==============================] - 0s 3ms/step - loss: 10.5056 - mae: 10.5056\n",
      "Epoch 37/50\n",
      "2/2 [==============================] - 0s 3ms/step - loss: 10.1496 - mae: 10.1496\n",
      "Epoch 38/50\n",
      "2/2 [==============================] - 0s 3ms/step - loss: 11.3472 - mae: 11.3472\n",
      "Epoch 39/50\n",
      "2/2 [==============================] - 0s 3ms/step - loss: 14.7630 - mae: 14.7630\n",
      "Epoch 40/50\n",
      "2/2 [==============================] - 0s 3ms/step - loss: 12.8932 - mae: 12.8932\n",
      "Epoch 41/50\n",
      "2/2 [==============================] - 0s 2ms/step - loss: 9.2830 - mae: 9.2830\n",
      "Epoch 42/50\n",
      "2/2 [==============================] - 0s 2ms/step - loss: 11.0273 - mae: 11.0273\n",
      "Epoch 43/50\n",
      "2/2 [==============================] - 0s 3ms/step - loss: 8.3528 - mae: 8.3528\n",
      "Epoch 44/50\n",
      "2/2 [==============================] - 0s 3ms/step - loss: 13.0689 - mae: 13.0689\n",
      "Epoch 45/50\n",
      "2/2 [==============================] - 0s 3ms/step - loss: 13.6826 - mae: 13.6826\n",
      "Epoch 46/50\n",
      "2/2 [==============================] - 0s 3ms/step - loss: 8.3003 - mae: 8.3003\n",
      "Epoch 47/50\n",
      "2/2 [==============================] - 0s 3ms/step - loss: 8.7458 - mae: 8.7458\n",
      "Epoch 48/50\n",
      "2/2 [==============================] - 0s 2ms/step - loss: 10.0470 - mae: 10.0470\n",
      "Epoch 49/50\n",
      "2/2 [==============================] - 0s 3ms/step - loss: 8.5307 - mae: 8.5307\n",
      "Epoch 50/50\n",
      "2/2 [==============================] - 0s 3ms/step - loss: 9.0360 - mae: 9.0360\n"
     ]
    },
    {
     "data": {
      "text/plain": [
       "<keras.src.callbacks.History at 0x7fbb00179110>"
      ]
     },
     "execution_count": 28,
     "metadata": {},
     "output_type": "execute_result"
    }
   ],
   "source": [
    "model = tf.keras.Sequential([\n",
    "    tf.keras.layers.Dense(1)\n",
    "])\n",
    "\n",
    "model.compile(loss=tf.losses.mae,\n",
    "             optimizer=tf.keras.optimizers.SGD(),\n",
    "             metrics=[\"mae\"])\n",
    "\n",
    "model.fit(tf.expand_dims(X_train, axis=-1), y_train, epochs=50)"
   ]
  },
  {
   "cell_type": "code",
   "execution_count": 29,
   "id": "d293eb8e",
   "metadata": {},
   "outputs": [
    {
     "name": "stdout",
     "output_type": "stream",
     "text": [
      "Model: \"sequential_3\"\n",
      "_________________________________________________________________\n",
      " Layer (type)                Output Shape              Param #   \n",
      "=================================================================\n",
      " dense_4 (Dense)             (None, 1)                 2         \n",
      "                                                                 \n",
      "=================================================================\n",
      "Total params: 2 (8.00 Byte)\n",
      "Trainable params: 2 (8.00 Byte)\n",
      "Non-trainable params: 0 (0.00 Byte)\n",
      "_________________________________________________________________\n"
     ]
    }
   ],
   "source": [
    "model.summary()"
   ]
  },
  {
   "cell_type": "code",
   "execution_count": 113,
   "id": "96796319",
   "metadata": {},
   "outputs": [],
   "source": [
    "tf.random.set_seed(42)\n",
    "\n",
    "model = tf.keras.Sequential([\n",
    "    tf.keras.layers.Dense(10, input_shape=[1], name=\"input_layer\"),\n",
    "    tf.keras.layers.Dense(1, name=\"output_layer\")\n",
    "],name=\"TensorFlow_regression\")\n",
    "\n",
    "model.compile(loss=tf.keras.losses.mae,\n",
    "             optimizer=tf.keras.optimizers.SGD(),\n",
    "             metrics=[\"mae\"])"
   ]
  },
  {
   "cell_type": "code",
   "execution_count": 114,
   "id": "70f4081a",
   "metadata": {},
   "outputs": [
    {
     "name": "stdout",
     "output_type": "stream",
     "text": [
      "Model: \"TensorFlow_regression\"\n",
      "_________________________________________________________________\n",
      " Layer (type)                Output Shape              Param #   \n",
      "=================================================================\n",
      " input_layer (Dense)         (None, 10)                20        \n",
      "                                                                 \n",
      " output_layer (Dense)        (None, 1)                 11        \n",
      "                                                                 \n",
      "=================================================================\n",
      "Total params: 31 (124.00 Byte)\n",
      "Trainable params: 31 (124.00 Byte)\n",
      "Non-trainable params: 0 (0.00 Byte)\n",
      "_________________________________________________________________\n"
     ]
    }
   ],
   "source": [
    "model.summary()"
   ]
  },
  {
   "cell_type": "code",
   "execution_count": 118,
   "id": "792ed918",
   "metadata": {},
   "outputs": [
    {
     "name": "stdout",
     "output_type": "stream",
     "text": [
      "Epoch 1/50\n",
      "2/2 [==============================] - 0s 3ms/step - loss: 21.6116 - mae: 21.6116\n",
      "Epoch 2/50\n",
      "2/2 [==============================] - 0s 4ms/step - loss: 19.1697 - mae: 19.1697\n",
      "Epoch 3/50\n",
      "2/2 [==============================] - 0s 3ms/step - loss: 12.6200 - mae: 12.6200\n",
      "Epoch 4/50\n",
      "2/2 [==============================] - 0s 5ms/step - loss: 15.1730 - mae: 15.1730\n",
      "Epoch 5/50\n",
      "2/2 [==============================] - 0s 3ms/step - loss: 14.2981 - mae: 14.2981\n",
      "Epoch 6/50\n",
      "2/2 [==============================] - 0s 4ms/step - loss: 11.3367 - mae: 11.3367\n",
      "Epoch 7/50\n",
      "2/2 [==============================] - 0s 3ms/step - loss: 10.7025 - mae: 10.7025\n",
      "Epoch 8/50\n",
      "2/2 [==============================] - 0s 3ms/step - loss: 10.6225 - mae: 10.6225\n",
      "Epoch 9/50\n",
      "2/2 [==============================] - 0s 3ms/step - loss: 39.6914 - mae: 39.6914\n",
      "Epoch 10/50\n",
      "2/2 [==============================] - 0s 6ms/step - loss: 27.2604 - mae: 27.2604\n",
      "Epoch 11/50\n",
      "2/2 [==============================] - 0s 3ms/step - loss: 10.7084 - mae: 10.7084\n",
      "Epoch 12/50\n",
      "2/2 [==============================] - 0s 3ms/step - loss: 24.1325 - mae: 24.1325\n",
      "Epoch 13/50\n",
      "2/2 [==============================] - 0s 3ms/step - loss: 19.8150 - mae: 19.8150\n",
      "Epoch 14/50\n",
      "2/2 [==============================] - 0s 3ms/step - loss: 22.0759 - mae: 22.0759\n",
      "Epoch 15/50\n",
      "2/2 [==============================] - 0s 3ms/step - loss: 13.8436 - mae: 13.8436\n",
      "Epoch 16/50\n",
      "2/2 [==============================] - 0s 3ms/step - loss: 11.7814 - mae: 11.7814\n",
      "Epoch 17/50\n",
      "2/2 [==============================] - 0s 3ms/step - loss: 25.8570 - mae: 25.8570\n",
      "Epoch 18/50\n",
      "2/2 [==============================] - 0s 4ms/step - loss: 12.9808 - mae: 12.9808\n",
      "Epoch 19/50\n",
      "2/2 [==============================] - 0s 3ms/step - loss: 16.0043 - mae: 16.0043\n",
      "Epoch 20/50\n",
      "2/2 [==============================] - 0s 3ms/step - loss: 8.3374 - mae: 8.3374\n",
      "Epoch 21/50\n",
      "2/2 [==============================] - 0s 4ms/step - loss: 13.2771 - mae: 13.2771\n",
      "Epoch 22/50\n",
      "2/2 [==============================] - 0s 3ms/step - loss: 23.1014 - mae: 23.1014\n",
      "Epoch 23/50\n",
      "2/2 [==============================] - 0s 4ms/step - loss: 10.5911 - mae: 10.5911\n",
      "Epoch 24/50\n",
      "2/2 [==============================] - 0s 4ms/step - loss: 13.5825 - mae: 13.5825\n",
      "Epoch 25/50\n",
      "2/2 [==============================] - 0s 4ms/step - loss: 17.4654 - mae: 17.4654\n",
      "Epoch 26/50\n",
      "2/2 [==============================] - 0s 3ms/step - loss: 15.3512 - mae: 15.3512\n",
      "Epoch 27/50\n",
      "2/2 [==============================] - 0s 3ms/step - loss: 11.0077 - mae: 11.0077\n",
      "Epoch 28/50\n",
      "2/2 [==============================] - 0s 3ms/step - loss: 28.6047 - mae: 28.6047\n",
      "Epoch 29/50\n",
      "2/2 [==============================] - 0s 3ms/step - loss: 8.9295 - mae: 8.9295\n",
      "Epoch 30/50\n",
      "2/2 [==============================] - 0s 3ms/step - loss: 29.6036 - mae: 29.6036\n",
      "Epoch 31/50\n",
      "2/2 [==============================] - 0s 3ms/step - loss: 53.6345 - mae: 53.6345\n",
      "Epoch 32/50\n",
      "2/2 [==============================] - 0s 3ms/step - loss: 12.5651 - mae: 12.5651\n",
      "Epoch 33/50\n",
      "2/2 [==============================] - 0s 3ms/step - loss: 10.9900 - mae: 10.9900\n",
      "Epoch 34/50\n",
      "2/2 [==============================] - 0s 3ms/step - loss: 20.5484 - mae: 20.5484\n",
      "Epoch 35/50\n",
      "2/2 [==============================] - 0s 4ms/step - loss: 13.1043 - mae: 13.1043\n",
      "Epoch 36/50\n",
      "2/2 [==============================] - 0s 3ms/step - loss: 21.0637 - mae: 21.0637\n",
      "Epoch 37/50\n",
      "2/2 [==============================] - 0s 3ms/step - loss: 12.3513 - mae: 12.3513\n",
      "Epoch 38/50\n",
      "2/2 [==============================] - 0s 3ms/step - loss: 18.0209 - mae: 18.0209\n",
      "Epoch 39/50\n",
      "2/2 [==============================] - 0s 3ms/step - loss: 18.9357 - mae: 18.9357\n",
      "Epoch 40/50\n",
      "2/2 [==============================] - 0s 4ms/step - loss: 20.1694 - mae: 20.1694\n",
      "Epoch 41/50\n",
      "2/2 [==============================] - 0s 3ms/step - loss: 16.0438 - mae: 16.0438\n",
      "Epoch 42/50\n",
      "2/2 [==============================] - 0s 3ms/step - loss: 9.4204 - mae: 9.4204\n",
      "Epoch 43/50\n",
      "2/2 [==============================] - 0s 3ms/step - loss: 9.4432 - mae: 9.4432\n",
      "Epoch 44/50\n",
      "2/2 [==============================] - 0s 3ms/step - loss: 30.0782 - mae: 30.0782\n",
      "Epoch 45/50\n",
      "2/2 [==============================] - 0s 3ms/step - loss: 11.5363 - mae: 11.5363\n",
      "Epoch 46/50\n",
      "2/2 [==============================] - 0s 3ms/step - loss: 15.7338 - mae: 15.7338\n",
      "Epoch 47/50\n",
      "2/2 [==============================] - 0s 3ms/step - loss: 15.1480 - mae: 15.1480\n",
      "Epoch 48/50\n",
      "2/2 [==============================] - 0s 4ms/step - loss: 18.3017 - mae: 18.3017\n",
      "Epoch 49/50\n",
      "2/2 [==============================] - 0s 3ms/step - loss: 8.5087 - mae: 8.5087\n",
      "Epoch 50/50\n",
      "2/2 [==============================] - 0s 3ms/step - loss: 12.1718 - mae: 12.1718\n"
     ]
    },
    {
     "data": {
      "text/plain": [
       "<keras.src.callbacks.History at 0x7fba9137ee10>"
      ]
     },
     "execution_count": 118,
     "metadata": {},
     "output_type": "execute_result"
    }
   ],
   "source": [
    "model.fit(tf.expand_dims(X_train,axis=-1),y_train, epochs=50, verbose=1)"
   ]
  },
  {
   "cell_type": "code",
   "execution_count": 119,
   "id": "ce8ac2a5",
   "metadata": {},
   "outputs": [
    {
     "name": "stdout",
     "output_type": "stream",
     "text": [
      "You must install pydot (`pip install pydot`) and install graphviz (see instructions at https://graphviz.gitlab.io/download/) for plot_model to work.\n"
     ]
    }
   ],
   "source": [
    "from tensorflow.keras.utils import plot_model\n",
    "\n",
    "plot_model(model=model, show_shapes=True)"
   ]
  },
  {
   "cell_type": "markdown",
   "id": "8ccba2fe",
   "metadata": {},
   "source": [
    "## Visualizing Model's prediction"
   ]
  },
  {
   "cell_type": "code",
   "execution_count": 120,
   "id": "c8ddfee5",
   "metadata": {},
   "outputs": [
    {
     "name": "stdout",
     "output_type": "stream",
     "text": [
      "1/1 [==============================] - 0s 12ms/step\n"
     ]
    },
    {
     "data": {
      "text/plain": [
       "array([[62.430813],\n",
       "       [66.508286],\n",
       "       [70.58576 ],\n",
       "       [74.66323 ],\n",
       "       [78.74071 ],\n",
       "       [82.818184],\n",
       "       [86.89565 ],\n",
       "       [90.97312 ],\n",
       "       [95.0506  ],\n",
       "       [99.128075]], dtype=float32)"
      ]
     },
     "execution_count": 120,
     "metadata": {},
     "output_type": "execute_result"
    }
   ],
   "source": [
    "y_pred = model.predict(X_test)\n",
    "y_pred"
   ]
  },
  {
   "cell_type": "code",
   "execution_count": 121,
   "id": "b86fac79-6275-4dfc-8ca2-a388e426bd16",
   "metadata": {},
   "outputs": [
    {
     "data": {
      "text/plain": [
       "<tf.Tensor: shape=(10,), dtype=int32, numpy=array([ 70,  74,  78,  82,  86,  90,  94,  98, 102, 106], dtype=int32)>"
      ]
     },
     "execution_count": 121,
     "metadata": {},
     "output_type": "execute_result"
    }
   ],
   "source": [
    "y_test"
   ]
  },
  {
   "cell_type": "code",
   "execution_count": 122,
   "id": "5128cd1f",
   "metadata": {},
   "outputs": [],
   "source": [
    "def plot_predictions(train_data=X_train,\n",
    "                    train_labels=y_train,\n",
    "                    test_data=X_test,\n",
    "                     test_labels=y_test,\n",
    "                    predictions = y_pred,\n",
    "                    ):\n",
    "    plt.figure(figsize=(10, 7))\n",
    "\n",
    "    plt.scatter(train_data, train_labels, c=\"b\", label=\"Training Data\")\n",
    "    plt.scatter(test_data, test_labels, c=\"g\", label=\"Testing Data\")\n",
    "    plt.scatter(test_data, predictions, c=\"r\", label=\"Predictions\")\n",
    "    plt.legend();"
   ]
  },
  {
   "cell_type": "code",
   "execution_count": 123,
   "id": "9fd1beb0-f5fe-4c4b-a809-86fbca9a29ce",
   "metadata": {},
   "outputs": [
    {
     "data": {
      "image/png": "[encoded data removed]",
      "text/plain": [
       "<Figure size 1000x700 with 1 Axes>"
      ]
     },
     "metadata": {},
     "output_type": "display_data"
    }
   ],
   "source": [
    "plot_predictions(train_data=X_train,\n",
    "                train_labels=y_train,\n",
    "                test_data=X_test,\n",
    "                test_labels=y_test,\n",
    "                predictions=y_pred,)"
   ]
  },
  {
   "cell_type": "markdown",
   "id": "5c5400ab-8059-4c96-bde1-ee45c1acad1d",
   "metadata": {},
   "source": [
    "### Evaluating model's predictions with regression evaluation metrics\n",
    "\n",
    "2 Main metrics:\n",
    "    1) MAE - Mean Absolute Error, \"On avg how wrong is each of my model's predictions\"\n",
    "    2) MSE - Mean Squared Error, \"Square the average errors\""
   ]
  },
  {
   "cell_type": "code",
   "execution_count": 124,
   "id": "2d2f62c5-6b11-47ed-b561-bed80a7123ef",
   "metadata": {},
   "outputs": [
    {
     "name": "stdout",
     "output_type": "stream",
     "text": [
      "1/1 [==============================] - 0s 80ms/step - loss: 7.2206 - mae: 7.2206\n"
     ]
    },
    {
     "data": {
      "text/plain": [
       "[7.220556735992432, 7.220556735992432]"
      ]
     },
     "execution_count": 124,
     "metadata": {},
     "output_type": "execute_result"
    }
   ],
   "source": [
    "#Evaluate the model on the test\n",
    "model.evaluate(X_test, y_test)"
   ]
  },
  {
   "cell_type": "code",
   "execution_count": 125,
   "id": "ed0402b3-2a31-4315-9116-32744820137b",
   "metadata": {},
   "outputs": [
    {
     "data": {
      "text/plain": [
       "<tf.Tensor: shape=(), dtype=float32, numpy=7.2205567>"
      ]
     },
     "execution_count": 125,
     "metadata": {},
     "output_type": "execute_result"
    }
   ],
   "source": [
    "# Calc MAE\n",
    "\n",
    "mae = tf.metrics.mean_absolute_error(y_true=y_test, y_pred=tf.squeeze(y_pred))\n",
    "mae"
   ]
  },
  {
   "cell_type": "code",
   "execution_count": 129,
   "id": "c9eeb9d4-7997-455a-9ecf-b756b796c027",
   "metadata": {},
   "outputs": [
    {
     "data": {
      "text/plain": [
       "<tf.Tensor: shape=(), dtype=float32, numpy=52.185963>"
      ]
     },
     "execution_count": 129,
     "metadata": {},
     "output_type": "execute_result"
    }
   ],
   "source": [
    "# calc MSE\n",
    "\n",
    "mse = tf.metrics.mean_squared_error(y_true=y_test, y_pred=tf.squeeze(y_pred))\n",
    "mse\n"
   ]
  },
  {
   "cell_type": "code",
   "execution_count": 127,
   "id": "f3098bca-14e9-43b2-9b62-4acc7af5ab26",
   "metadata": {},
   "outputs": [
    {
     "data": {
      "text/plain": [
       "<tf.Tensor: shape=(10,), dtype=float32, numpy=\n",
       "array([62.430813, 66.508286, 70.58576 , 74.66323 , 78.74071 , 82.818184,\n",
       "       86.89565 , 90.97312 , 95.0506  , 99.128075], dtype=float32)>"
      ]
     },
     "execution_count": 127,
     "metadata": {},
     "output_type": "execute_result"
    }
   ],
   "source": [
    "#RESHAPE REQ\n",
    "tf.squeeze(y_pred)"
   ]
  },
  {
   "cell_type": "code",
   "execution_count": 128,
   "id": "49f6ee07-eae4-4901-ad73-baae8c1a3db3",
   "metadata": {},
   "outputs": [
    {
     "data": {
      "text/plain": [
       "<tf.Tensor: shape=(10,), dtype=int32, numpy=array([ 70,  74,  78,  82,  86,  90,  94,  98, 102, 106], dtype=int32)>"
      ]
     },
     "execution_count": 128,
     "metadata": {},
     "output_type": "execute_result"
    }
   ],
   "source": [
    "y_test"
   ]
  },
  {
   "cell_type": "code",
   "execution_count": 130,
   "id": "40c661de-3cca-4cf0-9727-eb21443a91d5",
   "metadata": {},
   "outputs": [],
   "source": [
    "# Functions to reuse MAE and MSE\n",
    "\n",
    "def mae(y_true, y_pred):\n",
    "    mae = tf.metrics.mean_absolute_error(y_true=y_true, y_pred=y_pred)\n",
    "    return mae\n",
    "\n",
    "def mse(y_true, y_pred):\n",
    "    mse = tf.metrics.mean_squared_error(y_true=y_true, y_pred=y_pred)\n",
    "    return mse"
   ]
  },
  {
   "cell_type": "code",
   "execution_count": null,
   "id": "4d6fc705-e117-487a-859a-6d8365f4625b",
   "metadata": {},
   "outputs": [],
   "source": []
  }
 ],
 "metadata": {
  "kernelspec": {
   "display_name": "Python 3 (ipykernel)",
   "language": "python",
   "name": "python3"
  },
  "language_info": {
   "codemirror_mode": {
    "name": "ipython",
    "version": 3
   },
   "file_extension": ".py",
   "mimetype": "text/x-python",
   "name": "python",
   "nbconvert_exporter": "python",
   "pygments_lexer": "ipython3",
   "version": "3.11.0rc1"
  }
 },
 "nbformat": 4,
 "nbformat_minor": 5
}
