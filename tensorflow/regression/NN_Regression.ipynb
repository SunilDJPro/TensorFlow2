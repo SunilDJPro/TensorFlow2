{
 "cells": [
  {
   "cell_type": "markdown",
   "id": "26501f85",
   "metadata": {},
   "source": [
    "# Intro to regression with neural network\n"
   ]
  },
  {
   "cell_type": "code",
   "execution_count": 1,
   "id": "92e55b44",
   "metadata": {},
   "outputs": [
    {
     "name": "stdout",
     "output_type": "stream",
     "text": [
      "2.12.0\n"
     ]
    }
   ],
   "source": [
    "import tensorflow as tf\n",
    "print(tf.__version__)\n",
    "config = tf.compat.v1.ConfigProto()\n",
    "config.gpu_options.allow_growth = True"
   ]
  },
  {
   "cell_type": "code",
   "execution_count": 2,
   "id": "b2a83bae",
   "metadata": {},
   "outputs": [
    {
     "data": {
      "text/plain": [
       "<matplotlib.collections.PathCollection at 0xfffeae7daaf0>"
      ]
     },
     "execution_count": 2,
     "metadata": {},
     "output_type": "execute_result"
    },
    {
     "data": {
      "image/png": "[encoded data removed]",
      "text/plain": [
       "<Figure size 432x288 with 1 Axes>"
      ]
     },
     "metadata": {
      "needs_background": "light"
     },
     "output_type": "display_data"
    }
   ],
   "source": [
    "# Creating the data top view and fit\n",
    "sess = tf.compat.v1.Session(config=config)\n",
    "import numpy as np\n",
    "import matplotlib.pyplot as plt\n",
    "\n",
    "X = np.array([-7.0, -4.0, -1.0, 2.0, 5.0, 8.0, 11.0, 14.0])\n",
    "\n",
    "y = np.array([3.0, 6.0, 9.0, 12.0, 15.0, 18.0, 21.0, 24.0])\n",
    "\n",
    "plt.scatter(X, y)"
   ]
  },
  {
   "cell_type": "code",
   "execution_count": 3,
   "id": "8da16146",
   "metadata": {},
   "outputs": [
    {
     "data": {
      "text/plain": [
       "array([ True,  True,  True,  True,  True,  True,  True,  True])"
      ]
     },
     "execution_count": 3,
     "metadata": {},
     "output_type": "execute_result"
    }
   ],
   "source": [
    "y == X + 10"
   ]
  },
  {
   "cell_type": "markdown",
   "id": "e4129f3b",
   "metadata": {},
   "source": [
    "# Inputs and Output Shapes"
   ]
  },
  {
   "cell_type": "code",
   "execution_count": 4,
   "id": "8d15ddf9",
   "metadata": {},
   "outputs": [
    {
     "data": {
      "text/plain": [
       "(<tf.Tensor: shape=(3,), dtype=string, numpy=array([b'bedroom', b'bathroom', b'garage'], dtype=object)>,\n",
       " <tf.Tensor: shape=(1,), dtype=int32, numpy=array([939700], dtype=int32)>)"
      ]
     },
     "execution_count": 4,
     "metadata": {},
     "output_type": "execute_result"
    }
   ],
   "source": [
    "#Demo\n",
    "house_info = tf.constant([\"bedroom\", \"bathroom\", \"garage\"])\n",
    "house_price = tf.constant([939700])\n",
    "house_info, house_price"
   ]
  },
  {
   "cell_type": "code",
   "execution_count": 5,
   "id": "90a9961a",
   "metadata": {},
   "outputs": [
    {
     "data": {
      "text/plain": [
       "((8,), (8,))"
      ]
     },
     "execution_count": 5,
     "metadata": {},
     "output_type": "execute_result"
    }
   ],
   "source": [
    "input_shape = X.shape\n",
    "output_shape = y.shape\n",
    "input_shape, output_shape"
   ]
  },
  {
   "cell_type": "code",
   "execution_count": 6,
   "id": "86f1c1ea",
   "metadata": {},
   "outputs": [
    {
     "data": {
      "text/plain": [
       "(-7.0, 3.0)"
      ]
     },
     "execution_count": 6,
     "metadata": {},
     "output_type": "execute_result"
    }
   ],
   "source": [
    "X[0], y[0]"
   ]
  },
  {
   "cell_type": "code",
   "execution_count": 7,
   "id": "f3903317",
   "metadata": {},
   "outputs": [
    {
     "data": {
      "text/plain": [
       "0"
      ]
     },
     "execution_count": 7,
     "metadata": {},
     "output_type": "execute_result"
    }
   ],
   "source": [
    "X[0].ndim"
   ]
  },
  {
   "cell_type": "code",
   "execution_count": 8,
   "id": "9a349ffb",
   "metadata": {},
   "outputs": [
    {
     "data": {
      "text/plain": [
       "(<tf.Tensor: shape=(8,), dtype=float32, numpy=array([-7., -4., -1.,  2.,  5.,  8., 11., 14.], dtype=float32)>,\n",
       " <tf.Tensor: shape=(8,), dtype=float32, numpy=array([ 3.,  6.,  9., 12., 15., 18., 21., 24.], dtype=float32)>)"
      ]
     },
     "execution_count": 8,
     "metadata": {},
     "output_type": "execute_result"
    }
   ],
   "source": [
    "#Turn our Numpy arrays into Tensors\n",
    "\n",
    "x = tf.cast(tf.constant(X), dtype=tf.float32)\n",
    "y = tf.cast(tf.constant(y), dtype=tf.float32)\n",
    "x, y"
   ]
  },
  {
   "cell_type": "code",
   "execution_count": 9,
   "id": "fc5e539a",
   "metadata": {},
   "outputs": [
    {
     "data": {
      "text/plain": [
       "(TensorShape([]), TensorShape([]))"
      ]
     },
     "execution_count": 9,
     "metadata": {},
     "output_type": "execute_result"
    }
   ],
   "source": [
    "input_shape = x[0].shape\n",
    "output_shape = y[0].shape\n",
    "input_shape, output_shape"
   ]
  },
  {
   "cell_type": "code",
   "execution_count": 10,
   "id": "57844db1",
   "metadata": {},
   "outputs": [
    {
     "data": {
      "text/plain": [
       "<matplotlib.collections.PathCollection at 0xfffeae717220>"
      ]
     },
     "execution_count": 10,
     "metadata": {},
     "output_type": "execute_result"
    },
    {
     "data": {
      "image/png": "[encoded data removed]",
      "text/plain": [
       "<Figure size 432x288 with 1 Axes>"
      ]
     },
     "metadata": {
      "needs_background": "light"
     },
     "output_type": "display_data"
    }
   ],
   "source": [
    "plt.scatter(x, y)"
   ]
  },
  {
   "cell_type": "code",
   "execution_count": 11,
   "id": "7f7d4190",
   "metadata": {},
   "outputs": [
    {
     "name": "stdout",
     "output_type": "stream",
     "text": [
      "Epoch 1/50\n",
      "1/1 [==============================] - 3s 3s/step - loss: 8.3195 - mae: 8.3195\n",
      "Epoch 2/50\n",
      "1/1 [==============================] - 0s 23ms/step - loss: 8.1870 - mae: 8.1870\n",
      "Epoch 3/50\n",
      "1/1 [==============================] - 0s 26ms/step - loss: 8.0545 - mae: 8.0545\n",
      "Epoch 4/50\n",
      "1/1 [==============================] - 0s 25ms/step - loss: 7.9220 - mae: 7.9220\n",
      "Epoch 5/50\n",
      "1/1 [==============================] - 0s 25ms/step - loss: 7.7895 - mae: 7.7895\n",
      "Epoch 6/50\n",
      "1/1 [==============================] - 0s 22ms/step - loss: 7.6570 - mae: 7.6570\n",
      "Epoch 7/50\n",
      "1/1 [==============================] - 0s 23ms/step - loss: 7.5245 - mae: 7.5245\n",
      "Epoch 8/50\n",
      "1/1 [==============================] - 0s 18ms/step - loss: 7.4475 - mae: 7.4475\n",
      "Epoch 9/50\n",
      "1/1 [==============================] - 0s 24ms/step - loss: 7.4419 - mae: 7.4419\n",
      "Epoch 10/50\n",
      "1/1 [==============================] - 0s 24ms/step - loss: 7.4362 - mae: 7.4362\n",
      "Epoch 11/50\n",
      "1/1 [==============================] - 0s 25ms/step - loss: 7.4306 - mae: 7.4306\n",
      "Epoch 12/50\n",
      "1/1 [==============================] - 0s 25ms/step - loss: 7.4250 - mae: 7.4250\n",
      "Epoch 13/50\n",
      "1/1 [==============================] - 0s 42ms/step - loss: 7.4194 - mae: 7.4194\n",
      "Epoch 14/50\n",
      "1/1 [==============================] - 0s 27ms/step - loss: 7.4138 - mae: 7.4138\n",
      "Epoch 15/50\n",
      "1/1 [==============================] - 0s 23ms/step - loss: 7.4081 - mae: 7.4081\n",
      "Epoch 16/50\n",
      "1/1 [==============================] - 0s 17ms/step - loss: 7.4025 - mae: 7.4025\n",
      "Epoch 17/50\n",
      "1/1 [==============================] - 0s 17ms/step - loss: 7.3969 - mae: 7.3969\n",
      "Epoch 18/50\n",
      "1/1 [==============================] - 0s 17ms/step - loss: 7.3913 - mae: 7.3913\n",
      "Epoch 19/50\n",
      "1/1 [==============================] - 0s 17ms/step - loss: 7.3856 - mae: 7.3856\n",
      "Epoch 20/50\n",
      "1/1 [==============================] - 0s 17ms/step - loss: 7.3800 - mae: 7.3800\n",
      "Epoch 21/50\n",
      "1/1 [==============================] - 0s 18ms/step - loss: 7.3744 - mae: 7.3744\n",
      "Epoch 22/50\n",
      "1/1 [==============================] - 0s 17ms/step - loss: 7.3688 - mae: 7.3688\n",
      "Epoch 23/50\n",
      "1/1 [==============================] - 0s 17ms/step - loss: 7.3631 - mae: 7.3631\n",
      "Epoch 24/50\n",
      "1/1 [==============================] - 0s 17ms/step - loss: 7.3575 - mae: 7.3575\n",
      "Epoch 25/50\n",
      "1/1 [==============================] - 0s 17ms/step - loss: 7.3519 - mae: 7.3519\n",
      "Epoch 26/50\n",
      "1/1 [==============================] - 0s 17ms/step - loss: 7.3463 - mae: 7.3463\n",
      "Epoch 27/50\n",
      "1/1 [==============================] - 0s 18ms/step - loss: 7.3406 - mae: 7.3406\n",
      "Epoch 28/50\n",
      "1/1 [==============================] - 0s 17ms/step - loss: 7.3350 - mae: 7.3350\n",
      "Epoch 29/50\n",
      "1/1 [==============================] - 0s 16ms/step - loss: 7.3294 - mae: 7.3294\n",
      "Epoch 30/50\n",
      "1/1 [==============================] - 0s 17ms/step - loss: 7.3238 - mae: 7.3238\n",
      "Epoch 31/50\n",
      "1/1 [==============================] - 0s 17ms/step - loss: 7.3181 - mae: 7.3181\n",
      "Epoch 32/50\n",
      "1/1 [==============================] - 0s 17ms/step - loss: 7.3125 - mae: 7.3125\n",
      "Epoch 33/50\n",
      "1/1 [==============================] - 0s 16ms/step - loss: 7.3069 - mae: 7.3069\n",
      "Epoch 34/50\n",
      "1/1 [==============================] - 0s 17ms/step - loss: 7.3013 - mae: 7.3013\n",
      "Epoch 35/50\n",
      "1/1 [==============================] - 0s 17ms/step - loss: 7.2956 - mae: 7.2956\n",
      "Epoch 36/50\n",
      "1/1 [==============================] - 0s 17ms/step - loss: 7.2900 - mae: 7.2900\n",
      "Epoch 37/50\n",
      "1/1 [==============================] - 0s 17ms/step - loss: 7.2844 - mae: 7.2844\n",
      "Epoch 38/50\n",
      "1/1 [==============================] - 0s 18ms/step - loss: 7.2787 - mae: 7.2787\n",
      "Epoch 39/50\n",
      "1/1 [==============================] - 0s 17ms/step - loss: 7.2731 - mae: 7.2731\n",
      "Epoch 40/50\n",
      "1/1 [==============================] - 0s 16ms/step - loss: 7.2675 - mae: 7.2675\n",
      "Epoch 41/50\n",
      "1/1 [==============================] - 0s 17ms/step - loss: 7.2619 - mae: 7.2619\n",
      "Epoch 42/50\n",
      "1/1 [==============================] - 0s 20ms/step - loss: 7.2563 - mae: 7.2563\n",
      "Epoch 43/50\n",
      "1/1 [==============================] - 0s 16ms/step - loss: 7.2506 - mae: 7.2506\n",
      "Epoch 44/50\n",
      "1/1 [==============================] - 0s 16ms/step - loss: 7.2450 - mae: 7.2450\n",
      "Epoch 45/50\n",
      "1/1 [==============================] - 0s 15ms/step - loss: 7.2394 - mae: 7.2394\n",
      "Epoch 46/50\n",
      "1/1 [==============================] - 0s 15ms/step - loss: 7.2338 - mae: 7.2338\n",
      "Epoch 47/50\n",
      "1/1 [==============================] - 0s 15ms/step - loss: 7.2281 - mae: 7.2281\n",
      "Epoch 48/50\n",
      "1/1 [==============================] - 0s 16ms/step - loss: 7.2225 - mae: 7.2225\n",
      "Epoch 49/50\n",
      "1/1 [==============================] - 0s 16ms/step - loss: 7.2169 - mae: 7.2169\n",
      "Epoch 50/50\n",
      "1/1 [==============================] - 0s 15ms/step - loss: 7.2113 - mae: 7.2113\n"
     ]
    },
    {
     "data": {
      "text/plain": [
       "<keras.callbacks.History at 0xfffeae5f6f40>"
      ]
     },
     "execution_count": 11,
     "metadata": {},
     "output_type": "execute_result"
    }
   ],
   "source": [
    "# Set seed\n",
    "tf.random.set_seed(42)\n",
    "\n",
    "#Sequential API\n",
    "model = tf.keras.Sequential([\n",
    "    tf.keras.layers.Dense(1)\n",
    "    # tf.keras.layers.Dense(1)\n",
    "])\n",
    "\n",
    "#mae - Mean Absolute Error\n",
    "model.compile(loss = tf.keras.losses.mae, \n",
    "              optimizer= tf.keras.optimizers.SGD(),\n",
    "              metrics=[\"mae\"])\n",
    "\n",
    "model.fit(tf.expand_dims(X, axis=-1), y, epochs=50)\n"
   ]
  },
  {
   "cell_type": "code",
   "execution_count": 12,
   "id": "0c321cb6",
   "metadata": {},
   "outputs": [
    {
     "data": {
      "text/plain": [
       "(<tf.Tensor: shape=(8,), dtype=float32, numpy=array([-7., -4., -1.,  2.,  5.,  8., 11., 14.], dtype=float32)>,\n",
       " <tf.Tensor: shape=(8,), dtype=float32, numpy=array([ 3.,  6.,  9., 12., 15., 18., 21., 24.], dtype=float32)>)"
      ]
     },
     "execution_count": 12,
     "metadata": {},
     "output_type": "execute_result"
    }
   ],
   "source": [
    "x, y"
   ]
  },
  {
   "cell_type": "code",
   "execution_count": 13,
   "id": "c0fedb2f",
   "metadata": {},
   "outputs": [
    {
     "name": "stdout",
     "output_type": "stream",
     "text": [
      "1/1 [==============================] - 0s 208ms/step\n"
     ]
    },
    {
     "data": {
      "text/plain": [
       "array([[29.720043]], dtype=float32)"
      ]
     },
     "execution_count": 13,
     "metadata": {},
     "output_type": "execute_result"
    }
   ],
   "source": [
    "model.predict([17.0])"
   ]
  },
  {
   "cell_type": "code",
   "execution_count": 14,
   "id": "9f433e72",
   "metadata": {},
   "outputs": [
    {
     "name": "stdout",
     "output_type": "stream",
     "text": [
      "1/1 [==============================] - 0s 92ms/step\n"
     ]
    },
    {
     "data": {
      "text/plain": [
       "array([[24.544596]], dtype=float32)"
      ]
     },
     "execution_count": 14,
     "metadata": {},
     "output_type": "execute_result"
    }
   ],
   "source": [
    "y_pred = model.predict([14.0])\n",
    "y_pred"
   ]
  },
  {
   "cell_type": "markdown",
   "id": "eb0073fb",
   "metadata": {},
   "source": [
    "# Improving our Model"
   ]
  },
  {
   "cell_type": "code",
   "execution_count": 15,
   "id": "466ba315",
   "metadata": {},
   "outputs": [
    {
     "name": "stdout",
     "output_type": "stream",
     "text": [
      "Epoch 1/100\n",
      "1/1 [==============================] - 1s 848ms/step - loss: 18.0572 - mae: 18.0572\n",
      "Epoch 2/100\n",
      "1/1 [==============================] - 0s 16ms/step - loss: 17.7760 - mae: 17.7760\n",
      "Epoch 3/100\n",
      "1/1 [==============================] - 0s 17ms/step - loss: 17.4947 - mae: 17.4947\n",
      "Epoch 4/100\n",
      "1/1 [==============================] - 0s 18ms/step - loss: 17.2135 - mae: 17.2135\n",
      "Epoch 5/100\n",
      "1/1 [==============================] - 0s 16ms/step - loss: 16.9322 - mae: 16.9322\n",
      "Epoch 6/100\n",
      "1/1 [==============================] - 0s 15ms/step - loss: 16.6510 - mae: 16.6510\n",
      "Epoch 7/100\n",
      "1/1 [==============================] - 0s 17ms/step - loss: 16.3697 - mae: 16.3697\n",
      "Epoch 8/100\n",
      "1/1 [==============================] - 0s 16ms/step - loss: 16.0885 - mae: 16.0885\n",
      "Epoch 9/100\n",
      "1/1 [==============================] - 0s 16ms/step - loss: 15.8072 - mae: 15.8072\n",
      "Epoch 10/100\n",
      "1/1 [==============================] - 0s 15ms/step - loss: 15.5260 - mae: 15.5260\n",
      "Epoch 11/100\n",
      "1/1 [==============================] - 0s 15ms/step - loss: 15.2447 - mae: 15.2447\n",
      "Epoch 12/100\n",
      "1/1 [==============================] - 0s 15ms/step - loss: 14.9635 - mae: 14.9635\n",
      "Epoch 13/100\n",
      "1/1 [==============================] - 0s 15ms/step - loss: 14.7431 - mae: 14.7431\n",
      "Epoch 14/100\n",
      "1/1 [==============================] - 0s 15ms/step - loss: 14.6106 - mae: 14.6106\n",
      "Epoch 15/100\n",
      "1/1 [==============================] - 0s 16ms/step - loss: 14.4781 - mae: 14.4781\n",
      "Epoch 16/100\n",
      "1/1 [==============================] - 0s 14ms/step - loss: 14.3456 - mae: 14.3456\n",
      "Epoch 17/100\n",
      "1/1 [==============================] - 0s 15ms/step - loss: 14.2131 - mae: 14.2131\n",
      "Epoch 18/100\n",
      "1/1 [==============================] - 0s 14ms/step - loss: 14.0806 - mae: 14.0806\n",
      "Epoch 19/100\n",
      "1/1 [==============================] - 0s 15ms/step - loss: 13.9481 - mae: 13.9481\n",
      "Epoch 20/100\n",
      "1/1 [==============================] - 0s 14ms/step - loss: 13.8156 - mae: 13.8156\n",
      "Epoch 21/100\n",
      "1/1 [==============================] - 0s 14ms/step - loss: 13.6831 - mae: 13.6831\n",
      "Epoch 22/100\n",
      "1/1 [==============================] - 0s 15ms/step - loss: 13.5506 - mae: 13.5506\n",
      "Epoch 23/100\n",
      "1/1 [==============================] - 0s 15ms/step - loss: 13.4181 - mae: 13.4181\n",
      "Epoch 24/100\n",
      "1/1 [==============================] - 0s 15ms/step - loss: 13.2856 - mae: 13.2856\n",
      "Epoch 25/100\n",
      "1/1 [==============================] - 0s 15ms/step - loss: 13.1531 - mae: 13.1531\n",
      "Epoch 26/100\n",
      "1/1 [==============================] - 0s 15ms/step - loss: 13.0206 - mae: 13.0206\n",
      "Epoch 27/100\n",
      "1/1 [==============================] - 0s 15ms/step - loss: 12.8881 - mae: 12.8881\n",
      "Epoch 28/100\n",
      "1/1 [==============================] - 0s 23ms/step - loss: 12.7556 - mae: 12.7556\n",
      "Epoch 29/100\n",
      "1/1 [==============================] - 0s 17ms/step - loss: 12.6231 - mae: 12.6231\n",
      "Epoch 30/100\n",
      "1/1 [==============================] - 0s 15ms/step - loss: 12.4906 - mae: 12.4906\n",
      "Epoch 31/100\n",
      "1/1 [==============================] - 0s 16ms/step - loss: 12.3581 - mae: 12.3581\n",
      "Epoch 32/100\n",
      "1/1 [==============================] - 0s 16ms/step - loss: 12.2256 - mae: 12.2256\n",
      "Epoch 33/100\n",
      "1/1 [==============================] - 0s 15ms/step - loss: 12.0931 - mae: 12.0931\n",
      "Epoch 34/100\n",
      "1/1 [==============================] - 0s 15ms/step - loss: 11.9606 - mae: 11.9606\n",
      "Epoch 35/100\n",
      "1/1 [==============================] - 0s 15ms/step - loss: 11.8281 - mae: 11.8281\n",
      "Epoch 36/100\n",
      "1/1 [==============================] - 0s 16ms/step - loss: 11.6956 - mae: 11.6956\n",
      "Epoch 37/100\n",
      "1/1 [==============================] - 0s 14ms/step - loss: 11.5631 - mae: 11.5631\n",
      "Epoch 38/100\n",
      "1/1 [==============================] - 0s 15ms/step - loss: 11.4306 - mae: 11.4306\n",
      "Epoch 39/100\n",
      "1/1 [==============================] - 0s 14ms/step - loss: 11.2981 - mae: 11.2981\n",
      "Epoch 40/100\n",
      "1/1 [==============================] - 0s 14ms/step - loss: 11.1656 - mae: 11.1656\n",
      "Epoch 41/100\n",
      "1/1 [==============================] - 0s 14ms/step - loss: 11.0331 - mae: 11.0331\n",
      "Epoch 42/100\n",
      "1/1 [==============================] - 0s 15ms/step - loss: 10.9006 - mae: 10.9006\n",
      "Epoch 43/100\n",
      "1/1 [==============================] - 0s 15ms/step - loss: 10.7681 - mae: 10.7681\n",
      "Epoch 44/100\n",
      "1/1 [==============================] - 0s 15ms/step - loss: 10.6356 - mae: 10.6356\n",
      "Epoch 45/100\n",
      "1/1 [==============================] - 0s 15ms/step - loss: 10.5031 - mae: 10.5031\n",
      "Epoch 46/100\n",
      "1/1 [==============================] - 0s 14ms/step - loss: 10.3706 - mae: 10.3706\n",
      "Epoch 47/100\n",
      "1/1 [==============================] - 0s 14ms/step - loss: 10.2381 - mae: 10.2381\n",
      "Epoch 48/100\n",
      "1/1 [==============================] - 0s 15ms/step - loss: 10.1056 - mae: 10.1056\n",
      "Epoch 49/100\n",
      "1/1 [==============================] - 0s 15ms/step - loss: 9.9731 - mae: 9.9731\n",
      "Epoch 50/100\n",
      "1/1 [==============================] - 0s 15ms/step - loss: 9.8406 - mae: 9.8406\n",
      "Epoch 51/100\n",
      "1/1 [==============================] - 0s 15ms/step - loss: 9.7081 - mae: 9.7081\n",
      "Epoch 52/100\n",
      "1/1 [==============================] - 0s 15ms/step - loss: 9.5756 - mae: 9.5756\n",
      "Epoch 53/100\n",
      "1/1 [==============================] - 0s 15ms/step - loss: 9.4431 - mae: 9.4431\n",
      "Epoch 54/100\n",
      "1/1 [==============================] - 0s 15ms/step - loss: 9.3106 - mae: 9.3106\n",
      "Epoch 55/100\n",
      "1/1 [==============================] - 0s 15ms/step - loss: 9.1781 - mae: 9.1781\n",
      "Epoch 56/100\n",
      "1/1 [==============================] - 0s 15ms/step - loss: 9.0456 - mae: 9.0456\n",
      "Epoch 57/100\n",
      "1/1 [==============================] - 0s 15ms/step - loss: 8.9131 - mae: 8.9131\n",
      "Epoch 58/100\n",
      "1/1 [==============================] - 0s 15ms/step - loss: 8.7806 - mae: 8.7806\n",
      "Epoch 59/100\n",
      "1/1 [==============================] - 0s 15ms/step - loss: 8.6481 - mae: 8.6481\n",
      "Epoch 60/100\n",
      "1/1 [==============================] - 0s 15ms/step - loss: 8.5156 - mae: 8.5156\n",
      "Epoch 61/100\n",
      "1/1 [==============================] - 0s 15ms/step - loss: 8.3831 - mae: 8.3831\n",
      "Epoch 62/100\n",
      "1/1 [==============================] - 0s 15ms/step - loss: 8.2506 - mae: 8.2506\n",
      "Epoch 63/100\n",
      "1/1 [==============================] - 0s 15ms/step - loss: 8.1181 - mae: 8.1181\n",
      "Epoch 64/100\n",
      "1/1 [==============================] - 0s 14ms/step - loss: 7.9856 - mae: 7.9856\n",
      "Epoch 65/100\n",
      "1/1 [==============================] - 0s 18ms/step - loss: 7.8531 - mae: 7.8531\n",
      "Epoch 66/100\n",
      "1/1 [==============================] - 0s 15ms/step - loss: 7.7206 - mae: 7.7206\n",
      "Epoch 67/100\n",
      "1/1 [==============================] - 0s 15ms/step - loss: 7.5881 - mae: 7.5881\n",
      "Epoch 68/100\n",
      "1/1 [==============================] - 0s 14ms/step - loss: 7.4556 - mae: 7.4556\n",
      "Epoch 69/100\n",
      "1/1 [==============================] - 0s 15ms/step - loss: 7.3231 - mae: 7.3231\n",
      "Epoch 70/100\n",
      "1/1 [==============================] - 0s 14ms/step - loss: 7.1906 - mae: 7.1906\n",
      "Epoch 71/100\n",
      "1/1 [==============================] - 0s 14ms/step - loss: 7.0581 - mae: 7.0581\n",
      "Epoch 72/100\n",
      "1/1 [==============================] - 0s 15ms/step - loss: 6.9900 - mae: 6.9900\n",
      "Epoch 73/100\n",
      "1/1 [==============================] - 0s 15ms/step - loss: 6.9844 - mae: 6.9844\n",
      "Epoch 74/100\n",
      "1/1 [==============================] - 0s 14ms/step - loss: 6.9788 - mae: 6.9788\n",
      "Epoch 75/100\n",
      "1/1 [==============================] - 0s 15ms/step - loss: 6.9731 - mae: 6.9731\n",
      "Epoch 76/100\n",
      "1/1 [==============================] - 0s 15ms/step - loss: 6.9675 - mae: 6.9675\n",
      "Epoch 77/100\n",
      "1/1 [==============================] - 0s 17ms/step - loss: 6.9619 - mae: 6.9619\n",
      "Epoch 78/100\n",
      "1/1 [==============================] - 0s 16ms/step - loss: 6.9563 - mae: 6.9563\n",
      "Epoch 79/100\n",
      "1/1 [==============================] - 0s 15ms/step - loss: 6.9506 - mae: 6.9506\n",
      "Epoch 80/100\n",
      "1/1 [==============================] - 0s 15ms/step - loss: 6.9450 - mae: 6.9450\n",
      "Epoch 81/100\n",
      "1/1 [==============================] - 0s 15ms/step - loss: 6.9394 - mae: 6.9394\n",
      "Epoch 82/100\n",
      "1/1 [==============================] - 0s 15ms/step - loss: 6.9338 - mae: 6.9338\n",
      "Epoch 83/100\n",
      "1/1 [==============================] - 0s 14ms/step - loss: 6.9281 - mae: 6.9281\n",
      "Epoch 84/100\n",
      "1/1 [==============================] - 0s 14ms/step - loss: 6.9225 - mae: 6.9225\n",
      "Epoch 85/100\n",
      "1/1 [==============================] - 0s 15ms/step - loss: 6.9169 - mae: 6.9169\n",
      "Epoch 86/100\n",
      "1/1 [==============================] - 0s 14ms/step - loss: 6.9113 - mae: 6.9113\n",
      "Epoch 87/100\n"
     ]
    },
    {
     "name": "stdout",
     "output_type": "stream",
     "text": [
      "1/1 [==============================] - 0s 14ms/step - loss: 6.9056 - mae: 6.9056\n",
      "Epoch 88/100\n",
      "1/1 [==============================] - 0s 14ms/step - loss: 6.9000 - mae: 6.9000\n",
      "Epoch 89/100\n",
      "1/1 [==============================] - 0s 14ms/step - loss: 6.8944 - mae: 6.8944\n",
      "Epoch 90/100\n",
      "1/1 [==============================] - 0s 14ms/step - loss: 6.8888 - mae: 6.8888\n",
      "Epoch 91/100\n",
      "1/1 [==============================] - 0s 14ms/step - loss: 6.8831 - mae: 6.8831\n",
      "Epoch 92/100\n",
      "1/1 [==============================] - 0s 14ms/step - loss: 6.8775 - mae: 6.8775\n",
      "Epoch 93/100\n",
      "1/1 [==============================] - 0s 15ms/step - loss: 6.8719 - mae: 6.8719\n",
      "Epoch 94/100\n",
      "1/1 [==============================] - 0s 19ms/step - loss: 6.8663 - mae: 6.8663\n",
      "Epoch 95/100\n",
      "1/1 [==============================] - 0s 15ms/step - loss: 6.8606 - mae: 6.8606\n",
      "Epoch 96/100\n",
      "1/1 [==============================] - 0s 15ms/step - loss: 6.8550 - mae: 6.8550\n",
      "Epoch 97/100\n",
      "1/1 [==============================] - 0s 14ms/step - loss: 6.8494 - mae: 6.8494\n",
      "Epoch 98/100\n",
      "1/1 [==============================] - 0s 14ms/step - loss: 6.8438 - mae: 6.8438\n",
      "Epoch 99/100\n",
      "1/1 [==============================] - 0s 14ms/step - loss: 6.8381 - mae: 6.8381\n",
      "Epoch 100/100\n",
      "1/1 [==============================] - 0s 14ms/step - loss: 6.8325 - mae: 6.8325\n"
     ]
    },
    {
     "data": {
      "text/plain": [
       "<keras.callbacks.History at 0xfffeae379850>"
      ]
     },
     "execution_count": 15,
     "metadata": {},
     "output_type": "execute_result"
    }
   ],
   "source": [
    "model = tf.keras.Sequential([\n",
    "    tf.keras.layers.Dense(1)\n",
    "])\n",
    "\n",
    "model.compile(loss=tf.keras.losses.mae,\n",
    "             optimizer=tf.keras.optimizers.SGD(),\n",
    "             metrics=[\"mae\"])\n",
    "\n",
    "model.fit(tf.expand_dims(X, axis=-1), y, epochs=100)"
   ]
  },
  {
   "cell_type": "code",
   "execution_count": 16,
   "id": "c83c4d38",
   "metadata": {},
   "outputs": [
    {
     "data": {
      "text/plain": [
       "array([-7., -4., -1.,  2.,  5.,  8., 11., 14.])"
      ]
     },
     "execution_count": 16,
     "metadata": {},
     "output_type": "execute_result"
    }
   ],
   "source": [
    "X"
   ]
  },
  {
   "cell_type": "code",
   "execution_count": 17,
   "id": "56d16f46",
   "metadata": {},
   "outputs": [
    {
     "data": {
      "text/plain": [
       "<tf.Tensor: shape=(8,), dtype=float32, numpy=array([ 3.,  6.,  9., 12., 15., 18., 21., 24.], dtype=float32)>"
      ]
     },
     "execution_count": 17,
     "metadata": {},
     "output_type": "execute_result"
    }
   ],
   "source": [
    "y\n"
   ]
  },
  {
   "cell_type": "code",
   "execution_count": 18,
   "id": "9ad2f78c",
   "metadata": {},
   "outputs": [
    {
     "name": "stdout",
     "output_type": "stream",
     "text": [
      "1/1 [==============================] - 0s 143ms/step\n"
     ]
    },
    {
     "data": {
      "text/plain": [
       "array([[29.527203]], dtype=float32)"
      ]
     },
     "execution_count": 18,
     "metadata": {},
     "output_type": "execute_result"
    }
   ],
   "source": [
    "model.predict([17.0])"
   ]
  },
  {
   "cell_type": "code",
   "execution_count": 19,
   "id": "79cb7a44",
   "metadata": {},
   "outputs": [
    {
     "name": "stdout",
     "output_type": "stream",
     "text": [
      "Epoch 1/50\n",
      "1/1 [==============================] - 2s 2s/step - loss: 13.0352 - mae: 13.0352\n",
      "Epoch 2/50\n",
      "1/1 [==============================] - 0s 18ms/step - loss: 12.1060 - mae: 12.1060\n",
      "Epoch 3/50\n",
      "1/1 [==============================] - 0s 24ms/step - loss: 11.1721 - mae: 11.1721\n",
      "Epoch 4/50\n",
      "1/1 [==============================] - 0s 25ms/step - loss: 10.2272 - mae: 10.2272\n",
      "Epoch 5/50\n",
      "1/1 [==============================] - 0s 21ms/step - loss: 9.2649 - mae: 9.2649\n",
      "Epoch 6/50\n",
      "1/1 [==============================] - 0s 18ms/step - loss: 8.2790 - mae: 8.2790\n",
      "Epoch 7/50\n",
      "1/1 [==============================] - 0s 17ms/step - loss: 7.2625 - mae: 7.2625\n",
      "Epoch 8/50\n",
      "1/1 [==============================] - 0s 17ms/step - loss: 6.7898 - mae: 6.7898\n",
      "Epoch 9/50\n",
      "1/1 [==============================] - 0s 17ms/step - loss: 7.3253 - mae: 7.3253\n",
      "Epoch 10/50\n",
      "1/1 [==============================] - 0s 17ms/step - loss: 7.8967 - mae: 7.8967\n",
      "Epoch 11/50\n",
      "1/1 [==============================] - 0s 17ms/step - loss: 8.1069 - mae: 8.1069\n",
      "Epoch 12/50\n",
      "1/1 [==============================] - 0s 17ms/step - loss: 7.9865 - mae: 7.9865\n",
      "Epoch 13/50\n",
      "1/1 [==============================] - 0s 18ms/step - loss: 7.6362 - mae: 7.6362\n",
      "Epoch 14/50\n",
      "1/1 [==============================] - 0s 17ms/step - loss: 7.1248 - mae: 7.1248\n",
      "Epoch 15/50\n",
      "1/1 [==============================] - 0s 17ms/step - loss: 6.6978 - mae: 6.6978\n",
      "Epoch 16/50\n",
      "1/1 [==============================] - 0s 17ms/step - loss: 6.3041 - mae: 6.3041\n",
      "Epoch 17/50\n",
      "1/1 [==============================] - 0s 16ms/step - loss: 6.1081 - mae: 6.1081\n",
      "Epoch 18/50\n",
      "1/1 [==============================] - 0s 17ms/step - loss: 6.1562 - mae: 6.1562\n",
      "Epoch 19/50\n",
      "1/1 [==============================] - 0s 17ms/step - loss: 6.3210 - mae: 6.3210\n",
      "Epoch 20/50\n",
      "1/1 [==============================] - 0s 17ms/step - loss: 6.3375 - mae: 6.3375\n",
      "Epoch 21/50\n",
      "1/1 [==============================] - 0s 17ms/step - loss: 6.2278 - mae: 6.2278\n",
      "Epoch 22/50\n",
      "1/1 [==============================] - 0s 16ms/step - loss: 6.0074 - mae: 6.0074\n",
      "Epoch 23/50\n",
      "1/1 [==============================] - 0s 17ms/step - loss: 5.6868 - mae: 5.6868\n",
      "Epoch 24/50\n",
      "1/1 [==============================] - 0s 17ms/step - loss: 5.4248 - mae: 5.4248\n",
      "Epoch 25/50\n",
      "1/1 [==============================] - 0s 17ms/step - loss: 5.2763 - mae: 5.2763\n",
      "Epoch 26/50\n",
      "1/1 [==============================] - 0s 17ms/step - loss: 5.2828 - mae: 5.2828\n",
      "Epoch 27/50\n",
      "1/1 [==============================] - 0s 15ms/step - loss: 5.2804 - mae: 5.2804\n",
      "Epoch 28/50\n",
      "1/1 [==============================] - 0s 15ms/step - loss: 5.2215 - mae: 5.2215\n",
      "Epoch 29/50\n",
      "1/1 [==============================] - 0s 15ms/step - loss: 5.1098 - mae: 5.1098\n",
      "Epoch 30/50\n",
      "1/1 [==============================] - 0s 15ms/step - loss: 4.9492 - mae: 4.9492\n",
      "Epoch 31/50\n",
      "1/1 [==============================] - 0s 16ms/step - loss: 4.7434 - mae: 4.7434\n",
      "Epoch 32/50\n",
      "1/1 [==============================] - 0s 24ms/step - loss: 4.4956 - mae: 4.4956\n",
      "Epoch 33/50\n",
      "1/1 [==============================] - 0s 16ms/step - loss: 4.2089 - mae: 4.2089\n",
      "Epoch 34/50\n",
      "1/1 [==============================] - 0s 15ms/step - loss: 4.0552 - mae: 4.0552\n",
      "Epoch 35/50\n",
      "1/1 [==============================] - 0s 15ms/step - loss: 3.9912 - mae: 3.9912\n",
      "Epoch 36/50\n",
      "1/1 [==============================] - 0s 15ms/step - loss: 3.9071 - mae: 3.9071\n",
      "Epoch 37/50\n",
      "1/1 [==============================] - 0s 16ms/step - loss: 3.6644 - mae: 3.6644\n",
      "Epoch 38/50\n",
      "1/1 [==============================] - 0s 15ms/step - loss: 3.3206 - mae: 3.3206\n",
      "Epoch 39/50\n",
      "1/1 [==============================] - 0s 16ms/step - loss: 3.0800 - mae: 3.0800\n",
      "Epoch 40/50\n",
      "1/1 [==============================] - 0s 16ms/step - loss: 2.9358 - mae: 2.9358\n",
      "Epoch 41/50\n",
      "1/1 [==============================] - 0s 15ms/step - loss: 2.7651 - mae: 2.7651\n",
      "Epoch 42/50\n",
      "1/1 [==============================] - 0s 16ms/step - loss: 2.5222 - mae: 2.5222\n",
      "Epoch 43/50\n",
      "1/1 [==============================] - 0s 16ms/step - loss: 2.2083 - mae: 2.2083\n",
      "Epoch 44/50\n",
      "1/1 [==============================] - 0s 15ms/step - loss: 1.8248 - mae: 1.8248\n",
      "Epoch 45/50\n",
      "1/1 [==============================] - 0s 15ms/step - loss: 1.6189 - mae: 1.6189\n",
      "Epoch 46/50\n",
      "1/1 [==============================] - 0s 15ms/step - loss: 1.3961 - mae: 1.3961\n",
      "Epoch 47/50\n",
      "1/1 [==============================] - 0s 15ms/step - loss: 0.9609 - mae: 0.9609\n",
      "Epoch 48/50\n",
      "1/1 [==============================] - 0s 16ms/step - loss: 0.6827 - mae: 0.6827\n",
      "Epoch 49/50\n",
      "1/1 [==============================] - 0s 16ms/step - loss: 0.5105 - mae: 0.5105\n",
      "Epoch 50/50\n",
      "1/1 [==============================] - 0s 15ms/step - loss: 0.2025 - mae: 0.2025\n"
     ]
    },
    {
     "data": {
      "text/plain": [
       "<keras.callbacks.History at 0xfffeae3ba520>"
      ]
     },
     "execution_count": 19,
     "metadata": {},
     "output_type": "execute_result"
    }
   ],
   "source": [
    "model = tf.keras.Sequential([\n",
    "    tf.keras.layers.Dense(100, activation=None),\n",
    "    #tf.keras.layers.Dense(50, activation=\"relu\"),\n",
    "    tf.keras.layers.Dense(1)\n",
    "])\n",
    "\n",
    "model.compile(loss=\"mae\",\n",
    "             optimizer=tf.keras.optimizers.Adam(learning_rate=0.01),\n",
    "             metrics=[\"mae\"])\n",
    "\n",
    "model.fit(tf.expand_dims(X, axis=-1), y, epochs=50)"
   ]
  },
  {
   "cell_type": "code",
   "execution_count": 20,
   "id": "379255d3",
   "metadata": {},
   "outputs": [
    {
     "name": "stdout",
     "output_type": "stream",
     "text": [
      "1/1 [==============================] - 0s 156ms/step\n"
     ]
    },
    {
     "data": {
      "text/plain": [
       "array([[25.289204]], dtype=float32)"
      ]
     },
     "execution_count": 20,
     "metadata": {},
     "output_type": "execute_result"
    }
   ],
   "source": [
    "model.predict([17.0])"
   ]
  },
  {
   "cell_type": "markdown",
   "id": "ad0ffae0",
   "metadata": {},
   "source": [
    "# Evaluating a model\n",
    "\n"
   ]
  },
  {
   "cell_type": "code",
   "execution_count": 21,
   "id": "52638f77",
   "metadata": {},
   "outputs": [
    {
     "data": {
      "text/plain": [
       "<tf.Tensor: shape=(50,), dtype=int32, numpy=\n",
       "array([-100,  -96,  -92,  -88,  -84,  -80,  -76,  -72,  -68,  -64,  -60,\n",
       "        -56,  -52,  -48,  -44,  -40,  -36,  -32,  -28,  -24,  -20,  -16,\n",
       "        -12,   -8,   -4,    0,    4,    8,   12,   16,   20,   24,   28,\n",
       "         32,   36,   40,   44,   48,   52,   56,   60,   64,   68,   72,\n",
       "         76,   80,   84,   88,   92,   96], dtype=int32)>"
      ]
     },
     "execution_count": 21,
     "metadata": {},
     "output_type": "execute_result"
    }
   ],
   "source": [
    "#Bigger Data\n",
    "\n",
    "X = tf.range(-100, 100, 4)\n",
    "X"
   ]
  },
  {
   "cell_type": "code",
   "execution_count": 22,
   "id": "5037cc41",
   "metadata": {},
   "outputs": [
    {
     "data": {
      "text/plain": [
       "<tf.Tensor: shape=(50,), dtype=int32, numpy=\n",
       "array([-90, -86, -82, -78, -74, -70, -66, -62, -58, -54, -50, -46, -42,\n",
       "       -38, -34, -30, -26, -22, -18, -14, -10,  -6,  -2,   2,   6,  10,\n",
       "        14,  18,  22,  26,  30,  34,  38,  42,  46,  50,  54,  58,  62,\n",
       "        66,  70,  74,  78,  82,  86,  90,  94,  98, 102, 106], dtype=int32)>"
      ]
     },
     "execution_count": 22,
     "metadata": {},
     "output_type": "execute_result"
    }
   ],
   "source": [
    "# make labels\n",
    "y = X + 10\n",
    "y"
   ]
  },
  {
   "cell_type": "code",
   "execution_count": 23,
   "id": "17e6598d",
   "metadata": {},
   "outputs": [],
   "source": [
    "#visualize\n",
    "import matplotlib.pyplot as plt\n"
   ]
  },
  {
   "cell_type": "code",
   "execution_count": 24,
   "id": "d384af56",
   "metadata": {},
   "outputs": [
    {
     "data": {
      "text/plain": [
       "<matplotlib.collections.PathCollection at 0xfffeadb9bfd0>"
      ]
     },
     "execution_count": 24,
     "metadata": {},
     "output_type": "execute_result"
    },
    {
     "data": {
      "image/png": "[encoded data removed]",
      "text/plain": [
       "<Figure size 432x288 with 1 Axes>"
      ]
     },
     "metadata": {
      "needs_background": "light"
     },
     "output_type": "display_data"
    }
   ],
   "source": [
    "plt.scatter(X, y)"
   ]
  },
  {
   "cell_type": "markdown",
   "id": "1ce5e961",
   "metadata": {},
   "source": [
    "# 3 Sets"
   ]
  },
  {
   "cell_type": "code",
   "execution_count": 25,
   "id": "a4e16277",
   "metadata": {},
   "outputs": [
    {
     "data": {
      "text/plain": [
       "50"
      ]
     },
     "execution_count": 25,
     "metadata": {},
     "output_type": "execute_result"
    }
   ],
   "source": [
    "len(X)"
   ]
  },
  {
   "cell_type": "code",
   "execution_count": 26,
   "id": "2cbc8636",
   "metadata": {},
   "outputs": [
    {
     "data": {
      "text/plain": [
       "(40, 10)"
      ]
     },
     "execution_count": 26,
     "metadata": {},
     "output_type": "execute_result"
    }
   ],
   "source": [
    "# split the data into train and test data\n",
    "X_train = X[:40] \n",
    "y_train = y[:40]\n",
    "X_test = X[40:]\n",
    "y_test = y[40:]\n",
    "\n",
    "len(X_train), len(y_test)\n"
   ]
  },
  {
   "cell_type": "code",
   "execution_count": 27,
   "id": "f67073b8",
   "metadata": {},
   "outputs": [
    {
     "data": {
      "image/png": "[encoded data removed]",
      "text/plain": [
       "<Figure size 720x504 with 1 Axes>"
      ]
     },
     "metadata": {
      "needs_background": "light"
     },
     "output_type": "display_data"
    }
   ],
   "source": [
    "plt.figure(figsize=(10, 7))\n",
    "plt.scatter(X_train, y_train, c=\"b\", label=\"Training data\")\n",
    "plt.scatter(X_test, y_test, c=\"g\", label=\"Testing data\")\n",
    "plt.legend();"
   ]
  },
  {
   "cell_type": "code",
   "execution_count": 28,
   "id": "64dd284c",
   "metadata": {},
   "outputs": [
    {
     "name": "stdout",
     "output_type": "stream",
     "text": [
      "Epoch 1/50\n",
      "2/2 [==============================] - 1s 15ms/step - loss: 30.6160 - mae: 30.6160\n",
      "Epoch 2/50\n",
      "2/2 [==============================] - 0s 14ms/step - loss: 9.8155 - mae: 9.8155\n",
      "Epoch 3/50\n",
      "2/2 [==============================] - 0s 19ms/step - loss: 10.7223 - mae: 10.7223\n",
      "Epoch 4/50\n",
      "2/2 [==============================] - 0s 14ms/step - loss: 9.5217 - mae: 9.5217\n",
      "Epoch 5/50\n",
      "2/2 [==============================] - 0s 14ms/step - loss: 10.4256 - mae: 10.4256\n",
      "Epoch 6/50\n",
      "2/2 [==============================] - 0s 14ms/step - loss: 9.6561 - mae: 9.6561\n",
      "Epoch 7/50\n",
      "2/2 [==============================] - 0s 15ms/step - loss: 8.7582 - mae: 8.7582\n",
      "Epoch 8/50\n",
      "2/2 [==============================] - 0s 14ms/step - loss: 9.0532 - mae: 9.0532\n",
      "Epoch 9/50\n",
      "2/2 [==============================] - 0s 13ms/step - loss: 19.2352 - mae: 19.2352\n",
      "Epoch 10/50\n",
      "2/2 [==============================] - 0s 13ms/step - loss: 10.3781 - mae: 10.3781\n",
      "Epoch 11/50\n",
      "2/2 [==============================] - 0s 14ms/step - loss: 8.4964 - mae: 8.4964\n",
      "Epoch 12/50\n",
      "2/2 [==============================] - 0s 14ms/step - loss: 10.8737 - mae: 10.8737\n",
      "Epoch 13/50\n",
      "2/2 [==============================] - 0s 13ms/step - loss: 9.9144 - mae: 9.9144\n",
      "Epoch 14/50\n",
      "2/2 [==============================] - 0s 13ms/step - loss: 9.4724 - mae: 9.4724\n",
      "Epoch 15/50\n",
      "2/2 [==============================] - 0s 13ms/step - loss: 13.6932 - mae: 13.6932\n",
      "Epoch 16/50\n",
      "2/2 [==============================] - 0s 13ms/step - loss: 8.9371 - mae: 8.9371\n",
      "Epoch 17/50\n",
      "2/2 [==============================] - 0s 13ms/step - loss: 12.8476 - mae: 12.8476\n",
      "Epoch 18/50\n",
      "2/2 [==============================] - 0s 13ms/step - loss: 10.4816 - mae: 10.4816\n",
      "Epoch 19/50\n",
      "2/2 [==============================] - 0s 14ms/step - loss: 19.2117 - mae: 19.2117\n",
      "Epoch 20/50\n",
      "2/2 [==============================] - 0s 12ms/step - loss: 15.8770 - mae: 15.8770\n",
      "Epoch 21/50\n",
      "2/2 [==============================] - 0s 12ms/step - loss: 11.7087 - mae: 11.7087\n",
      "Epoch 22/50\n",
      "2/2 [==============================] - 0s 12ms/step - loss: 8.9085 - mae: 8.9085\n",
      "Epoch 23/50\n",
      "2/2 [==============================] - 0s 12ms/step - loss: 10.0635 - mae: 10.0635\n",
      "Epoch 24/50\n",
      "2/2 [==============================] - 0s 12ms/step - loss: 15.6042 - mae: 15.6042\n",
      "Epoch 25/50\n",
      "2/2 [==============================] - 0s 12ms/step - loss: 12.0769 - mae: 12.0769\n",
      "Epoch 26/50\n",
      "2/2 [==============================] - 0s 12ms/step - loss: 13.1851 - mae: 13.1851\n",
      "Epoch 27/50\n",
      "2/2 [==============================] - 0s 12ms/step - loss: 10.6557 - mae: 10.6557\n",
      "Epoch 28/50\n",
      "2/2 [==============================] - 0s 12ms/step - loss: 12.8758 - mae: 12.8758\n",
      "Epoch 29/50\n",
      "2/2 [==============================] - 0s 12ms/step - loss: 9.5003 - mae: 9.5003\n",
      "Epoch 30/50\n",
      "2/2 [==============================] - 0s 12ms/step - loss: 16.4013 - mae: 16.4013\n",
      "Epoch 31/50\n",
      "2/2 [==============================] - 0s 12ms/step - loss: 23.5809 - mae: 23.5809\n",
      "Epoch 32/50\n",
      "2/2 [==============================] - 0s 12ms/step - loss: 7.6009 - mae: 7.6009\n",
      "Epoch 33/50\n",
      "2/2 [==============================] - 0s 12ms/step - loss: 9.2985 - mae: 9.2985\n",
      "Epoch 34/50\n",
      "2/2 [==============================] - 0s 16ms/step - loss: 13.6776 - mae: 13.6776\n",
      "Epoch 35/50\n",
      "2/2 [==============================] - 0s 12ms/step - loss: 11.1437 - mae: 11.1437\n",
      "Epoch 36/50\n",
      "2/2 [==============================] - 0s 12ms/step - loss: 13.3664 - mae: 13.3664\n",
      "Epoch 37/50\n",
      "2/2 [==============================] - 0s 12ms/step - loss: 9.4455 - mae: 9.4455\n",
      "Epoch 38/50\n",
      "2/2 [==============================] - 0s 12ms/step - loss: 10.0980 - mae: 10.0980\n",
      "Epoch 39/50\n",
      "2/2 [==============================] - 0s 12ms/step - loss: 10.1956 - mae: 10.1956\n",
      "Epoch 40/50\n",
      "2/2 [==============================] - 0s 12ms/step - loss: 10.9408 - mae: 10.9408\n",
      "Epoch 41/50\n",
      "2/2 [==============================] - 0s 13ms/step - loss: 7.9157 - mae: 7.9157\n",
      "Epoch 42/50\n",
      "2/2 [==============================] - 0s 12ms/step - loss: 10.5760 - mae: 10.5760\n",
      "Epoch 43/50\n",
      "2/2 [==============================] - 0s 12ms/step - loss: 7.2004 - mae: 7.2004\n",
      "Epoch 44/50\n",
      "2/2 [==============================] - 0s 12ms/step - loss: 7.9895 - mae: 7.9895\n",
      "Epoch 45/50\n",
      "2/2 [==============================] - 0s 12ms/step - loss: 9.7826 - mae: 9.7826\n",
      "Epoch 46/50\n",
      "2/2 [==============================] - 0s 13ms/step - loss: 8.8593 - mae: 8.8593\n",
      "Epoch 47/50\n",
      "2/2 [==============================] - 0s 12ms/step - loss: 7.5625 - mae: 7.5625\n",
      "Epoch 48/50\n",
      "2/2 [==============================] - 0s 12ms/step - loss: 8.5627 - mae: 8.5627\n",
      "Epoch 49/50\n",
      "2/2 [==============================] - 0s 12ms/step - loss: 9.9881 - mae: 9.9881\n",
      "Epoch 50/50\n",
      "2/2 [==============================] - 0s 12ms/step - loss: 9.0144 - mae: 9.0144\n"
     ]
    },
    {
     "data": {
      "text/plain": [
       "<keras.callbacks.History at 0xfffeadae60d0>"
      ]
     },
     "execution_count": 28,
     "metadata": {},
     "output_type": "execute_result"
    }
   ],
   "source": [
    "model = tf.keras.Sequential([\n",
    "    tf.keras.layers.Dense(1)\n",
    "])\n",
    "\n",
    "model.compile(loss=tf.losses.mae,\n",
    "             optimizer=tf.keras.optimizers.SGD(),\n",
    "             metrics=[\"mae\"])\n",
    "\n",
    "model.fit(tf.expand_dims(X_train, axis=-1), y_train, epochs=50)"
   ]
  },
  {
   "cell_type": "code",
   "execution_count": 29,
   "id": "ce2c06f7",
   "metadata": {},
   "outputs": [
    {
     "name": "stdout",
     "output_type": "stream",
     "text": [
      "Model: \"sequential_3\"\n",
      "_________________________________________________________________\n",
      " Layer (type)                Output Shape              Param #   \n",
      "=================================================================\n",
      " dense_4 (Dense)             (None, 1)                 2         \n",
      "                                                                 \n",
      "=================================================================\n",
      "Total params: 2\n",
      "Trainable params: 2\n",
      "Non-trainable params: 0\n",
      "_________________________________________________________________\n"
     ]
    }
   ],
   "source": [
    "model.summary()"
   ]
  },
  {
   "cell_type": "code",
   "execution_count": 30,
   "id": "19ec0627",
   "metadata": {},
   "outputs": [],
   "source": [
    "tf.random.set_seed(42)\n",
    "\n",
    "model = tf.keras.Sequential([\n",
    "    tf.keras.layers.Dense(10, input_shape=[1], name=\"input_layer\"),\n",
    "    tf.keras.layers.Dense(1, name=\"output_layer\")\n",
    "],name=\"TensorFlow_regression\")\n",
    "\n",
    "model.compile(loss=tf.keras.losses.mae,\n",
    "             optimizer=tf.keras.optimizers.SGD(),\n",
    "             metrics=[\"mae\"])"
   ]
  },
  {
   "cell_type": "code",
   "execution_count": 31,
   "id": "27c6fb52",
   "metadata": {},
   "outputs": [
    {
     "name": "stdout",
     "output_type": "stream",
     "text": [
      "Model: \"TensorFlow_regression\"\n",
      "_________________________________________________________________\n",
      " Layer (type)                Output Shape              Param #   \n",
      "=================================================================\n",
      " input_layer (Dense)         (None, 10)                20        \n",
      "                                                                 \n",
      " output_layer (Dense)        (None, 1)                 11        \n",
      "                                                                 \n",
      "=================================================================\n",
      "Total params: 31\n",
      "Trainable params: 31\n",
      "Non-trainable params: 0\n",
      "_________________________________________________________________\n"
     ]
    }
   ],
   "source": [
    "model.summary()"
   ]
  },
  {
   "cell_type": "code",
   "execution_count": 32,
   "id": "4f7c3bb0",
   "metadata": {},
   "outputs": [
    {
     "name": "stdout",
     "output_type": "stream",
     "text": [
      "Epoch 1/50\n",
      "2/2 [==============================] - 1s 24ms/step - loss: 45.3587 - mae: 45.3587\n",
      "Epoch 2/50\n",
      "2/2 [==============================] - 0s 15ms/step - loss: 30.4332 - mae: 30.4332\n",
      "Epoch 3/50\n",
      "2/2 [==============================] - 0s 18ms/step - loss: 35.5999 - mae: 35.5999\n",
      "Epoch 4/50\n",
      "2/2 [==============================] - 0s 23ms/step - loss: 26.9595 - mae: 26.9595\n",
      "Epoch 5/50\n",
      "2/2 [==============================] - 0s 19ms/step - loss: 14.7466 - mae: 14.7466\n",
      "Epoch 6/50\n",
      "2/2 [==============================] - 0s 17ms/step - loss: 11.7541 - mae: 11.7541\n",
      "Epoch 7/50\n",
      "2/2 [==============================] - 0s 15ms/step - loss: 12.8352 - mae: 12.8352\n",
      "Epoch 8/50\n",
      "2/2 [==============================] - 0s 17ms/step - loss: 11.1029 - mae: 11.1029\n",
      "Epoch 9/50\n",
      "2/2 [==============================] - 0s 17ms/step - loss: 40.3846 - mae: 40.3846\n",
      "Epoch 10/50\n",
      "2/2 [==============================] - 0s 20ms/step - loss: 27.7874 - mae: 27.7874\n",
      "Epoch 11/50\n",
      "2/2 [==============================] - 0s 18ms/step - loss: 10.2549 - mae: 10.2549\n",
      "Epoch 12/50\n",
      "2/2 [==============================] - 0s 15ms/step - loss: 25.3373 - mae: 25.3373\n",
      "Epoch 13/50\n",
      "2/2 [==============================] - 0s 14ms/step - loss: 16.9549 - mae: 16.9549\n",
      "Epoch 14/50\n",
      "2/2 [==============================] - 0s 13ms/step - loss: 25.8521 - mae: 25.8521\n",
      "Epoch 15/50\n",
      "2/2 [==============================] - 0s 13ms/step - loss: 17.6802 - mae: 17.6802\n",
      "Epoch 16/50\n",
      "2/2 [==============================] - 0s 26ms/step - loss: 10.0823 - mae: 10.0823\n",
      "Epoch 17/50\n",
      "2/2 [==============================] - 0s 13ms/step - loss: 18.6786 - mae: 18.6786\n",
      "Epoch 18/50\n",
      "2/2 [==============================] - 0s 13ms/step - loss: 11.7971 - mae: 11.7971\n",
      "Epoch 19/50\n",
      "2/2 [==============================] - 0s 13ms/step - loss: 16.5112 - mae: 16.5112\n",
      "Epoch 20/50\n",
      "2/2 [==============================] - 0s 13ms/step - loss: 8.2415 - mae: 8.2415\n",
      "Epoch 21/50\n",
      "2/2 [==============================] - 0s 13ms/step - loss: 14.4142 - mae: 14.4142\n",
      "Epoch 22/50\n",
      "2/2 [==============================] - 0s 14ms/step - loss: 12.8279 - mae: 12.8279\n",
      "Epoch 23/50\n",
      "2/2 [==============================] - 0s 13ms/step - loss: 15.4669 - mae: 15.4669\n",
      "Epoch 24/50\n",
      "2/2 [==============================] - 0s 13ms/step - loss: 15.2568 - mae: 15.2568\n",
      "Epoch 25/50\n",
      "2/2 [==============================] - 0s 12ms/step - loss: 14.3349 - mae: 14.3349\n",
      "Epoch 26/50\n",
      "2/2 [==============================] - 0s 13ms/step - loss: 19.3349 - mae: 19.3349\n",
      "Epoch 27/50\n",
      "2/2 [==============================] - 0s 12ms/step - loss: 11.4612 - mae: 11.4612\n",
      "Epoch 28/50\n",
      "2/2 [==============================] - 0s 13ms/step - loss: 29.1282 - mae: 29.1282\n",
      "Epoch 29/50\n",
      "2/2 [==============================] - 0s 13ms/step - loss: 9.2545 - mae: 9.2545\n",
      "Epoch 30/50\n",
      "2/2 [==============================] - 0s 13ms/step - loss: 29.8537 - mae: 29.8537\n",
      "Epoch 31/50\n",
      "2/2 [==============================] - 0s 13ms/step - loss: 54.1740 - mae: 54.1740\n",
      "Epoch 32/50\n",
      "2/2 [==============================] - 0s 13ms/step - loss: 9.5769 - mae: 9.5769\n",
      "Epoch 33/50\n",
      "2/2 [==============================] - 0s 13ms/step - loss: 12.1687 - mae: 12.1687\n",
      "Epoch 34/50\n",
      "2/2 [==============================] - 0s 13ms/step - loss: 23.9089 - mae: 23.9089\n",
      "Epoch 35/50\n",
      "2/2 [==============================] - 0s 13ms/step - loss: 12.6242 - mae: 12.6242\n",
      "Epoch 36/50\n",
      "2/2 [==============================] - 0s 15ms/step - loss: 21.5355 - mae: 21.5355\n",
      "Epoch 37/50\n",
      "2/2 [==============================] - 0s 13ms/step - loss: 11.3769 - mae: 11.3769\n",
      "Epoch 38/50\n",
      "2/2 [==============================] - 0s 13ms/step - loss: 13.4553 - mae: 13.4553\n",
      "Epoch 39/50\n",
      "2/2 [==============================] - 0s 13ms/step - loss: 10.7871 - mae: 10.7871\n",
      "Epoch 40/50\n",
      "2/2 [==============================] - 0s 16ms/step - loss: 16.5796 - mae: 16.5796\n",
      "Epoch 41/50\n",
      "2/2 [==============================] - 0s 13ms/step - loss: 10.9649 - mae: 10.9649\n",
      "Epoch 42/50\n",
      "2/2 [==============================] - 0s 13ms/step - loss: 9.2934 - mae: 9.2934\n",
      "Epoch 43/50\n",
      "2/2 [==============================] - 0s 14ms/step - loss: 9.5923 - mae: 9.5923\n",
      "Epoch 44/50\n",
      "2/2 [==============================] - 0s 13ms/step - loss: 27.9504 - mae: 27.9504\n",
      "Epoch 45/50\n",
      "2/2 [==============================] - 0s 13ms/step - loss: 11.2755 - mae: 11.2755\n",
      "Epoch 46/50\n",
      "2/2 [==============================] - 0s 13ms/step - loss: 13.8796 - mae: 13.8796\n",
      "Epoch 47/50\n",
      "2/2 [==============================] - 0s 13ms/step - loss: 11.9155 - mae: 11.9155\n",
      "Epoch 48/50\n",
      "2/2 [==============================] - 0s 12ms/step - loss: 16.9464 - mae: 16.9464\n",
      "Epoch 49/50\n",
      "2/2 [==============================] - 0s 13ms/step - loss: 9.7818 - mae: 9.7818\n",
      "Epoch 50/50\n",
      "2/2 [==============================] - 0s 13ms/step - loss: 14.1779 - mae: 14.1779\n"
     ]
    },
    {
     "data": {
      "text/plain": [
       "<keras.callbacks.History at 0xfffeadac9820>"
      ]
     },
     "execution_count": 32,
     "metadata": {},
     "output_type": "execute_result"
    }
   ],
   "source": [
    "model.fit(tf.expand_dims(X_train,axis=-1),y_train, epochs=50, verbose=1)"
   ]
  },
  {
   "cell_type": "code",
   "execution_count": 33,
   "id": "3c26f632",
   "metadata": {},
   "outputs": [
    {
     "name": "stdout",
     "output_type": "stream",
     "text": [
      "You must install pydot (`pip install pydot`) and install graphviz (see instructions at https://graphviz.gitlab.io/download/) for plot_model to work.\n"
     ]
    }
   ],
   "source": [
    "from tensorflow.keras.utils import plot_model\n",
    "\n",
    "plot_model(model=model, show_shapes=True)"
   ]
  },
  {
   "cell_type": "markdown",
   "id": "52a254cf",
   "metadata": {},
   "source": [
    "## Visualizing Model's prediction"
   ]
  },
  {
   "cell_type": "code",
   "execution_count": 34,
   "id": "458a4662",
   "metadata": {},
   "outputs": [
    {
     "name": "stdout",
     "output_type": "stream",
     "text": [
      "1/1 [==============================] - 0s 114ms/step\n"
     ]
    },
    {
     "data": {
      "text/plain": [
       "array([[ 66.736115],\n",
       "       [ 71.128365],\n",
       "       [ 75.520615],\n",
       "       [ 79.91287 ],\n",
       "       [ 84.305115],\n",
       "       [ 88.69737 ],\n",
       "       [ 93.08963 ],\n",
       "       [ 97.48187 ],\n",
       "       [101.87413 ],\n",
       "       [106.26637 ]], dtype=float32)"
      ]
     },
     "execution_count": 34,
     "metadata": {},
     "output_type": "execute_result"
    }
   ],
   "source": [
    "y_pred = model.predict(X_test)\n",
    "y_pred"
   ]
  },
  {
   "cell_type": "code",
   "execution_count": 35,
   "id": "1da34b69",
   "metadata": {},
   "outputs": [
    {
     "data": {
      "text/plain": [
       "<tf.Tensor: shape=(10,), dtype=int32, numpy=array([ 70,  74,  78,  82,  86,  90,  94,  98, 102, 106], dtype=int32)>"
      ]
     },
     "execution_count": 35,
     "metadata": {},
     "output_type": "execute_result"
    }
   ],
   "source": [
    "y_test"
   ]
  },
  {
   "cell_type": "code",
   "execution_count": 36,
   "id": "78a57aa9",
   "metadata": {},
   "outputs": [],
   "source": [
    "def plot_predictions(train_data=X_train,\n",
    "                    train_labels=y_train,\n",
    "                    test_data=X_test,\n",
    "                     test_labels=y_test,\n",
    "                    predictions = y_pred,\n",
    "                    ):\n",
    "    plt.figure(figsize=(10, 7))\n",
    "\n",
    "    plt.scatter(train_data, train_labels, c=\"b\", label=\"Training Data\")\n",
    "    plt.scatter(test_data, test_labels, c=\"g\", label=\"Testing Data\")\n",
    "    plt.scatter(test_data, predictions, c=\"r\", label=\"Predictions\")\n",
    "    plt.legend();"
   ]
  },
  {
   "cell_type": "code",
   "execution_count": 37,
   "id": "476031a3",
   "metadata": {},
   "outputs": [
    {
     "data": {
      "image/png": "[encoded data removed]",
      "text/plain": [
       "<Figure size 720x504 with 1 Axes>"
      ]
     },
     "metadata": {
      "needs_background": "light"
     },
     "output_type": "display_data"
    }
   ],
   "source": [
    "plot_predictions(train_data=X_train,\n",
    "                train_labels=y_train,\n",
    "                test_data=X_test,\n",
    "                test_labels=y_test,\n",
    "                predictions=y_pred,)"
   ]
  },
  {
   "cell_type": "markdown",
   "id": "359aac7e",
   "metadata": {},
   "source": [
    "### Evaluating model's predictions with regression evaluation metrics\n",
    "\n",
    "2 Main metrics:\n",
    "    1) MAE - Mean Absolute Error, \"On avg how wrong is each of my model's predictions\"\n",
    "    2) MSE - Mean Squared Error, \"Square the average errors\""
   ]
  },
  {
   "cell_type": "code",
   "execution_count": 38,
   "id": "d1a12823",
   "metadata": {},
   "outputs": [
    {
     "name": "stdout",
     "output_type": "stream",
     "text": [
      "1/1 [==============================] - 0s 293ms/step - loss: 1.5520 - mae: 1.5520\n"
     ]
    },
    {
     "data": {
      "text/plain": [
       "[1.5520286560058594, 1.5520286560058594]"
      ]
     },
     "execution_count": 38,
     "metadata": {},
     "output_type": "execute_result"
    }
   ],
   "source": [
    "#Evaluate the model on the test\n",
    "model.evaluate(X_test, y_test)"
   ]
  },
  {
   "cell_type": "code",
   "execution_count": 39,
   "id": "77d54ace",
   "metadata": {},
   "outputs": [
    {
     "data": {
      "text/plain": [
       "<tf.Tensor: shape=(), dtype=float32, numpy=1.5520287>"
      ]
     },
     "execution_count": 39,
     "metadata": {},
     "output_type": "execute_result"
    }
   ],
   "source": [
    "# Calc MAE\n",
    "\n",
    "mae = tf.metrics.mean_absolute_error(y_true=y_test, y_pred=tf.squeeze(y_pred))\n",
    "mae"
   ]
  },
  {
   "cell_type": "code",
   "execution_count": 40,
   "id": "50b0f8f5",
   "metadata": {},
   "outputs": [
    {
     "data": {
      "text/plain": [
       "<tf.Tensor: shape=(), dtype=float32, numpy=3.5156193>"
      ]
     },
     "execution_count": 40,
     "metadata": {},
     "output_type": "execute_result"
    }
   ],
   "source": [
    "# calc MSE\n",
    "\n",
    "mse = tf.metrics.mean_squared_error(y_true=y_test, y_pred=tf.squeeze(y_pred))\n",
    "mse\n"
   ]
  },
  {
   "cell_type": "code",
   "execution_count": 41,
   "id": "50572acf",
   "metadata": {},
   "outputs": [
    {
     "data": {
      "text/plain": [
       "<tf.Tensor: shape=(10,), dtype=float32, numpy=\n",
       "array([ 66.736115,  71.128365,  75.520615,  79.91287 ,  84.305115,\n",
       "        88.69737 ,  93.08963 ,  97.48187 , 101.87413 , 106.26637 ],\n",
       "      dtype=float32)>"
      ]
     },
     "execution_count": 41,
     "metadata": {},
     "output_type": "execute_result"
    }
   ],
   "source": [
    "#RESHAPE REQ\n",
    "tf.squeeze(y_pred)"
   ]
  },
  {
   "cell_type": "code",
   "execution_count": 42,
   "id": "25eab285",
   "metadata": {},
   "outputs": [
    {
     "data": {
      "text/plain": [
       "<tf.Tensor: shape=(10,), dtype=int32, numpy=array([ 70,  74,  78,  82,  86,  90,  94,  98, 102, 106], dtype=int32)>"
      ]
     },
     "execution_count": 42,
     "metadata": {},
     "output_type": "execute_result"
    }
   ],
   "source": [
    "y_test"
   ]
  },
  {
   "cell_type": "code",
   "execution_count": 43,
   "id": "c234fa7d",
   "metadata": {},
   "outputs": [],
   "source": [
    "# Functions to reuse MAE and MSE\n",
    "\n",
    "def mae(y_true, y_pred):\n",
    "    mae = tf.metrics.mean_absolute_error(y_true=y_true, y_pred=tf.squeeze(y_pred))\n",
    "    return mae\n",
    "\n",
    "def mse(y_true, y_pred):\n",
    "    mse = tf.metrics.mean_squared_error(y_true=y_true, y_pred=tf.squeeze(y_pred))\n",
    "    return mse"
   ]
  },
  {
   "cell_type": "markdown",
   "id": "819c0ebd",
   "metadata": {},
   "source": [
    "### Modelling expriments\n",
    "\n",
    "1) 'model_1' - same 1 layer, trained with 100 epoch\n",
    "2) 'model_2' - 2 layers, 100 epochs\n",
    "3) 'model_3' - 3 layers, 40 epochs, Adam Optimizer (lr=0.1)"
   ]
  },
  {
   "cell_type": "code",
   "execution_count": 44,
   "id": "4991169e",
   "metadata": {},
   "outputs": [
    {
     "data": {
      "text/plain": [
       "(<tf.Tensor: shape=(40,), dtype=int32, numpy=\n",
       " array([-100,  -96,  -92,  -88,  -84,  -80,  -76,  -72,  -68,  -64,  -60,\n",
       "         -56,  -52,  -48,  -44,  -40,  -36,  -32,  -28,  -24,  -20,  -16,\n",
       "         -12,   -8,   -4,    0,    4,    8,   12,   16,   20,   24,   28,\n",
       "          32,   36,   40,   44,   48,   52,   56], dtype=int32)>,\n",
       " <tf.Tensor: shape=(40,), dtype=int32, numpy=\n",
       " array([-90, -86, -82, -78, -74, -70, -66, -62, -58, -54, -50, -46, -42,\n",
       "        -38, -34, -30, -26, -22, -18, -14, -10,  -6,  -2,   2,   6,  10,\n",
       "         14,  18,  22,  26,  30,  34,  38,  42,  46,  50,  54,  58,  62,\n",
       "         66], dtype=int32)>)"
      ]
     },
     "execution_count": 44,
     "metadata": {},
     "output_type": "execute_result"
    }
   ],
   "source": [
    "X_train, y_train"
   ]
  },
  {
   "cell_type": "code",
   "execution_count": 46,
   "id": "2c507728",
   "metadata": {},
   "outputs": [
    {
     "name": "stdout",
     "output_type": "stream",
     "text": [
      "Epoch 1/100\n",
      "2/2 [==============================] - 1s 32ms/step - loss: 18.1170 - mae: 18.1170\n",
      "Epoch 2/100\n",
      "2/2 [==============================] - 0s 26ms/step - loss: 13.2289 - mae: 13.2289\n",
      "Epoch 3/100\n",
      "2/2 [==============================] - 0s 24ms/step - loss: 11.9015 - mae: 11.9015\n",
      "Epoch 4/100\n",
      "2/2 [==============================] - 0s 23ms/step - loss: 9.2166 - mae: 9.2166\n",
      "Epoch 5/100\n",
      "2/2 [==============================] - 0s 26ms/step - loss: 10.0724 - mae: 10.0724\n",
      "Epoch 6/100\n",
      "2/2 [==============================] - 0s 27ms/step - loss: 9.3467 - mae: 9.3467\n",
      "Epoch 7/100\n",
      "2/2 [==============================] - 0s 25ms/step - loss: 8.5007 - mae: 8.5007\n",
      "Epoch 8/100\n",
      "2/2 [==============================] - 0s 27ms/step - loss: 9.0397 - mae: 9.0397\n",
      "Epoch 9/100\n",
      "2/2 [==============================] - 0s 24ms/step - loss: 18.5745 - mae: 18.5745\n",
      "Epoch 10/100\n",
      "2/2 [==============================] - 0s 24ms/step - loss: 10.0167 - mae: 10.0167\n",
      "Epoch 11/100\n",
      "2/2 [==============================] - 0s 26ms/step - loss: 8.3610 - mae: 8.3610\n",
      "Epoch 12/100\n",
      "2/2 [==============================] - 0s 28ms/step - loss: 10.5861 - mae: 10.5861\n",
      "Epoch 13/100\n",
      "2/2 [==============================] - 0s 26ms/step - loss: 9.7677 - mae: 9.7677\n",
      "Epoch 14/100\n",
      "2/2 [==============================] - 0s 27ms/step - loss: 15.8213 - mae: 15.8213\n",
      "Epoch 15/100\n",
      "2/2 [==============================] - 0s 22ms/step - loss: 11.5570 - mae: 11.5570\n",
      "Epoch 16/100\n",
      "2/2 [==============================] - 0s 26ms/step - loss: 8.4963 - mae: 8.4963\n",
      "Epoch 17/100\n",
      "2/2 [==============================] - 0s 22ms/step - loss: 13.5338 - mae: 13.5338\n",
      "Epoch 18/100\n",
      "2/2 [==============================] - 0s 36ms/step - loss: 11.3363 - mae: 11.3363\n",
      "Epoch 19/100\n",
      "2/2 [==============================] - 0s 18ms/step - loss: 18.0705 - mae: 18.0705\n",
      "Epoch 20/100\n",
      "2/2 [==============================] - 0s 13ms/step - loss: 15.2040 - mae: 15.2040\n",
      "Epoch 21/100\n",
      "2/2 [==============================] - 0s 12ms/step - loss: 11.1507 - mae: 11.1507\n",
      "Epoch 22/100\n",
      "2/2 [==============================] - 0s 12ms/step - loss: 8.2735 - mae: 8.2735\n",
      "Epoch 23/100\n",
      "2/2 [==============================] - 0s 12ms/step - loss: 9.4301 - mae: 9.4301\n",
      "Epoch 24/100\n",
      "2/2 [==============================] - 0s 12ms/step - loss: 7.6910 - mae: 7.6910\n",
      "Epoch 25/100\n",
      "2/2 [==============================] - 0s 12ms/step - loss: 12.9887 - mae: 12.9887\n",
      "Epoch 26/100\n",
      "2/2 [==============================] - 0s 12ms/step - loss: 16.5733 - mae: 16.5733\n",
      "Epoch 27/100\n",
      "2/2 [==============================] - 0s 12ms/step - loss: 13.2927 - mae: 13.2927\n",
      "Epoch 28/100\n",
      "2/2 [==============================] - 0s 12ms/step - loss: 14.4176 - mae: 14.4176\n",
      "Epoch 29/100\n",
      "2/2 [==============================] - 0s 12ms/step - loss: 10.1137 - mae: 10.1137\n",
      "Epoch 30/100\n",
      "2/2 [==============================] - 0s 12ms/step - loss: 16.5804 - mae: 16.5804\n",
      "Epoch 31/100\n",
      "2/2 [==============================] - 0s 12ms/step - loss: 23.4282 - mae: 23.4282\n",
      "Epoch 32/100\n",
      "2/2 [==============================] - 0s 12ms/step - loss: 7.3661 - mae: 7.3661\n",
      "Epoch 33/100\n",
      "2/2 [==============================] - 0s 12ms/step - loss: 9.7896 - mae: 9.7896\n",
      "Epoch 34/100\n",
      "2/2 [==============================] - 0s 12ms/step - loss: 12.2244 - mae: 12.2244\n",
      "Epoch 35/100\n",
      "2/2 [==============================] - 0s 12ms/step - loss: 11.1818 - mae: 11.1818\n",
      "Epoch 36/100\n",
      "2/2 [==============================] - 0s 13ms/step - loss: 13.4290 - mae: 13.4290\n",
      "Epoch 37/100\n",
      "2/2 [==============================] - 0s 12ms/step - loss: 9.4351 - mae: 9.4351\n",
      "Epoch 38/100\n",
      "2/2 [==============================] - 0s 12ms/step - loss: 10.0844 - mae: 10.0844\n",
      "Epoch 39/100\n",
      "2/2 [==============================] - 0s 12ms/step - loss: 8.9628 - mae: 8.9628\n",
      "Epoch 40/100\n",
      "2/2 [==============================] - 0s 12ms/step - loss: 9.5894 - mae: 9.5894\n",
      "Epoch 41/100\n",
      "2/2 [==============================] - 0s 12ms/step - loss: 10.5483 - mae: 10.5483\n",
      "Epoch 42/100\n",
      "2/2 [==============================] - 0s 13ms/step - loss: 10.5993 - mae: 10.5993\n",
      "Epoch 43/100\n",
      "2/2 [==============================] - 0s 13ms/step - loss: 7.2096 - mae: 7.2096\n",
      "Epoch 44/100\n",
      "2/2 [==============================] - 0s 12ms/step - loss: 8.0060 - mae: 8.0060\n",
      "Epoch 45/100\n",
      "2/2 [==============================] - 0s 13ms/step - loss: 9.8033 - mae: 9.8033\n",
      "Epoch 46/100\n",
      "2/2 [==============================] - 0s 12ms/step - loss: 8.8814 - mae: 8.8814\n",
      "Epoch 47/100\n",
      "2/2 [==============================] - 0s 12ms/step - loss: 7.5687 - mae: 7.5687\n",
      "Epoch 48/100\n",
      "2/2 [==============================] - 0s 12ms/step - loss: 8.5533 - mae: 8.5533\n",
      "Epoch 49/100\n",
      "2/2 [==============================] - 0s 12ms/step - loss: 10.0116 - mae: 10.0116\n",
      "Epoch 50/100\n",
      "2/2 [==============================] - 0s 13ms/step - loss: 9.0025 - mae: 9.0025\n",
      "Epoch 51/100\n",
      "2/2 [==============================] - 0s 13ms/step - loss: 10.6846 - mae: 10.6846\n",
      "Epoch 52/100\n",
      "2/2 [==============================] - 0s 12ms/step - loss: 15.2787 - mae: 15.2787\n",
      "Epoch 53/100\n",
      "2/2 [==============================] - 0s 12ms/step - loss: 14.3042 - mae: 14.3042\n",
      "Epoch 54/100\n",
      "2/2 [==============================] - 0s 13ms/step - loss: 21.5795 - mae: 21.5795\n",
      "Epoch 55/100\n",
      "2/2 [==============================] - 0s 20ms/step - loss: 16.0175 - mae: 16.0175\n",
      "Epoch 56/100\n",
      "2/2 [==============================] - 0s 12ms/step - loss: 10.2671 - mae: 10.2671\n",
      "Epoch 57/100\n",
      "2/2 [==============================] - 0s 12ms/step - loss: 9.7790 - mae: 9.7790\n",
      "Epoch 58/100\n",
      "2/2 [==============================] - 0s 12ms/step - loss: 9.0631 - mae: 9.0631\n",
      "Epoch 59/100\n",
      "2/2 [==============================] - 0s 12ms/step - loss: 8.2678 - mae: 8.2678\n",
      "Epoch 60/100\n",
      "2/2 [==============================] - 0s 12ms/step - loss: 9.3625 - mae: 9.3625\n",
      "Epoch 61/100\n",
      "2/2 [==============================] - 0s 12ms/step - loss: 11.1807 - mae: 11.1807\n",
      "Epoch 62/100\n",
      "2/2 [==============================] - 0s 12ms/step - loss: 12.0549 - mae: 12.0549\n",
      "Epoch 63/100\n",
      "2/2 [==============================] - 0s 12ms/step - loss: 7.2694 - mae: 7.2694\n",
      "Epoch 64/100\n",
      "2/2 [==============================] - 0s 12ms/step - loss: 12.4455 - mae: 12.4455\n",
      "Epoch 65/100\n",
      "2/2 [==============================] - 0s 12ms/step - loss: 10.5166 - mae: 10.5166\n",
      "Epoch 66/100\n",
      "2/2 [==============================] - 0s 12ms/step - loss: 15.5875 - mae: 15.5875\n",
      "Epoch 67/100\n",
      "2/2 [==============================] - 0s 12ms/step - loss: 9.9948 - mae: 9.9948\n",
      "Epoch 68/100\n",
      "2/2 [==============================] - 0s 12ms/step - loss: 8.7137 - mae: 8.7137\n",
      "Epoch 69/100\n",
      "2/2 [==============================] - 0s 12ms/step - loss: 13.4638 - mae: 13.4638\n",
      "Epoch 70/100\n",
      "2/2 [==============================] - 0s 12ms/step - loss: 7.4673 - mae: 7.4673\n",
      "Epoch 71/100\n",
      "2/2 [==============================] - 0s 12ms/step - loss: 12.2434 - mae: 12.2434\n",
      "Epoch 72/100\n",
      "2/2 [==============================] - 0s 12ms/step - loss: 8.5192 - mae: 8.5192\n",
      "Epoch 73/100\n",
      "2/2 [==============================] - 0s 15ms/step - loss: 7.0361 - mae: 7.0361\n",
      "Epoch 74/100\n",
      "2/2 [==============================] - 0s 12ms/step - loss: 9.9073 - mae: 9.9073\n",
      "Epoch 75/100\n",
      "2/2 [==============================] - 0s 13ms/step - loss: 9.9479 - mae: 9.9479\n",
      "Epoch 76/100\n",
      "2/2 [==============================] - 0s 13ms/step - loss: 10.1112 - mae: 10.1112\n",
      "Epoch 77/100\n",
      "2/2 [==============================] - 0s 12ms/step - loss: 12.9729 - mae: 12.9729\n",
      "Epoch 78/100\n",
      "2/2 [==============================] - 0s 12ms/step - loss: 10.8999 - mae: 10.8999\n",
      "Epoch 79/100\n",
      "2/2 [==============================] - 0s 12ms/step - loss: 15.3932 - mae: 15.3932\n",
      "Epoch 80/100\n",
      "2/2 [==============================] - 0s 12ms/step - loss: 11.7151 - mae: 11.7151\n",
      "Epoch 81/100\n",
      "2/2 [==============================] - 0s 12ms/step - loss: 9.2643 - mae: 9.2643\n",
      "Epoch 82/100\n",
      "2/2 [==============================] - 0s 12ms/step - loss: 12.7159 - mae: 12.7159\n",
      "Epoch 83/100\n",
      "2/2 [==============================] - 0s 12ms/step - loss: 8.2712 - mae: 8.2712\n",
      "Epoch 84/100\n",
      "2/2 [==============================] - 0s 13ms/step - loss: 7.3061 - mae: 7.3061\n",
      "Epoch 85/100\n",
      "2/2 [==============================] - 0s 12ms/step - loss: 10.4769 - mae: 10.4769\n",
      "Epoch 86/100\n",
      "2/2 [==============================] - 0s 12ms/step - loss: 9.1443 - mae: 9.1443\n",
      "Epoch 87/100\n"
     ]
    },
    {
     "name": "stdout",
     "output_type": "stream",
     "text": [
      "2/2 [==============================] - 0s 13ms/step - loss: 11.8628 - mae: 11.8628\n",
      "Epoch 88/100\n",
      "2/2 [==============================] - 0s 13ms/step - loss: 10.4716 - mae: 10.4716\n",
      "Epoch 89/100\n",
      "2/2 [==============================] - 0s 13ms/step - loss: 6.9661 - mae: 6.9661\n",
      "Epoch 90/100\n",
      "2/2 [==============================] - 0s 12ms/step - loss: 13.7991 - mae: 13.7991\n",
      "Epoch 91/100\n",
      "2/2 [==============================] - 0s 13ms/step - loss: 7.8716 - mae: 7.8716\n",
      "Epoch 92/100\n",
      "2/2 [==============================] - 0s 12ms/step - loss: 7.4504 - mae: 7.4504\n",
      "Epoch 93/100\n",
      "2/2 [==============================] - 0s 16ms/step - loss: 9.1578 - mae: 9.1578\n",
      "Epoch 94/100\n",
      "2/2 [==============================] - 0s 13ms/step - loss: 8.5596 - mae: 8.5596\n",
      "Epoch 95/100\n",
      "2/2 [==============================] - 0s 12ms/step - loss: 11.5103 - mae: 11.5103\n",
      "Epoch 96/100\n",
      "2/2 [==============================] - 0s 12ms/step - loss: 10.2727 - mae: 10.2727\n",
      "Epoch 97/100\n",
      "2/2 [==============================] - 0s 12ms/step - loss: 7.6863 - mae: 7.6863\n",
      "Epoch 98/100\n",
      "2/2 [==============================] - 0s 12ms/step - loss: 8.6198 - mae: 8.6198\n",
      "Epoch 99/100\n",
      "2/2 [==============================] - 0s 12ms/step - loss: 9.3999 - mae: 9.3999\n",
      "Epoch 100/100\n",
      "2/2 [==============================] - 0s 12ms/step - loss: 8.8416 - mae: 8.8416\n"
     ]
    },
    {
     "data": {
      "text/plain": [
       "<keras.callbacks.History at 0xfffeae35ac10>"
      ]
     },
     "execution_count": 46,
     "metadata": {},
     "output_type": "execute_result"
    }
   ],
   "source": [
    "tf.random.set_seed(42)\n",
    "\n",
    "\n",
    "model_1=tf.keras.Sequential([\n",
    "    tf.keras.layers.Dense(1)\n",
    "])\n",
    "\n",
    "model_1.compile(loss=tf.keras.losses.mae,\n",
    "                optimizer=tf.keras.optimizers.SGD(),\n",
    "                metrics=[\"mae\"])\n",
    "\n",
    "\n",
    "model_1.fit(tf.expand_dims(X_train,axis=-1), y_train, epochs=100)"
   ]
  },
  {
   "cell_type": "code",
   "execution_count": 47,
   "id": "2f425b05",
   "metadata": {},
   "outputs": [
    {
     "name": "stdout",
     "output_type": "stream",
     "text": [
      "WARNING:tensorflow:5 out of the last 6 calls to <function Model.make_predict_function.<locals>.predict_function at 0xfffead869820> triggered tf.function retracing. Tracing is expensive and the excessive number of tracings could be due to (1) creating @tf.function repeatedly in a loop, (2) passing tensors with different shapes, (3) passing Python objects instead of tensors. For (1), please define your @tf.function outside of the loop. For (2), @tf.function has reduce_retracing=True option that can avoid unnecessary retracing. For (3), please refer to https://www.tensorflow.org/guide/function#controlling_retracing and https://www.tensorflow.org/api_docs/python/tf/function for  more details.\n",
      "1/1 [==============================] - 0s 105ms/step\n"
     ]
    },
    {
     "data": {
      "image/png": "[encoded data removed]",
      "text/plain": [
       "<Figure size 720x504 with 1 Axes>"
      ]
     },
     "metadata": {
      "needs_background": "light"
     },
     "output_type": "display_data"
    }
   ],
   "source": [
    "y_pred_1 = model_1.predict(X_test)\n",
    "plot_predictions(predictions=y_pred_1)"
   ]
  },
  {
   "cell_type": "code",
   "execution_count": 48,
   "id": "cdf27808",
   "metadata": {},
   "outputs": [
    {
     "data": {
      "text/plain": [
       "(<tf.Tensor: shape=(), dtype=float32, numpy=8.698407>,\n",
       " <tf.Tensor: shape=(), dtype=float32, numpy=82.224655>)"
      ]
     },
     "execution_count": 48,
     "metadata": {},
     "output_type": "execute_result"
    }
   ],
   "source": [
    "mae_1 = mae(y_test, y_pred_1)\n",
    "mse_1 = mse(y_test, y_pred_1)\n",
    "mae_1, mse_1"
   ]
  },
  {
   "cell_type": "code",
   "execution_count": 49,
   "id": "e1e4dc21",
   "metadata": {},
   "outputs": [
    {
     "name": "stdout",
     "output_type": "stream",
     "text": [
      "Epoch 1/100\n",
      "2/2 [==============================] - 1s 29ms/step - loss: 26.5046 - mse: 1286.7217\n",
      "Epoch 2/100\n",
      "2/2 [==============================] - 0s 25ms/step - loss: 15.8767 - mse: 561.8342\n",
      "Epoch 3/100\n",
      "2/2 [==============================] - 0s 28ms/step - loss: 32.2979 - mse: 1580.6960\n",
      "Epoch 4/100\n",
      "2/2 [==============================] - 0s 28ms/step - loss: 17.0697 - mse: 419.4166\n",
      "Epoch 5/100\n",
      "2/2 [==============================] - 0s 28ms/step - loss: 22.9157 - mse: 771.8927\n",
      "Epoch 6/100\n",
      "2/2 [==============================] - 0s 25ms/step - loss: 11.4448 - mse: 147.7687\n",
      "Epoch 7/100\n",
      "2/2 [==============================] - 0s 28ms/step - loss: 12.5430 - mse: 207.2402\n",
      "Epoch 8/100\n",
      "2/2 [==============================] - 0s 27ms/step - loss: 11.0863 - mse: 147.4191\n",
      "Epoch 9/100\n",
      "2/2 [==============================] - 0s 42ms/step - loss: 39.8581 - mse: 2487.3081\n",
      "Epoch 10/100\n",
      "2/2 [==============================] - 0s 23ms/step - loss: 27.3323 - mse: 1051.1277\n",
      "Epoch 11/100\n",
      "2/2 [==============================] - 0s 20ms/step - loss: 11.0408 - mse: 182.2202\n",
      "Epoch 12/100\n",
      "2/2 [==============================] - 0s 24ms/step - loss: 24.4526 - mse: 840.3322\n",
      "Epoch 13/100\n",
      "2/2 [==============================] - 0s 19ms/step - loss: 19.3974 - mse: 530.1644\n",
      "Epoch 14/100\n",
      "2/2 [==============================] - 0s 18ms/step - loss: 23.6720 - mse: 859.4656\n",
      "Epoch 15/100\n",
      "2/2 [==============================] - 0s 17ms/step - loss: 15.7498 - mse: 337.6334\n",
      "Epoch 16/100\n",
      "2/2 [==============================] - 0s 19ms/step - loss: 10.4301 - mse: 124.7948\n",
      "Epoch 17/100\n",
      "2/2 [==============================] - 0s 17ms/step - loss: 19.6706 - mse: 526.4753\n",
      "Epoch 18/100\n",
      "2/2 [==============================] - 0s 15ms/step - loss: 13.3041 - mse: 277.0195\n",
      "Epoch 19/100\n",
      "2/2 [==============================] - 0s 17ms/step - loss: 16.0857 - mse: 413.5528\n",
      "Epoch 20/100\n",
      "2/2 [==============================] - 0s 15ms/step - loss: 10.2101 - mse: 153.7513\n",
      "Epoch 21/100\n",
      "2/2 [==============================] - 0s 15ms/step - loss: 13.7643 - mse: 250.3451\n",
      "Epoch 22/100\n",
      "2/2 [==============================] - 0s 20ms/step - loss: 22.0109 - mse: 687.3751\n",
      "Epoch 23/100\n",
      "2/2 [==============================] - 0s 19ms/step - loss: 10.4434 - mse: 166.8238\n",
      "Epoch 24/100\n",
      "2/2 [==============================] - 0s 17ms/step - loss: 15.7276 - mse: 332.1903\n",
      "Epoch 25/100\n",
      "2/2 [==============================] - 0s 16ms/step - loss: 14.8852 - mse: 291.9661\n",
      "Epoch 26/100\n",
      "2/2 [==============================] - 0s 17ms/step - loss: 19.4948 - mse: 576.3650\n",
      "Epoch 27/100\n",
      "2/2 [==============================] - 0s 16ms/step - loss: 11.3687 - mse: 162.6688\n",
      "Epoch 28/100\n",
      "2/2 [==============================] - 0s 16ms/step - loss: 28.6087 - mse: 1328.0881\n",
      "Epoch 29/100\n",
      "2/2 [==============================] - 0s 15ms/step - loss: 9.2423 - mse: 95.8433\n",
      "Epoch 30/100\n",
      "2/2 [==============================] - 0s 15ms/step - loss: 29.4513 - mse: 1560.0803\n",
      "Epoch 31/100\n",
      "2/2 [==============================] - 0s 15ms/step - loss: 53.3838 - mse: 5101.8247\n",
      "Epoch 32/100\n",
      "2/2 [==============================] - 0s 15ms/step - loss: 9.4734 - mse: 100.3251\n",
      "Epoch 33/100\n",
      "2/2 [==============================] - 0s 22ms/step - loss: 12.0507 - mse: 174.1206\n",
      "Epoch 34/100\n",
      "2/2 [==============================] - 0s 14ms/step - loss: 23.3271 - mse: 826.3339\n",
      "Epoch 35/100\n",
      "2/2 [==============================] - 0s 20ms/step - loss: 11.8296 - mse: 217.6689\n",
      "Epoch 36/100\n",
      "2/2 [==============================] - 0s 20ms/step - loss: 21.7951 - mse: 677.3556\n",
      "Epoch 37/100\n",
      "2/2 [==============================] - 0s 17ms/step - loss: 11.1443 - mse: 145.3475\n",
      "Epoch 38/100\n",
      "2/2 [==============================] - 0s 14ms/step - loss: 12.7506 - mse: 236.1442\n",
      "Epoch 39/100\n",
      "2/2 [==============================] - 0s 13ms/step - loss: 11.6094 - mse: 193.7894\n",
      "Epoch 40/100\n",
      "2/2 [==============================] - 0s 13ms/step - loss: 19.3055 - mse: 536.1526\n",
      "Epoch 41/100\n",
      "2/2 [==============================] - 0s 13ms/step - loss: 10.9844 - mse: 179.7889\n",
      "Epoch 42/100\n",
      "2/2 [==============================] - 0s 13ms/step - loss: 9.3089 - mse: 114.9094\n",
      "Epoch 43/100\n",
      "2/2 [==============================] - 0s 13ms/step - loss: 9.5936 - mse: 110.6933\n",
      "Epoch 44/100\n",
      "2/2 [==============================] - 0s 13ms/step - loss: 28.0478 - mse: 1262.0077\n",
      "Epoch 45/100\n",
      "2/2 [==============================] - 0s 13ms/step - loss: 11.2959 - mse: 147.3547\n",
      "Epoch 46/100\n",
      "2/2 [==============================] - 0s 13ms/step - loss: 14.1032 - mse: 290.5539\n",
      "Epoch 47/100\n",
      "2/2 [==============================] - 0s 13ms/step - loss: 13.4879 - mse: 256.2375\n",
      "Epoch 48/100\n",
      "2/2 [==============================] - 0s 13ms/step - loss: 17.3176 - mse: 406.8829\n",
      "Epoch 49/100\n",
      "2/2 [==============================] - 0s 14ms/step - loss: 9.5262 - mse: 98.8215\n",
      "Epoch 50/100\n",
      "2/2 [==============================] - 0s 13ms/step - loss: 13.7276 - mse: 254.8941\n",
      "Epoch 51/100\n",
      "2/2 [==============================] - 0s 13ms/step - loss: 11.5663 - mse: 153.3602\n",
      "Epoch 52/100\n",
      "2/2 [==============================] - 0s 13ms/step - loss: 30.2921 - mse: 1583.0979\n",
      "Epoch 53/100\n",
      "2/2 [==============================] - 0s 14ms/step - loss: 14.2434 - mse: 297.2298\n",
      "Epoch 54/100\n",
      "2/2 [==============================] - 0s 13ms/step - loss: 23.5482 - mse: 834.3882\n",
      "Epoch 55/100\n",
      "2/2 [==============================] - 0s 13ms/step - loss: 24.4627 - mse: 902.9200\n",
      "Epoch 56/100\n",
      "2/2 [==============================] - 0s 13ms/step - loss: 11.3004 - mse: 171.5864\n",
      "Epoch 57/100\n",
      "2/2 [==============================] - 0s 14ms/step - loss: 13.3045 - mse: 222.6142\n",
      "Epoch 58/100\n",
      "2/2 [==============================] - 0s 14ms/step - loss: 9.9172 - mse: 108.6886\n",
      "Epoch 59/100\n",
      "2/2 [==============================] - 0s 13ms/step - loss: 13.8439 - mse: 271.9286\n",
      "Epoch 60/100\n",
      "2/2 [==============================] - 0s 13ms/step - loss: 9.9604 - mse: 118.5664\n",
      "Epoch 61/100\n",
      "2/2 [==============================] - 0s 13ms/step - loss: 14.9005 - mse: 304.7018\n",
      "Epoch 62/100\n",
      "2/2 [==============================] - 0s 14ms/step - loss: 11.8808 - mse: 193.9414\n",
      "Epoch 63/100\n",
      "2/2 [==============================] - 0s 13ms/step - loss: 10.2624 - mse: 132.9308\n",
      "Epoch 64/100\n",
      "2/2 [==============================] - 0s 13ms/step - loss: 23.7677 - mse: 829.7848\n",
      "Epoch 65/100\n",
      "2/2 [==============================] - 0s 13ms/step - loss: 10.4378 - mse: 128.8212\n",
      "Epoch 66/100\n",
      "2/2 [==============================] - 0s 13ms/step - loss: 20.8280 - mse: 637.3187\n",
      "Epoch 67/100\n",
      "2/2 [==============================] - 0s 13ms/step - loss: 10.4092 - mse: 125.2766\n",
      "Epoch 68/100\n",
      "2/2 [==============================] - 0s 16ms/step - loss: 14.1027 - mse: 299.3118\n",
      "Epoch 69/100\n",
      "2/2 [==============================] - 0s 14ms/step - loss: 10.4736 - mse: 124.7890\n",
      "Epoch 70/100\n",
      "2/2 [==============================] - 0s 38ms/step - loss: 12.5400 - mse: 199.3561\n",
      "Epoch 71/100\n",
      "2/2 [==============================] - 0s 17ms/step - loss: 12.9707 - mse: 223.6890\n",
      "Epoch 72/100\n",
      "2/2 [==============================] - 0s 22ms/step - loss: 19.2612 - mse: 526.3054\n",
      "Epoch 73/100\n",
      "2/2 [==============================] - 0s 13ms/step - loss: 11.1030 - mse: 194.0005\n",
      "Epoch 74/100\n",
      "2/2 [==============================] - 0s 14ms/step - loss: 21.3383 - mse: 710.1425\n",
      "Epoch 75/100\n",
      "2/2 [==============================] - 0s 14ms/step - loss: 9.4277 - mse: 152.1103\n",
      "Epoch 76/100\n",
      "2/2 [==============================] - 0s 14ms/step - loss: 12.2453 - mse: 181.7474\n",
      "Epoch 77/100\n",
      "2/2 [==============================] - 0s 14ms/step - loss: 16.2429 - mse: 405.8870\n",
      "Epoch 78/100\n",
      "2/2 [==============================] - 0s 13ms/step - loss: 8.9959 - mse: 91.2875\n",
      "Epoch 79/100\n",
      "2/2 [==============================] - 0s 14ms/step - loss: 23.4749 - mse: 824.4326\n",
      "Epoch 80/100\n",
      "2/2 [==============================] - 0s 13ms/step - loss: 26.1520 - mse: 1051.1066\n",
      "Epoch 81/100\n",
      "2/2 [==============================] - 0s 13ms/step - loss: 11.3879 - mse: 158.7900\n",
      "Epoch 82/100\n",
      "2/2 [==============================] - 0s 14ms/step - loss: 12.4721 - mse: 227.0572\n",
      "Epoch 83/100\n",
      "2/2 [==============================] - 0s 13ms/step - loss: 17.1481 - mse: 382.6312\n",
      "Epoch 84/100\n",
      "2/2 [==============================] - 0s 13ms/step - loss: 6.5631 - mse: 63.8218\n",
      "Epoch 85/100\n"
     ]
    },
    {
     "name": "stdout",
     "output_type": "stream",
     "text": [
      "2/2 [==============================] - 0s 13ms/step - loss: 20.3563 - mse: 579.6735\n",
      "Epoch 86/100\n",
      "2/2 [==============================] - 0s 13ms/step - loss: 10.1580 - mse: 116.1225\n",
      "Epoch 87/100\n",
      "2/2 [==============================] - 0s 13ms/step - loss: 24.4188 - mse: 834.5992\n",
      "Epoch 88/100\n",
      "2/2 [==============================] - 0s 13ms/step - loss: 19.0820 - mse: 516.9000\n",
      "Epoch 89/100\n",
      "2/2 [==============================] - 0s 13ms/step - loss: 7.1441 - mse: 69.6202\n",
      "Epoch 90/100\n",
      "2/2 [==============================] - 0s 17ms/step - loss: 18.2186 - mse: 492.2447\n",
      "Epoch 91/100\n",
      "2/2 [==============================] - 0s 17ms/step - loss: 13.2661 - mse: 254.6290\n",
      "Epoch 92/100\n",
      "2/2 [==============================] - 0s 13ms/step - loss: 14.8018 - mse: 309.0309\n",
      "Epoch 93/100\n",
      "2/2 [==============================] - 0s 14ms/step - loss: 11.6030 - mse: 251.0164\n",
      "Epoch 94/100\n",
      "2/2 [==============================] - 0s 13ms/step - loss: 16.1585 - mse: 368.7357\n",
      "Epoch 95/100\n",
      "2/2 [==============================] - 0s 16ms/step - loss: 15.4992 - mse: 319.7905\n",
      "Epoch 96/100\n",
      "2/2 [==============================] - 0s 13ms/step - loss: 15.0256 - mse: 322.0810\n",
      "Epoch 97/100\n",
      "2/2 [==============================] - 0s 13ms/step - loss: 10.8565 - mse: 188.0558\n",
      "Epoch 98/100\n",
      "2/2 [==============================] - 0s 13ms/step - loss: 14.3137 - mse: 284.6688\n",
      "Epoch 99/100\n",
      "2/2 [==============================] - 0s 13ms/step - loss: 13.3443 - mse: 250.6308\n",
      "Epoch 100/100\n",
      "2/2 [==============================] - 0s 13ms/step - loss: 19.9310 - mse: 581.2360\n"
     ]
    },
    {
     "data": {
      "text/plain": [
       "<keras.callbacks.History at 0xfffeae382c70>"
      ]
     },
     "execution_count": 49,
     "metadata": {},
     "output_type": "execute_result"
    }
   ],
   "source": [
    "# Model 2\n",
    "\n",
    "tf.random.set_seed(42)\n",
    "\n",
    "\n",
    "model_2 = tf.keras.Sequential([\n",
    "    tf.keras.layers.Dense(10),\n",
    "    tf.keras.layers.Dense(1)\n",
    "])\n",
    "\n",
    "model_2.compile(loss=tf.keras.losses.mae,\n",
    "                optimizer=tf.keras.optimizers.SGD(),\n",
    "                metrics=[\"mse\"])\n",
    "\n",
    "model_2.fit(tf.expand_dims(X_train, axis=-1), y_train, epochs=100)"
   ]
  },
  {
   "cell_type": "code",
   "execution_count": 50,
   "id": "554d5045",
   "metadata": {},
   "outputs": [
    {
     "name": "stdout",
     "output_type": "stream",
     "text": [
      "WARNING:tensorflow:6 out of the last 7 calls to <function Model.make_predict_function.<locals>.predict_function at 0xfffead827b80> triggered tf.function retracing. Tracing is expensive and the excessive number of tracings could be due to (1) creating @tf.function repeatedly in a loop, (2) passing tensors with different shapes, (3) passing Python objects instead of tensors. For (1), please define your @tf.function outside of the loop. For (2), @tf.function has reduce_retracing=True option that can avoid unnecessary retracing. For (3), please refer to https://www.tensorflow.org/guide/function#controlling_retracing and https://www.tensorflow.org/api_docs/python/tf/function for  more details.\n",
      "1/1 [==============================] - 0s 118ms/step\n"
     ]
    },
    {
     "data": {
      "image/png": "[encoded data removed]",
      "text/plain": [
       "<Figure size 720x504 with 1 Axes>"
      ]
     },
     "metadata": {
      "needs_background": "light"
     },
     "output_type": "display_data"
    }
   ],
   "source": [
    "y_pred_2 = model_2.predict(X_test)\n",
    "plot_predictions(predictions=y_pred_2)"
   ]
  },
  {
   "cell_type": "code",
   "execution_count": 51,
   "id": "51c30d19",
   "metadata": {},
   "outputs": [
    {
     "data": {
      "text/plain": [
       "(<tf.Tensor: shape=(), dtype=float32, numpy=30.108881>,\n",
       " <tf.Tensor: shape=(), dtype=float32, numpy=938.25995>)"
      ]
     },
     "execution_count": 51,
     "metadata": {},
     "output_type": "execute_result"
    }
   ],
   "source": [
    "mae_2 = mae(y_test, y_pred_2)\n",
    "mse_2 = mse(y_test, y_pred_2)\n",
    "\n",
    "mae_2, mse_2"
   ]
  },
  {
   "cell_type": "code",
   "execution_count": 52,
   "id": "9bf0b614",
   "metadata": {},
   "outputs": [
    {
     "name": "stdout",
     "output_type": "stream",
     "text": [
      "Epoch 1/40\n",
      "2/2 [==============================] - 3s 29ms/step - loss: 58.4621 - mse: 4831.7236\n",
      "Epoch 2/40\n",
      "2/2 [==============================] - 0s 25ms/step - loss: 15.2877 - mse: 355.5488\n",
      "Epoch 3/40\n",
      "2/2 [==============================] - 0s 25ms/step - loss: 21.4598 - mse: 633.6663\n",
      "Epoch 4/40\n",
      "2/2 [==============================] - 0s 20ms/step - loss: 12.0380 - mse: 187.3446\n",
      "Epoch 5/40\n",
      "2/2 [==============================] - 0s 22ms/step - loss: 10.0308 - mse: 123.7905\n",
      "Epoch 6/40\n",
      "2/2 [==============================] - 0s 22ms/step - loss: 19.9524 - mse: 545.2969\n",
      "Epoch 7/40\n",
      "2/2 [==============================] - 0s 20ms/step - loss: 7.7676 - mse: 102.2232\n",
      "Epoch 8/40\n",
      "2/2 [==============================] - 0s 23ms/step - loss: 17.7312 - mse: 453.0322\n",
      "Epoch 9/40\n",
      "2/2 [==============================] - 0s 23ms/step - loss: 7.4539 - mse: 92.6951\n",
      "Epoch 10/40\n",
      "2/2 [==============================] - 0s 17ms/step - loss: 13.4452 - mse: 242.2376\n",
      "Epoch 11/40\n",
      "2/2 [==============================] - 0s 26ms/step - loss: 6.0505 - mse: 55.4518\n",
      "Epoch 12/40\n",
      "2/2 [==============================] - 0s 15ms/step - loss: 10.6991 - mse: 170.8647\n",
      "Epoch 13/40\n",
      "2/2 [==============================] - 0s 15ms/step - loss: 3.6719 - mse: 25.7036\n",
      "Epoch 14/40\n",
      "2/2 [==============================] - 0s 14ms/step - loss: 5.4619 - mse: 42.0592\n",
      "Epoch 15/40\n",
      "2/2 [==============================] - 0s 14ms/step - loss: 6.8340 - mse: 68.1246\n",
      "Epoch 16/40\n",
      "2/2 [==============================] - 0s 14ms/step - loss: 5.3343 - mse: 50.6831\n",
      "Epoch 17/40\n",
      "2/2 [==============================] - 0s 14ms/step - loss: 7.9953 - mse: 90.3405\n",
      "Epoch 18/40\n",
      "2/2 [==============================] - 0s 14ms/step - loss: 9.1543 - mse: 117.6867\n",
      "Epoch 19/40\n",
      "2/2 [==============================] - 0s 14ms/step - loss: 1.8389 - mse: 16.1814\n",
      "Epoch 20/40\n",
      "2/2 [==============================] - 0s 14ms/step - loss: 10.7653 - mse: 160.9396\n",
      "Epoch 21/40\n",
      "2/2 [==============================] - 0s 14ms/step - loss: 3.2872 - mse: 19.8245\n",
      "Epoch 22/40\n",
      "2/2 [==============================] - 0s 15ms/step - loss: 10.8090 - mse: 160.1436\n",
      "Epoch 23/40\n",
      "2/2 [==============================] - 0s 14ms/step - loss: 8.7470 - mse: 109.5996\n",
      "Epoch 24/40\n",
      "2/2 [==============================] - 0s 15ms/step - loss: 2.0569 - mse: 8.3422\n",
      "Epoch 25/40\n",
      "2/2 [==============================] - 0s 14ms/step - loss: 2.3043 - mse: 8.0000\n",
      "Epoch 26/40\n",
      "2/2 [==============================] - 0s 14ms/step - loss: 3.6310 - mse: 19.3524\n",
      "Epoch 27/40\n",
      "2/2 [==============================] - 0s 14ms/step - loss: 4.7626 - mse: 33.5085\n",
      "Epoch 28/40\n",
      "2/2 [==============================] - 0s 14ms/step - loss: 3.0030 - mse: 12.7895\n",
      "Epoch 29/40\n",
      "2/2 [==============================] - 0s 14ms/step - loss: 5.3183 - mse: 38.7867\n",
      "Epoch 30/40\n",
      "2/2 [==============================] - 0s 14ms/step - loss: 2.1801 - mse: 15.8129\n",
      "Epoch 31/40\n",
      "2/2 [==============================] - 0s 14ms/step - loss: 3.7063 - mse: 23.4069\n",
      "Epoch 32/40\n",
      "2/2 [==============================] - 0s 14ms/step - loss: 4.2353 - mse: 24.7934\n",
      "Epoch 33/40\n",
      "2/2 [==============================] - 0s 14ms/step - loss: 3.4797 - mse: 19.4847\n",
      "Epoch 34/40\n",
      "2/2 [==============================] - 0s 14ms/step - loss: 6.1065 - mse: 50.5595\n",
      "Epoch 35/40\n",
      "2/2 [==============================] - 0s 14ms/step - loss: 6.4542 - mse: 62.3628\n",
      "Epoch 36/40\n",
      "2/2 [==============================] - 0s 15ms/step - loss: 3.4963 - mse: 17.6084\n",
      "Epoch 37/40\n",
      "2/2 [==============================] - 0s 14ms/step - loss: 6.0198 - mse: 51.6320\n",
      "Epoch 38/40\n",
      "2/2 [==============================] - 0s 14ms/step - loss: 1.7375 - mse: 10.1565\n",
      "Epoch 39/40\n",
      "2/2 [==============================] - 0s 14ms/step - loss: 8.7747 - mse: 106.7400\n",
      "Epoch 40/40\n",
      "2/2 [==============================] - 0s 14ms/step - loss: 3.7028 - mse: 19.2515\n"
     ]
    },
    {
     "data": {
      "text/plain": [
       "<keras.callbacks.History at 0xfffeada709a0>"
      ]
     },
     "execution_count": 52,
     "metadata": {},
     "output_type": "execute_result"
    }
   ],
   "source": [
    "# Model 3\n",
    "\n",
    "tf.random.set_seed(42)\n",
    "\n",
    "\n",
    "model_3 = tf.keras.Sequential([\n",
    "    tf.keras.layers.Dense(20),\n",
    "    tf.keras.layers.Dense(10),\n",
    "    tf.keras.layers.Dense(1)\n",
    "])\n",
    "\n",
    "model_3.compile(loss=tf.keras.losses.mae,\n",
    "                optimizer=tf.keras.optimizers.Adam(learning_rate=0.1),\n",
    "                metrics=[\"mse\"]\n",
    "               )\n",
    "\n",
    "model_3.fit(tf.expand_dims(X_train, axis=-1), y_train, epochs=40)\n"
   ]
  },
  {
   "cell_type": "code",
   "execution_count": 53,
   "id": "c01c2b5e",
   "metadata": {},
   "outputs": [
    {
     "name": "stdout",
     "output_type": "stream",
     "text": [
      "1/1 [==============================] - 0s 131ms/step\n"
     ]
    },
    {
     "data": {
      "image/png": "[encoded data removed]",
      "text/plain": [
       "<Figure size 720x504 with 1 Axes>"
      ]
     },
     "metadata": {
      "needs_background": "light"
     },
     "output_type": "display_data"
    }
   ],
   "source": [
    "y_pred_3 = model_3.predict(y_test)\n",
    "plot_predictions(predictions=y_pred_3)"
   ]
  },
  {
   "cell_type": "code",
   "execution_count": 54,
   "id": "807371af",
   "metadata": {},
   "outputs": [
    {
     "data": {
      "text/plain": [
       "(array([[ 71.358315],\n",
       "        [ 74.86015 ],\n",
       "        [ 78.362   ],\n",
       "        [ 81.86383 ],\n",
       "        [ 85.36566 ],\n",
       "        [ 88.86752 ],\n",
       "        [ 92.36935 ],\n",
       "        [ 95.8712  ],\n",
       "        [ 99.373024],\n",
       "        [102.87489 ]], dtype=float32),\n",
       " <tf.Tensor: shape=(10,), dtype=int32, numpy=array([ 70,  74,  78,  82,  86,  90,  94,  98, 102, 106], dtype=int32)>)"
      ]
     },
     "execution_count": 54,
     "metadata": {},
     "output_type": "execute_result"
    }
   ],
   "source": [
    "y_pred_3, y_test"
   ]
  },
  {
   "cell_type": "code",
   "execution_count": 57,
   "id": "0dd3cdd3",
   "metadata": {},
   "outputs": [
    {
     "data": {
      "text/plain": [
       "(<tf.Tensor: shape=(), dtype=float32, numpy=1.3994987>,\n",
       " <tf.Tensor: shape=(), dtype=float32, numpy=2.8277469>)"
      ]
     },
     "execution_count": 57,
     "metadata": {},
     "output_type": "execute_result"
    }
   ],
   "source": [
    "mae_3 = mae(y_test, y_pred_3)\n",
    "mse_3 = mse(y_test, y_pred_3)\n",
    "\n",
    "mae_3, mse_3"
   ]
  },
  {
   "cell_type": "markdown",
   "id": "de9fe61a",
   "metadata": {},
   "source": [
    "### Comparing the results"
   ]
  },
  {
   "cell_type": "code",
   "execution_count": 59,
   "id": "73f793d6",
   "metadata": {},
   "outputs": [
    {
     "data": {
      "text/html": [
       "<div>\n",
       "<style scoped>\n",
       "    .dataframe tbody tr th:only-of-type {\n",
       "        vertical-align: middle;\n",
       "    }\n",
       "\n",
       "    .dataframe tbody tr th {\n",
       "        vertical-align: top;\n",
       "    }\n",
       "\n",
       "    .dataframe thead th {\n",
       "        text-align: right;\n",
       "    }\n",
       "</style>\n",
       "<table border=\"1\" class=\"dataframe\">\n",
       "  <thead>\n",
       "    <tr style=\"text-align: right;\">\n",
       "      <th></th>\n",
       "      <th>model</th>\n",
       "      <th>mae</th>\n",
       "      <th>mse</th>\n",
       "    </tr>\n",
       "  </thead>\n",
       "  <tbody>\n",
       "    <tr>\n",
       "      <th>0</th>\n",
       "      <td>model_1</td>\n",
       "      <td>8.698407</td>\n",
       "      <td>82.224655</td>\n",
       "    </tr>\n",
       "    <tr>\n",
       "      <th>1</th>\n",
       "      <td>model_2</td>\n",
       "      <td>30.108881</td>\n",
       "      <td>938.259949</td>\n",
       "    </tr>\n",
       "    <tr>\n",
       "      <th>2</th>\n",
       "      <td>model_3</td>\n",
       "      <td>1.399499</td>\n",
       "      <td>2.827747</td>\n",
       "    </tr>\n",
       "  </tbody>\n",
       "</table>\n",
       "</div>"
      ],
      "text/plain": [
       "     model        mae         mse\n",
       "0  model_1   8.698407   82.224655\n",
       "1  model_2  30.108881  938.259949\n",
       "2  model_3   1.399499    2.827747"
      ]
     },
     "execution_count": 59,
     "metadata": {},
     "output_type": "execute_result"
    }
   ],
   "source": [
    "import pandas as pd\n",
    "\n",
    "model_results = [[\"model_1\", mae_1.numpy(), mse_1.numpy()],\n",
    "                 [\"model_2\", mae_2.numpy(), mse_2.numpy()],\n",
    "                 [\"model_3\", mae_3.numpy(), mse_3.numpy()]]\n",
    "                 \n",
    "all_results = pd.DataFrame(model_results, columns=[\"model\", \"mae\", \"mse\"])\n",
    "all_results"
   ]
  },
  {
   "cell_type": "code",
   "execution_count": 60,
   "id": "18b83c19",
   "metadata": {},
   "outputs": [
    {
     "name": "stdout",
     "output_type": "stream",
     "text": [
      "Model: \"sequential_5\"\n",
      "_________________________________________________________________\n",
      " Layer (type)                Output Shape              Param #   \n",
      "=================================================================\n",
      " dense_6 (Dense)             (None, 10)                20        \n",
      "                                                                 \n",
      " dense_7 (Dense)             (None, 1)                 11        \n",
      "                                                                 \n",
      "=================================================================\n",
      "Total params: 31\n",
      "Trainable params: 31\n",
      "Non-trainable params: 0\n",
      "_________________________________________________________________\n"
     ]
    }
   ],
   "source": [
    " model_2.summary()"
   ]
  },
  {
   "cell_type": "code",
   "execution_count": 61,
   "id": "1e14d48d",
   "metadata": {},
   "outputs": [
    {
     "name": "stdout",
     "output_type": "stream",
     "text": [
      "Model: \"sequential_6\"\n",
      "_________________________________________________________________\n",
      " Layer (type)                Output Shape              Param #   \n",
      "=================================================================\n",
      " dense_8 (Dense)             (None, 20)                40        \n",
      "                                                                 \n",
      " dense_9 (Dense)             (None, 10)                210       \n",
      "                                                                 \n",
      " dense_10 (Dense)            (None, 1)                 11        \n",
      "                                                                 \n",
      "=================================================================\n",
      "Total params: 261\n",
      "Trainable params: 261\n",
      "Non-trainable params: 0\n",
      "_________________________________________________________________\n"
     ]
    }
   ],
   "source": [
    "model_3.summary()"
   ]
  },
  {
   "cell_type": "code",
   "execution_count": 62,
   "id": "7da098fd",
   "metadata": {},
   "outputs": [],
   "source": [
    "# Tracking your Experiments\n",
    "\n",
    "#TensorBoard - track modelling expriments.\n",
    "#Weights and Biases "
   ]
  },
  {
   "cell_type": "markdown",
   "id": "65e8685f",
   "metadata": {},
   "source": [
    "### Save the models"
   ]
  },
  {
   "cell_type": "code",
   "execution_count": 63,
   "id": "b4092363",
   "metadata": {},
   "outputs": [
    {
     "name": "stdout",
     "output_type": "stream",
     "text": [
      "INFO:tensorflow:Unsupported signature for serialization: ((TensorSpec(shape=(1, 10), dtype=tf.float32, name='gradient'), <tensorflow.python.framework.func_graph.UnknownArgument object at 0xfffeae365cd0>, 281469296160160), {}).\n",
      "INFO:tensorflow:Unsupported signature for serialization: ((TensorSpec(shape=(10,), dtype=tf.float32, name='gradient'), <tensorflow.python.framework.func_graph.UnknownArgument object at 0xfffeada14190>, 281469296158640), {}).\n",
      "INFO:tensorflow:Unsupported signature for serialization: ((TensorSpec(shape=(10, 1), dtype=tf.float32, name='gradient'), <tensorflow.python.framework.func_graph.UnknownArgument object at 0xfffeae7aef40>, 281469296159680), {}).\n",
      "INFO:tensorflow:Unsupported signature for serialization: ((TensorSpec(shape=(1,), dtype=tf.float32, name='gradient'), <tensorflow.python.framework.func_graph.UnknownArgument object at 0xfffead8bbb80>, 281469296159040), {}).\n",
      "INFO:tensorflow:Unsupported signature for serialization: ((TensorSpec(shape=(1, 10), dtype=tf.float32, name='gradient'), <tensorflow.python.framework.func_graph.UnknownArgument object at 0xfffeae365cd0>, 281469296160160), {}).\n",
      "INFO:tensorflow:Unsupported signature for serialization: ((TensorSpec(shape=(10,), dtype=tf.float32, name='gradient'), <tensorflow.python.framework.func_graph.UnknownArgument object at 0xfffeada14190>, 281469296158640), {}).\n",
      "INFO:tensorflow:Unsupported signature for serialization: ((TensorSpec(shape=(10, 1), dtype=tf.float32, name='gradient'), <tensorflow.python.framework.func_graph.UnknownArgument object at 0xfffeae7aef40>, 281469296159680), {}).\n",
      "INFO:tensorflow:Unsupported signature for serialization: ((TensorSpec(shape=(1,), dtype=tf.float32, name='gradient'), <tensorflow.python.framework.func_graph.UnknownArgument object at 0xfffead8bbb80>, 281469296159040), {}).\n"
     ]
    },
    {
     "name": "stderr",
     "output_type": "stream",
     "text": [
      "WARNING:absl:Found untraced functions such as _update_step_xla while saving (showing 1 of 1). These functions will not be directly callable after loading.\n"
     ]
    },
    {
     "name": "stdout",
     "output_type": "stream",
     "text": [
      "INFO:tensorflow:Assets written to: model2_SavedModel_Format/assets\n"
     ]
    },
    {
     "name": "stderr",
     "output_type": "stream",
     "text": [
      "INFO:tensorflow:Assets written to: model2_SavedModel_Format/assets\n"
     ]
    }
   ],
   "source": [
    "# Save the model using SavedModel format\n",
    "\n",
    "model_2.save(\"model2_SavedModel_Format\")"
   ]
  },
  {
   "cell_type": "code",
   "execution_count": 64,
   "id": "870b50b2",
   "metadata": {},
   "outputs": [],
   "source": [
    "# SAve the model using HDF5 format\n",
    "\n",
    "model_3.save(\"Model3_HDF5_Format.h5\")"
   ]
  },
  {
   "cell_type": "markdown",
   "id": "e83a7a5b",
   "metadata": {},
   "source": [
    "### Loading the saved models"
   ]
  },
  {
   "cell_type": "code",
   "execution_count": 68,
   "id": "088bcf3b",
   "metadata": {},
   "outputs": [
    {
     "name": "stdout",
     "output_type": "stream",
     "text": [
      "Model: \"sequential_5\"\n",
      "_________________________________________________________________\n",
      " Layer (type)                Output Shape              Param #   \n",
      "=================================================================\n",
      " dense_6 (Dense)             (None, 10)                20        \n",
      "                                                                 \n",
      " dense_7 (Dense)             (None, 1)                 11        \n",
      "                                                                 \n",
      "=================================================================\n",
      "Total params: 31\n",
      "Trainable params: 31\n",
      "Non-trainable params: 0\n",
      "_________________________________________________________________\n"
     ]
    }
   ],
   "source": [
    "loaded_SavedModel_Format = tf.keras.models.load_model(\"model2_SavedModel_Format\")\n",
    "loaded_SavedModel_Format.summary()"
   ]
  },
  {
   "cell_type": "code",
   "execution_count": 74,
   "id": "934f0490",
   "metadata": {},
   "outputs": [
    {
     "name": "stdout",
     "output_type": "stream",
     "text": [
      "1/1 [==============================] - 0s 54ms/step\n",
      "1/1 [==============================] - 0s 54ms/step\n"
     ]
    },
    {
     "data": {
      "text/plain": [
       "array([[ True],\n",
       "       [ True],\n",
       "       [ True],\n",
       "       [ True],\n",
       "       [ True],\n",
       "       [ True],\n",
       "       [ True],\n",
       "       [ True],\n",
       "       [ True],\n",
       "       [ True]])"
      ]
     },
     "execution_count": 74,
     "metadata": {},
     "output_type": "execute_result"
    }
   ],
   "source": [
    "model_2_preds = model_2.predict(X_test)\n",
    "loaded_SavedModel_Format_preds = loaded_SavedModel_Format.predict(X_test)\n",
    "model_2_preds == loaded_SavedModel_Format_preds"
   ]
  },
  {
   "cell_type": "code",
   "execution_count": 75,
   "id": "82ac0022",
   "metadata": {},
   "outputs": [
    {
     "data": {
      "text/plain": [
       "(array([[ 91.28581 ],\n",
       "        [ 97.24649 ],\n",
       "        [103.20718 ],\n",
       "        [109.167854],\n",
       "        [115.12855 ],\n",
       "        [121.08923 ],\n",
       "        [127.04991 ],\n",
       "        [133.01057 ],\n",
       "        [138.97127 ],\n",
       "        [144.93195 ]], dtype=float32),\n",
       " array([[ 91.28581 ],\n",
       "        [ 97.24649 ],\n",
       "        [103.20718 ],\n",
       "        [109.167854],\n",
       "        [115.12855 ],\n",
       "        [121.08923 ],\n",
       "        [127.04991 ],\n",
       "        [133.01057 ],\n",
       "        [138.97127 ],\n",
       "        [144.93195 ]], dtype=float32))"
      ]
     },
     "execution_count": 75,
     "metadata": {},
     "output_type": "execute_result"
    }
   ],
   "source": [
    "model_2_preds, loaded_SavedModel_Format_preds"
   ]
  },
  {
   "cell_type": "code",
   "execution_count": 76,
   "id": "4bcf73e8",
   "metadata": {},
   "outputs": [
    {
     "data": {
      "text/plain": [
       "<tf.Tensor: shape=(), dtype=bool, numpy=True>"
      ]
     },
     "execution_count": 76,
     "metadata": {},
     "output_type": "execute_result"
    }
   ],
   "source": [
    "mae(y_test, model_2_preds) == mae(y_test, loaded_SavedModel_Format_preds)"
   ]
  },
  {
   "cell_type": "code",
   "execution_count": 81,
   "id": "1d88a62b",
   "metadata": {},
   "outputs": [
    {
     "name": "stdout",
     "output_type": "stream",
     "text": [
      "Model: \"sequential_6\"\n",
      "_________________________________________________________________\n",
      " Layer (type)                Output Shape              Param #   \n",
      "=================================================================\n",
      " dense_8 (Dense)             (None, 20)                40        \n",
      "                                                                 \n",
      " dense_9 (Dense)             (None, 10)                210       \n",
      "                                                                 \n",
      " dense_10 (Dense)            (None, 1)                 11        \n",
      "                                                                 \n",
      "=================================================================\n",
      "Total params: 261\n",
      "Trainable params: 261\n",
      "Non-trainable params: 0\n",
      "_________________________________________________________________\n"
     ]
    }
   ],
   "source": [
    "# Loading the HDF5 Model\n",
    "\n",
    "loaded_HDF5_Model = tf.keras.models.load_model(\"Model3_HDF5_Format.h5\")\n",
    "loaded_HDF5_Model.summary()"
   ]
  },
  {
   "cell_type": "code",
   "execution_count": 83,
   "id": "36d49a76",
   "metadata": {},
   "outputs": [
    {
     "name": "stdout",
     "output_type": "stream",
     "text": [
      "1/1 [==============================] - 0s 48ms/step\n",
      "1/1 [==============================] - 0s 48ms/step\n"
     ]
    },
    {
     "data": {
      "text/plain": [
       "array([[ True],\n",
       "       [ True],\n",
       "       [ True],\n",
       "       [ True],\n",
       "       [ True],\n",
       "       [ True],\n",
       "       [ True],\n",
       "       [ True],\n",
       "       [ True],\n",
       "       [ True]])"
      ]
     },
     "execution_count": 83,
     "metadata": {},
     "output_type": "execute_result"
    }
   ],
   "source": [
    "model_3_preds = model_3.predict(X_test)\n",
    "loaded_HDF5_Model_preds = loaded_HDF5_Model.predict(X_test)\n",
    "model_3_preds == loaded_HDF5_Model_preds"
   ]
  },
  {
   "cell_type": "markdown",
   "id": "c464e039",
   "metadata": {},
   "source": [
    "## Working with some larger Data"
   ]
  },
  {
   "cell_type": "code",
   "execution_count": 84,
   "id": "94b391b3",
   "metadata": {},
   "outputs": [],
   "source": [
    "# Data from RAW Github to CSV\n",
    "\n",
    "insurance = pd.read_csv(\"https://raw.githubusercontent.com/stedy/Machine-Learning-with-R-datasets/master/insurance.csv\")"
   ]
  },
  {
   "cell_type": "code",
   "execution_count": 85,
   "id": "97cafcd1",
   "metadata": {},
   "outputs": [
    {
     "data": {
      "text/html": [
       "<div>\n",
       "<style scoped>\n",
       "    .dataframe tbody tr th:only-of-type {\n",
       "        vertical-align: middle;\n",
       "    }\n",
       "\n",
       "    .dataframe tbody tr th {\n",
       "        vertical-align: top;\n",
       "    }\n",
       "\n",
       "    .dataframe thead th {\n",
       "        text-align: right;\n",
       "    }\n",
       "</style>\n",
       "<table border=\"1\" class=\"dataframe\">\n",
       "  <thead>\n",
       "    <tr style=\"text-align: right;\">\n",
       "      <th></th>\n",
       "      <th>age</th>\n",
       "      <th>sex</th>\n",
       "      <th>bmi</th>\n",
       "      <th>children</th>\n",
       "      <th>smoker</th>\n",
       "      <th>region</th>\n",
       "      <th>charges</th>\n",
       "    </tr>\n",
       "  </thead>\n",
       "  <tbody>\n",
       "    <tr>\n",
       "      <th>0</th>\n",
       "      <td>19</td>\n",
       "      <td>female</td>\n",
       "      <td>27.900</td>\n",
       "      <td>0</td>\n",
       "      <td>yes</td>\n",
       "      <td>southwest</td>\n",
       "      <td>16884.92400</td>\n",
       "    </tr>\n",
       "    <tr>\n",
       "      <th>1</th>\n",
       "      <td>18</td>\n",
       "      <td>male</td>\n",
       "      <td>33.770</td>\n",
       "      <td>1</td>\n",
       "      <td>no</td>\n",
       "      <td>southeast</td>\n",
       "      <td>1725.55230</td>\n",
       "    </tr>\n",
       "    <tr>\n",
       "      <th>2</th>\n",
       "      <td>28</td>\n",
       "      <td>male</td>\n",
       "      <td>33.000</td>\n",
       "      <td>3</td>\n",
       "      <td>no</td>\n",
       "      <td>southeast</td>\n",
       "      <td>4449.46200</td>\n",
       "    </tr>\n",
       "    <tr>\n",
       "      <th>3</th>\n",
       "      <td>33</td>\n",
       "      <td>male</td>\n",
       "      <td>22.705</td>\n",
       "      <td>0</td>\n",
       "      <td>no</td>\n",
       "      <td>northwest</td>\n",
       "      <td>21984.47061</td>\n",
       "    </tr>\n",
       "    <tr>\n",
       "      <th>4</th>\n",
       "      <td>32</td>\n",
       "      <td>male</td>\n",
       "      <td>28.880</td>\n",
       "      <td>0</td>\n",
       "      <td>no</td>\n",
       "      <td>northwest</td>\n",
       "      <td>3866.85520</td>\n",
       "    </tr>\n",
       "    <tr>\n",
       "      <th>...</th>\n",
       "      <td>...</td>\n",
       "      <td>...</td>\n",
       "      <td>...</td>\n",
       "      <td>...</td>\n",
       "      <td>...</td>\n",
       "      <td>...</td>\n",
       "      <td>...</td>\n",
       "    </tr>\n",
       "    <tr>\n",
       "      <th>1333</th>\n",
       "      <td>50</td>\n",
       "      <td>male</td>\n",
       "      <td>30.970</td>\n",
       "      <td>3</td>\n",
       "      <td>no</td>\n",
       "      <td>northwest</td>\n",
       "      <td>10600.54830</td>\n",
       "    </tr>\n",
       "    <tr>\n",
       "      <th>1334</th>\n",
       "      <td>18</td>\n",
       "      <td>female</td>\n",
       "      <td>31.920</td>\n",
       "      <td>0</td>\n",
       "      <td>no</td>\n",
       "      <td>northeast</td>\n",
       "      <td>2205.98080</td>\n",
       "    </tr>\n",
       "    <tr>\n",
       "      <th>1335</th>\n",
       "      <td>18</td>\n",
       "      <td>female</td>\n",
       "      <td>36.850</td>\n",
       "      <td>0</td>\n",
       "      <td>no</td>\n",
       "      <td>southeast</td>\n",
       "      <td>1629.83350</td>\n",
       "    </tr>\n",
       "    <tr>\n",
       "      <th>1336</th>\n",
       "      <td>21</td>\n",
       "      <td>female</td>\n",
       "      <td>25.800</td>\n",
       "      <td>0</td>\n",
       "      <td>no</td>\n",
       "      <td>southwest</td>\n",
       "      <td>2007.94500</td>\n",
       "    </tr>\n",
       "    <tr>\n",
       "      <th>1337</th>\n",
       "      <td>61</td>\n",
       "      <td>female</td>\n",
       "      <td>29.070</td>\n",
       "      <td>0</td>\n",
       "      <td>yes</td>\n",
       "      <td>northwest</td>\n",
       "      <td>29141.36030</td>\n",
       "    </tr>\n",
       "  </tbody>\n",
       "</table>\n",
       "<p>1338 rows × 7 columns</p>\n",
       "</div>"
      ],
      "text/plain": [
       "      age     sex     bmi  children smoker     region      charges\n",
       "0      19  female  27.900         0    yes  southwest  16884.92400\n",
       "1      18    male  33.770         1     no  southeast   1725.55230\n",
       "2      28    male  33.000         3     no  southeast   4449.46200\n",
       "3      33    male  22.705         0     no  northwest  21984.47061\n",
       "4      32    male  28.880         0     no  northwest   3866.85520\n",
       "...   ...     ...     ...       ...    ...        ...          ...\n",
       "1333   50    male  30.970         3     no  northwest  10600.54830\n",
       "1334   18  female  31.920         0     no  northeast   2205.98080\n",
       "1335   18  female  36.850         0     no  southeast   1629.83350\n",
       "1336   21  female  25.800         0     no  southwest   2007.94500\n",
       "1337   61  female  29.070         0    yes  northwest  29141.36030\n",
       "\n",
       "[1338 rows x 7 columns]"
      ]
     },
     "execution_count": 85,
     "metadata": {},
     "output_type": "execute_result"
    }
   ],
   "source": [
    "insurance"
   ]
  },
  {
   "cell_type": "code",
   "execution_count": 89,
   "id": "8030a906",
   "metadata": {},
   "outputs": [
    {
     "ename": "TypeError",
     "evalue": "Cannot interpret '<attribute 'dtype' of 'numpy.generic' objects>' as a data type",
     "output_type": "error",
     "traceback": [
      "\u001b[0;31m---------------------------------------------------------------------------\u001b[0m",
      "\u001b[0;31mTypeError\u001b[0m                                 Traceback (most recent call last)",
      "\u001b[0;32m<ipython-input-89-5d161bed0f10>\u001b[0m in \u001b[0;36m<module>\u001b[0;34m\u001b[0m\n\u001b[0;32m----> 1\u001b[0;31m \u001b[0mpd\u001b[0m\u001b[0;34m.\u001b[0m\u001b[0mget_dummies\u001b[0m\u001b[0;34m(\u001b[0m\u001b[0minsurance\u001b[0m\u001b[0;34m)\u001b[0m\u001b[0;34m\u001b[0m\u001b[0;34m\u001b[0m\u001b[0m\n\u001b[0m",
      "\u001b[0;32m/usr/lib/python3/dist-packages/pandas/core/reshape/reshape.py\u001b[0m in \u001b[0;36mget_dummies\u001b[0;34m(data, prefix, prefix_sep, dummy_na, columns, sparse, drop_first, dtype)\u001b[0m\n\u001b[1;32m    868\u001b[0m         \u001b[0;31m# determine columns being encoded\u001b[0m\u001b[0;34m\u001b[0m\u001b[0;34m\u001b[0m\u001b[0;34m\u001b[0m\u001b[0m\n\u001b[1;32m    869\u001b[0m         \u001b[0;32mif\u001b[0m \u001b[0mcolumns\u001b[0m \u001b[0;32mis\u001b[0m \u001b[0;32mNone\u001b[0m\u001b[0;34m:\u001b[0m\u001b[0;34m\u001b[0m\u001b[0;34m\u001b[0m\u001b[0m\n\u001b[0;32m--> 870\u001b[0;31m             \u001b[0mdata_to_encode\u001b[0m \u001b[0;34m=\u001b[0m \u001b[0mdata\u001b[0m\u001b[0;34m.\u001b[0m\u001b[0mselect_dtypes\u001b[0m\u001b[0;34m(\u001b[0m\u001b[0minclude\u001b[0m\u001b[0;34m=\u001b[0m\u001b[0mdtypes_to_encode\u001b[0m\u001b[0;34m)\u001b[0m\u001b[0;34m\u001b[0m\u001b[0;34m\u001b[0m\u001b[0m\n\u001b[0m\u001b[1;32m    871\u001b[0m         \u001b[0;32melse\u001b[0m\u001b[0;34m:\u001b[0m\u001b[0;34m\u001b[0m\u001b[0;34m\u001b[0m\u001b[0m\n\u001b[1;32m    872\u001b[0m             \u001b[0mdata_to_encode\u001b[0m \u001b[0;34m=\u001b[0m \u001b[0mdata\u001b[0m\u001b[0;34m[\u001b[0m\u001b[0mcolumns\u001b[0m\u001b[0;34m]\u001b[0m\u001b[0;34m\u001b[0m\u001b[0;34m\u001b[0m\u001b[0m\n",
      "\u001b[0;32m/usr/lib/python3/dist-packages/pandas/core/frame.py\u001b[0m in \u001b[0;36mselect_dtypes\u001b[0;34m(self, include, exclude)\u001b[0m\n\u001b[1;32m   3440\u001b[0m         \u001b[0;31m# the \"union\" of the logic of case 1 and case 2:\u001b[0m\u001b[0;34m\u001b[0m\u001b[0;34m\u001b[0m\u001b[0;34m\u001b[0m\u001b[0m\n\u001b[1;32m   3441\u001b[0m         \u001b[0;31m# we get the included and excluded, and return their logical and\u001b[0m\u001b[0;34m\u001b[0m\u001b[0;34m\u001b[0m\u001b[0;34m\u001b[0m\u001b[0m\n\u001b[0;32m-> 3442\u001b[0;31m         \u001b[0minclude_these\u001b[0m \u001b[0;34m=\u001b[0m \u001b[0mSeries\u001b[0m\u001b[0;34m(\u001b[0m\u001b[0;32mnot\u001b[0m \u001b[0mbool\u001b[0m\u001b[0;34m(\u001b[0m\u001b[0minclude\u001b[0m\u001b[0;34m)\u001b[0m\u001b[0;34m,\u001b[0m \u001b[0mindex\u001b[0m\u001b[0;34m=\u001b[0m\u001b[0mself\u001b[0m\u001b[0;34m.\u001b[0m\u001b[0mcolumns\u001b[0m\u001b[0;34m)\u001b[0m\u001b[0;34m\u001b[0m\u001b[0;34m\u001b[0m\u001b[0m\n\u001b[0m\u001b[1;32m   3443\u001b[0m         \u001b[0mexclude_these\u001b[0m \u001b[0;34m=\u001b[0m \u001b[0mSeries\u001b[0m\u001b[0;34m(\u001b[0m\u001b[0;32mnot\u001b[0m \u001b[0mbool\u001b[0m\u001b[0;34m(\u001b[0m\u001b[0mexclude\u001b[0m\u001b[0;34m)\u001b[0m\u001b[0;34m,\u001b[0m \u001b[0mindex\u001b[0m\u001b[0;34m=\u001b[0m\u001b[0mself\u001b[0m\u001b[0;34m.\u001b[0m\u001b[0mcolumns\u001b[0m\u001b[0;34m)\u001b[0m\u001b[0;34m\u001b[0m\u001b[0;34m\u001b[0m\u001b[0m\n\u001b[1;32m   3444\u001b[0m \u001b[0;34m\u001b[0m\u001b[0m\n",
      "\u001b[0;32m/usr/lib/python3/dist-packages/pandas/core/series.py\u001b[0m in \u001b[0;36m__init__\u001b[0;34m(self, data, index, dtype, name, copy, fastpath)\u001b[0m\n\u001b[1;32m    312\u001b[0m                     \u001b[0mdata\u001b[0m \u001b[0;34m=\u001b[0m \u001b[0mdata\u001b[0m\u001b[0;34m.\u001b[0m\u001b[0mcopy\u001b[0m\u001b[0;34m(\u001b[0m\u001b[0;34m)\u001b[0m\u001b[0;34m\u001b[0m\u001b[0;34m\u001b[0m\u001b[0m\n\u001b[1;32m    313\u001b[0m             \u001b[0;32melse\u001b[0m\u001b[0;34m:\u001b[0m\u001b[0;34m\u001b[0m\u001b[0;34m\u001b[0m\u001b[0m\n\u001b[0;32m--> 314\u001b[0;31m                 \u001b[0mdata\u001b[0m \u001b[0;34m=\u001b[0m \u001b[0msanitize_array\u001b[0m\u001b[0;34m(\u001b[0m\u001b[0mdata\u001b[0m\u001b[0;34m,\u001b[0m \u001b[0mindex\u001b[0m\u001b[0;34m,\u001b[0m \u001b[0mdtype\u001b[0m\u001b[0;34m,\u001b[0m \u001b[0mcopy\u001b[0m\u001b[0;34m,\u001b[0m \u001b[0mraise_cast_failure\u001b[0m\u001b[0;34m=\u001b[0m\u001b[0;32mTrue\u001b[0m\u001b[0;34m)\u001b[0m\u001b[0;34m\u001b[0m\u001b[0;34m\u001b[0m\u001b[0m\n\u001b[0m\u001b[1;32m    315\u001b[0m \u001b[0;34m\u001b[0m\u001b[0m\n\u001b[1;32m    316\u001b[0m                 \u001b[0mdata\u001b[0m \u001b[0;34m=\u001b[0m \u001b[0mSingleBlockManager\u001b[0m\u001b[0;34m(\u001b[0m\u001b[0mdata\u001b[0m\u001b[0;34m,\u001b[0m \u001b[0mindex\u001b[0m\u001b[0;34m,\u001b[0m \u001b[0mfastpath\u001b[0m\u001b[0;34m=\u001b[0m\u001b[0;32mTrue\u001b[0m\u001b[0;34m)\u001b[0m\u001b[0;34m\u001b[0m\u001b[0;34m\u001b[0m\u001b[0m\n",
      "\u001b[0;32m/usr/lib/python3/dist-packages/pandas/core/internals/construction.py\u001b[0m in \u001b[0;36msanitize_array\u001b[0;34m(data, index, dtype, copy, raise_cast_failure)\u001b[0m\n\u001b[1;32m    710\u001b[0m                 \u001b[0mvalue\u001b[0m \u001b[0;34m=\u001b[0m \u001b[0mmaybe_cast_to_datetime\u001b[0m\u001b[0;34m(\u001b[0m\u001b[0mvalue\u001b[0m\u001b[0;34m,\u001b[0m \u001b[0mdtype\u001b[0m\u001b[0;34m)\u001b[0m\u001b[0;34m\u001b[0m\u001b[0;34m\u001b[0m\u001b[0m\n\u001b[1;32m    711\u001b[0m \u001b[0;34m\u001b[0m\u001b[0m\n\u001b[0;32m--> 712\u001b[0;31m             \u001b[0msubarr\u001b[0m \u001b[0;34m=\u001b[0m \u001b[0mconstruct_1d_arraylike_from_scalar\u001b[0m\u001b[0;34m(\u001b[0m\u001b[0mvalue\u001b[0m\u001b[0;34m,\u001b[0m \u001b[0mlen\u001b[0m\u001b[0;34m(\u001b[0m\u001b[0mindex\u001b[0m\u001b[0;34m)\u001b[0m\u001b[0;34m,\u001b[0m \u001b[0mdtype\u001b[0m\u001b[0;34m)\u001b[0m\u001b[0;34m\u001b[0m\u001b[0;34m\u001b[0m\u001b[0m\n\u001b[0m\u001b[1;32m    713\u001b[0m \u001b[0;34m\u001b[0m\u001b[0m\n\u001b[1;32m    714\u001b[0m         \u001b[0;32melse\u001b[0m\u001b[0;34m:\u001b[0m\u001b[0;34m\u001b[0m\u001b[0;34m\u001b[0m\u001b[0m\n",
      "\u001b[0;32m/usr/lib/python3/dist-packages/pandas/core/dtypes/cast.py\u001b[0m in \u001b[0;36mconstruct_1d_arraylike_from_scalar\u001b[0;34m(value, length, dtype)\u001b[0m\n\u001b[1;32m   1239\u001b[0m                 \u001b[0mvalue\u001b[0m \u001b[0;34m=\u001b[0m \u001b[0mensure_str\u001b[0m\u001b[0;34m(\u001b[0m\u001b[0mvalue\u001b[0m\u001b[0;34m)\u001b[0m\u001b[0;34m\u001b[0m\u001b[0;34m\u001b[0m\u001b[0m\n\u001b[1;32m   1240\u001b[0m \u001b[0;34m\u001b[0m\u001b[0m\n\u001b[0;32m-> 1241\u001b[0;31m         \u001b[0msubarr\u001b[0m \u001b[0;34m=\u001b[0m \u001b[0mnp\u001b[0m\u001b[0;34m.\u001b[0m\u001b[0mempty\u001b[0m\u001b[0;34m(\u001b[0m\u001b[0mlength\u001b[0m\u001b[0;34m,\u001b[0m \u001b[0mdtype\u001b[0m\u001b[0;34m=\u001b[0m\u001b[0mdtype\u001b[0m\u001b[0;34m)\u001b[0m\u001b[0;34m\u001b[0m\u001b[0;34m\u001b[0m\u001b[0m\n\u001b[0m\u001b[1;32m   1242\u001b[0m         \u001b[0msubarr\u001b[0m\u001b[0;34m.\u001b[0m\u001b[0mfill\u001b[0m\u001b[0;34m(\u001b[0m\u001b[0mvalue\u001b[0m\u001b[0;34m)\u001b[0m\u001b[0;34m\u001b[0m\u001b[0;34m\u001b[0m\u001b[0m\n\u001b[1;32m   1243\u001b[0m \u001b[0;34m\u001b[0m\u001b[0m\n",
      "\u001b[0;31mTypeError\u001b[0m: Cannot interpret '<attribute 'dtype' of 'numpy.generic' objects>' as a data type"
     ]
    }
   ],
   "source": [
    "pd.get_dummies(insurance)"
   ]
  },
  {
   "cell_type": "code",
   "execution_count": 87,
   "id": "f34244cb",
   "metadata": {},
   "outputs": [
    {
     "name": "stdout",
     "output_type": "stream",
     "text": [
      "Defaulting to user installation because normal site-packages is not writeable\n",
      "Collecting numpy==1.16.5\n",
      "  Downloading numpy-1.16.5.zip (5.1 MB)\n",
      "\u001b[2K     \u001b[90m━━━━━━━━━━━━━━━━━━━━━━━━━━━━━━━━━━━━━━━━\u001b[0m \u001b[32m5.1/5.1 MB\u001b[0m \u001b[31m11.0 MB/s\u001b[0m eta \u001b[36m0:00:00\u001b[0ma \u001b[36m0:00:01\u001b[0m\n",
      "\u001b[?25h  Preparing metadata (setup.py) ... \u001b[?25ldone\n",
      "\u001b[?25hBuilding wheels for collected packages: numpy\n",
      "  Building wheel for numpy (setup.py) ... \u001b[?25ldone\n",
      "\u001b[?25h  Created wheel for numpy: filename=numpy-1.16.5-cp38-cp38-linux_aarch64.whl size=9432671 sha256=5ba1cae64f8c71431677a9d2b409c418524358ccf1bd11ffdcc23d8c32231366\n",
      "  Stored in directory: /home/stemtec/.cache/pip/wheels/8f/3f/d3/ac786baa3379136ed1069cf94478550de71616e0490b462e90\n",
      "Successfully built numpy\n",
      "Installing collected packages: numpy\n",
      "\u001b[31mERROR: pip's dependency resolver does not currently take into account all the packages that are installed. This behaviour is the source of the following dependency conflicts.\n",
      "onnx-graphsurgeon 0.3.12 requires onnx, which is not installed.\n",
      "jax 0.4.13 requires numpy>=1.21, but you have numpy 1.16.5 which is incompatible.\n",
      "ml-dtypes 0.2.0 requires numpy>1.20, but you have numpy 1.16.5 which is incompatible.\n",
      "scipy 1.10.1 requires numpy<1.27.0,>=1.19.5, but you have numpy 1.16.5 which is incompatible.\n",
      "tensorflow 2.12.0+nv23.6 requires numpy<1.24,>=1.22; python_version >= \"3.7\", but you have numpy 1.16.5 which is incompatible.\u001b[0m\u001b[31m\n",
      "\u001b[0mSuccessfully installed numpy-1.16.5\n",
      "\n",
      "\u001b[1m[\u001b[0m\u001b[34;49mnotice\u001b[0m\u001b[1;39;49m]\u001b[0m\u001b[39;49m A new release of pip is available: \u001b[0m\u001b[31;49m23.3.1\u001b[0m\u001b[39;49m -> \u001b[0m\u001b[32;49m24.0\u001b[0m\n",
      "\u001b[1m[\u001b[0m\u001b[34;49mnotice\u001b[0m\u001b[1;39;49m]\u001b[0m\u001b[39;49m To update, run: \u001b[0m\u001b[32;49mpython3 -m pip install --upgrade pip\u001b[0m\n"
     ]
    }
   ],
   "source": [
    "!pip install numpy==1.16.5"
   ]
  },
  {
   "cell_type": "code",
   "execution_count": null,
   "id": "9b6eb738",
   "metadata": {},
   "outputs": [],
   "source": []
  }
 ],
 "metadata": {
  "kernelspec": {
   "display_name": "Python 3",
   "language": "python",
   "name": "python3"
  },
  "language_info": {
   "codemirror_mode": {
    "name": "ipython",
    "version": 3
   },
   "file_extension": ".py",
   "mimetype": "text/x-python",
   "name": "python",
   "nbconvert_exporter": "python",
   "pygments_lexer": "ipython3",
   "version": "3.8.10"
  }
 },
 "nbformat": 4,
 "nbformat_minor": 5
}
