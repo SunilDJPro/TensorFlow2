{
 "cells": [
  {
   "cell_type": "markdown",
   "id": "bbde1e4e-8d54-490b-be07-70f9eda02653",
   "metadata": {},
   "source": [
    "# Intro to regression with neural network\n"
   ]
  },
  {
   "cell_type": "code",
   "execution_count": 1,
   "id": "20f105d4-bf27-4d95-b6fe-08e093b93d9c",
   "metadata": {},
   "outputs": [
    {
     "name": "stderr",
     "output_type": "stream",
     "text": [
      "2024-02-09 09:52:18.234288: E external/local_xla/xla/stream_executor/cuda/cuda_dnn.cc:9261] Unable to register cuDNN factory: Attempting to register factory for plugin cuDNN when one has already been registered\n",
      "2024-02-09 09:52:18.234325: E external/local_xla/xla/stream_executor/cuda/cuda_fft.cc:607] Unable to register cuFFT factory: Attempting to register factory for plugin cuFFT when one has already been registered\n",
      "2024-02-09 09:52:18.235022: E external/local_xla/xla/stream_executor/cuda/cuda_blas.cc:1515] Unable to register cuBLAS factory: Attempting to register factory for plugin cuBLAS when one has already been registered\n",
      "2024-02-09 09:52:18.239873: I tensorflow/core/platform/cpu_feature_guard.cc:182] This TensorFlow binary is optimized to use available CPU instructions in performance-critical operations.\n",
      "To enable the following instructions: AVX2 FMA, in other operations, rebuild TensorFlow with the appropriate compiler flags.\n"
     ]
    },
    {
     "name": "stdout",
     "output_type": "stream",
     "text": [
      "2.15.0\n"
     ]
    }
   ],
   "source": [
    "import tensorflow as tf\n",
    "print(tf.__version__)\n",
    "config = tf.compat.v1.ConfigProto()\n",
    "config.gpu_options.allow_growth = True"
   ]
  },
  {
   "cell_type": "code",
   "execution_count": 2,
   "id": "b2edaf0d-0dc0-41fa-a0f5-e35d9a55a6b0",
   "metadata": {},
   "outputs": [
    {
     "name": "stderr",
     "output_type": "stream",
     "text": [
      "2024-02-09 09:52:21.607515: I external/local_xla/xla/stream_executor/cuda/cuda_executor.cc:901] successful NUMA node read from SysFS had negative value (-1), but there must be at least one NUMA node, so returning NUMA node zero. See more at https://github.com/torvalds/linux/blob/v6.0/Documentation/ABI/testing/sysfs-bus-pci#L344-L355\n",
      "2024-02-09 09:52:21.613178: I external/local_xla/xla/stream_executor/cuda/cuda_executor.cc:901] successful NUMA node read from SysFS had negative value (-1), but there must be at least one NUMA node, so returning NUMA node zero. See more at https://github.com/torvalds/linux/blob/v6.0/Documentation/ABI/testing/sysfs-bus-pci#L344-L355\n",
      "2024-02-09 09:52:21.613421: I external/local_xla/xla/stream_executor/cuda/cuda_executor.cc:901] successful NUMA node read from SysFS had negative value (-1), but there must be at least one NUMA node, so returning NUMA node zero. See more at https://github.com/torvalds/linux/blob/v6.0/Documentation/ABI/testing/sysfs-bus-pci#L344-L355\n",
      "2024-02-09 09:52:21.702461: I external/local_xla/xla/stream_executor/cuda/cuda_executor.cc:901] successful NUMA node read from SysFS had negative value (-1), but there must be at least one NUMA node, so returning NUMA node zero. See more at https://github.com/torvalds/linux/blob/v6.0/Documentation/ABI/testing/sysfs-bus-pci#L344-L355\n",
      "2024-02-09 09:52:21.702632: I external/local_xla/xla/stream_executor/cuda/cuda_executor.cc:901] successful NUMA node read from SysFS had negative value (-1), but there must be at least one NUMA node, so returning NUMA node zero. See more at https://github.com/torvalds/linux/blob/v6.0/Documentation/ABI/testing/sysfs-bus-pci#L344-L355\n",
      "2024-02-09 09:52:21.702807: I external/local_xla/xla/stream_executor/cuda/cuda_executor.cc:901] successful NUMA node read from SysFS had negative value (-1), but there must be at least one NUMA node, so returning NUMA node zero. See more at https://github.com/torvalds/linux/blob/v6.0/Documentation/ABI/testing/sysfs-bus-pci#L344-L355\n",
      "2024-02-09 09:52:21.702926: I tensorflow/core/common_runtime/gpu/gpu_device.cc:1929] Created device /job:localhost/replica:0/task:0/device:GPU:0 with 6555 MB memory:  -> device: 0, name: NVIDIA GeForce RTX 2060 SUPER, pci bus id: 0000:09:00.0, compute capability: 7.5\n"
     ]
    },
    {
     "data": {
      "text/plain": [
       "<matplotlib.collections.PathCollection at 0x7ff9b053a1d0>"
      ]
     },
     "execution_count": 2,
     "metadata": {},
     "output_type": "execute_result"
    },
    {
     "data": {
      "image/png": "[encoded data removed]",
      "text/plain": [
       "<Figure size 640x480 with 1 Axes>"
      ]
     },
     "metadata": {},
     "output_type": "display_data"
    }
   ],
   "source": [
    "# Creating the data top view and fit\n",
    "sess = tf.compat.v1.Session(config=config)\n",
    "import numpy as np\n",
    "import matplotlib.pyplot as plt\n",
    "\n",
    "X = np.array([-7.0, -4.0, -1.0, 2.0, 5.0, 8.0, 11.0, 14.0])\n",
    "\n",
    "y = np.array([3.0, 6.0, 9.0, 12.0, 15.0, 18.0, 21.0, 24.0])\n",
    "\n",
    "plt.scatter(X, y)"
   ]
  },
  {
   "cell_type": "code",
   "execution_count": 3,
   "id": "e660128e-f0af-4db2-baab-2b82f3256669",
   "metadata": {},
   "outputs": [
    {
     "data": {
      "text/plain": [
       "array([ True,  True,  True,  True,  True,  True,  True,  True])"
      ]
     },
     "execution_count": 3,
     "metadata": {},
     "output_type": "execute_result"
    }
   ],
   "source": [
    "y == X + 10"
   ]
  },
  {
   "cell_type": "markdown",
   "id": "0bb34f96-de96-4aab-9c77-1171b79c4806",
   "metadata": {},
   "source": [
    "# Inputs and Output Shapes"
   ]
  },
  {
   "cell_type": "code",
   "execution_count": 4,
   "id": "90968722-f111-4fe7-ab8c-49cbe03826e5",
   "metadata": {},
   "outputs": [
    {
     "name": "stderr",
     "output_type": "stream",
     "text": [
      "2024-02-09 09:52:33.728497: I external/local_xla/xla/stream_executor/cuda/cuda_executor.cc:901] successful NUMA node read from SysFS had negative value (-1), but there must be at least one NUMA node, so returning NUMA node zero. See more at https://github.com/torvalds/linux/blob/v6.0/Documentation/ABI/testing/sysfs-bus-pci#L344-L355\n",
      "2024-02-09 09:52:33.728785: I external/local_xla/xla/stream_executor/cuda/cuda_executor.cc:901] successful NUMA node read from SysFS had negative value (-1), but there must be at least one NUMA node, so returning NUMA node zero. See more at https://github.com/torvalds/linux/blob/v6.0/Documentation/ABI/testing/sysfs-bus-pci#L344-L355\n",
      "2024-02-09 09:52:33.728990: I external/local_xla/xla/stream_executor/cuda/cuda_executor.cc:901] successful NUMA node read from SysFS had negative value (-1), but there must be at least one NUMA node, so returning NUMA node zero. See more at https://github.com/torvalds/linux/blob/v6.0/Documentation/ABI/testing/sysfs-bus-pci#L344-L355\n",
      "2024-02-09 09:52:33.729378: I external/local_xla/xla/stream_executor/cuda/cuda_executor.cc:901] successful NUMA node read from SysFS had negative value (-1), but there must be at least one NUMA node, so returning NUMA node zero. See more at https://github.com/torvalds/linux/blob/v6.0/Documentation/ABI/testing/sysfs-bus-pci#L344-L355\n",
      "2024-02-09 09:52:33.729577: I external/local_xla/xla/stream_executor/cuda/cuda_executor.cc:901] successful NUMA node read from SysFS had negative value (-1), but there must be at least one NUMA node, so returning NUMA node zero. See more at https://github.com/torvalds/linux/blob/v6.0/Documentation/ABI/testing/sysfs-bus-pci#L344-L355\n",
      "2024-02-09 09:52:33.729744: I external/local_xla/xla/stream_executor/cuda/cuda_executor.cc:901] successful NUMA node read from SysFS had negative value (-1), but there must be at least one NUMA node, so returning NUMA node zero. See more at https://github.com/torvalds/linux/blob/v6.0/Documentation/ABI/testing/sysfs-bus-pci#L344-L355\n",
      "2024-02-09 09:52:33.729954: I external/local_xla/xla/stream_executor/cuda/cuda_executor.cc:901] successful NUMA node read from SysFS had negative value (-1), but there must be at least one NUMA node, so returning NUMA node zero. See more at https://github.com/torvalds/linux/blob/v6.0/Documentation/ABI/testing/sysfs-bus-pci#L344-L355\n",
      "2024-02-09 09:52:33.730125: I external/local_xla/xla/stream_executor/cuda/cuda_executor.cc:901] successful NUMA node read from SysFS had negative value (-1), but there must be at least one NUMA node, so returning NUMA node zero. See more at https://github.com/torvalds/linux/blob/v6.0/Documentation/ABI/testing/sysfs-bus-pci#L344-L355\n",
      "2024-02-09 09:52:33.730268: I tensorflow/core/common_runtime/gpu/gpu_device.cc:1929] Created device /job:localhost/replica:0/task:0/device:GPU:0 with 6555 MB memory:  -> device: 0, name: NVIDIA GeForce RTX 2060 SUPER, pci bus id: 0000:09:00.0, compute capability: 7.5\n"
     ]
    },
    {
     "data": {
      "text/plain": [
       "(<tf.Tensor: shape=(3,), dtype=string, numpy=array([b'bedroom', b'bathroom', b'garage'], dtype=object)>,\n",
       " <tf.Tensor: shape=(1,), dtype=int32, numpy=array([939700], dtype=int32)>)"
      ]
     },
     "execution_count": 4,
     "metadata": {},
     "output_type": "execute_result"
    }
   ],
   "source": [
    "#Demo\n",
    "house_info = tf.constant([\"bedroom\", \"bathroom\", \"garage\"])\n",
    "house_price = tf.constant([939700])\n",
    "house_info, house_price"
   ]
  },
  {
   "cell_type": "code",
   "execution_count": 5,
   "id": "e1dfe016-57a5-4cf9-b44a-fcca49f2f897",
   "metadata": {},
   "outputs": [
    {
     "data": {
      "text/plain": [
       "((8,), (8,))"
      ]
     },
     "execution_count": 5,
     "metadata": {},
     "output_type": "execute_result"
    }
   ],
   "source": [
    "input_shape = X.shape\n",
    "output_shape = y.shape\n",
    "input_shape, output_shape"
   ]
  },
  {
   "cell_type": "code",
   "execution_count": 6,
   "id": "d3c21e8e-7b74-4378-9432-992479bfb147",
   "metadata": {},
   "outputs": [
    {
     "data": {
      "text/plain": [
       "(-7.0, 3.0)"
      ]
     },
     "execution_count": 6,
     "metadata": {},
     "output_type": "execute_result"
    }
   ],
   "source": [
    "X[0], y[0]"
   ]
  },
  {
   "cell_type": "code",
   "execution_count": 7,
   "id": "8049c90c-1adb-4447-abe9-47c64ce77777",
   "metadata": {},
   "outputs": [
    {
     "data": {
      "text/plain": [
       "0"
      ]
     },
     "execution_count": 7,
     "metadata": {},
     "output_type": "execute_result"
    }
   ],
   "source": [
    "X[0].ndim"
   ]
  },
  {
   "cell_type": "code",
   "execution_count": 8,
   "id": "080b458e-2177-4536-b6ce-b6f79ae77bfa",
   "metadata": {},
   "outputs": [
    {
     "data": {
      "text/plain": [
       "(<tf.Tensor: shape=(8,), dtype=float32, numpy=array([-7., -4., -1.,  2.,  5.,  8., 11., 14.], dtype=float32)>,\n",
       " <tf.Tensor: shape=(8,), dtype=float32, numpy=array([ 3.,  6.,  9., 12., 15., 18., 21., 24.], dtype=float32)>)"
      ]
     },
     "execution_count": 8,
     "metadata": {},
     "output_type": "execute_result"
    }
   ],
   "source": [
    "#Turn our Numpy arrays into Tensors\n",
    "\n",
    "x = tf.cast(tf.constant(X), dtype=tf.float32)\n",
    "y = tf.cast(tf.constant(y), dtype=tf.float32)\n",
    "x, y"
   ]
  },
  {
   "cell_type": "code",
   "execution_count": 9,
   "id": "7d3e4a87-e7fd-449e-8554-0f1d8b3c9a93",
   "metadata": {},
   "outputs": [
    {
     "data": {
      "text/plain": [
       "(TensorShape([]), TensorShape([]))"
      ]
     },
     "execution_count": 9,
     "metadata": {},
     "output_type": "execute_result"
    }
   ],
   "source": [
    "input_shape = x[0].shape\n",
    "output_shape = y[0].shape\n",
    "input_shape, output_shape"
   ]
  },
  {
   "cell_type": "code",
   "execution_count": 10,
   "id": "b4cc478d-0933-448a-8b0a-adae9ba604e1",
   "metadata": {},
   "outputs": [
    {
     "data": {
      "text/plain": [
       "<matplotlib.collections.PathCollection at 0x7ff9b05bae50>"
      ]
     },
     "execution_count": 10,
     "metadata": {},
     "output_type": "execute_result"
    },
    {
     "data": {
      "image/png": "[encoded data removed]",
      "text/plain": [
       "<Figure size 640x480 with 1 Axes>"
      ]
     },
     "metadata": {},
     "output_type": "display_data"
    }
   ],
   "source": [
    "plt.scatter(x, y)"
   ]
  },
  {
   "cell_type": "code",
   "execution_count": 11,
   "id": "0122d4f1-6666-406f-96a0-ce1d8f280063",
   "metadata": {},
   "outputs": [
    {
     "name": "stdout",
     "output_type": "stream",
     "text": [
      "Epoch 1/50\n",
      "1/1 [==============================] - 0s 412ms/step - loss: 11.0814 - mae: 11.0814\n",
      "Epoch 2/50\n",
      "1/1 [==============================] - 0s 3ms/step - loss: 10.9489 - mae: 10.9489\n",
      "Epoch 3/50\n",
      "1/1 [==============================] - 0s 3ms/step - loss: 10.8164 - mae: 10.8164\n",
      "Epoch 4/50\n",
      "1/1 [==============================] - 0s 3ms/step - loss: 10.6839 - mae: 10.6839\n",
      "Epoch 5/50\n",
      "1/1 [==============================] - 0s 3ms/step - loss: 10.5514 - mae: 10.5514\n",
      "Epoch 6/50\n",
      "1/1 [==============================] - 0s 3ms/step - loss: 10.4189 - mae: 10.4189\n",
      "Epoch 7/50\n",
      "1/1 [==============================] - 0s 3ms/step - loss: 10.2864 - mae: 10.2864\n",
      "Epoch 8/50\n",
      "1/1 [==============================] - 0s 3ms/step - loss: 10.1539 - mae: 10.1539\n",
      "Epoch 9/50\n",
      "1/1 [==============================] - 0s 3ms/step - loss: 10.0214 - mae: 10.0214\n",
      "Epoch 10/50\n",
      "1/1 [==============================] - 0s 3ms/step - loss: 9.8889 - mae: 9.8889\n",
      "Epoch 11/50\n",
      "1/1 [==============================] - 0s 3ms/step - loss: 9.7564 - mae: 9.7564\n",
      "Epoch 12/50\n",
      "1/1 [==============================] - 0s 4ms/step - loss: 9.6239 - mae: 9.6239\n",
      "Epoch 13/50\n",
      "1/1 [==============================] - 0s 3ms/step - loss: 9.4914 - mae: 9.4914\n",
      "Epoch 14/50\n",
      "1/1 [==============================] - 0s 3ms/step - loss: 9.3589 - mae: 9.3589\n",
      "Epoch 15/50\n",
      "1/1 [==============================] - 0s 3ms/step - loss: 9.2264 - mae: 9.2264\n",
      "Epoch 16/50\n",
      "1/1 [==============================] - 0s 4ms/step - loss: 9.0939 - mae: 9.0939\n",
      "Epoch 17/50\n",
      "1/1 [==============================] - 0s 3ms/step - loss: 8.9614 - mae: 8.9614\n",
      "Epoch 18/50\n",
      "1/1 [==============================] - 0s 4ms/step - loss: 8.8289 - mae: 8.8289\n",
      "Epoch 19/50\n",
      "1/1 [==============================] - 0s 5ms/step - loss: 8.6964 - mae: 8.6964\n",
      "Epoch 20/50\n",
      "1/1 [==============================] - 0s 3ms/step - loss: 8.5639 - mae: 8.5639\n",
      "Epoch 21/50\n",
      "1/1 [==============================] - 0s 3ms/step - loss: 8.4314 - mae: 8.4314\n",
      "Epoch 22/50\n",
      "1/1 [==============================] - 0s 3ms/step - loss: 8.2989 - mae: 8.2989\n",
      "Epoch 23/50\n",
      "1/1 [==============================] - 0s 4ms/step - loss: 8.1664 - mae: 8.1664\n",
      "Epoch 24/50\n",
      "1/1 [==============================] - 0s 3ms/step - loss: 8.0339 - mae: 8.0339\n",
      "Epoch 25/50\n",
      "1/1 [==============================] - 0s 3ms/step - loss: 7.9014 - mae: 7.9014\n",
      "Epoch 26/50\n",
      "1/1 [==============================] - 0s 3ms/step - loss: 7.7689 - mae: 7.7689\n",
      "Epoch 27/50\n",
      "1/1 [==============================] - 0s 5ms/step - loss: 7.6364 - mae: 7.6364\n",
      "Epoch 28/50\n",
      "1/1 [==============================] - 0s 3ms/step - loss: 7.5039 - mae: 7.5039\n",
      "Epoch 29/50\n",
      "1/1 [==============================] - 0s 3ms/step - loss: 7.3714 - mae: 7.3714\n",
      "Epoch 30/50\n",
      "1/1 [==============================] - 0s 4ms/step - loss: 7.2825 - mae: 7.2825\n",
      "Epoch 31/50\n",
      "1/1 [==============================] - 0s 4ms/step - loss: 7.2769 - mae: 7.2769\n",
      "Epoch 32/50\n",
      "1/1 [==============================] - 0s 3ms/step - loss: 7.2712 - mae: 7.2712\n",
      "Epoch 33/50\n",
      "1/1 [==============================] - 0s 4ms/step - loss: 7.2656 - mae: 7.2656\n"
     ]
    },
    {
     "name": "stderr",
     "output_type": "stream",
     "text": [
      "2024-02-09 09:52:39.814274: I external/local_xla/xla/service/service.cc:168] XLA service 0x7ff92941c650 initialized for platform CUDA (this does not guarantee that XLA will be used). Devices:\n",
      "2024-02-09 09:52:39.814302: I external/local_xla/xla/service/service.cc:176]   StreamExecutor device (0): NVIDIA GeForce RTX 2060 SUPER, Compute Capability 7.5\n",
      "2024-02-09 09:52:39.821265: I external/local_xla/xla/stream_executor/cuda/cuda_dnn.cc:454] Loaded cuDNN version 8906\n",
      "WARNING: All log messages before absl::InitializeLog() is called are written to STDERR\n",
      "I0000 00:00:1707472359.847167      87 device_compiler.h:186] Compiled cluster using XLA!  This line is logged at most once for the lifetime of the process.\n"
     ]
    },
    {
     "name": "stdout",
     "output_type": "stream",
     "text": [
      "Epoch 34/50\n",
      "1/1 [==============================] - 0s 5ms/step - loss: 7.2600 - mae: 7.2600\n",
      "Epoch 35/50\n",
      "1/1 [==============================] - 0s 3ms/step - loss: 7.2544 - mae: 7.2544\n",
      "Epoch 36/50\n",
      "1/1 [==============================] - 0s 3ms/step - loss: 7.2488 - mae: 7.2488\n",
      "Epoch 37/50\n",
      "1/1 [==============================] - 0s 4ms/step - loss: 7.2431 - mae: 7.2431\n",
      "Epoch 38/50\n",
      "1/1 [==============================] - 0s 3ms/step - loss: 7.2375 - mae: 7.2375\n",
      "Epoch 39/50\n",
      "1/1 [==============================] - 0s 3ms/step - loss: 7.2319 - mae: 7.2319\n",
      "Epoch 40/50\n",
      "1/1 [==============================] - 0s 3ms/step - loss: 7.2262 - mae: 7.2262\n",
      "Epoch 41/50\n",
      "1/1 [==============================] - 0s 4ms/step - loss: 7.2206 - mae: 7.2206\n",
      "Epoch 42/50\n",
      "1/1 [==============================] - 0s 3ms/step - loss: 7.2150 - mae: 7.2150\n",
      "Epoch 43/50\n",
      "1/1 [==============================] - 0s 3ms/step - loss: 7.2094 - mae: 7.2094\n",
      "Epoch 44/50\n",
      "1/1 [==============================] - 0s 3ms/step - loss: 7.2038 - mae: 7.2038\n",
      "Epoch 45/50\n",
      "1/1 [==============================] - 0s 3ms/step - loss: 7.1981 - mae: 7.1981\n",
      "Epoch 46/50\n",
      "1/1 [==============================] - 0s 3ms/step - loss: 7.1925 - mae: 7.1925\n",
      "Epoch 47/50\n",
      "1/1 [==============================] - 0s 3ms/step - loss: 7.1869 - mae: 7.1869\n",
      "Epoch 48/50\n",
      "1/1 [==============================] - 0s 3ms/step - loss: 7.1812 - mae: 7.1812\n",
      "Epoch 49/50\n",
      "1/1 [==============================] - 0s 3ms/step - loss: 7.1756 - mae: 7.1756\n",
      "Epoch 50/50\n",
      "1/1 [==============================] - 0s 4ms/step - loss: 7.1700 - mae: 7.1700\n"
     ]
    },
    {
     "data": {
      "text/plain": [
       "<keras.src.callbacks.History at 0x7ff9b0345d90>"
      ]
     },
     "execution_count": 11,
     "metadata": {},
     "output_type": "execute_result"
    }
   ],
   "source": [
    "# Set seed\n",
    "tf.random.set_seed(42)\n",
    "\n",
    "#Sequential API\n",
    "model = tf.keras.Sequential([\n",
    "    tf.keras.layers.Dense(1)\n",
    "    # tf.keras.layers.Dense(1)\n",
    "])\n",
    "\n",
    "#mae - Mean Absolute Error\n",
    "model.compile(loss = tf.keras.losses.mae, \n",
    "              optimizer= tf.keras.optimizers.SGD(),\n",
    "              metrics=[\"mae\"])\n",
    "\n",
    "model.fit(tf.expand_dims(X, axis=-1), y, epochs=50)\n"
   ]
  },
  {
   "cell_type": "code",
   "execution_count": 12,
   "id": "b39621d7-7e7b-4fba-8518-a51ec6dbd129",
   "metadata": {},
   "outputs": [
    {
     "data": {
      "text/plain": [
       "(<tf.Tensor: shape=(8,), dtype=float32, numpy=array([-7., -4., -1.,  2.,  5.,  8., 11., 14.], dtype=float32)>,\n",
       " <tf.Tensor: shape=(8,), dtype=float32, numpy=array([ 3.,  6.,  9., 12., 15., 18., 21., 24.], dtype=float32)>)"
      ]
     },
     "execution_count": 12,
     "metadata": {},
     "output_type": "execute_result"
    }
   ],
   "source": [
    "x, y"
   ]
  },
  {
   "cell_type": "code",
   "execution_count": 13,
   "id": "d81d5e1c-50bd-46f9-9b07-9e50fae8cb34",
   "metadata": {},
   "outputs": [
    {
     "name": "stdout",
     "output_type": "stream",
     "text": [
      "1/1 [==============================] - 0s 47ms/step\n"
     ]
    },
    {
     "data": {
      "text/plain": [
       "array([[29.450117]], dtype=float32)"
      ]
     },
     "execution_count": 13,
     "metadata": {},
     "output_type": "execute_result"
    }
   ],
   "source": [
    "model.predict([17.0])"
   ]
  },
  {
   "cell_type": "code",
   "execution_count": 14,
   "id": "2643b443-7d89-4aec-a5cb-635d73657432",
   "metadata": {},
   "outputs": [
    {
     "name": "stdout",
     "output_type": "stream",
     "text": [
      "1/1 [==============================] - 0s 21ms/step\n"
     ]
    },
    {
     "data": {
      "text/plain": [
       "array([[24.332008]], dtype=float32)"
      ]
     },
     "execution_count": 14,
     "metadata": {},
     "output_type": "execute_result"
    }
   ],
   "source": [
    "y_pred = model.predict([14.0])\n",
    "y_pred"
   ]
  },
  {
   "cell_type": "markdown",
   "id": "a9ea6798-4a20-4398-a30b-c83c6862de4d",
   "metadata": {},
   "source": [
    "# Improving our Model"
   ]
  },
  {
   "cell_type": "code",
   "execution_count": 15,
   "id": "3b04d010-0fa0-4d87-9926-9f731f57e83a",
   "metadata": {},
   "outputs": [
    {
     "name": "stdout",
     "output_type": "stream",
     "text": [
      "Epoch 1/100\n",
      "1/1 [==============================] - 0s 200ms/step - loss: 16.1736 - mae: 16.1736\n",
      "Epoch 2/100\n",
      "1/1 [==============================] - 0s 4ms/step - loss: 15.8923 - mae: 15.8923\n",
      "Epoch 3/100\n",
      "1/1 [==============================] - 0s 3ms/step - loss: 15.6111 - mae: 15.6111\n",
      "Epoch 4/100\n",
      "1/1 [==============================] - 0s 5ms/step - loss: 15.3298 - mae: 15.3298\n",
      "Epoch 5/100\n",
      "1/1 [==============================] - 0s 4ms/step - loss: 15.0486 - mae: 15.0486\n",
      "Epoch 6/100\n",
      "1/1 [==============================] - 0s 4ms/step - loss: 14.8261 - mae: 14.8261\n",
      "Epoch 7/100\n",
      "1/1 [==============================] - 0s 4ms/step - loss: 14.6936 - mae: 14.6936\n",
      "Epoch 8/100\n",
      "1/1 [==============================] - 0s 3ms/step - loss: 14.5611 - mae: 14.5611\n",
      "Epoch 9/100\n",
      "1/1 [==============================] - 0s 3ms/step - loss: 14.4286 - mae: 14.4286\n",
      "Epoch 10/100\n",
      "1/1 [==============================] - 0s 3ms/step - loss: 14.2961 - mae: 14.2961\n",
      "Epoch 11/100\n",
      "1/1 [==============================] - 0s 4ms/step - loss: 14.1636 - mae: 14.1636\n",
      "Epoch 12/100\n",
      "1/1 [==============================] - 0s 4ms/step - loss: 14.0311 - mae: 14.0311\n",
      "Epoch 13/100\n",
      "1/1 [==============================] - 0s 4ms/step - loss: 13.8986 - mae: 13.8986\n",
      "Epoch 14/100\n",
      "1/1 [==============================] - 0s 4ms/step - loss: 13.7661 - mae: 13.7661\n",
      "Epoch 15/100\n",
      "1/1 [==============================] - 0s 3ms/step - loss: 13.6336 - mae: 13.6336\n",
      "Epoch 16/100\n",
      "1/1 [==============================] - 0s 3ms/step - loss: 13.5011 - mae: 13.5011\n",
      "Epoch 17/100\n",
      "1/1 [==============================] - 0s 4ms/step - loss: 13.3686 - mae: 13.3686\n",
      "Epoch 18/100\n",
      "1/1 [==============================] - 0s 4ms/step - loss: 13.2361 - mae: 13.2361\n",
      "Epoch 19/100\n",
      "1/1 [==============================] - 0s 4ms/step - loss: 13.1036 - mae: 13.1036\n",
      "Epoch 20/100\n",
      "1/1 [==============================] - 0s 3ms/step - loss: 12.9711 - mae: 12.9711\n",
      "Epoch 21/100\n",
      "1/1 [==============================] - 0s 3ms/step - loss: 12.8386 - mae: 12.8386\n",
      "Epoch 22/100\n",
      "1/1 [==============================] - 0s 3ms/step - loss: 12.7062 - mae: 12.7062\n",
      "Epoch 23/100\n",
      "1/1 [==============================] - 0s 4ms/step - loss: 12.5736 - mae: 12.5736\n",
      "Epoch 24/100\n",
      "1/1 [==============================] - 0s 3ms/step - loss: 12.4411 - mae: 12.4411\n",
      "Epoch 25/100\n",
      "1/1 [==============================] - 0s 3ms/step - loss: 12.3086 - mae: 12.3086\n",
      "Epoch 26/100\n",
      "1/1 [==============================] - 0s 3ms/step - loss: 12.1761 - mae: 12.1761\n",
      "Epoch 27/100\n",
      "1/1 [==============================] - 0s 3ms/step - loss: 12.0436 - mae: 12.0436\n",
      "Epoch 28/100\n",
      "1/1 [==============================] - 0s 4ms/step - loss: 11.9111 - mae: 11.9111\n",
      "Epoch 29/100\n",
      "1/1 [==============================] - 0s 3ms/step - loss: 11.7786 - mae: 11.7786\n",
      "Epoch 30/100\n",
      "1/1 [==============================] - 0s 3ms/step - loss: 11.6461 - mae: 11.6461\n",
      "Epoch 31/100\n",
      "1/1 [==============================] - 0s 4ms/step - loss: 11.5136 - mae: 11.5136\n",
      "Epoch 32/100\n",
      "1/1 [==============================] - 0s 3ms/step - loss: 11.3811 - mae: 11.3811\n",
      "Epoch 33/100\n",
      "1/1 [==============================] - 0s 3ms/step - loss: 11.2486 - mae: 11.2486\n",
      "Epoch 34/100\n",
      "1/1 [==============================] - 0s 3ms/step - loss: 11.1161 - mae: 11.1161\n",
      "Epoch 35/100\n",
      "1/1 [==============================] - 0s 4ms/step - loss: 10.9836 - mae: 10.9836\n",
      "Epoch 36/100\n",
      "1/1 [==============================] - 0s 4ms/step - loss: 10.8511 - mae: 10.8511\n",
      "Epoch 37/100\n",
      "1/1 [==============================] - 0s 4ms/step - loss: 10.7186 - mae: 10.7186\n",
      "Epoch 38/100\n",
      "1/1 [==============================] - 0s 5ms/step - loss: 10.5861 - mae: 10.5861\n",
      "Epoch 39/100\n",
      "1/1 [==============================] - 0s 3ms/step - loss: 10.4536 - mae: 10.4536\n",
      "Epoch 40/100\n",
      "1/1 [==============================] - 0s 3ms/step - loss: 10.3211 - mae: 10.3211\n",
      "Epoch 41/100\n",
      "1/1 [==============================] - 0s 3ms/step - loss: 10.1886 - mae: 10.1886\n",
      "Epoch 42/100\n",
      "1/1 [==============================] - 0s 4ms/step - loss: 10.0561 - mae: 10.0561\n",
      "Epoch 43/100\n",
      "1/1 [==============================] - 0s 5ms/step - loss: 9.9236 - mae: 9.9236\n",
      "Epoch 44/100\n",
      "1/1 [==============================] - 0s 5ms/step - loss: 9.7911 - mae: 9.7911\n",
      "Epoch 45/100\n",
      "1/1 [==============================] - 0s 4ms/step - loss: 9.6586 - mae: 9.6586\n",
      "Epoch 46/100\n",
      "1/1 [==============================] - 0s 3ms/step - loss: 9.5261 - mae: 9.5261\n",
      "Epoch 47/100\n",
      "1/1 [==============================] - 0s 3ms/step - loss: 9.3936 - mae: 9.3936\n",
      "Epoch 48/100\n",
      "1/1 [==============================] - 0s 3ms/step - loss: 9.2611 - mae: 9.2611\n",
      "Epoch 49/100\n",
      "1/1 [==============================] - 0s 3ms/step - loss: 9.1286 - mae: 9.1286\n",
      "Epoch 50/100\n",
      "1/1 [==============================] - 0s 3ms/step - loss: 8.9961 - mae: 8.9961\n",
      "Epoch 51/100\n",
      "1/1 [==============================] - 0s 3ms/step - loss: 8.8636 - mae: 8.8636\n",
      "Epoch 52/100\n",
      "1/1 [==============================] - 0s 3ms/step - loss: 8.7311 - mae: 8.7311\n",
      "Epoch 53/100\n",
      "1/1 [==============================] - 0s 3ms/step - loss: 8.5986 - mae: 8.5986\n",
      "Epoch 54/100\n",
      "1/1 [==============================] - 0s 3ms/step - loss: 8.4661 - mae: 8.4661\n",
      "Epoch 55/100\n",
      "1/1 [==============================] - 0s 3ms/step - loss: 8.3336 - mae: 8.3336\n",
      "Epoch 56/100\n",
      "1/1 [==============================] - 0s 4ms/step - loss: 8.2011 - mae: 8.2011\n",
      "Epoch 57/100\n",
      "1/1 [==============================] - 0s 3ms/step - loss: 8.0686 - mae: 8.0686\n",
      "Epoch 58/100\n",
      "1/1 [==============================] - 0s 4ms/step - loss: 7.9361 - mae: 7.9361\n",
      "Epoch 59/100\n",
      "1/1 [==============================] - 0s 4ms/step - loss: 7.8036 - mae: 7.8036\n",
      "Epoch 60/100\n",
      "1/1 [==============================] - 0s 3ms/step - loss: 7.6712 - mae: 7.6712\n",
      "Epoch 61/100\n",
      "1/1 [==============================] - 0s 3ms/step - loss: 7.5386 - mae: 7.5386\n",
      "Epoch 62/100\n",
      "1/1 [==============================] - 0s 3ms/step - loss: 7.4061 - mae: 7.4061\n",
      "Epoch 63/100\n",
      "1/1 [==============================] - 0s 3ms/step - loss: 7.2736 - mae: 7.2736\n",
      "Epoch 64/100\n",
      "1/1 [==============================] - 0s 3ms/step - loss: 7.1411 - mae: 7.1411\n",
      "Epoch 65/100\n",
      "1/1 [==============================] - 0s 3ms/step - loss: 7.0294 - mae: 7.0294\n",
      "Epoch 66/100\n",
      "1/1 [==============================] - 0s 3ms/step - loss: 7.0238 - mae: 7.0238\n",
      "Epoch 67/100\n",
      "1/1 [==============================] - 0s 3ms/step - loss: 7.0181 - mae: 7.0181\n",
      "Epoch 68/100\n",
      "1/1 [==============================] - 0s 3ms/step - loss: 7.0125 - mae: 7.0125\n",
      "Epoch 69/100\n",
      "1/1 [==============================] - 0s 3ms/step - loss: 7.0069 - mae: 7.0069\n",
      "Epoch 70/100\n",
      "1/1 [==============================] - 0s 3ms/step - loss: 7.0013 - mae: 7.0013\n",
      "Epoch 71/100\n",
      "1/1 [==============================] - 0s 3ms/step - loss: 6.9956 - mae: 6.9956\n",
      "Epoch 72/100\n",
      "1/1 [==============================] - 0s 4ms/step - loss: 6.9900 - mae: 6.9900\n",
      "Epoch 73/100\n",
      "1/1 [==============================] - 0s 4ms/step - loss: 6.9844 - mae: 6.9844\n",
      "Epoch 74/100\n",
      "1/1 [==============================] - 0s 3ms/step - loss: 6.9788 - mae: 6.9788\n",
      "Epoch 75/100\n",
      "1/1 [==============================] - 0s 4ms/step - loss: 6.9731 - mae: 6.9731\n",
      "Epoch 76/100\n",
      "1/1 [==============================] - 0s 4ms/step - loss: 6.9675 - mae: 6.9675\n",
      "Epoch 77/100\n",
      "1/1 [==============================] - 0s 3ms/step - loss: 6.9619 - mae: 6.9619\n",
      "Epoch 78/100\n",
      "1/1 [==============================] - 0s 3ms/step - loss: 6.9563 - mae: 6.9563\n",
      "Epoch 79/100\n",
      "1/1 [==============================] - 0s 3ms/step - loss: 6.9506 - mae: 6.9506\n",
      "Epoch 80/100\n",
      "1/1 [==============================] - 0s 3ms/step - loss: 6.9450 - mae: 6.9450\n",
      "Epoch 81/100\n",
      "1/1 [==============================] - 0s 3ms/step - loss: 6.9394 - mae: 6.9394\n",
      "Epoch 82/100\n",
      "1/1 [==============================] - 0s 4ms/step - loss: 6.9338 - mae: 6.9338\n",
      "Epoch 83/100\n",
      "1/1 [==============================] - 0s 3ms/step - loss: 6.9281 - mae: 6.9281\n",
      "Epoch 84/100\n",
      "1/1 [==============================] - 0s 4ms/step - loss: 6.9225 - mae: 6.9225\n",
      "Epoch 85/100\n",
      "1/1 [==============================] - 0s 4ms/step - loss: 6.9169 - mae: 6.9169\n",
      "Epoch 86/100\n",
      "1/1 [==============================] - 0s 3ms/step - loss: 6.9113 - mae: 6.9113\n",
      "Epoch 87/100\n",
      "1/1 [==============================] - 0s 3ms/step - loss: 6.9056 - mae: 6.9056\n",
      "Epoch 88/100\n",
      "1/1 [==============================] - 0s 3ms/step - loss: 6.9000 - mae: 6.9000\n",
      "Epoch 89/100\n",
      "1/1 [==============================] - 0s 3ms/step - loss: 6.8944 - mae: 6.8944\n",
      "Epoch 90/100\n",
      "1/1 [==============================] - 0s 3ms/step - loss: 6.8888 - mae: 6.8888\n",
      "Epoch 91/100\n",
      "1/1 [==============================] - 0s 3ms/step - loss: 6.8831 - mae: 6.8831\n",
      "Epoch 92/100\n",
      "1/1 [==============================] - 0s 3ms/step - loss: 6.8775 - mae: 6.8775\n",
      "Epoch 93/100\n",
      "1/1 [==============================] - 0s 3ms/step - loss: 6.8719 - mae: 6.8719\n",
      "Epoch 94/100\n",
      "1/1 [==============================] - 0s 3ms/step - loss: 6.8663 - mae: 6.8663\n",
      "Epoch 95/100\n",
      "1/1 [==============================] - 0s 3ms/step - loss: 6.8606 - mae: 6.8606\n",
      "Epoch 96/100\n",
      "1/1 [==============================] - 0s 3ms/step - loss: 6.8550 - mae: 6.8550\n",
      "Epoch 97/100\n",
      "1/1 [==============================] - 0s 3ms/step - loss: 6.8494 - mae: 6.8494\n",
      "Epoch 98/100\n",
      "1/1 [==============================] - 0s 3ms/step - loss: 6.8438 - mae: 6.8438\n",
      "Epoch 99/100\n",
      "1/1 [==============================] - 0s 3ms/step - loss: 6.8381 - mae: 6.8381\n",
      "Epoch 100/100\n",
      "1/1 [==============================] - 0s 3ms/step - loss: 6.8325 - mae: 6.8325\n"
     ]
    },
    {
     "data": {
      "text/plain": [
       "<keras.src.callbacks.History at 0x7ff9b014f890>"
      ]
     },
     "execution_count": 15,
     "metadata": {},
     "output_type": "execute_result"
    }
   ],
   "source": [
    "model = tf.keras.Sequential([\n",
    "    tf.keras.layers.Dense(1)\n",
    "])\n",
    "\n",
    "model.compile(loss=tf.keras.losses.mae,\n",
    "             optimizer=tf.keras.optimizers.SGD(),\n",
    "             metrics=[\"mae\"])\n",
    "\n",
    "model.fit(tf.expand_dims(X, axis=-1), y, epochs=100)"
   ]
  },
  {
   "cell_type": "code",
   "execution_count": 16,
   "id": "3e49347e",
   "metadata": {},
   "outputs": [
    {
     "data": {
      "text/plain": [
       "array([-7., -4., -1.,  2.,  5.,  8., 11., 14.])"
      ]
     },
     "execution_count": 16,
     "metadata": {},
     "output_type": "execute_result"
    }
   ],
   "source": [
    "X"
   ]
  },
  {
   "cell_type": "code",
   "execution_count": 17,
   "id": "cd5161d3",
   "metadata": {},
   "outputs": [
    {
     "data": {
      "text/plain": [
       "<tf.Tensor: shape=(8,), dtype=float32, numpy=array([ 3.,  6.,  9., 12., 15., 18., 21., 24.], dtype=float32)>"
      ]
     },
     "execution_count": 17,
     "metadata": {},
     "output_type": "execute_result"
    }
   ],
   "source": [
    "y\n"
   ]
  },
  {
   "cell_type": "code",
   "execution_count": 18,
   "id": "210b66c6",
   "metadata": {},
   "outputs": [
    {
     "name": "stdout",
     "output_type": "stream",
     "text": [
      "1/1 [==============================] - 0s 46ms/step\n"
     ]
    },
    {
     "data": {
      "text/plain": [
       "array([[29.379057]], dtype=float32)"
      ]
     },
     "execution_count": 18,
     "metadata": {},
     "output_type": "execute_result"
    }
   ],
   "source": [
    "model.predict([17.0])"
   ]
  },
  {
   "cell_type": "code",
   "execution_count": 19,
   "id": "fe63f484",
   "metadata": {},
   "outputs": [
    {
     "name": "stdout",
     "output_type": "stream",
     "text": [
      "Epoch 1/50\n",
      "1/1 [==============================] - 0s 460ms/step - loss: 13.4780 - mae: 13.4780\n",
      "Epoch 2/50\n"
     ]
    },
    {
     "name": "stderr",
     "output_type": "stream",
     "text": [
      "2024-02-09 10:35:46.282730: I tensorflow/compiler/mlir/tensorflow/utils/dump_mlir_util.cc:269] disabling MLIR crash reproducer, set env var `MLIR_CRASH_REPRODUCER_DIRECTORY` to enable.\n"
     ]
    },
    {
     "name": "stdout",
     "output_type": "stream",
     "text": [
      "1/1 [==============================] - 0s 6ms/step - loss: 12.4508 - mae: 12.4508\n",
      "Epoch 3/50\n",
      "1/1 [==============================] - 0s 4ms/step - loss: 11.4229 - mae: 11.4229\n",
      "Epoch 4/50\n",
      "1/1 [==============================] - 0s 4ms/step - loss: 10.3910 - mae: 10.3910\n",
      "Epoch 5/50\n",
      "1/1 [==============================] - 0s 4ms/step - loss: 9.3503 - mae: 9.3503\n",
      "Epoch 6/50\n",
      "1/1 [==============================] - 0s 4ms/step - loss: 8.2945 - mae: 8.2945\n",
      "Epoch 7/50\n",
      "1/1 [==============================] - 0s 4ms/step - loss: 7.2170 - mae: 7.2170\n",
      "Epoch 8/50\n",
      "1/1 [==============================] - 0s 6ms/step - loss: 6.7182 - mae: 6.7182\n",
      "Epoch 9/50\n",
      "1/1 [==============================] - 0s 4ms/step - loss: 7.3009 - mae: 7.3009\n",
      "Epoch 10/50\n",
      "1/1 [==============================] - 0s 4ms/step - loss: 7.9513 - mae: 7.9513\n",
      "Epoch 11/50\n",
      "1/1 [==============================] - 0s 3ms/step - loss: 8.1916 - mae: 8.1916\n",
      "Epoch 12/50\n",
      "1/1 [==============================] - 0s 4ms/step - loss: 8.0955 - mae: 8.0955\n",
      "Epoch 13/50\n",
      "1/1 [==============================] - 0s 5ms/step - loss: 7.7627 - mae: 7.7627\n",
      "Epoch 14/50\n",
      "1/1 [==============================] - 0s 4ms/step - loss: 7.2618 - mae: 7.2618\n",
      "Epoch 15/50\n",
      "1/1 [==============================] - 0s 4ms/step - loss: 6.7247 - mae: 6.7247\n",
      "Epoch 16/50\n",
      "1/1 [==============================] - 0s 5ms/step - loss: 6.3248 - mae: 6.3248\n",
      "Epoch 17/50\n",
      "1/1 [==============================] - 0s 4ms/step - loss: 5.9748 - mae: 5.9748\n",
      "Epoch 18/50\n",
      "1/1 [==============================] - 0s 4ms/step - loss: 5.9164 - mae: 5.9164\n",
      "Epoch 19/50\n",
      "1/1 [==============================] - 0s 4ms/step - loss: 6.1207 - mae: 6.1207\n",
      "Epoch 20/50\n",
      "1/1 [==============================] - 0s 4ms/step - loss: 6.2282 - mae: 6.2282\n",
      "Epoch 21/50\n",
      "1/1 [==============================] - 0s 4ms/step - loss: 6.1946 - mae: 6.1946\n",
      "Epoch 22/50\n",
      "1/1 [==============================] - 0s 4ms/step - loss: 6.0387 - mae: 6.0387\n",
      "Epoch 23/50\n",
      "1/1 [==============================] - 0s 4ms/step - loss: 5.7735 - mae: 5.7735\n",
      "Epoch 24/50\n",
      "1/1 [==============================] - 0s 3ms/step - loss: 5.4080 - mae: 5.4080\n",
      "Epoch 25/50\n",
      "1/1 [==============================] - 0s 4ms/step - loss: 5.1300 - mae: 5.1300\n",
      "Epoch 26/50\n",
      "1/1 [==============================] - 0s 4ms/step - loss: 4.9850 - mae: 4.9850\n",
      "Epoch 27/50\n",
      "1/1 [==============================] - 0s 4ms/step - loss: 4.9979 - mae: 4.9979\n",
      "Epoch 28/50\n",
      "1/1 [==============================] - 0s 4ms/step - loss: 4.9493 - mae: 4.9493\n",
      "Epoch 29/50\n",
      "1/1 [==============================] - 0s 4ms/step - loss: 4.8430 - mae: 4.8430\n",
      "Epoch 30/50\n",
      "1/1 [==============================] - 0s 3ms/step - loss: 4.6827 - mae: 4.6827\n",
      "Epoch 31/50\n",
      "1/1 [==============================] - 0s 4ms/step - loss: 4.4718 - mae: 4.4718\n",
      "Epoch 32/50\n",
      "1/1 [==============================] - 0s 3ms/step - loss: 4.2133 - mae: 4.2133\n",
      "Epoch 33/50\n",
      "1/1 [==============================] - 0s 4ms/step - loss: 3.9156 - mae: 3.9156\n",
      "Epoch 34/50\n",
      "1/1 [==============================] - 0s 3ms/step - loss: 3.7566 - mae: 3.7566\n",
      "Epoch 35/50\n",
      "1/1 [==============================] - 0s 4ms/step - loss: 3.5827 - mae: 3.5827\n",
      "Epoch 36/50\n",
      "1/1 [==============================] - 0s 4ms/step - loss: 3.5200 - mae: 3.5200\n",
      "Epoch 37/50\n",
      "1/1 [==============================] - 0s 4ms/step - loss: 3.2891 - mae: 3.2891\n",
      "Epoch 38/50\n",
      "1/1 [==============================] - 0s 4ms/step - loss: 2.9284 - mae: 2.9284\n",
      "Epoch 39/50\n",
      "1/1 [==============================] - 0s 5ms/step - loss: 2.6665 - mae: 2.6665\n",
      "Epoch 40/50\n",
      "1/1 [==============================] - 0s 4ms/step - loss: 2.4933 - mae: 2.4933\n",
      "Epoch 41/50\n",
      "1/1 [==============================] - 0s 4ms/step - loss: 2.2790 - mae: 2.2790\n",
      "Epoch 42/50\n",
      "1/1 [==============================] - 0s 5ms/step - loss: 1.9828 - mae: 1.9828\n",
      "Epoch 43/50\n",
      "1/1 [==============================] - 0s 4ms/step - loss: 1.6066 - mae: 1.6066\n",
      "Epoch 44/50\n",
      "1/1 [==============================] - 0s 4ms/step - loss: 1.2892 - mae: 1.2892\n",
      "Epoch 45/50\n",
      "1/1 [==============================] - 0s 5ms/step - loss: 1.0080 - mae: 1.0080\n",
      "Epoch 46/50\n",
      "1/1 [==============================] - 0s 4ms/step - loss: 0.5874 - mae: 0.5874\n",
      "Epoch 47/50\n",
      "1/1 [==============================] - 0s 4ms/step - loss: 0.2767 - mae: 0.2767\n",
      "Epoch 48/50\n",
      "1/1 [==============================] - 0s 4ms/step - loss: 0.2766 - mae: 0.2766\n",
      "Epoch 49/50\n",
      "1/1 [==============================] - 0s 4ms/step - loss: 0.4734 - mae: 0.4734\n",
      "Epoch 50/50\n",
      "1/1 [==============================] - 0s 4ms/step - loss: 0.7786 - mae: 0.7786\n"
     ]
    },
    {
     "data": {
      "text/plain": [
       "<keras.src.callbacks.History at 0x7ff995125250>"
      ]
     },
     "execution_count": 19,
     "metadata": {},
     "output_type": "execute_result"
    }
   ],
   "source": [
    "model = tf.keras.Sequential([\n",
    "    tf.keras.layers.Dense(100, activation=None),\n",
    "    #tf.keras.layers.Dense(50, activation=\"relu\"),\n",
    "    tf.keras.layers.Dense(1)\n",
    "])\n",
    "\n",
    "model.compile(loss=\"mae\",\n",
    "             optimizer=tf.keras.optimizers.Adam(learning_rate=0.01),\n",
    "             metrics=[\"mae\"])\n",
    "\n",
    "model.fit(tf.expand_dims(X, axis=-1), y, epochs=50)"
   ]
  },
  {
   "cell_type": "code",
   "execution_count": 20,
   "id": "81046dde",
   "metadata": {},
   "outputs": [
    {
     "name": "stdout",
     "output_type": "stream",
     "text": [
      "1/1 [==============================] - 0s 38ms/step\n"
     ]
    },
    {
     "data": {
      "text/plain": [
       "array([[26.460878]], dtype=float32)"
      ]
     },
     "execution_count": 20,
     "metadata": {},
     "output_type": "execute_result"
    }
   ],
   "source": [
    "model.predict([17.0])"
   ]
  },
  {
   "cell_type": "markdown",
   "id": "10e1cf6a",
   "metadata": {},
   "source": [
    "# Evaluating a model\n",
    "\n"
   ]
  },
  {
   "cell_type": "code",
   "execution_count": 21,
   "id": "f58e0569",
   "metadata": {},
   "outputs": [
    {
     "data": {
      "text/plain": [
       "<tf.Tensor: shape=(50,), dtype=int32, numpy=\n",
       "array([-100,  -96,  -92,  -88,  -84,  -80,  -76,  -72,  -68,  -64,  -60,\n",
       "        -56,  -52,  -48,  -44,  -40,  -36,  -32,  -28,  -24,  -20,  -16,\n",
       "        -12,   -8,   -4,    0,    4,    8,   12,   16,   20,   24,   28,\n",
       "         32,   36,   40,   44,   48,   52,   56,   60,   64,   68,   72,\n",
       "         76,   80,   84,   88,   92,   96], dtype=int32)>"
      ]
     },
     "execution_count": 21,
     "metadata": {},
     "output_type": "execute_result"
    }
   ],
   "source": [
    "#Bigger Data\n",
    "\n",
    "X = tf.range(-100, 100, 4)\n",
    "X"
   ]
  },
  {
   "cell_type": "code",
   "execution_count": 22,
   "id": "4ded724b",
   "metadata": {},
   "outputs": [
    {
     "data": {
      "text/plain": [
       "<tf.Tensor: shape=(50,), dtype=int32, numpy=\n",
       "array([-90, -86, -82, -78, -74, -70, -66, -62, -58, -54, -50, -46, -42,\n",
       "       -38, -34, -30, -26, -22, -18, -14, -10,  -6,  -2,   2,   6,  10,\n",
       "        14,  18,  22,  26,  30,  34,  38,  42,  46,  50,  54,  58,  62,\n",
       "        66,  70,  74,  78,  82,  86,  90,  94,  98, 102, 106], dtype=int32)>"
      ]
     },
     "execution_count": 22,
     "metadata": {},
     "output_type": "execute_result"
    }
   ],
   "source": [
    "# make labels\n",
    "y = X + 10\n",
    "y"
   ]
  },
  {
   "cell_type": "code",
   "execution_count": 23,
   "id": "8793a074",
   "metadata": {},
   "outputs": [],
   "source": [
    "#visualize\n",
    "import matplotlib.pyplot as plt\n"
   ]
  },
  {
   "cell_type": "code",
   "execution_count": 24,
   "id": "4859f33e",
   "metadata": {},
   "outputs": [
    {
     "data": {
      "text/plain": [
       "<matplotlib.collections.PathCollection at 0x7ff995103d50>"
      ]
     },
     "execution_count": 24,
     "metadata": {},
     "output_type": "execute_result"
    },
    {
     "data": {
      "image/png": "[encoded data removed]",
      "text/plain": [
       "<Figure size 640x480 with 1 Axes>"
      ]
     },
     "metadata": {},
     "output_type": "display_data"
    }
   ],
   "source": [
    "plt.scatter(X, y)"
   ]
  },
  {
   "cell_type": "markdown",
   "id": "bd909a8d",
   "metadata": {},
   "source": [
    "# 3 Sets"
   ]
  },
  {
   "cell_type": "code",
   "execution_count": 25,
   "id": "b3491e11",
   "metadata": {},
   "outputs": [
    {
     "data": {
      "text/plain": [
       "50"
      ]
     },
     "execution_count": 25,
     "metadata": {},
     "output_type": "execute_result"
    }
   ],
   "source": [
    "len(X)"
   ]
  },
  {
   "cell_type": "code",
   "execution_count": 26,
   "id": "8ed64871",
   "metadata": {},
   "outputs": [
    {
     "data": {
      "text/plain": [
       "(40, 10)"
      ]
     },
     "execution_count": 26,
     "metadata": {},
     "output_type": "execute_result"
    }
   ],
   "source": [
    "# split the data into train and test data\n",
    "X_train = X[:40] \n",
    "y_train = y[:40]\n",
    "X_test = X[40:]\n",
    "y_test = y[40:]\n",
    "\n",
    "len(X_train), len(y_test)\n"
   ]
  },
  {
   "cell_type": "code",
   "execution_count": 27,
   "id": "fae556c7",
   "metadata": {},
   "outputs": [
    {
     "data": {
      "image/png": "[encoded data removed]",
      "text/plain": [
       "<Figure size 1000x700 with 1 Axes>"
      ]
     },
     "metadata": {},
     "output_type": "display_data"
    }
   ],
   "source": [
    "plt.figure(figsize=(10, 7))\n",
    "plt.scatter(X_train, y_train, c=\"b\", label=\"Training data\")\n",
    "plt.scatter(X_test, y_test, c=\"g\", label=\"Testing data\")\n",
    "plt.legend();"
   ]
  },
  {
   "cell_type": "code",
   "execution_count": 28,
   "id": "564c80fd",
   "metadata": {},
   "outputs": [
    {
     "name": "stdout",
     "output_type": "stream",
     "text": [
      "Epoch 1/50\n",
      "2/2 [==============================] - 0s 3ms/step - loss: 49.7564 - mae: 49.7564\n",
      "Epoch 2/50\n",
      "2/2 [==============================] - 0s 3ms/step - loss: 17.1987 - mae: 17.1987\n",
      "Epoch 3/50\n",
      "2/2 [==============================] - 0s 3ms/step - loss: 16.3929 - mae: 16.3929\n",
      "Epoch 4/50\n",
      "2/2 [==============================] - 0s 3ms/step - loss: 8.7538 - mae: 8.7538\n",
      "Epoch 5/50\n",
      "2/2 [==============================] - 0s 3ms/step - loss: 10.7927 - mae: 10.7927\n",
      "Epoch 6/50\n",
      "2/2 [==============================] - 0s 3ms/step - loss: 9.9820 - mae: 9.9820\n",
      "Epoch 7/50\n",
      "2/2 [==============================] - 0s 3ms/step - loss: 9.0332 - mae: 9.0332\n",
      "Epoch 8/50\n",
      "2/2 [==============================] - 0s 3ms/step - loss: 9.0944 - mae: 9.0944\n",
      "Epoch 9/50\n",
      "2/2 [==============================] - 0s 3ms/step - loss: 19.8883 - mae: 19.8883\n",
      "Epoch 10/50\n",
      "2/2 [==============================] - 0s 4ms/step - loss: 10.7549 - mae: 10.7549\n",
      "Epoch 11/50\n",
      "2/2 [==============================] - 0s 3ms/step - loss: 8.6631 - mae: 8.6631\n",
      "Epoch 12/50\n",
      "2/2 [==============================] - 0s 4ms/step - loss: 9.6488 - mae: 9.6488\n",
      "Epoch 13/50\n",
      "2/2 [==============================] - 0s 3ms/step - loss: 12.9777 - mae: 12.9777\n",
      "Epoch 14/50\n",
      "2/2 [==============================] - 0s 3ms/step - loss: 14.2203 - mae: 14.2203\n",
      "Epoch 15/50\n",
      "2/2 [==============================] - 0s 3ms/step - loss: 11.6255 - mae: 11.6255\n",
      "Epoch 16/50\n",
      "2/2 [==============================] - 0s 3ms/step - loss: 8.4896 - mae: 8.4896\n",
      "Epoch 17/50\n",
      "2/2 [==============================] - 0s 3ms/step - loss: 13.5054 - mae: 13.5054\n",
      "Epoch 18/50\n",
      "2/2 [==============================] - 0s 3ms/step - loss: 11.2978 - mae: 11.2978\n",
      "Epoch 19/50\n",
      "2/2 [==============================] - 0s 3ms/step - loss: 18.1400 - mae: 18.1400\n",
      "Epoch 20/50\n",
      "2/2 [==============================] - 0s 3ms/step - loss: 15.2729 - mae: 15.2729\n",
      "Epoch 21/50\n",
      "2/2 [==============================] - 0s 3ms/step - loss: 11.2111 - mae: 11.2111\n",
      "Epoch 22/50\n",
      "2/2 [==============================] - 0s 3ms/step - loss: 8.3558 - mae: 8.3558\n",
      "Epoch 23/50\n",
      "2/2 [==============================] - 0s 3ms/step - loss: 9.9434 - mae: 9.9434\n",
      "Epoch 24/50\n",
      "2/2 [==============================] - 0s 2ms/step - loss: 15.7959 - mae: 15.7959\n",
      "Epoch 25/50\n",
      "2/2 [==============================] - 0s 3ms/step - loss: 12.2200 - mae: 12.2200\n",
      "Epoch 26/50\n",
      "2/2 [==============================] - 0s 3ms/step - loss: 13.3634 - mae: 13.3634\n",
      "Epoch 27/50\n",
      "2/2 [==============================] - 0s 2ms/step - loss: 10.7852 - mae: 10.7852\n",
      "Epoch 28/50\n",
      "2/2 [==============================] - 0s 3ms/step - loss: 13.0653 - mae: 13.0653\n",
      "Epoch 29/50\n",
      "2/2 [==============================] - 0s 3ms/step - loss: 9.5563 - mae: 9.5563\n",
      "Epoch 30/50\n",
      "2/2 [==============================] - 0s 3ms/step - loss: 16.6817 - mae: 16.6817\n",
      "Epoch 31/50\n",
      "2/2 [==============================] - 0s 4ms/step - loss: 23.3439 - mae: 23.3439\n",
      "Epoch 32/50\n",
      "2/2 [==============================] - 0s 3ms/step - loss: 7.3304 - mae: 7.3304\n",
      "Epoch 33/50\n",
      "2/2 [==============================] - 0s 3ms/step - loss: 10.4160 - mae: 10.4160\n",
      "Epoch 34/50\n",
      "2/2 [==============================] - 0s 3ms/step - loss: 9.6848 - mae: 9.6848\n",
      "Epoch 35/50\n",
      "2/2 [==============================] - 0s 2ms/step - loss: 8.4302 - mae: 8.4302\n",
      "Epoch 36/50\n",
      "2/2 [==============================] - 0s 2ms/step - loss: 8.5905 - mae: 8.5905\n",
      "Epoch 37/50\n",
      "2/2 [==============================] - 0s 3ms/step - loss: 8.6359 - mae: 8.6359\n",
      "Epoch 38/50\n",
      "2/2 [==============================] - 0s 2ms/step - loss: 9.2724 - mae: 9.2724\n",
      "Epoch 39/50\n",
      "2/2 [==============================] - 0s 2ms/step - loss: 10.2044 - mae: 10.2044\n",
      "Epoch 40/50\n",
      "2/2 [==============================] - 0s 3ms/step - loss: 9.6713 - mae: 9.6713\n",
      "Epoch 41/50\n",
      "2/2 [==============================] - 0s 2ms/step - loss: 8.0170 - mae: 8.0170\n",
      "Epoch 42/50\n",
      "2/2 [==============================] - 0s 2ms/step - loss: 10.5246 - mae: 10.5246\n",
      "Epoch 43/50\n",
      "2/2 [==============================] - 0s 3ms/step - loss: 7.5467 - mae: 7.5467\n",
      "Epoch 44/50\n",
      "2/2 [==============================] - 0s 3ms/step - loss: 18.7410 - mae: 18.7410\n",
      "Epoch 45/50\n",
      "2/2 [==============================] - 0s 3ms/step - loss: 14.5759 - mae: 14.5759\n",
      "Epoch 46/50\n",
      "2/2 [==============================] - 0s 3ms/step - loss: 9.2687 - mae: 9.2687\n",
      "Epoch 47/50\n",
      "2/2 [==============================] - 0s 2ms/step - loss: 9.6288 - mae: 9.6288\n",
      "Epoch 48/50\n",
      "2/2 [==============================] - 0s 3ms/step - loss: 11.3588 - mae: 11.3588\n",
      "Epoch 49/50\n",
      "2/2 [==============================] - 0s 3ms/step - loss: 8.1828 - mae: 8.1828\n",
      "Epoch 50/50\n",
      "2/2 [==============================] - 0s 3ms/step - loss: 10.2173 - mae: 10.2173\n"
     ]
    },
    {
     "data": {
      "text/plain": [
       "<keras.src.callbacks.History at 0x7ff98df39dd0>"
      ]
     },
     "execution_count": 28,
     "metadata": {},
     "output_type": "execute_result"
    }
   ],
   "source": [
    "model = tf.keras.Sequential([\n",
    "    tf.keras.layers.Dense(1)\n",
    "])\n",
    "\n",
    "model.compile(loss=tf.losses.mae,\n",
    "             optimizer=tf.keras.optimizers.SGD(),\n",
    "             metrics=[\"mae\"])\n",
    "\n",
    "model.fit(tf.expand_dims(X_train, axis=-1), y_train, epochs=50)"
   ]
  },
  {
   "cell_type": "code",
   "execution_count": 29,
   "id": "d293eb8e",
   "metadata": {},
   "outputs": [
    {
     "name": "stdout",
     "output_type": "stream",
     "text": [
      "Model: \"sequential_3\"\n",
      "_________________________________________________________________\n",
      " Layer (type)                Output Shape              Param #   \n",
      "=================================================================\n",
      " dense_4 (Dense)             (None, 1)                 2         \n",
      "                                                                 \n",
      "=================================================================\n",
      "Total params: 2 (8.00 Byte)\n",
      "Trainable params: 2 (8.00 Byte)\n",
      "Non-trainable params: 0 (0.00 Byte)\n",
      "_________________________________________________________________\n"
     ]
    }
   ],
   "source": [
    "model.summary()"
   ]
  },
  {
   "cell_type": "code",
   "execution_count": 30,
   "id": "96796319",
   "metadata": {},
   "outputs": [],
   "source": [
    "tf.random.set_seed(42)\n",
    "\n",
    "model = tf.keras.Sequential([\n",
    "    tf.keras.layers.Dense(10, input_shape=[1], name=\"input_layer\"),\n",
    "    tf.keras.layers.Dense(1, name=\"output_layer\")\n",
    "],name=\"TensorFlow_regression\")\n",
    "\n",
    "model.compile(loss=tf.keras.losses.mae,\n",
    "             optimizer=tf.keras.optimizers.SGD(),\n",
    "             metrics=[\"mae\"])"
   ]
  },
  {
   "cell_type": "code",
   "execution_count": 31,
   "id": "70f4081a",
   "metadata": {},
   "outputs": [
    {
     "name": "stdout",
     "output_type": "stream",
     "text": [
      "Model: \"TensorFlow_regression\"\n",
      "_________________________________________________________________\n",
      " Layer (type)                Output Shape              Param #   \n",
      "=================================================================\n",
      " input_layer (Dense)         (None, 10)                20        \n",
      "                                                                 \n",
      " output_layer (Dense)        (None, 1)                 11        \n",
      "                                                                 \n",
      "=================================================================\n",
      "Total params: 31 (124.00 Byte)\n",
      "Trainable params: 31 (124.00 Byte)\n",
      "Non-trainable params: 0 (0.00 Byte)\n",
      "_________________________________________________________________\n"
     ]
    }
   ],
   "source": [
    "model.summary()"
   ]
  },
  {
   "cell_type": "code",
   "execution_count": 32,
   "id": "792ed918",
   "metadata": {},
   "outputs": [
    {
     "name": "stdout",
     "output_type": "stream",
     "text": [
      "Epoch 1/100\n",
      "2/2 [==============================] - 0s 5ms/step - loss: 24.2046 - mae: 24.2046\n",
      "Epoch 2/100\n",
      "2/2 [==============================] - 0s 3ms/step - loss: 23.1259 - mae: 23.1259\n",
      "Epoch 3/100\n",
      "2/2 [==============================] - 0s 4ms/step - loss: 28.1778 - mae: 28.1778\n",
      "Epoch 4/100\n",
      "2/2 [==============================] - 0s 4ms/step - loss: 16.1450 - mae: 16.1450\n",
      "Epoch 5/100\n",
      "2/2 [==============================] - 0s 3ms/step - loss: 18.6959 - mae: 18.6959\n",
      "Epoch 6/100\n",
      "2/2 [==============================] - 0s 3ms/step - loss: 14.2678 - mae: 14.2678\n",
      "Epoch 7/100\n",
      "2/2 [==============================] - 0s 3ms/step - loss: 11.5304 - mae: 11.5304\n",
      "Epoch 8/100\n",
      "2/2 [==============================] - 0s 3ms/step - loss: 11.2418 - mae: 11.2418\n",
      "Epoch 9/100\n",
      "2/2 [==============================] - 0s 3ms/step - loss: 42.1481 - mae: 42.1481\n",
      "Epoch 10/100\n",
      "2/2 [==============================] - 0s 3ms/step - loss: 29.3275 - mae: 29.3275\n",
      "Epoch 11/100\n",
      "2/2 [==============================] - 0s 3ms/step - loss: 7.6951 - mae: 7.6951\n",
      "Epoch 12/100\n",
      "2/2 [==============================] - 0s 3ms/step - loss: 28.6128 - mae: 28.6128\n",
      "Epoch 13/100\n",
      "2/2 [==============================] - 0s 3ms/step - loss: 11.4896 - mae: 11.4896\n",
      "Epoch 14/100\n",
      "2/2 [==============================] - 0s 4ms/step - loss: 30.1315 - mae: 30.1315\n",
      "Epoch 15/100\n",
      "2/2 [==============================] - 0s 3ms/step - loss: 19.9245 - mae: 19.9245\n",
      "Epoch 16/100\n",
      "2/2 [==============================] - 0s 3ms/step - loss: 9.8967 - mae: 9.8967\n",
      "Epoch 17/100\n",
      "2/2 [==============================] - 0s 3ms/step - loss: 17.7922 - mae: 17.7922\n",
      "Epoch 18/100\n",
      "2/2 [==============================] - 0s 3ms/step - loss: 14.2678 - mae: 14.2678\n",
      "Epoch 19/100\n",
      "2/2 [==============================] - 0s 3ms/step - loss: 14.1130 - mae: 14.1130\n",
      "Epoch 20/100\n",
      "2/2 [==============================] - 0s 3ms/step - loss: 11.2781 - mae: 11.2781\n",
      "Epoch 21/100\n",
      "2/2 [==============================] - 0s 4ms/step - loss: 17.4482 - mae: 17.4482\n",
      "Epoch 22/100\n",
      "2/2 [==============================] - 0s 3ms/step - loss: 15.9763 - mae: 15.9763\n",
      "Epoch 23/100\n",
      "2/2 [==============================] - 0s 3ms/step - loss: 9.8423 - mae: 9.8423\n",
      "Epoch 24/100\n",
      "2/2 [==============================] - 0s 4ms/step - loss: 16.4304 - mae: 16.4304\n",
      "Epoch 25/100\n",
      "2/2 [==============================] - 0s 3ms/step - loss: 15.3675 - mae: 15.3675\n",
      "Epoch 26/100\n",
      "2/2 [==============================] - 0s 3ms/step - loss: 20.5726 - mae: 20.5726\n",
      "Epoch 27/100\n",
      "2/2 [==============================] - 0s 3ms/step - loss: 26.3572 - mae: 26.3572\n",
      "Epoch 28/100\n",
      "2/2 [==============================] - 0s 3ms/step - loss: 18.8034 - mae: 18.8034\n",
      "Epoch 29/100\n",
      "2/2 [==============================] - 0s 3ms/step - loss: 9.2530 - mae: 9.2530\n",
      "Epoch 30/100\n",
      "2/2 [==============================] - 0s 3ms/step - loss: 29.4443 - mae: 29.4443\n",
      "Epoch 31/100\n",
      "2/2 [==============================] - 0s 3ms/step - loss: 53.3721 - mae: 53.3721\n",
      "Epoch 32/100\n",
      "2/2 [==============================] - 0s 3ms/step - loss: 9.4833 - mae: 9.4833\n",
      "Epoch 33/100\n",
      "2/2 [==============================] - 0s 3ms/step - loss: 12.0598 - mae: 12.0598\n",
      "Epoch 34/100\n",
      "2/2 [==============================] - 0s 4ms/step - loss: 23.3163 - mae: 23.3163\n",
      "Epoch 35/100\n",
      "2/2 [==============================] - 0s 3ms/step - loss: 11.8410 - mae: 11.8410\n",
      "Epoch 36/100\n",
      "2/2 [==============================] - 0s 3ms/step - loss: 21.8042 - mae: 21.8042\n",
      "Epoch 37/100\n",
      "2/2 [==============================] - 0s 3ms/step - loss: 11.1490 - mae: 11.1490\n",
      "Epoch 38/100\n",
      "2/2 [==============================] - 0s 3ms/step - loss: 12.7491 - mae: 12.7491\n",
      "Epoch 39/100\n",
      "2/2 [==============================] - 0s 4ms/step - loss: 11.6135 - mae: 11.6135\n",
      "Epoch 40/100\n",
      "2/2 [==============================] - 0s 3ms/step - loss: 19.2831 - mae: 19.2831\n",
      "Epoch 41/100\n",
      "2/2 [==============================] - 0s 3ms/step - loss: 10.9843 - mae: 10.9843\n",
      "Epoch 42/100\n",
      "2/2 [==============================] - 0s 3ms/step - loss: 9.3101 - mae: 9.3101\n",
      "Epoch 43/100\n",
      "2/2 [==============================] - 0s 3ms/step - loss: 9.6006 - mae: 9.6006\n",
      "Epoch 44/100\n",
      "2/2 [==============================] - 0s 3ms/step - loss: 27.9980 - mae: 27.9980\n",
      "Epoch 45/100\n",
      "2/2 [==============================] - 0s 3ms/step - loss: 11.2936 - mae: 11.2936\n",
      "Epoch 46/100\n",
      "2/2 [==============================] - 0s 3ms/step - loss: 14.0758 - mae: 14.0758\n",
      "Epoch 47/100\n",
      "2/2 [==============================] - 0s 4ms/step - loss: 13.5043 - mae: 13.5043\n",
      "Epoch 48/100\n",
      "2/2 [==============================] - 0s 3ms/step - loss: 17.3418 - mae: 17.3418\n",
      "Epoch 49/100\n",
      "2/2 [==============================] - 0s 3ms/step - loss: 9.5230 - mae: 9.5230\n",
      "Epoch 50/100\n",
      "2/2 [==============================] - 0s 3ms/step - loss: 13.7130 - mae: 13.7130\n",
      "Epoch 51/100\n",
      "2/2 [==============================] - 0s 3ms/step - loss: 11.5672 - mae: 11.5672\n",
      "Epoch 52/100\n",
      "2/2 [==============================] - 0s 3ms/step - loss: 30.2162 - mae: 30.2162\n",
      "Epoch 53/100\n",
      "2/2 [==============================] - 0s 3ms/step - loss: 13.7323 - mae: 13.7323\n",
      "Epoch 54/100\n",
      "2/2 [==============================] - 0s 3ms/step - loss: 26.4381 - mae: 26.4381\n",
      "Epoch 55/100\n",
      "2/2 [==============================] - 0s 3ms/step - loss: 26.0287 - mae: 26.0287\n",
      "Epoch 56/100\n",
      "2/2 [==============================] - 0s 3ms/step - loss: 11.2456 - mae: 11.2456\n",
      "Epoch 57/100\n",
      "2/2 [==============================] - 0s 3ms/step - loss: 13.2241 - mae: 13.2241\n",
      "Epoch 58/100\n",
      "2/2 [==============================] - 0s 4ms/step - loss: 9.8759 - mae: 9.8759\n",
      "Epoch 59/100\n",
      "2/2 [==============================] - 0s 3ms/step - loss: 13.4141 - mae: 13.4141\n",
      "Epoch 60/100\n",
      "2/2 [==============================] - 0s 3ms/step - loss: 10.9412 - mae: 10.9412\n",
      "Epoch 61/100\n",
      "2/2 [==============================] - 0s 3ms/step - loss: 13.5631 - mae: 13.5631\n",
      "Epoch 62/100\n",
      "2/2 [==============================] - 0s 3ms/step - loss: 17.8756 - mae: 17.8756\n",
      "Epoch 63/100\n",
      "2/2 [==============================] - 0s 3ms/step - loss: 8.7430 - mae: 8.7430\n",
      "Epoch 64/100\n",
      "2/2 [==============================] - 0s 3ms/step - loss: 16.1379 - mae: 16.1379\n",
      "Epoch 65/100\n",
      "2/2 [==============================] - 0s 3ms/step - loss: 10.7513 - mae: 10.7513\n",
      "Epoch 66/100\n",
      "2/2 [==============================] - 0s 3ms/step - loss: 22.1829 - mae: 22.1829\n",
      "Epoch 67/100\n",
      "2/2 [==============================] - 0s 3ms/step - loss: 10.2727 - mae: 10.2727\n",
      "Epoch 68/100\n",
      "2/2 [==============================] - 0s 3ms/step - loss: 13.4695 - mae: 13.4695\n",
      "Epoch 69/100\n",
      "2/2 [==============================] - 0s 3ms/step - loss: 11.4363 - mae: 11.4363\n",
      "Epoch 70/100\n",
      "2/2 [==============================] - 0s 3ms/step - loss: 13.6213 - mae: 13.6213\n",
      "Epoch 71/100\n",
      "2/2 [==============================] - 0s 3ms/step - loss: 15.6259 - mae: 15.6259\n",
      "Epoch 72/100\n",
      "2/2 [==============================] - 0s 3ms/step - loss: 11.8560 - mae: 11.8560\n",
      "Epoch 73/100\n",
      "2/2 [==============================] - 0s 3ms/step - loss: 16.6285 - mae: 16.6285\n",
      "Epoch 74/100\n",
      "2/2 [==============================] - 0s 3ms/step - loss: 24.1389 - mae: 24.1389\n",
      "Epoch 75/100\n",
      "2/2 [==============================] - 0s 3ms/step - loss: 9.6346 - mae: 9.6346\n",
      "Epoch 76/100\n",
      "2/2 [==============================] - 0s 3ms/step - loss: 12.4862 - mae: 12.4862\n",
      "Epoch 77/100\n",
      "2/2 [==============================] - 0s 4ms/step - loss: 16.7137 - mae: 16.7137\n",
      "Epoch 78/100\n",
      "2/2 [==============================] - 0s 3ms/step - loss: 9.0898 - mae: 9.0898\n",
      "Epoch 79/100\n",
      "2/2 [==============================] - 0s 4ms/step - loss: 24.0314 - mae: 24.0314\n",
      "Epoch 80/100\n",
      "2/2 [==============================] - 0s 3ms/step - loss: 26.8249 - mae: 26.8249\n",
      "Epoch 81/100\n",
      "2/2 [==============================] - 0s 3ms/step - loss: 11.7271 - mae: 11.7271\n",
      "Epoch 82/100\n",
      "2/2 [==============================] - 0s 3ms/step - loss: 12.0106 - mae: 12.0106\n",
      "Epoch 83/100\n",
      "2/2 [==============================] - 0s 3ms/step - loss: 17.4059 - mae: 17.4059\n",
      "Epoch 84/100\n",
      "2/2 [==============================] - 0s 4ms/step - loss: 7.2784 - mae: 7.2784\n",
      "Epoch 85/100\n",
      "2/2 [==============================] - 0s 3ms/step - loss: 14.9584 - mae: 14.9584\n",
      "Epoch 86/100\n",
      "2/2 [==============================] - 0s 3ms/step - loss: 15.2831 - mae: 15.2831\n",
      "Epoch 87/100\n",
      "2/2 [==============================] - 0s 3ms/step - loss: 19.0929 - mae: 19.0929\n",
      "Epoch 88/100\n",
      "2/2 [==============================] - 0s 3ms/step - loss: 29.8711 - mae: 29.8711\n",
      "Epoch 89/100\n",
      "2/2 [==============================] - 0s 3ms/step - loss: 10.2010 - mae: 10.2010\n",
      "Epoch 90/100\n",
      "2/2 [==============================] - 0s 3ms/step - loss: 21.5580 - mae: 21.5580\n",
      "Epoch 91/100\n",
      "2/2 [==============================] - 0s 3ms/step - loss: 10.5979 - mae: 10.5979\n",
      "Epoch 92/100\n",
      "2/2 [==============================] - 0s 3ms/step - loss: 18.4255 - mae: 18.4255\n",
      "Epoch 93/100\n",
      "2/2 [==============================] - 0s 3ms/step - loss: 7.4330 - mae: 7.4330\n",
      "Epoch 94/100\n",
      "2/2 [==============================] - 0s 3ms/step - loss: 17.7584 - mae: 17.7584\n",
      "Epoch 95/100\n",
      "2/2 [==============================] - 0s 3ms/step - loss: 11.1370 - mae: 11.1370\n",
      "Epoch 96/100\n",
      "2/2 [==============================] - 0s 3ms/step - loss: 19.4544 - mae: 19.4544\n",
      "Epoch 97/100\n",
      "2/2 [==============================] - 0s 3ms/step - loss: 12.1818 - mae: 12.1818\n",
      "Epoch 98/100\n",
      "2/2 [==============================] - 0s 3ms/step - loss: 11.5860 - mae: 11.5860\n",
      "Epoch 99/100\n",
      "2/2 [==============================] - 0s 3ms/step - loss: 13.8946 - mae: 13.8946\n",
      "Epoch 100/100\n",
      "2/2 [==============================] - 0s 3ms/step - loss: 20.2301 - mae: 20.2301\n"
     ]
    },
    {
     "data": {
      "text/plain": [
       "<keras.src.callbacks.History at 0x7ff98df4c250>"
      ]
     },
     "execution_count": 32,
     "metadata": {},
     "output_type": "execute_result"
    }
   ],
   "source": [
    "model.fit(tf.expand_dims(X_train,axis=-1),y_train, epochs=100, verbose=1)"
   ]
  },
  {
   "cell_type": "code",
   "execution_count": 33,
   "id": "ce8ac2a5",
   "metadata": {},
   "outputs": [
    {
     "name": "stdout",
     "output_type": "stream",
     "text": [
      "You must install pydot (`pip install pydot`) and install graphviz (see instructions at https://graphviz.gitlab.io/download/) for plot_model to work.\n"
     ]
    }
   ],
   "source": [
    "from tensorflow.keras.utils import plot_model\n",
    "\n",
    "plot_model(model=model, show_shapes=True)"
   ]
  },
  {
   "cell_type": "markdown",
   "id": "8ccba2fe",
   "metadata": {},
   "source": [
    "## Visualizing Model's prediction"
   ]
  },
  {
   "cell_type": "code",
   "execution_count": 34,
   "id": "c8ddfee5",
   "metadata": {},
   "outputs": [
    {
     "name": "stdout",
     "output_type": "stream",
     "text": [
      "1/1 [==============================] - 0s 27ms/step\n"
     ]
    },
    {
     "data": {
      "text/plain": [
       "array([[ 70.50461 ],\n",
       "       [ 75.09088 ],\n",
       "       [ 79.67716 ],\n",
       "       [ 84.26343 ],\n",
       "       [ 88.8497  ],\n",
       "       [ 93.435974],\n",
       "       [ 98.02225 ],\n",
       "       [102.60852 ],\n",
       "       [107.19479 ],\n",
       "       [111.78107 ]], dtype=float32)"
      ]
     },
     "execution_count": 34,
     "metadata": {},
     "output_type": "execute_result"
    }
   ],
   "source": [
    "y_pred = model.predict(X_test)\n",
    "y_pred"
   ]
  },
  {
   "cell_type": "code",
   "execution_count": 35,
   "id": "5128cd1f",
   "metadata": {},
   "outputs": [
    {
     "ename": "SyntaxError",
     "evalue": "expected ':' (2865821689.py, line 4)",
     "output_type": "error",
     "traceback": [
      "\u001b[0;36m  Cell \u001b[0;32mIn[35], line 4\u001b[0;36m\u001b[0m\n\u001b[0;31m    )\u001b[0m\n\u001b[0m     ^\u001b[0m\n\u001b[0;31mSyntaxError\u001b[0m\u001b[0;31m:\u001b[0m expected ':'\n"
     ]
    }
   ],
   "source": [
    "def plot_predictions(train_data=X_train,\n",
    "                    train_labels=y_train,\n",
    "                    test_data=X_test,\n",
    "                    )\n",
    "plt.scatter(X_test, )"
   ]
  },
  {
   "cell_type": "code",
   "execution_count": null,
   "id": "9fd1beb0-f5fe-4c4b-a809-86fbca9a29ce",
   "metadata": {},
   "outputs": [],
   "source": []
  },
  {
   "cell_type": "code",
   "execution_count": null,
   "id": "ab202bfb-c6c1-4aba-abd7-775be7f0e5f9",
   "metadata": {},
   "outputs": [],
   "source": []
  }
 ],
 "metadata": {
  "kernelspec": {
   "display_name": "Python 3 (ipykernel)",
   "language": "python",
   "name": "python3"
  },
  "language_info": {
   "codemirror_mode": {
    "name": "ipython",
    "version": 3
   },
   "file_extension": ".py",
   "mimetype": "text/x-python",
   "name": "python",
   "nbconvert_exporter": "python",
   "pygments_lexer": "ipython3",
   "version": "3.11.0rc1"
  }
 },
 "nbformat": 4,
 "nbformat_minor": 5
}
