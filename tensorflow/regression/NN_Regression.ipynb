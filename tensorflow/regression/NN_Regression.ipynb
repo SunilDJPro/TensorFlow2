{
 "cells": [
  {
   "cell_type": "markdown",
   "id": "26501f85",
   "metadata": {},
   "source": [
    "# Intro to regression with neural network\n"
   ]
  },
  {
   "cell_type": "code",
   "execution_count": 128,
   "id": "92e55b44",
   "metadata": {},
   "outputs": [
    {
     "name": "stdout",
     "output_type": "stream",
     "text": [
      "2.15.0\n"
     ]
    }
   ],
   "source": [
    "import tensorflow as tf\n",
    "print(tf.__version__)\n",
    "config = tf.compat.v1.ConfigProto()\n",
    "config.gpu_options.allow_growth = True"
   ]
  },
  {
   "cell_type": "code",
   "execution_count": 2,
   "id": "b2a83bae",
   "metadata": {},
   "outputs": [
    {
     "name": "stderr",
     "output_type": "stream",
     "text": [
      "2024-02-13 06:03:10.903094: E external/local_xla/xla/stream_executor/cuda/cuda_driver.cc:274] failed call to cuInit: UNKNOWN ERROR (34)\n"
     ]
    },
    {
     "data": {
      "text/plain": [
       "<matplotlib.collections.PathCollection at 0x7fced2580a90>"
      ]
     },
     "execution_count": 2,
     "metadata": {},
     "output_type": "execute_result"
    },
    {
     "data": {
      "image/png": "[encoded data removed]",
      "text/plain": [
       "<Figure size 640x480 with 1 Axes>"
      ]
     },
     "metadata": {},
     "output_type": "display_data"
    }
   ],
   "source": [
    "# Creating the data top view and fit\n",
    "sess = tf.compat.v1.Session(config=config)\n",
    "import numpy as np\n",
    "import matplotlib.pyplot as plt\n",
    "\n",
    "X = np.array([-7.0, -4.0, -1.0, 2.0, 5.0, 8.0, 11.0, 14.0])\n",
    "\n",
    "y = np.array([3.0, 6.0, 9.0, 12.0, 15.0, 18.0, 21.0, 24.0])\n",
    "\n",
    "plt.scatter(X, y)"
   ]
  },
  {
   "cell_type": "code",
   "execution_count": 3,
   "id": "8da16146",
   "metadata": {},
   "outputs": [
    {
     "data": {
      "text/plain": [
       "array([ True,  True,  True,  True,  True,  True,  True,  True])"
      ]
     },
     "execution_count": 3,
     "metadata": {},
     "output_type": "execute_result"
    }
   ],
   "source": [
    "y == X + 10"
   ]
  },
  {
   "cell_type": "markdown",
   "id": "e4129f3b",
   "metadata": {},
   "source": [
    "# Inputs and Output Shapes"
   ]
  },
  {
   "cell_type": "code",
   "execution_count": 4,
   "id": "8d15ddf9",
   "metadata": {},
   "outputs": [
    {
     "data": {
      "text/plain": [
       "(<tf.Tensor: shape=(3,), dtype=string, numpy=array([b'bedroom', b'bathroom', b'garage'], dtype=object)>,\n",
       " <tf.Tensor: shape=(1,), dtype=int32, numpy=array([939700], dtype=int32)>)"
      ]
     },
     "execution_count": 4,
     "metadata": {},
     "output_type": "execute_result"
    }
   ],
   "source": [
    "#Demo\n",
    "house_info = tf.constant([\"bedroom\", \"bathroom\", \"garage\"])\n",
    "house_price = tf.constant([939700])\n",
    "house_info, house_price"
   ]
  },
  {
   "cell_type": "code",
   "execution_count": 5,
   "id": "90a9961a",
   "metadata": {},
   "outputs": [
    {
     "data": {
      "text/plain": [
       "((8,), (8,))"
      ]
     },
     "execution_count": 5,
     "metadata": {},
     "output_type": "execute_result"
    }
   ],
   "source": [
    "input_shape = X.shape\n",
    "output_shape = y.shape\n",
    "input_shape, output_shape"
   ]
  },
  {
   "cell_type": "code",
   "execution_count": 6,
   "id": "86f1c1ea",
   "metadata": {},
   "outputs": [
    {
     "data": {
      "text/plain": [
       "(-7.0, 3.0)"
      ]
     },
     "execution_count": 6,
     "metadata": {},
     "output_type": "execute_result"
    }
   ],
   "source": [
    "X[0], y[0]"
   ]
  },
  {
   "cell_type": "code",
   "execution_count": 7,
   "id": "f3903317",
   "metadata": {},
   "outputs": [
    {
     "data": {
      "text/plain": [
       "0"
      ]
     },
     "execution_count": 7,
     "metadata": {},
     "output_type": "execute_result"
    }
   ],
   "source": [
    "X[0].ndim"
   ]
  },
  {
   "cell_type": "code",
   "execution_count": 8,
   "id": "9a349ffb",
   "metadata": {},
   "outputs": [
    {
     "data": {
      "text/plain": [
       "(<tf.Tensor: shape=(8,), dtype=float32, numpy=array([-7., -4., -1.,  2.,  5.,  8., 11., 14.], dtype=float32)>,\n",
       " <tf.Tensor: shape=(8,), dtype=float32, numpy=array([ 3.,  6.,  9., 12., 15., 18., 21., 24.], dtype=float32)>)"
      ]
     },
     "execution_count": 8,
     "metadata": {},
     "output_type": "execute_result"
    }
   ],
   "source": [
    "#Turn our Numpy arrays into Tensors\n",
    "\n",
    "x = tf.cast(tf.constant(X), dtype=tf.float32)\n",
    "y = tf.cast(tf.constant(y), dtype=tf.float32)\n",
    "x, y"
   ]
  },
  {
   "cell_type": "code",
   "execution_count": 9,
   "id": "fc5e539a",
   "metadata": {},
   "outputs": [
    {
     "data": {
      "text/plain": [
       "(TensorShape([]), TensorShape([]))"
      ]
     },
     "execution_count": 9,
     "metadata": {},
     "output_type": "execute_result"
    }
   ],
   "source": [
    "input_shape = x[0].shape\n",
    "output_shape = y[0].shape\n",
    "input_shape, output_shape"
   ]
  },
  {
   "cell_type": "code",
   "execution_count": 10,
   "id": "57844db1",
   "metadata": {},
   "outputs": [
    {
     "data": {
      "text/plain": [
       "<matplotlib.collections.PathCollection at 0x7fced04513d0>"
      ]
     },
     "execution_count": 10,
     "metadata": {},
     "output_type": "execute_result"
    },
    {
     "data": {
      "image/png": "[encoded data removed]",
      "text/plain": [
       "<Figure size 640x480 with 1 Axes>"
      ]
     },
     "metadata": {},
     "output_type": "display_data"
    }
   ],
   "source": [
    "plt.scatter(x, y)"
   ]
  },
  {
   "cell_type": "code",
   "execution_count": 11,
   "id": "7f7d4190",
   "metadata": {},
   "outputs": [
    {
     "name": "stdout",
     "output_type": "stream",
     "text": [
      "Epoch 1/50\n",
      "1/1 [==============================] - 0s 195ms/step - loss: 8.5258 - mae: 8.5258\n",
      "Epoch 2/50\n",
      "1/1 [==============================] - 0s 3ms/step - loss: 8.3933 - mae: 8.3933\n",
      "Epoch 3/50\n",
      "1/1 [==============================] - 0s 3ms/step - loss: 8.2608 - mae: 8.2608\n",
      "Epoch 4/50\n",
      "1/1 [==============================] - 0s 3ms/step - loss: 8.1283 - mae: 8.1283\n",
      "Epoch 5/50\n",
      "1/1 [==============================] - 0s 2ms/step - loss: 7.9958 - mae: 7.9958\n",
      "Epoch 6/50\n",
      "1/1 [==============================] - 0s 3ms/step - loss: 7.8633 - mae: 7.8633\n",
      "Epoch 7/50\n",
      "1/1 [==============================] - 0s 2ms/step - loss: 7.7308 - mae: 7.7308\n",
      "Epoch 8/50\n",
      "1/1 [==============================] - 0s 2ms/step - loss: 7.5983 - mae: 7.5983\n",
      "Epoch 9/50\n",
      "1/1 [==============================] - 0s 2ms/step - loss: 7.4658 - mae: 7.4658\n",
      "Epoch 10/50\n",
      "1/1 [==============================] - 0s 3ms/step - loss: 7.4325 - mae: 7.4325\n",
      "Epoch 11/50\n",
      "1/1 [==============================] - 0s 3ms/step - loss: 7.4269 - mae: 7.4269\n",
      "Epoch 12/50\n",
      "1/1 [==============================] - 0s 2ms/step - loss: 7.4213 - mae: 7.4213\n",
      "Epoch 13/50\n",
      "1/1 [==============================] - 0s 2ms/step - loss: 7.4156 - mae: 7.4156\n",
      "Epoch 14/50\n",
      "1/1 [==============================] - 0s 5ms/step - loss: 7.4100 - mae: 7.4100\n",
      "Epoch 15/50\n",
      "1/1 [==============================] - 0s 2ms/step - loss: 7.4044 - mae: 7.4044\n",
      "Epoch 16/50\n",
      "1/1 [==============================] - 0s 2ms/step - loss: 7.3988 - mae: 7.3988\n",
      "Epoch 17/50\n",
      "1/1 [==============================] - 0s 3ms/step - loss: 7.3931 - mae: 7.3931\n",
      "Epoch 18/50\n",
      "1/1 [==============================] - 0s 3ms/step - loss: 7.3875 - mae: 7.3875\n",
      "Epoch 19/50\n",
      "1/1 [==============================] - 0s 2ms/step - loss: 7.3819 - mae: 7.3819\n",
      "Epoch 20/50\n",
      "1/1 [==============================] - 0s 3ms/step - loss: 7.3763 - mae: 7.3763\n",
      "Epoch 21/50\n",
      "1/1 [==============================] - 0s 3ms/step - loss: 7.3706 - mae: 7.3706\n",
      "Epoch 22/50\n",
      "1/1 [==============================] - 0s 3ms/step - loss: 7.3650 - mae: 7.3650\n",
      "Epoch 23/50\n",
      "1/1 [==============================] - 0s 3ms/step - loss: 7.3594 - mae: 7.3594\n",
      "Epoch 24/50\n",
      "1/1 [==============================] - 0s 3ms/step - loss: 7.3538 - mae: 7.3538\n",
      "Epoch 25/50\n",
      "1/1 [==============================] - 0s 3ms/step - loss: 7.3481 - mae: 7.3481\n",
      "Epoch 26/50\n",
      "1/1 [==============================] - 0s 3ms/step - loss: 7.3425 - mae: 7.3425\n",
      "Epoch 27/50\n",
      "1/1 [==============================] - 0s 3ms/step - loss: 7.3369 - mae: 7.3369\n",
      "Epoch 28/50\n",
      "1/1 [==============================] - 0s 2ms/step - loss: 7.3313 - mae: 7.3313\n",
      "Epoch 29/50\n",
      "1/1 [==============================] - 0s 2ms/step - loss: 7.3256 - mae: 7.3256\n",
      "Epoch 30/50\n",
      "1/1 [==============================] - 0s 2ms/step - loss: 7.3200 - mae: 7.3200\n",
      "Epoch 31/50\n",
      "1/1 [==============================] - 0s 2ms/step - loss: 7.3144 - mae: 7.3144\n",
      "Epoch 32/50\n",
      "1/1 [==============================] - 0s 3ms/step - loss: 7.3088 - mae: 7.3088\n",
      "Epoch 33/50\n",
      "1/1 [==============================] - 0s 3ms/step - loss: 7.3031 - mae: 7.3031\n",
      "Epoch 34/50\n",
      "1/1 [==============================] - 0s 2ms/step - loss: 7.2975 - mae: 7.2975\n",
      "Epoch 35/50\n",
      "1/1 [==============================] - 0s 2ms/step - loss: 7.2919 - mae: 7.2919\n",
      "Epoch 36/50\n",
      "1/1 [==============================] - 0s 2ms/step - loss: 7.2863 - mae: 7.2863\n",
      "Epoch 37/50\n",
      "1/1 [==============================] - 0s 2ms/step - loss: 7.2806 - mae: 7.2806\n",
      "Epoch 38/50\n",
      "1/1 [==============================] - 0s 2ms/step - loss: 7.2750 - mae: 7.2750\n",
      "Epoch 39/50\n",
      "1/1 [==============================] - 0s 2ms/step - loss: 7.2694 - mae: 7.2694\n",
      "Epoch 40/50\n",
      "1/1 [==============================] - 0s 3ms/step - loss: 7.2638 - mae: 7.2638\n",
      "Epoch 41/50\n",
      "1/1 [==============================] - 0s 2ms/step - loss: 7.2581 - mae: 7.2581\n",
      "Epoch 42/50\n",
      "1/1 [==============================] - 0s 2ms/step - loss: 7.2525 - mae: 7.2525\n",
      "Epoch 43/50\n",
      "1/1 [==============================] - 0s 2ms/step - loss: 7.2469 - mae: 7.2469\n",
      "Epoch 44/50\n",
      "1/1 [==============================] - 0s 2ms/step - loss: 7.2413 - mae: 7.2413\n",
      "Epoch 45/50\n",
      "1/1 [==============================] - 0s 2ms/step - loss: 7.2356 - mae: 7.2356\n",
      "Epoch 46/50\n",
      "1/1 [==============================] - 0s 2ms/step - loss: 7.2300 - mae: 7.2300\n",
      "Epoch 47/50\n",
      "1/1 [==============================] - 0s 2ms/step - loss: 7.2244 - mae: 7.2244\n",
      "Epoch 48/50\n",
      "1/1 [==============================] - 0s 3ms/step - loss: 7.2188 - mae: 7.2188\n",
      "Epoch 49/50\n",
      "1/1 [==============================] - 0s 2ms/step - loss: 7.2131 - mae: 7.2131\n",
      "Epoch 50/50\n",
      "1/1 [==============================] - 0s 2ms/step - loss: 7.2075 - mae: 7.2075\n"
     ]
    },
    {
     "data": {
      "text/plain": [
       "<keras.src.callbacks.History at 0x7fced0302d90>"
      ]
     },
     "execution_count": 11,
     "metadata": {},
     "output_type": "execute_result"
    }
   ],
   "source": [
    "# Set seed\n",
    "tf.random.set_seed(42)\n",
    "\n",
    "#Sequential API\n",
    "model = tf.keras.Sequential([\n",
    "    tf.keras.layers.Dense(1)\n",
    "    # tf.keras.layers.Dense(1)\n",
    "])\n",
    "\n",
    "#mae - Mean Absolute Error\n",
    "model.compile(loss = tf.keras.losses.mae, \n",
    "              optimizer= tf.keras.optimizers.SGD(),\n",
    "              metrics=[\"mae\"])\n",
    "\n",
    "model.fit(tf.expand_dims(X, axis=-1), y, epochs=50)\n"
   ]
  },
  {
   "cell_type": "code",
   "execution_count": 12,
   "id": "0c321cb6",
   "metadata": {},
   "outputs": [
    {
     "data": {
      "text/plain": [
       "(<tf.Tensor: shape=(8,), dtype=float32, numpy=array([-7., -4., -1.,  2.,  5.,  8., 11., 14.], dtype=float32)>,\n",
       " <tf.Tensor: shape=(8,), dtype=float32, numpy=array([ 3.,  6.,  9., 12., 15., 18., 21., 24.], dtype=float32)>)"
      ]
     },
     "execution_count": 12,
     "metadata": {},
     "output_type": "execute_result"
    }
   ],
   "source": [
    "x, y"
   ]
  },
  {
   "cell_type": "code",
   "execution_count": 13,
   "id": "c0fedb2f",
   "metadata": {},
   "outputs": [
    {
     "name": "stdout",
     "output_type": "stream",
     "text": [
      "1/1 [==============================] - 0s 50ms/step\n"
     ]
    },
    {
     "data": {
      "text/plain": [
       "array([[29.912941]], dtype=float32)"
      ]
     },
     "execution_count": 13,
     "metadata": {},
     "output_type": "execute_result"
    }
   ],
   "source": [
    "model.predict([17.0])"
   ]
  },
  {
   "cell_type": "code",
   "execution_count": 14,
   "id": "9f433e72",
   "metadata": {},
   "outputs": [
    {
     "name": "stdout",
     "output_type": "stream",
     "text": [
      "1/1 [==============================] - 0s 20ms/step\n"
     ]
    },
    {
     "data": {
      "text/plain": [
       "array([[24.704334]], dtype=float32)"
      ]
     },
     "execution_count": 14,
     "metadata": {},
     "output_type": "execute_result"
    }
   ],
   "source": [
    "y_pred = model.predict([14.0])\n",
    "y_pred"
   ]
  },
  {
   "cell_type": "markdown",
   "id": "eb0073fb",
   "metadata": {},
   "source": [
    "# Improving our Model"
   ]
  },
  {
   "cell_type": "code",
   "execution_count": 15,
   "id": "466ba315",
   "metadata": {},
   "outputs": [
    {
     "name": "stdout",
     "output_type": "stream",
     "text": [
      "Epoch 1/100\n",
      "1/1 [==============================] - 0s 142ms/step - loss: 11.6252 - mae: 11.6252\n",
      "Epoch 2/100\n",
      "1/1 [==============================] - 0s 3ms/step - loss: 11.4927 - mae: 11.4927\n",
      "Epoch 3/100\n",
      "1/1 [==============================] - 0s 2ms/step - loss: 11.3602 - mae: 11.3602\n",
      "Epoch 4/100\n",
      "1/1 [==============================] - 0s 2ms/step - loss: 11.2277 - mae: 11.2277\n",
      "Epoch 5/100\n",
      "1/1 [==============================] - 0s 2ms/step - loss: 11.0952 - mae: 11.0952\n",
      "Epoch 6/100\n",
      "1/1 [==============================] - 0s 2ms/step - loss: 10.9627 - mae: 10.9627\n",
      "Epoch 7/100\n",
      "1/1 [==============================] - 0s 2ms/step - loss: 10.8302 - mae: 10.8302\n",
      "Epoch 8/100\n",
      "1/1 [==============================] - 0s 2ms/step - loss: 10.6977 - mae: 10.6977\n",
      "Epoch 9/100\n",
      "1/1 [==============================] - 0s 2ms/step - loss: 10.5652 - mae: 10.5652\n",
      "Epoch 10/100\n",
      "1/1 [==============================] - 0s 2ms/step - loss: 10.4327 - mae: 10.4327\n",
      "Epoch 11/100\n",
      "1/1 [==============================] - 0s 3ms/step - loss: 10.3002 - mae: 10.3002\n",
      "Epoch 12/100\n",
      "1/1 [==============================] - 0s 2ms/step - loss: 10.1677 - mae: 10.1677\n",
      "Epoch 13/100\n",
      "1/1 [==============================] - 0s 2ms/step - loss: 10.0352 - mae: 10.0352\n",
      "Epoch 14/100\n",
      "1/1 [==============================] - 0s 2ms/step - loss: 9.9027 - mae: 9.9027\n",
      "Epoch 15/100\n",
      "1/1 [==============================] - 0s 3ms/step - loss: 9.7702 - mae: 9.7702\n",
      "Epoch 16/100\n",
      "1/1 [==============================] - 0s 2ms/step - loss: 9.6377 - mae: 9.6377\n",
      "Epoch 17/100\n",
      "1/1 [==============================] - 0s 2ms/step - loss: 9.5052 - mae: 9.5052\n",
      "Epoch 18/100\n",
      "1/1 [==============================] - 0s 2ms/step - loss: 9.3727 - mae: 9.3727\n",
      "Epoch 19/100\n",
      "1/1 [==============================] - 0s 3ms/step - loss: 9.2402 - mae: 9.2402\n",
      "Epoch 20/100\n",
      "1/1 [==============================] - 0s 2ms/step - loss: 9.1077 - mae: 9.1077\n",
      "Epoch 21/100\n",
      "1/1 [==============================] - 0s 3ms/step - loss: 8.9752 - mae: 8.9752\n",
      "Epoch 22/100\n",
      "1/1 [==============================] - 0s 3ms/step - loss: 8.8427 - mae: 8.8427\n",
      "Epoch 23/100\n",
      "1/1 [==============================] - 0s 3ms/step - loss: 8.7102 - mae: 8.7102\n",
      "Epoch 24/100\n",
      "1/1 [==============================] - 0s 4ms/step - loss: 8.5777 - mae: 8.5777\n",
      "Epoch 25/100\n",
      "1/1 [==============================] - 0s 3ms/step - loss: 8.4452 - mae: 8.4452\n",
      "Epoch 26/100\n",
      "1/1 [==============================] - 0s 3ms/step - loss: 8.3127 - mae: 8.3127\n",
      "Epoch 27/100\n",
      "1/1 [==============================] - 0s 3ms/step - loss: 8.1802 - mae: 8.1802\n",
      "Epoch 28/100\n",
      "1/1 [==============================] - 0s 3ms/step - loss: 8.0477 - mae: 8.0477\n",
      "Epoch 29/100\n",
      "1/1 [==============================] - 0s 3ms/step - loss: 7.9152 - mae: 7.9152\n",
      "Epoch 30/100\n",
      "1/1 [==============================] - 0s 2ms/step - loss: 7.7827 - mae: 7.7827\n",
      "Epoch 31/100\n",
      "1/1 [==============================] - 0s 2ms/step - loss: 7.6502 - mae: 7.6502\n",
      "Epoch 32/100\n",
      "1/1 [==============================] - 0s 3ms/step - loss: 7.5177 - mae: 7.5177\n",
      "Epoch 33/100\n",
      "1/1 [==============================] - 0s 2ms/step - loss: 7.3852 - mae: 7.3852\n",
      "Epoch 34/100\n",
      "1/1 [==============================] - 0s 3ms/step - loss: 7.2527 - mae: 7.2527\n",
      "Epoch 35/100\n",
      "1/1 [==============================] - 0s 3ms/step - loss: 7.2450 - mae: 7.2450\n",
      "Epoch 36/100\n",
      "1/1 [==============================] - 0s 3ms/step - loss: 7.2394 - mae: 7.2394\n",
      "Epoch 37/100\n",
      "1/1 [==============================] - 0s 3ms/step - loss: 7.2337 - mae: 7.2337\n",
      "Epoch 38/100\n",
      "1/1 [==============================] - 0s 3ms/step - loss: 7.2281 - mae: 7.2281\n",
      "Epoch 39/100\n",
      "1/1 [==============================] - 0s 3ms/step - loss: 7.2225 - mae: 7.2225\n",
      "Epoch 40/100\n",
      "1/1 [==============================] - 0s 3ms/step - loss: 7.2169 - mae: 7.2169\n",
      "Epoch 41/100\n",
      "1/1 [==============================] - 0s 3ms/step - loss: 7.2112 - mae: 7.2112\n",
      "Epoch 42/100\n",
      "1/1 [==============================] - 0s 3ms/step - loss: 7.2056 - mae: 7.2056\n",
      "Epoch 43/100\n",
      "1/1 [==============================] - 0s 3ms/step - loss: 7.2000 - mae: 7.2000\n",
      "Epoch 44/100\n",
      "1/1 [==============================] - 0s 3ms/step - loss: 7.1944 - mae: 7.1944\n",
      "Epoch 45/100\n",
      "1/1 [==============================] - 0s 2ms/step - loss: 7.1888 - mae: 7.1888\n",
      "Epoch 46/100\n",
      "1/1 [==============================] - 0s 3ms/step - loss: 7.1831 - mae: 7.1831\n",
      "Epoch 47/100\n",
      "1/1 [==============================] - 0s 3ms/step - loss: 7.1775 - mae: 7.1775\n",
      "Epoch 48/100\n",
      "1/1 [==============================] - 0s 3ms/step - loss: 7.1719 - mae: 7.1719\n",
      "Epoch 49/100\n",
      "1/1 [==============================] - 0s 3ms/step - loss: 7.1663 - mae: 7.1663\n",
      "Epoch 50/100\n",
      "1/1 [==============================] - 0s 3ms/step - loss: 7.1606 - mae: 7.1606\n",
      "Epoch 51/100\n",
      "1/1 [==============================] - 0s 3ms/step - loss: 7.1550 - mae: 7.1550\n",
      "Epoch 52/100\n",
      "1/1 [==============================] - 0s 3ms/step - loss: 7.1494 - mae: 7.1494\n",
      "Epoch 53/100\n",
      "1/1 [==============================] - 0s 3ms/step - loss: 7.1438 - mae: 7.1438\n",
      "Epoch 54/100\n",
      "1/1 [==============================] - 0s 3ms/step - loss: 7.1381 - mae: 7.1381\n",
      "Epoch 55/100\n",
      "1/1 [==============================] - 0s 3ms/step - loss: 7.1325 - mae: 7.1325\n",
      "Epoch 56/100\n",
      "1/1 [==============================] - 0s 3ms/step - loss: 7.1269 - mae: 7.1269\n",
      "Epoch 57/100\n",
      "1/1 [==============================] - 0s 2ms/step - loss: 7.1212 - mae: 7.1212\n",
      "Epoch 58/100\n",
      "1/1 [==============================] - 0s 3ms/step - loss: 7.1156 - mae: 7.1156\n",
      "Epoch 59/100\n",
      "1/1 [==============================] - 0s 2ms/step - loss: 7.1100 - mae: 7.1100\n",
      "Epoch 60/100\n",
      "1/1 [==============================] - 0s 3ms/step - loss: 7.1044 - mae: 7.1044\n",
      "Epoch 61/100\n",
      "1/1 [==============================] - 0s 4ms/step - loss: 7.0988 - mae: 7.0988\n",
      "Epoch 62/100\n",
      "1/1 [==============================] - 0s 2ms/step - loss: 7.0931 - mae: 7.0931\n",
      "Epoch 63/100\n",
      "1/1 [==============================] - 0s 2ms/step - loss: 7.0875 - mae: 7.0875\n",
      "Epoch 64/100\n",
      "1/1 [==============================] - 0s 2ms/step - loss: 7.0819 - mae: 7.0819\n",
      "Epoch 65/100\n",
      "1/1 [==============================] - 0s 2ms/step - loss: 7.0763 - mae: 7.0763\n",
      "Epoch 66/100\n",
      "1/1 [==============================] - 0s 3ms/step - loss: 7.0706 - mae: 7.0706\n",
      "Epoch 67/100\n",
      "1/1 [==============================] - 0s 2ms/step - loss: 7.0650 - mae: 7.0650\n",
      "Epoch 68/100\n",
      "1/1 [==============================] - 0s 2ms/step - loss: 7.0594 - mae: 7.0594\n",
      "Epoch 69/100\n",
      "1/1 [==============================] - 0s 2ms/step - loss: 7.0538 - mae: 7.0538\n",
      "Epoch 70/100\n",
      "1/1 [==============================] - 0s 3ms/step - loss: 7.0481 - mae: 7.0481\n",
      "Epoch 71/100\n",
      "1/1 [==============================] - 0s 4ms/step - loss: 7.0425 - mae: 7.0425\n",
      "Epoch 72/100\n",
      "1/1 [==============================] - 0s 3ms/step - loss: 7.0369 - mae: 7.0369\n",
      "Epoch 73/100\n",
      "1/1 [==============================] - 0s 4ms/step - loss: 7.0312 - mae: 7.0312\n",
      "Epoch 74/100\n",
      "1/1 [==============================] - 0s 4ms/step - loss: 7.0256 - mae: 7.0256\n",
      "Epoch 75/100\n",
      "1/1 [==============================] - 0s 4ms/step - loss: 7.0200 - mae: 7.0200\n",
      "Epoch 76/100\n",
      "1/1 [==============================] - 0s 3ms/step - loss: 7.0144 - mae: 7.0144\n",
      "Epoch 77/100\n",
      "1/1 [==============================] - 0s 2ms/step - loss: 7.0087 - mae: 7.0087\n",
      "Epoch 78/100\n",
      "1/1 [==============================] - 0s 2ms/step - loss: 7.0031 - mae: 7.0031\n",
      "Epoch 79/100\n",
      "1/1 [==============================] - 0s 2ms/step - loss: 6.9975 - mae: 6.9975\n",
      "Epoch 80/100\n",
      "1/1 [==============================] - 0s 2ms/step - loss: 6.9919 - mae: 6.9919\n",
      "Epoch 81/100\n",
      "1/1 [==============================] - 0s 2ms/step - loss: 6.9862 - mae: 6.9862\n",
      "Epoch 82/100\n",
      "1/1 [==============================] - 0s 2ms/step - loss: 6.9806 - mae: 6.9806\n",
      "Epoch 83/100\n",
      "1/1 [==============================] - 0s 2ms/step - loss: 6.9750 - mae: 6.9750\n",
      "Epoch 84/100\n",
      "1/1 [==============================] - 0s 2ms/step - loss: 6.9694 - mae: 6.9694\n",
      "Epoch 85/100\n",
      "1/1 [==============================] - 0s 3ms/step - loss: 6.9637 - mae: 6.9637\n",
      "Epoch 86/100\n",
      "1/1 [==============================] - 0s 3ms/step - loss: 6.9581 - mae: 6.9581\n",
      "Epoch 87/100\n",
      "1/1 [==============================] - 0s 2ms/step - loss: 6.9525 - mae: 6.9525\n",
      "Epoch 88/100\n",
      "1/1 [==============================] - 0s 2ms/step - loss: 6.9469 - mae: 6.9469\n",
      "Epoch 89/100\n",
      "1/1 [==============================] - 0s 2ms/step - loss: 6.9412 - mae: 6.9412\n",
      "Epoch 90/100\n",
      "1/1 [==============================] - 0s 3ms/step - loss: 6.9356 - mae: 6.9356\n",
      "Epoch 91/100\n",
      "1/1 [==============================] - 0s 2ms/step - loss: 6.9300 - mae: 6.9300\n",
      "Epoch 92/100\n",
      "1/1 [==============================] - 0s 2ms/step - loss: 6.9244 - mae: 6.9244\n",
      "Epoch 93/100\n",
      "1/1 [==============================] - 0s 2ms/step - loss: 6.9188 - mae: 6.9188\n",
      "Epoch 94/100\n",
      "1/1 [==============================] - 0s 2ms/step - loss: 6.9131 - mae: 6.9131\n",
      "Epoch 95/100\n",
      "1/1 [==============================] - 0s 2ms/step - loss: 6.9075 - mae: 6.9075\n",
      "Epoch 96/100\n",
      "1/1 [==============================] - 0s 2ms/step - loss: 6.9019 - mae: 6.9019\n",
      "Epoch 97/100\n",
      "1/1 [==============================] - 0s 3ms/step - loss: 6.8963 - mae: 6.8963\n",
      "Epoch 98/100\n",
      "1/1 [==============================] - 0s 2ms/step - loss: 6.8906 - mae: 6.8906\n",
      "Epoch 99/100\n",
      "1/1 [==============================] - 0s 2ms/step - loss: 6.8850 - mae: 6.8850\n",
      "Epoch 100/100\n",
      "1/1 [==============================] - 0s 2ms/step - loss: 6.8794 - mae: 6.8794\n"
     ]
    },
    {
     "data": {
      "text/plain": [
       "<keras.src.callbacks.History at 0x7fced01adf10>"
      ]
     },
     "execution_count": 15,
     "metadata": {},
     "output_type": "execute_result"
    }
   ],
   "source": [
    "model = tf.keras.Sequential([\n",
    "    tf.keras.layers.Dense(1)\n",
    "])\n",
    "\n",
    "model.compile(loss=tf.keras.losses.mae,\n",
    "             optimizer=tf.keras.optimizers.SGD(),\n",
    "             metrics=[\"mae\"])\n",
    "\n",
    "model.fit(tf.expand_dims(X, axis=-1), y, epochs=100)"
   ]
  },
  {
   "cell_type": "code",
   "execution_count": 16,
   "id": "c83c4d38",
   "metadata": {},
   "outputs": [
    {
     "data": {
      "text/plain": [
       "array([-7., -4., -1.,  2.,  5.,  8., 11., 14.])"
      ]
     },
     "execution_count": 16,
     "metadata": {},
     "output_type": "execute_result"
    }
   ],
   "source": [
    "X"
   ]
  },
  {
   "cell_type": "code",
   "execution_count": 17,
   "id": "56d16f46",
   "metadata": {},
   "outputs": [
    {
     "data": {
      "text/plain": [
       "<tf.Tensor: shape=(8,), dtype=float32, numpy=array([ 3.,  6.,  9., 12., 15., 18., 21., 24.], dtype=float32)>"
      ]
     },
     "execution_count": 17,
     "metadata": {},
     "output_type": "execute_result"
    }
   ],
   "source": [
    "y\n"
   ]
  },
  {
   "cell_type": "code",
   "execution_count": 18,
   "id": "9ad2f78c",
   "metadata": {},
   "outputs": [
    {
     "name": "stdout",
     "output_type": "stream",
     "text": [
      "1/1 [==============================] - 0s 36ms/step\n"
     ]
    },
    {
     "data": {
      "text/plain": [
       "array([[30.171055]], dtype=float32)"
      ]
     },
     "execution_count": 18,
     "metadata": {},
     "output_type": "execute_result"
    }
   ],
   "source": [
    "model.predict([17.0])"
   ]
  },
  {
   "cell_type": "code",
   "execution_count": 19,
   "id": "79cb7a44",
   "metadata": {},
   "outputs": [
    {
     "name": "stdout",
     "output_type": "stream",
     "text": [
      "Epoch 1/50\n",
      "1/1 [==============================] - 0s 274ms/step - loss: 12.4609 - mae: 12.4609\n",
      "Epoch 2/50\n",
      "1/1 [==============================] - 0s 2ms/step - loss: 11.3975 - mae: 11.3975\n",
      "Epoch 3/50\n",
      "1/1 [==============================] - 0s 2ms/step - loss: 10.3252 - mae: 10.3252\n",
      "Epoch 4/50\n",
      "1/1 [==============================] - 0s 2ms/step - loss: 9.2384 - mae: 9.2384\n",
      "Epoch 5/50\n",
      "1/1 [==============================] - 0s 3ms/step - loss: 8.1317 - mae: 8.1317\n",
      "Epoch 6/50\n",
      "1/1 [==============================] - 0s 3ms/step - loss: 6.9993 - mae: 6.9993\n",
      "Epoch 7/50\n",
      "1/1 [==============================] - 0s 2ms/step - loss: 7.1014 - mae: 7.1014\n",
      "Epoch 8/50\n",
      "1/1 [==============================] - 0s 3ms/step - loss: 7.5502 - mae: 7.5502\n",
      "Epoch 9/50\n",
      "1/1 [==============================] - 0s 3ms/step - loss: 7.8520 - mae: 7.8520\n",
      "Epoch 10/50\n",
      "1/1 [==============================] - 0s 2ms/step - loss: 7.7807 - mae: 7.7807\n",
      "Epoch 11/50\n",
      "1/1 [==============================] - 0s 2ms/step - loss: 7.4519 - mae: 7.4519\n",
      "Epoch 12/50\n",
      "1/1 [==============================] - 0s 3ms/step - loss: 7.0313 - mae: 7.0313\n",
      "Epoch 13/50\n",
      "1/1 [==============================] - 0s 3ms/step - loss: 6.6721 - mae: 6.6721\n",
      "Epoch 14/50\n",
      "1/1 [==============================] - 0s 2ms/step - loss: 6.2886 - mae: 6.2886\n",
      "Epoch 15/50\n",
      "1/1 [==============================] - 0s 3ms/step - loss: 6.1761 - mae: 6.1761\n",
      "Epoch 16/50\n",
      "1/1 [==============================] - 0s 3ms/step - loss: 6.2991 - mae: 6.2991\n",
      "Epoch 17/50\n",
      "1/1 [==============================] - 0s 4ms/step - loss: 6.4298 - mae: 6.4298\n",
      "Epoch 18/50\n",
      "1/1 [==============================] - 0s 2ms/step - loss: 6.4062 - mae: 6.4062\n",
      "Epoch 19/50\n",
      "1/1 [==============================] - 0s 3ms/step - loss: 6.2502 - mae: 6.2502\n",
      "Epoch 20/50\n",
      "1/1 [==============================] - 0s 3ms/step - loss: 5.9768 - mae: 5.9768\n",
      "Epoch 21/50\n",
      "1/1 [==============================] - 0s 3ms/step - loss: 5.5964 - mae: 5.5964\n",
      "Epoch 22/50\n",
      "1/1 [==============================] - 0s 3ms/step - loss: 5.4158 - mae: 5.4158\n",
      "Epoch 23/50\n",
      "1/1 [==============================] - 0s 3ms/step - loss: 5.3678 - mae: 5.3678\n",
      "Epoch 24/50\n",
      "1/1 [==============================] - 0s 3ms/step - loss: 5.3971 - mae: 5.3971\n",
      "Epoch 25/50\n",
      "1/1 [==============================] - 0s 2ms/step - loss: 5.3575 - mae: 5.3575\n",
      "Epoch 26/50\n",
      "1/1 [==============================] - 0s 3ms/step - loss: 5.2537 - mae: 5.2537\n",
      "Epoch 27/50\n",
      "1/1 [==============================] - 0s 3ms/step - loss: 5.0905 - mae: 5.0905\n",
      "Epoch 28/50\n",
      "1/1 [==============================] - 0s 3ms/step - loss: 4.8721 - mae: 4.8721\n",
      "Epoch 29/50\n",
      "1/1 [==============================] - 0s 3ms/step - loss: 4.6024 - mae: 4.6024\n",
      "Epoch 30/50\n",
      "1/1 [==============================] - 0s 2ms/step - loss: 4.2849 - mae: 4.2849\n",
      "Epoch 31/50\n",
      "1/1 [==============================] - 0s 2ms/step - loss: 4.1163 - mae: 4.1163\n",
      "Epoch 32/50\n",
      "1/1 [==============================] - 0s 2ms/step - loss: 4.0987 - mae: 4.0987\n",
      "Epoch 33/50\n",
      "1/1 [==============================] - 0s 2ms/step - loss: 4.0207 - mae: 4.0207\n",
      "Epoch 34/50\n",
      "1/1 [==============================] - 0s 2ms/step - loss: 3.7707 - mae: 3.7707\n",
      "Epoch 35/50\n",
      "1/1 [==============================] - 0s 2ms/step - loss: 3.3593 - mae: 3.3593\n",
      "Epoch 36/50\n",
      "1/1 [==============================] - 0s 2ms/step - loss: 3.0859 - mae: 3.0859\n",
      "Epoch 37/50\n",
      "1/1 [==============================] - 0s 2ms/step - loss: 2.9984 - mae: 2.9984\n",
      "Epoch 38/50\n",
      "1/1 [==============================] - 0s 2ms/step - loss: 2.8282 - mae: 2.8282\n",
      "Epoch 39/50\n",
      "1/1 [==============================] - 0s 2ms/step - loss: 2.5777 - mae: 2.5777\n",
      "Epoch 40/50\n",
      "1/1 [==============================] - 0s 2ms/step - loss: 2.2489 - mae: 2.2489\n",
      "Epoch 41/50\n",
      "1/1 [==============================] - 0s 2ms/step - loss: 1.8442 - mae: 1.8442\n",
      "Epoch 42/50\n",
      "1/1 [==============================] - 0s 2ms/step - loss: 1.5507 - mae: 1.5507\n",
      "Epoch 43/50\n",
      "1/1 [==============================] - 0s 2ms/step - loss: 1.3365 - mae: 1.3365\n",
      "Epoch 44/50\n",
      "1/1 [==============================] - 0s 3ms/step - loss: 0.8997 - mae: 0.8997\n",
      "Epoch 45/50\n",
      "1/1 [==============================] - 0s 3ms/step - loss: 0.6834 - mae: 0.6834\n",
      "Epoch 46/50\n",
      "1/1 [==============================] - 0s 2ms/step - loss: 0.5215 - mae: 0.5215\n",
      "Epoch 47/50\n",
      "1/1 [==============================] - 0s 3ms/step - loss: 0.2012 - mae: 0.2012\n",
      "Epoch 48/50\n",
      "1/1 [==============================] - 0s 2ms/step - loss: 0.9323 - mae: 0.9323\n",
      "Epoch 49/50\n",
      "1/1 [==============================] - 0s 3ms/step - loss: 1.2147 - mae: 1.2147\n",
      "Epoch 50/50\n",
      "1/1 [==============================] - 0s 3ms/step - loss: 1.0631 - mae: 1.0631\n"
     ]
    },
    {
     "data": {
      "text/plain": [
       "<keras.src.callbacks.History at 0x7fced039c410>"
      ]
     },
     "execution_count": 19,
     "metadata": {},
     "output_type": "execute_result"
    }
   ],
   "source": [
    "model = tf.keras.Sequential([\n",
    "    tf.keras.layers.Dense(100, activation=None),\n",
    "    #tf.keras.layers.Dense(50, activation=\"relu\"),\n",
    "    tf.keras.layers.Dense(1)\n",
    "])\n",
    "\n",
    "model.compile(loss=\"mae\",\n",
    "             optimizer=tf.keras.optimizers.Adam(learning_rate=0.01),\n",
    "             metrics=[\"mae\"])\n",
    "\n",
    "model.fit(tf.expand_dims(X, axis=-1), y, epochs=50)"
   ]
  },
  {
   "cell_type": "code",
   "execution_count": 20,
   "id": "379255d3",
   "metadata": {},
   "outputs": [
    {
     "name": "stdout",
     "output_type": "stream",
     "text": [
      "1/1 [==============================] - 0s 36ms/step\n"
     ]
    },
    {
     "data": {
      "text/plain": [
       "array([[26.66008]], dtype=float32)"
      ]
     },
     "execution_count": 20,
     "metadata": {},
     "output_type": "execute_result"
    }
   ],
   "source": [
    "model.predict([17.0])"
   ]
  },
  {
   "cell_type": "markdown",
   "id": "ad0ffae0",
   "metadata": {},
   "source": [
    "# Evaluating a model\n",
    "\n"
   ]
  },
  {
   "cell_type": "code",
   "execution_count": 21,
   "id": "52638f77",
   "metadata": {},
   "outputs": [
    {
     "data": {
      "text/plain": [
       "<tf.Tensor: shape=(50,), dtype=int32, numpy=\n",
       "array([-100,  -96,  -92,  -88,  -84,  -80,  -76,  -72,  -68,  -64,  -60,\n",
       "        -56,  -52,  -48,  -44,  -40,  -36,  -32,  -28,  -24,  -20,  -16,\n",
       "        -12,   -8,   -4,    0,    4,    8,   12,   16,   20,   24,   28,\n",
       "         32,   36,   40,   44,   48,   52,   56,   60,   64,   68,   72,\n",
       "         76,   80,   84,   88,   92,   96], dtype=int32)>"
      ]
     },
     "execution_count": 21,
     "metadata": {},
     "output_type": "execute_result"
    }
   ],
   "source": [
    "#Bigger Data\n",
    "\n",
    "X = tf.range(-100, 100, 4)\n",
    "X"
   ]
  },
  {
   "cell_type": "code",
   "execution_count": 22,
   "id": "5037cc41",
   "metadata": {},
   "outputs": [
    {
     "data": {
      "text/plain": [
       "<tf.Tensor: shape=(50,), dtype=int32, numpy=\n",
       "array([-90, -86, -82, -78, -74, -70, -66, -62, -58, -54, -50, -46, -42,\n",
       "       -38, -34, -30, -26, -22, -18, -14, -10,  -6,  -2,   2,   6,  10,\n",
       "        14,  18,  22,  26,  30,  34,  38,  42,  46,  50,  54,  58,  62,\n",
       "        66,  70,  74,  78,  82,  86,  90,  94,  98, 102, 106], dtype=int32)>"
      ]
     },
     "execution_count": 22,
     "metadata": {},
     "output_type": "execute_result"
    }
   ],
   "source": [
    "# make labels\n",
    "y = X + 10\n",
    "y"
   ]
  },
  {
   "cell_type": "code",
   "execution_count": 23,
   "id": "17e6598d",
   "metadata": {},
   "outputs": [],
   "source": [
    "#visualize\n",
    "import matplotlib.pyplot as plt\n"
   ]
  },
  {
   "cell_type": "code",
   "execution_count": 24,
   "id": "d384af56",
   "metadata": {},
   "outputs": [
    {
     "data": {
      "text/plain": [
       "<matplotlib.collections.PathCollection at 0x7fcec0640f90>"
      ]
     },
     "execution_count": 24,
     "metadata": {},
     "output_type": "execute_result"
    },
    {
     "data": {
      "image/png": "[encoded data removed]",
      "text/plain": [
       "<Figure size 640x480 with 1 Axes>"
      ]
     },
     "metadata": {},
     "output_type": "display_data"
    }
   ],
   "source": [
    "plt.scatter(X, y)"
   ]
  },
  {
   "cell_type": "markdown",
   "id": "1ce5e961",
   "metadata": {},
   "source": [
    "# 3 Sets"
   ]
  },
  {
   "cell_type": "code",
   "execution_count": 25,
   "id": "a4e16277",
   "metadata": {},
   "outputs": [
    {
     "data": {
      "text/plain": [
       "50"
      ]
     },
     "execution_count": 25,
     "metadata": {},
     "output_type": "execute_result"
    }
   ],
   "source": [
    "len(X)"
   ]
  },
  {
   "cell_type": "code",
   "execution_count": 26,
   "id": "2cbc8636",
   "metadata": {},
   "outputs": [
    {
     "data": {
      "text/plain": [
       "(40, 10)"
      ]
     },
     "execution_count": 26,
     "metadata": {},
     "output_type": "execute_result"
    }
   ],
   "source": [
    "# split the data into train and test data\n",
    "X_train = X[:40] \n",
    "y_train = y[:40]\n",
    "X_test = X[40:]\n",
    "y_test = y[40:]\n",
    "\n",
    "len(X_train), len(y_test)\n"
   ]
  },
  {
   "cell_type": "code",
   "execution_count": 27,
   "id": "f67073b8",
   "metadata": {},
   "outputs": [
    {
     "data": {
      "image/png": "[encoded data removed]",
      "text/plain": [
       "<Figure size 1000x700 with 1 Axes>"
      ]
     },
     "metadata": {},
     "output_type": "display_data"
    }
   ],
   "source": [
    "plt.figure(figsize=(10, 7))\n",
    "plt.scatter(X_train, y_train, c=\"b\", label=\"Training data\")\n",
    "plt.scatter(X_test, y_test, c=\"g\", label=\"Testing data\")\n",
    "plt.legend();"
   ]
  },
  {
   "cell_type": "code",
   "execution_count": 28,
   "id": "64dd284c",
   "metadata": {},
   "outputs": [
    {
     "name": "stdout",
     "output_type": "stream",
     "text": [
      "Epoch 1/50\n",
      "2/2 [==============================] - 0s 2ms/step - loss: 63.0607 - mae: 63.0607\n",
      "Epoch 2/50\n",
      "2/2 [==============================] - 0s 2ms/step - loss: 28.1362 - mae: 28.1362\n",
      "Epoch 3/50\n",
      "2/2 [==============================] - 0s 2ms/step - loss: 10.8550 - mae: 10.8550\n",
      "Epoch 4/50\n",
      "2/2 [==============================] - 0s 2ms/step - loss: 11.3145 - mae: 11.3145\n",
      "Epoch 5/50\n",
      "2/2 [==============================] - 0s 2ms/step - loss: 12.5619 - mae: 12.5619\n",
      "Epoch 6/50\n",
      "2/2 [==============================] - 0s 2ms/step - loss: 9.7192 - mae: 9.7192\n",
      "Epoch 7/50\n",
      "2/2 [==============================] - 0s 2ms/step - loss: 8.8141 - mae: 8.8141\n",
      "Epoch 8/50\n",
      "2/2 [==============================] - 0s 3ms/step - loss: 9.0803 - mae: 9.0803\n",
      "Epoch 9/50\n",
      "2/2 [==============================] - 0s 2ms/step - loss: 19.3314 - mae: 19.3314\n",
      "Epoch 10/50\n",
      "2/2 [==============================] - 0s 2ms/step - loss: 10.4483 - mae: 10.4483\n",
      "Epoch 11/50\n",
      "2/2 [==============================] - 0s 2ms/step - loss: 8.5379 - mae: 8.5379\n",
      "Epoch 12/50\n",
      "2/2 [==============================] - 0s 2ms/step - loss: 10.9414 - mae: 10.9414\n",
      "Epoch 13/50\n",
      "2/2 [==============================] - 0s 2ms/step - loss: 7.5771 - mae: 7.5771\n",
      "Epoch 14/50\n",
      "2/2 [==============================] - 0s 2ms/step - loss: 9.9934 - mae: 9.9934\n",
      "Epoch 15/50\n",
      "2/2 [==============================] - 0s 2ms/step - loss: 9.3953 - mae: 9.3953\n",
      "Epoch 16/50\n",
      "2/2 [==============================] - 0s 2ms/step - loss: 8.5782 - mae: 8.5782\n",
      "Epoch 17/50\n",
      "2/2 [==============================] - 0s 3ms/step - loss: 13.7105 - mae: 13.7105\n",
      "Epoch 18/50\n",
      "2/2 [==============================] - 0s 2ms/step - loss: 11.5542 - mae: 11.5542\n",
      "Epoch 19/50\n",
      "2/2 [==============================] - 0s 2ms/step - loss: 17.8300 - mae: 17.8300\n",
      "Epoch 20/50\n",
      "2/2 [==============================] - 0s 2ms/step - loss: 14.9653 - mae: 14.9653\n",
      "Epoch 21/50\n",
      "2/2 [==============================] - 0s 2ms/step - loss: 10.8501 - mae: 10.8501\n",
      "Epoch 22/50\n",
      "2/2 [==============================] - 0s 2ms/step - loss: 8.6007 - mae: 8.6007\n",
      "Epoch 23/50\n",
      "2/2 [==============================] - 0s 2ms/step - loss: 9.7278 - mae: 9.7278\n",
      "Epoch 24/50\n",
      "2/2 [==============================] - 0s 2ms/step - loss: 10.9608 - mae: 10.9608\n",
      "Epoch 25/50\n",
      "2/2 [==============================] - 0s 2ms/step - loss: 9.1700 - mae: 9.1700\n",
      "Epoch 26/50\n",
      "2/2 [==============================] - 0s 2ms/step - loss: 13.1978 - mae: 13.1978\n",
      "Epoch 27/50\n",
      "2/2 [==============================] - 0s 2ms/step - loss: 10.6724 - mae: 10.6724\n",
      "Epoch 28/50\n",
      "2/2 [==============================] - 0s 2ms/step - loss: 12.8903 - mae: 12.8903\n",
      "Epoch 29/50\n",
      "2/2 [==============================] - 0s 2ms/step - loss: 9.5201 - mae: 9.5201\n",
      "Epoch 30/50\n",
      "2/2 [==============================] - 0s 2ms/step - loss: 16.4091 - mae: 16.4091\n",
      "Epoch 31/50\n",
      "2/2 [==============================] - 0s 2ms/step - loss: 23.5898 - mae: 23.5898\n",
      "Epoch 32/50\n",
      "2/2 [==============================] - 0s 2ms/step - loss: 7.6226 - mae: 7.6226\n",
      "Epoch 33/50\n",
      "2/2 [==============================] - 0s 2ms/step - loss: 9.3198 - mae: 9.3198\n",
      "Epoch 34/50\n",
      "2/2 [==============================] - 0s 3ms/step - loss: 13.6974 - mae: 13.6974\n",
      "Epoch 35/50\n",
      "2/2 [==============================] - 0s 2ms/step - loss: 11.1617 - mae: 11.1617\n",
      "Epoch 36/50\n",
      "2/2 [==============================] - 0s 2ms/step - loss: 13.3779 - mae: 13.3779\n",
      "Epoch 37/50\n",
      "2/2 [==============================] - 0s 2ms/step - loss: 9.4673 - mae: 9.4673\n",
      "Epoch 38/50\n",
      "2/2 [==============================] - 0s 2ms/step - loss: 10.1214 - mae: 10.1214\n",
      "Epoch 39/50\n",
      "2/2 [==============================] - 0s 2ms/step - loss: 10.2137 - mae: 10.2137\n",
      "Epoch 40/50\n",
      "2/2 [==============================] - 0s 2ms/step - loss: 10.9559 - mae: 10.9559\n",
      "Epoch 41/50\n",
      "2/2 [==============================] - 0s 2ms/step - loss: 7.9332 - mae: 7.9332\n",
      "Epoch 42/50\n",
      "2/2 [==============================] - 0s 2ms/step - loss: 10.5994 - mae: 10.5994\n",
      "Epoch 43/50\n",
      "2/2 [==============================] - 0s 2ms/step - loss: 7.2222 - mae: 7.2222\n",
      "Epoch 44/50\n",
      "2/2 [==============================] - 0s 2ms/step - loss: 8.0103 - mae: 8.0103\n",
      "Epoch 45/50\n",
      "2/2 [==============================] - 0s 2ms/step - loss: 9.8052 - mae: 9.8052\n",
      "Epoch 46/50\n",
      "2/2 [==============================] - 0s 2ms/step - loss: 8.8814 - mae: 8.8814\n",
      "Epoch 47/50\n",
      "2/2 [==============================] - 0s 2ms/step - loss: 7.5838 - mae: 7.5838\n",
      "Epoch 48/50\n",
      "2/2 [==============================] - 0s 2ms/step - loss: 8.5796 - mae: 8.5796\n",
      "Epoch 49/50\n",
      "2/2 [==============================] - 0s 2ms/step - loss: 10.0114 - mae: 10.0114\n",
      "Epoch 50/50\n",
      "2/2 [==============================] - 0s 3ms/step - loss: 9.0305 - mae: 9.0305\n"
     ]
    },
    {
     "data": {
      "text/plain": [
       "<keras.src.callbacks.History at 0x7fcec01914d0>"
      ]
     },
     "execution_count": 28,
     "metadata": {},
     "output_type": "execute_result"
    }
   ],
   "source": [
    "model = tf.keras.Sequential([\n",
    "    tf.keras.layers.Dense(1)\n",
    "])\n",
    "\n",
    "model.compile(loss=tf.losses.mae,\n",
    "             optimizer=tf.keras.optimizers.SGD(),\n",
    "             metrics=[\"mae\"])\n",
    "\n",
    "model.fit(tf.expand_dims(X_train, axis=-1), y_train, epochs=50)"
   ]
  },
  {
   "cell_type": "code",
   "execution_count": 29,
   "id": "ce2c06f7",
   "metadata": {},
   "outputs": [
    {
     "name": "stdout",
     "output_type": "stream",
     "text": [
      "Model: \"sequential_3\"\n",
      "_________________________________________________________________\n",
      " Layer (type)                Output Shape              Param #   \n",
      "=================================================================\n",
      " dense_4 (Dense)             (None, 1)                 2         \n",
      "                                                                 \n",
      "=================================================================\n",
      "Total params: 2 (8.00 Byte)\n",
      "Trainable params: 2 (8.00 Byte)\n",
      "Non-trainable params: 0 (0.00 Byte)\n",
      "_________________________________________________________________\n"
     ]
    }
   ],
   "source": [
    "model.summary()"
   ]
  },
  {
   "cell_type": "code",
   "execution_count": 30,
   "id": "19ec0627",
   "metadata": {},
   "outputs": [],
   "source": [
    "tf.random.set_seed(42)\n",
    "\n",
    "model = tf.keras.Sequential([\n",
    "    tf.keras.layers.Dense(10, input_shape=[1], name=\"input_layer\"),\n",
    "    tf.keras.layers.Dense(1, name=\"output_layer\")\n",
    "],name=\"TensorFlow_regression\")\n",
    "\n",
    "model.compile(loss=tf.keras.losses.mae,\n",
    "             optimizer=tf.keras.optimizers.SGD(),\n",
    "             metrics=[\"mae\"])"
   ]
  },
  {
   "cell_type": "code",
   "execution_count": 31,
   "id": "27c6fb52",
   "metadata": {},
   "outputs": [
    {
     "name": "stdout",
     "output_type": "stream",
     "text": [
      "Model: \"TensorFlow_regression\"\n",
      "_________________________________________________________________\n",
      " Layer (type)                Output Shape              Param #   \n",
      "=================================================================\n",
      " input_layer (Dense)         (None, 10)                20        \n",
      "                                                                 \n",
      " output_layer (Dense)        (None, 1)                 11        \n",
      "                                                                 \n",
      "=================================================================\n",
      "Total params: 31 (124.00 Byte)\n",
      "Trainable params: 31 (124.00 Byte)\n",
      "Non-trainable params: 0 (0.00 Byte)\n",
      "_________________________________________________________________\n"
     ]
    }
   ],
   "source": [
    "model.summary()"
   ]
  },
  {
   "cell_type": "code",
   "execution_count": 32,
   "id": "4f7c3bb0",
   "metadata": {},
   "outputs": [
    {
     "name": "stdout",
     "output_type": "stream",
     "text": [
      "Epoch 1/50\n",
      "2/2 [==============================] - 0s 4ms/step - loss: 44.6884 - mae: 44.6884\n",
      "Epoch 2/50\n",
      "2/2 [==============================] - 0s 2ms/step - loss: 26.1055 - mae: 26.1055\n",
      "Epoch 3/50\n",
      "2/2 [==============================] - 0s 2ms/step - loss: 31.7849 - mae: 31.7849\n",
      "Epoch 4/50\n",
      "2/2 [==============================] - 0s 2ms/step - loss: 25.1277 - mae: 25.1277\n",
      "Epoch 5/50\n",
      "2/2 [==============================] - 0s 2ms/step - loss: 14.8583 - mae: 14.8583\n",
      "Epoch 6/50\n",
      "2/2 [==============================] - 0s 2ms/step - loss: 11.8185 - mae: 11.8185\n",
      "Epoch 7/50\n",
      "2/2 [==============================] - 0s 2ms/step - loss: 11.1468 - mae: 11.1468\n",
      "Epoch 8/50\n",
      "2/2 [==============================] - 0s 2ms/step - loss: 11.0739 - mae: 11.0739\n",
      "Epoch 9/50\n",
      "2/2 [==============================] - 0s 2ms/step - loss: 40.3201 - mae: 40.3201\n",
      "Epoch 10/50\n",
      "2/2 [==============================] - 0s 2ms/step - loss: 27.7338 - mae: 27.7338\n",
      "Epoch 11/50\n",
      "2/2 [==============================] - 0s 2ms/step - loss: 10.2421 - mae: 10.2421\n",
      "Epoch 12/50\n",
      "2/2 [==============================] - 0s 2ms/step - loss: 25.3231 - mae: 25.3231\n",
      "Epoch 13/50\n",
      "2/2 [==============================] - 0s 2ms/step - loss: 16.9277 - mae: 16.9277\n",
      "Epoch 14/50\n",
      "2/2 [==============================] - 0s 2ms/step - loss: 25.8154 - mae: 25.8154\n",
      "Epoch 15/50\n",
      "2/2 [==============================] - 0s 2ms/step - loss: 17.6500 - mae: 17.6500\n",
      "Epoch 16/50\n",
      "2/2 [==============================] - 0s 3ms/step - loss: 10.0667 - mae: 10.0667\n",
      "Epoch 17/50\n",
      "2/2 [==============================] - 0s 2ms/step - loss: 18.6563 - mae: 18.6563\n",
      "Epoch 18/50\n",
      "2/2 [==============================] - 0s 2ms/step - loss: 11.7835 - mae: 11.7835\n",
      "Epoch 19/50\n",
      "2/2 [==============================] - 0s 2ms/step - loss: 16.4990 - mae: 16.4990\n",
      "Epoch 20/50\n",
      "2/2 [==============================] - 0s 2ms/step - loss: 8.2331 - mae: 8.2331\n",
      "Epoch 21/50\n",
      "2/2 [==============================] - 0s 2ms/step - loss: 14.4093 - mae: 14.4093\n",
      "Epoch 22/50\n",
      "2/2 [==============================] - 0s 2ms/step - loss: 12.8241 - mae: 12.8241\n",
      "Epoch 23/50\n",
      "2/2 [==============================] - 0s 2ms/step - loss: 15.4594 - mae: 15.4594\n",
      "Epoch 24/50\n",
      "2/2 [==============================] - 0s 2ms/step - loss: 15.2489 - mae: 15.2489\n",
      "Epoch 25/50\n",
      "2/2 [==============================] - 0s 2ms/step - loss: 14.3254 - mae: 14.3254\n",
      "Epoch 26/50\n",
      "2/2 [==============================] - 0s 2ms/step - loss: 19.3221 - mae: 19.3221\n",
      "Epoch 27/50\n",
      "2/2 [==============================] - 0s 2ms/step - loss: 11.4569 - mae: 11.4569\n",
      "Epoch 28/50\n",
      "2/2 [==============================] - 0s 2ms/step - loss: 29.1707 - mae: 29.1707\n",
      "Epoch 29/50\n",
      "2/2 [==============================] - 0s 2ms/step - loss: 9.2455 - mae: 9.2455\n",
      "Epoch 30/50\n",
      "2/2 [==============================] - 0s 2ms/step - loss: 29.8931 - mae: 29.8931\n",
      "Epoch 31/50\n",
      "2/2 [==============================] - 0s 2ms/step - loss: 54.2498 - mae: 54.2498\n",
      "Epoch 32/50\n",
      "2/2 [==============================] - 0s 3ms/step - loss: 9.5772 - mae: 9.5772\n",
      "Epoch 33/50\n",
      "2/2 [==============================] - 0s 2ms/step - loss: 12.1714 - mae: 12.1714\n",
      "Epoch 34/50\n",
      "2/2 [==============================] - 0s 2ms/step - loss: 23.9669 - mae: 23.9669\n",
      "Epoch 35/50\n",
      "2/2 [==============================] - 0s 2ms/step - loss: 12.6082 - mae: 12.6082\n",
      "Epoch 36/50\n",
      "2/2 [==============================] - 0s 2ms/step - loss: 21.5089 - mae: 21.5089\n",
      "Epoch 37/50\n",
      "2/2 [==============================] - 0s 2ms/step - loss: 11.3893 - mae: 11.3893\n",
      "Epoch 38/50\n",
      "2/2 [==============================] - 0s 2ms/step - loss: 13.4879 - mae: 13.4879\n",
      "Epoch 39/50\n",
      "2/2 [==============================] - 0s 2ms/step - loss: 10.7983 - mae: 10.7983\n",
      "Epoch 40/50\n",
      "2/2 [==============================] - 0s 2ms/step - loss: 16.6410 - mae: 16.6410\n",
      "Epoch 41/50\n",
      "2/2 [==============================] - 0s 2ms/step - loss: 10.9896 - mae: 10.9896\n",
      "Epoch 42/50\n",
      "2/2 [==============================] - 0s 2ms/step - loss: 9.3126 - mae: 9.3126\n",
      "Epoch 43/50\n",
      "2/2 [==============================] - 0s 2ms/step - loss: 9.5929 - mae: 9.5929\n",
      "Epoch 44/50\n",
      "2/2 [==============================] - 0s 2ms/step - loss: 28.0780 - mae: 28.0780\n",
      "Epoch 45/50\n",
      "2/2 [==============================] - 0s 2ms/step - loss: 11.3010 - mae: 11.3010\n",
      "Epoch 46/50\n",
      "2/2 [==============================] - 0s 2ms/step - loss: 14.1215 - mae: 14.1215\n",
      "Epoch 47/50\n",
      "2/2 [==============================] - 0s 4ms/step - loss: 13.4795 - mae: 13.4795\n",
      "Epoch 48/50\n",
      "2/2 [==============================] - 0s 2ms/step - loss: 17.3051 - mae: 17.3051\n",
      "Epoch 49/50\n",
      "2/2 [==============================] - 0s 2ms/step - loss: 9.5309 - mae: 9.5309\n",
      "Epoch 50/50\n",
      "2/2 [==============================] - 0s 2ms/step - loss: 13.7386 - mae: 13.7386\n"
     ]
    },
    {
     "data": {
      "text/plain": [
       "<keras.src.callbacks.History at 0x7fcec018ca10>"
      ]
     },
     "execution_count": 32,
     "metadata": {},
     "output_type": "execute_result"
    }
   ],
   "source": [
    "model.fit(tf.expand_dims(X_train,axis=-1),y_train, epochs=50, verbose=1)"
   ]
  },
  {
   "cell_type": "code",
   "execution_count": 33,
   "id": "3c26f632",
   "metadata": {},
   "outputs": [
    {
     "name": "stdout",
     "output_type": "stream",
     "text": [
      "You must install pydot (`pip install pydot`) and install graphviz (see instructions at https://graphviz.gitlab.io/download/) for plot_model to work.\n"
     ]
    }
   ],
   "source": [
    "from tensorflow.keras.utils import plot_model\n",
    "\n",
    "plot_model(model=model, show_shapes=True)"
   ]
  },
  {
   "cell_type": "markdown",
   "id": "52a254cf",
   "metadata": {},
   "source": [
    "## Visualizing Model's prediction"
   ]
  },
  {
   "cell_type": "code",
   "execution_count": 34,
   "id": "458a4662",
   "metadata": {},
   "outputs": [
    {
     "name": "stdout",
     "output_type": "stream",
     "text": [
      "1/1 [==============================] - 0s 27ms/step\n"
     ]
    },
    {
     "data": {
      "text/plain": [
       "array([[ 65.440216],\n",
       "       [ 69.74575 ],\n",
       "       [ 74.05127 ],\n",
       "       [ 78.356804],\n",
       "       [ 82.66234 ],\n",
       "       [ 86.96787 ],\n",
       "       [ 91.27341 ],\n",
       "       [ 95.57893 ],\n",
       "       [ 99.88447 ],\n",
       "       [104.189995]], dtype=float32)"
      ]
     },
     "execution_count": 34,
     "metadata": {},
     "output_type": "execute_result"
    }
   ],
   "source": [
    "y_pred = model.predict(X_test)\n",
    "y_pred"
   ]
  },
  {
   "cell_type": "code",
   "execution_count": 35,
   "id": "1da34b69",
   "metadata": {},
   "outputs": [
    {
     "data": {
      "text/plain": [
       "<tf.Tensor: shape=(10,), dtype=int32, numpy=array([ 70,  74,  78,  82,  86,  90,  94,  98, 102, 106], dtype=int32)>"
      ]
     },
     "execution_count": 35,
     "metadata": {},
     "output_type": "execute_result"
    }
   ],
   "source": [
    "y_test"
   ]
  },
  {
   "cell_type": "code",
   "execution_count": 36,
   "id": "78a57aa9",
   "metadata": {},
   "outputs": [],
   "source": [
    "def plot_predictions(train_data=X_train,\n",
    "                    train_labels=y_train,\n",
    "                    test_data=X_test,\n",
    "                     test_labels=y_test,\n",
    "                    predictions = y_pred,\n",
    "                    ):\n",
    "    plt.figure(figsize=(10, 7))\n",
    "\n",
    "    plt.scatter(train_data, train_labels, c=\"b\", label=\"Training Data\")\n",
    "    plt.scatter(test_data, test_labels, c=\"g\", label=\"Testing Data\")\n",
    "    plt.scatter(test_data, predictions, c=\"r\", label=\"Predictions\")\n",
    "    plt.legend();"
   ]
  },
  {
   "cell_type": "code",
   "execution_count": 37,
   "id": "476031a3",
   "metadata": {},
   "outputs": [
    {
     "data": {
      "image/png": "[encoded data removed]",
      "text/plain": [
       "<Figure size 1000x700 with 1 Axes>"
      ]
     },
     "metadata": {},
     "output_type": "display_data"
    }
   ],
   "source": [
    "plot_predictions(train_data=X_train,\n",
    "                train_labels=y_train,\n",
    "                test_data=X_test,\n",
    "                test_labels=y_test,\n",
    "                predictions=y_pred,)"
   ]
  },
  {
   "cell_type": "markdown",
   "id": "359aac7e",
   "metadata": {},
   "source": [
    "### Evaluating model's predictions with regression evaluation metrics\n",
    "\n",
    "2 Main metrics:\n",
    "    1) MAE - Mean Absolute Error, \"On avg how wrong is each of my model's predictions\"\n",
    "    2) MSE - Mean Squared Error, \"Square the average errors\""
   ]
  },
  {
   "cell_type": "code",
   "execution_count": 38,
   "id": "d1a12823",
   "metadata": {},
   "outputs": [
    {
     "name": "stdout",
     "output_type": "stream",
     "text": [
      "1/1 [==============================] - 0s 67ms/step - loss: 3.1849 - mae: 3.1849\n"
     ]
    },
    {
     "data": {
      "text/plain": [
       "[3.184893846511841, 3.184893846511841]"
      ]
     },
     "execution_count": 38,
     "metadata": {},
     "output_type": "execute_result"
    }
   ],
   "source": [
    "#Evaluate the model on the test\n",
    "model.evaluate(X_test, y_test)"
   ]
  },
  {
   "cell_type": "code",
   "execution_count": 39,
   "id": "77d54ace",
   "metadata": {},
   "outputs": [
    {
     "data": {
      "text/plain": [
       "<tf.Tensor: shape=(), dtype=float32, numpy=3.1848946>"
      ]
     },
     "execution_count": 39,
     "metadata": {},
     "output_type": "execute_result"
    }
   ],
   "source": [
    "# Calc MAE\n",
    "\n",
    "mae = tf.metrics.mean_absolute_error(y_true=y_test, y_pred=tf.squeeze(y_pred))\n",
    "mae"
   ]
  },
  {
   "cell_type": "code",
   "execution_count": 40,
   "id": "50b0f8f5",
   "metadata": {},
   "outputs": [
    {
     "data": {
      "text/plain": [
       "<tf.Tensor: shape=(), dtype=float32, numpy=10.913687>"
      ]
     },
     "execution_count": 40,
     "metadata": {},
     "output_type": "execute_result"
    }
   ],
   "source": [
    "# calc MSE\n",
    "\n",
    "mse = tf.metrics.mean_squared_error(y_true=y_test, y_pred=tf.squeeze(y_pred))\n",
    "mse\n"
   ]
  },
  {
   "cell_type": "code",
   "execution_count": 41,
   "id": "50572acf",
   "metadata": {},
   "outputs": [
    {
     "data": {
      "text/plain": [
       "<tf.Tensor: shape=(10,), dtype=float32, numpy=\n",
       "array([ 65.440216,  69.74575 ,  74.05127 ,  78.356804,  82.66234 ,\n",
       "        86.96787 ,  91.27341 ,  95.57893 ,  99.88447 , 104.189995],\n",
       "      dtype=float32)>"
      ]
     },
     "execution_count": 41,
     "metadata": {},
     "output_type": "execute_result"
    }
   ],
   "source": [
    "#RESHAPE REQ\n",
    "tf.squeeze(y_pred)"
   ]
  },
  {
   "cell_type": "code",
   "execution_count": 42,
   "id": "25eab285",
   "metadata": {},
   "outputs": [
    {
     "data": {
      "text/plain": [
       "<tf.Tensor: shape=(10,), dtype=int32, numpy=array([ 70,  74,  78,  82,  86,  90,  94,  98, 102, 106], dtype=int32)>"
      ]
     },
     "execution_count": 42,
     "metadata": {},
     "output_type": "execute_result"
    }
   ],
   "source": [
    "y_test"
   ]
  },
  {
   "cell_type": "code",
   "execution_count": 43,
   "id": "c234fa7d",
   "metadata": {},
   "outputs": [],
   "source": [
    "# Functions to reuse MAE and MSE\n",
    "\n",
    "def mae(y_true, y_pred):\n",
    "    mae = tf.metrics.mean_absolute_error(y_true=y_true, y_pred=tf.squeeze(y_pred))\n",
    "    return mae\n",
    "\n",
    "def mse(y_true, y_pred):\n",
    "    mse = tf.metrics.mean_squared_error(y_true=y_true, y_pred=tf.squeeze(y_pred))\n",
    "    return mse"
   ]
  },
  {
   "cell_type": "markdown",
   "id": "819c0ebd",
   "metadata": {},
   "source": [
    "### Modelling expriments\n",
    "\n",
    "1) 'model_1' - same 1 layer, trained with 100 epoch\n",
    "2) 'model_2' - 2 layers, 100 epochs\n",
    "3) 'model_3' - 3 layers, 40 epochs, Adam Optimizer (lr=0.1)"
   ]
  },
  {
   "cell_type": "code",
   "execution_count": 44,
   "id": "4991169e",
   "metadata": {},
   "outputs": [
    {
     "data": {
      "text/plain": [
       "(<tf.Tensor: shape=(40,), dtype=int32, numpy=\n",
       " array([-100,  -96,  -92,  -88,  -84,  -80,  -76,  -72,  -68,  -64,  -60,\n",
       "         -56,  -52,  -48,  -44,  -40,  -36,  -32,  -28,  -24,  -20,  -16,\n",
       "         -12,   -8,   -4,    0,    4,    8,   12,   16,   20,   24,   28,\n",
       "          32,   36,   40,   44,   48,   52,   56], dtype=int32)>,\n",
       " <tf.Tensor: shape=(40,), dtype=int32, numpy=\n",
       " array([-90, -86, -82, -78, -74, -70, -66, -62, -58, -54, -50, -46, -42,\n",
       "        -38, -34, -30, -26, -22, -18, -14, -10,  -6,  -2,   2,   6,  10,\n",
       "         14,  18,  22,  26,  30,  34,  38,  42,  46,  50,  54,  58,  62,\n",
       "         66], dtype=int32)>)"
      ]
     },
     "execution_count": 44,
     "metadata": {},
     "output_type": "execute_result"
    }
   ],
   "source": [
    "X_train, y_train"
   ]
  },
  {
   "cell_type": "code",
   "execution_count": 45,
   "id": "2c507728",
   "metadata": {},
   "outputs": [
    {
     "name": "stdout",
     "output_type": "stream",
     "text": [
      "Epoch 1/100\n",
      "2/2 [==============================] - 0s 4ms/step - loss: 67.8389 - mae: 67.8389\n",
      "Epoch 2/100\n",
      "2/2 [==============================] - 0s 2ms/step - loss: 32.6854 - mae: 32.6854\n",
      "Epoch 3/100\n",
      "2/2 [==============================] - 0s 2ms/step - loss: 9.5991 - mae: 9.5991\n",
      "Epoch 4/100\n",
      "2/2 [==============================] - 0s 2ms/step - loss: 11.6898 - mae: 11.6898\n",
      "Epoch 5/100\n",
      "2/2 [==============================] - 0s 2ms/step - loss: 10.7593 - mae: 10.7593\n",
      "Epoch 6/100\n",
      "2/2 [==============================] - 0s 2ms/step - loss: 9.9536 - mae: 9.9536\n",
      "Epoch 7/100\n",
      "2/2 [==============================] - 0s 2ms/step - loss: 9.0103 - mae: 9.0103\n",
      "Epoch 8/100\n",
      "2/2 [==============================] - 0s 2ms/step - loss: 9.0985 - mae: 9.0985\n",
      "Epoch 9/100\n",
      "2/2 [==============================] - 0s 2ms/step - loss: 19.8192 - mae: 19.8192\n",
      "Epoch 10/100\n",
      "2/2 [==============================] - 0s 2ms/step - loss: 10.7209 - mae: 10.7209\n",
      "Epoch 11/100\n",
      "2/2 [==============================] - 0s 2ms/step - loss: 8.6471 - mae: 8.6471\n",
      "Epoch 12/100\n",
      "2/2 [==============================] - 0s 2ms/step - loss: 9.6359 - mae: 9.6359\n",
      "Epoch 13/100\n",
      "2/2 [==============================] - 0s 2ms/step - loss: 12.9174 - mae: 12.9174\n",
      "Epoch 14/100\n",
      "2/2 [==============================] - 0s 2ms/step - loss: 14.2832 - mae: 14.2832\n",
      "Epoch 15/100\n",
      "2/2 [==============================] - 0s 2ms/step - loss: 11.6918 - mae: 11.6918\n",
      "Epoch 16/100\n",
      "2/2 [==============================] - 0s 2ms/step - loss: 8.4773 - mae: 8.4773\n",
      "Epoch 17/100\n",
      "2/2 [==============================] - 0s 2ms/step - loss: 13.4700 - mae: 13.4700\n",
      "Epoch 18/100\n",
      "2/2 [==============================] - 0s 2ms/step - loss: 11.2519 - mae: 11.2519\n",
      "Epoch 19/100\n",
      "2/2 [==============================] - 0s 2ms/step - loss: 18.3033 - mae: 18.3033\n",
      "Epoch 20/100\n",
      "2/2 [==============================] - 0s 2ms/step - loss: 15.0105 - mae: 15.0105\n",
      "Epoch 21/100\n",
      "2/2 [==============================] - 0s 2ms/step - loss: 10.8869 - mae: 10.8869\n",
      "Epoch 22/100\n",
      "2/2 [==============================] - 0s 2ms/step - loss: 8.6415 - mae: 8.6415\n",
      "Epoch 23/100\n",
      "2/2 [==============================] - 0s 2ms/step - loss: 9.7091 - mae: 9.7091\n",
      "Epoch 24/100\n",
      "2/2 [==============================] - 0s 2ms/step - loss: 8.6017 - mae: 8.6017\n",
      "Epoch 25/100\n",
      "2/2 [==============================] - 0s 2ms/step - loss: 11.6146 - mae: 11.6146\n",
      "Epoch 26/100\n",
      "2/2 [==============================] - 0s 2ms/step - loss: 15.1469 - mae: 15.1469\n",
      "Epoch 27/100\n",
      "2/2 [==============================] - 0s 2ms/step - loss: 11.8951 - mae: 11.8951\n",
      "Epoch 28/100\n",
      "2/2 [==============================] - 0s 2ms/step - loss: 13.9389 - mae: 13.9389\n",
      "Epoch 29/100\n",
      "2/2 [==============================] - 0s 2ms/step - loss: 9.6249 - mae: 9.6249\n",
      "Epoch 30/100\n",
      "2/2 [==============================] - 0s 2ms/step - loss: 17.1934 - mae: 17.1934\n",
      "Epoch 31/100\n",
      "2/2 [==============================] - 0s 2ms/step - loss: 22.8827 - mae: 22.8827\n",
      "Epoch 32/100\n",
      "2/2 [==============================] - 0s 2ms/step - loss: 7.9341 - mae: 7.9341\n",
      "Epoch 33/100\n",
      "2/2 [==============================] - 0s 2ms/step - loss: 14.1447 - mae: 14.1447\n",
      "Epoch 34/100\n",
      "2/2 [==============================] - 0s 2ms/step - loss: 12.3907 - mae: 12.3907\n",
      "Epoch 35/100\n",
      "2/2 [==============================] - 0s 2ms/step - loss: 8.2790 - mae: 8.2790\n",
      "Epoch 36/100\n",
      "2/2 [==============================] - 0s 2ms/step - loss: 10.5002 - mae: 10.5002\n",
      "Epoch 37/100\n",
      "2/2 [==============================] - 0s 2ms/step - loss: 10.1450 - mae: 10.1450\n",
      "Epoch 38/100\n",
      "2/2 [==============================] - 0s 2ms/step - loss: 11.3400 - mae: 11.3400\n",
      "Epoch 39/100\n",
      "2/2 [==============================] - 0s 2ms/step - loss: 14.7683 - mae: 14.7683\n",
      "Epoch 40/100\n",
      "2/2 [==============================] - 0s 2ms/step - loss: 12.8985 - mae: 12.8985\n",
      "Epoch 41/100\n",
      "2/2 [==============================] - 0s 2ms/step - loss: 9.2891 - mae: 9.2891\n",
      "Epoch 42/100\n",
      "2/2 [==============================] - 0s 2ms/step - loss: 11.0212 - mae: 11.0212\n",
      "Epoch 43/100\n",
      "2/2 [==============================] - 0s 2ms/step - loss: 8.3506 - mae: 8.3506\n",
      "Epoch 44/100\n",
      "2/2 [==============================] - 0s 2ms/step - loss: 13.0600 - mae: 13.0600\n",
      "Epoch 45/100\n",
      "2/2 [==============================] - 0s 2ms/step - loss: 13.6888 - mae: 13.6888\n",
      "Epoch 46/100\n",
      "2/2 [==============================] - 0s 2ms/step - loss: 8.3031 - mae: 8.3031\n",
      "Epoch 47/100\n",
      "2/2 [==============================] - 0s 2ms/step - loss: 8.7411 - mae: 8.7411\n",
      "Epoch 48/100\n",
      "2/2 [==============================] - 0s 2ms/step - loss: 10.0413 - mae: 10.0413\n",
      "Epoch 49/100\n",
      "2/2 [==============================] - 0s 2ms/step - loss: 8.5260 - mae: 8.5260\n",
      "Epoch 50/100\n",
      "2/2 [==============================] - 0s 2ms/step - loss: 9.0306 - mae: 9.0306\n",
      "Epoch 51/100\n",
      "2/2 [==============================] - 0s 2ms/step - loss: 9.3907 - mae: 9.3907\n",
      "Epoch 52/100\n",
      "2/2 [==============================] - 0s 2ms/step - loss: 14.1771 - mae: 14.1771\n",
      "Epoch 53/100\n",
      "2/2 [==============================] - 0s 2ms/step - loss: 14.8989 - mae: 14.8989\n",
      "Epoch 54/100\n",
      "2/2 [==============================] - 0s 2ms/step - loss: 14.8375 - mae: 14.8375\n",
      "Epoch 55/100\n",
      "2/2 [==============================] - 0s 2ms/step - loss: 12.6206 - mae: 12.6206\n",
      "Epoch 56/100\n",
      "2/2 [==============================] - 0s 2ms/step - loss: 7.6117 - mae: 7.6117\n",
      "Epoch 57/100\n",
      "2/2 [==============================] - 0s 2ms/step - loss: 8.8065 - mae: 8.8065\n",
      "Epoch 58/100\n",
      "2/2 [==============================] - 0s 2ms/step - loss: 8.3950 - mae: 8.3950\n",
      "Epoch 59/100\n",
      "2/2 [==============================] - 0s 2ms/step - loss: 9.1904 - mae: 9.1904\n",
      "Epoch 60/100\n",
      "2/2 [==============================] - 0s 2ms/step - loss: 9.1343 - mae: 9.1343\n",
      "Epoch 61/100\n",
      "2/2 [==============================] - 0s 2ms/step - loss: 10.6729 - mae: 10.6729\n",
      "Epoch 62/100\n",
      "2/2 [==============================] - 0s 2ms/step - loss: 7.4541 - mae: 7.4541\n",
      "Epoch 63/100\n",
      "2/2 [==============================] - 0s 2ms/step - loss: 10.5462 - mae: 10.5462\n",
      "Epoch 64/100\n",
      "2/2 [==============================] - 0s 2ms/step - loss: 12.1525 - mae: 12.1525\n",
      "Epoch 65/100\n",
      "2/2 [==============================] - 0s 2ms/step - loss: 9.4772 - mae: 9.4772\n",
      "Epoch 66/100\n",
      "2/2 [==============================] - 0s 2ms/step - loss: 11.5587 - mae: 11.5587\n",
      "Epoch 67/100\n",
      "2/2 [==============================] - 0s 2ms/step - loss: 8.0393 - mae: 8.0393\n",
      "Epoch 68/100\n",
      "2/2 [==============================] - 0s 2ms/step - loss: 8.5730 - mae: 8.5730\n",
      "Epoch 69/100\n",
      "2/2 [==============================] - 0s 2ms/step - loss: 12.2390 - mae: 12.2390\n",
      "Epoch 70/100\n",
      "2/2 [==============================] - 0s 2ms/step - loss: 8.9569 - mae: 8.9569\n",
      "Epoch 71/100\n",
      "2/2 [==============================] - 0s 2ms/step - loss: 9.9299 - mae: 9.9299\n",
      "Epoch 72/100\n",
      "2/2 [==============================] - 0s 2ms/step - loss: 9.9729 - mae: 9.9729\n",
      "Epoch 73/100\n",
      "2/2 [==============================] - 0s 2ms/step - loss: 12.4230 - mae: 12.4230\n",
      "Epoch 74/100\n",
      "2/2 [==============================] - 0s 2ms/step - loss: 10.6204 - mae: 10.6204\n",
      "Epoch 75/100\n",
      "2/2 [==============================] - 0s 2ms/step - loss: 9.6292 - mae: 9.6292\n",
      "Epoch 76/100\n",
      "2/2 [==============================] - 0s 2ms/step - loss: 11.0896 - mae: 11.0896\n",
      "Epoch 77/100\n",
      "2/2 [==============================] - 0s 2ms/step - loss: 8.2782 - mae: 8.2782\n",
      "Epoch 78/100\n",
      "2/2 [==============================] - 0s 2ms/step - loss: 8.9576 - mae: 8.9576\n",
      "Epoch 79/100\n",
      "2/2 [==============================] - 0s 2ms/step - loss: 19.8453 - mae: 19.8453\n",
      "Epoch 80/100\n",
      "2/2 [==============================] - 0s 2ms/step - loss: 17.7867 - mae: 17.7867\n",
      "Epoch 81/100\n",
      "2/2 [==============================] - 0s 2ms/step - loss: 7.1123 - mae: 7.1123\n",
      "Epoch 82/100\n",
      "2/2 [==============================] - 0s 2ms/step - loss: 10.4042 - mae: 10.4042\n",
      "Epoch 83/100\n",
      "2/2 [==============================] - 0s 2ms/step - loss: 9.8230 - mae: 9.8230\n",
      "Epoch 84/100\n",
      "2/2 [==============================] - 0s 2ms/step - loss: 7.9642 - mae: 7.9642\n",
      "Epoch 85/100\n",
      "2/2 [==============================] - 0s 2ms/step - loss: 9.4799 - mae: 9.4799\n",
      "Epoch 86/100\n",
      "2/2 [==============================] - 0s 2ms/step - loss: 9.5212 - mae: 9.5212\n",
      "Epoch 87/100\n",
      "2/2 [==============================] - 0s 2ms/step - loss: 11.4723 - mae: 11.4723\n",
      "Epoch 88/100\n",
      "2/2 [==============================] - 0s 2ms/step - loss: 9.9720 - mae: 9.9720\n",
      "Epoch 89/100\n",
      "2/2 [==============================] - 0s 2ms/step - loss: 7.2697 - mae: 7.2697\n",
      "Epoch 90/100\n",
      "2/2 [==============================] - 0s 2ms/step - loss: 12.7362 - mae: 12.7362\n",
      "Epoch 91/100\n",
      "2/2 [==============================] - 0s 2ms/step - loss: 7.3373 - mae: 7.3373\n",
      "Epoch 92/100\n",
      "2/2 [==============================] - 0s 2ms/step - loss: 7.7034 - mae: 7.7034\n",
      "Epoch 93/100\n",
      "2/2 [==============================] - 0s 2ms/step - loss: 7.1336 - mae: 7.1336\n",
      "Epoch 94/100\n",
      "2/2 [==============================] - 0s 2ms/step - loss: 12.5814 - mae: 12.5814\n",
      "Epoch 95/100\n",
      "2/2 [==============================] - 0s 2ms/step - loss: 9.9581 - mae: 9.9581\n",
      "Epoch 96/100\n",
      "2/2 [==============================] - 0s 2ms/step - loss: 9.1451 - mae: 9.1451\n",
      "Epoch 97/100\n",
      "2/2 [==============================] - 0s 2ms/step - loss: 12.0731 - mae: 12.0731\n",
      "Epoch 98/100\n",
      "2/2 [==============================] - 0s 2ms/step - loss: 9.1032 - mae: 9.1032\n",
      "Epoch 99/100\n",
      "2/2 [==============================] - 0s 2ms/step - loss: 8.5055 - mae: 8.5055\n",
      "Epoch 100/100\n",
      "2/2 [==============================] - 0s 2ms/step - loss: 14.4349 - mae: 14.4349\n"
     ]
    },
    {
     "data": {
      "text/plain": [
       "<keras.src.callbacks.History at 0x7fced0370a90>"
      ]
     },
     "execution_count": 45,
     "metadata": {},
     "output_type": "execute_result"
    }
   ],
   "source": [
    "tf.random.set_seed(42)\n",
    "\n",
    "\n",
    "model_1=tf.keras.Sequential([\n",
    "    tf.keras.layers.Dense(1)\n",
    "])\n",
    "\n",
    "model_1.compile(loss=tf.keras.losses.mae,\n",
    "                optimizer=tf.keras.optimizers.SGD(),\n",
    "                metrics=[\"mae\"])\n",
    "\n",
    "\n",
    "model_1.fit(tf.expand_dims(X_train,axis=-1), y_train, epochs=100)"
   ]
  },
  {
   "cell_type": "code",
   "execution_count": 46,
   "id": "2f425b05",
   "metadata": {},
   "outputs": [
    {
     "name": "stdout",
     "output_type": "stream",
     "text": [
      "WARNING:tensorflow:5 out of the last 6 calls to <function Model.make_predict_function.<locals>.predict_function at 0x7fcec1721760> triggered tf.function retracing. Tracing is expensive and the excessive number of tracings could be due to (1) creating @tf.function repeatedly in a loop, (2) passing tensors with different shapes, (3) passing Python objects instead of tensors. For (1), please define your @tf.function outside of the loop. For (2), @tf.function has reduce_retracing=True option that can avoid unnecessary retracing. For (3), please refer to https://www.tensorflow.org/guide/function#controlling_retracing and https://www.tensorflow.org/api_docs/python/tf/function for  more details.\n",
      "1/1 [==============================] - 0s 24ms/step\n"
     ]
    },
    {
     "data": {
      "image/png": "[encoded data removed]",
      "text/plain": [
       "<Figure size 1000x700 with 1 Axes>"
      ]
     },
     "metadata": {},
     "output_type": "display_data"
    }
   ],
   "source": [
    "y_pred_1 = model_1.predict(X_test)\n",
    "plot_predictions(predictions=y_pred_1)"
   ]
  },
  {
   "cell_type": "code",
   "execution_count": 47,
   "id": "cdf27808",
   "metadata": {},
   "outputs": [
    {
     "data": {
      "text/plain": [
       "(<tf.Tensor: shape=(), dtype=float32, numpy=30.717163>,\n",
       " <tf.Tensor: shape=(), dtype=float32, numpy=954.0417>)"
      ]
     },
     "execution_count": 47,
     "metadata": {},
     "output_type": "execute_result"
    }
   ],
   "source": [
    "mae_1 = mae(y_test, y_pred_1)\n",
    "mse_1 = mse(y_test, y_pred_1)\n",
    "mae_1, mse_1"
   ]
  },
  {
   "cell_type": "code",
   "execution_count": 48,
   "id": "e1e4dc21",
   "metadata": {},
   "outputs": [
    {
     "name": "stdout",
     "output_type": "stream",
     "text": [
      "Epoch 1/100\n",
      "2/2 [==============================] - 0s 4ms/step - loss: 53.2179 - mse: 4473.7407\n",
      "Epoch 2/100\n",
      "2/2 [==============================] - 0s 3ms/step - loss: 11.6991 - mse: 198.4102\n",
      "Epoch 3/100\n",
      "2/2 [==============================] - 0s 2ms/step - loss: 31.1436 - mse: 1428.1635\n",
      "Epoch 4/100\n",
      "2/2 [==============================] - 0s 2ms/step - loss: 14.5454 - mse: 282.1280\n",
      "Epoch 5/100\n",
      "2/2 [==============================] - 0s 2ms/step - loss: 20.5610 - mse: 578.0887\n",
      "Epoch 6/100\n",
      "2/2 [==============================] - 0s 2ms/step - loss: 8.1697 - mse: 90.5634\n",
      "Epoch 7/100\n",
      "2/2 [==============================] - 0s 2ms/step - loss: 17.0938 - mse: 373.1293\n",
      "Epoch 8/100\n",
      "2/2 [==============================] - 0s 2ms/step - loss: 17.1193 - mse: 430.0708\n",
      "Epoch 9/100\n",
      "2/2 [==============================] - 0s 2ms/step - loss: 30.0445 - mse: 1232.0281\n",
      "Epoch 10/100\n",
      "2/2 [==============================] - 0s 2ms/step - loss: 12.1844 - mse: 198.7242\n",
      "Epoch 11/100\n",
      "2/2 [==============================] - 0s 2ms/step - loss: 9.0301 - mse: 105.1805\n",
      "Epoch 12/100\n",
      "2/2 [==============================] - 0s 2ms/step - loss: 21.3562 - mse: 647.0991\n",
      "Epoch 13/100\n",
      "2/2 [==============================] - 0s 2ms/step - loss: 12.4046 - mse: 200.3385\n",
      "Epoch 14/100\n",
      "2/2 [==============================] - 0s 2ms/step - loss: 36.9281 - mse: 2272.1919\n",
      "Epoch 15/100\n",
      "2/2 [==============================] - 0s 2ms/step - loss: 24.2753 - mse: 849.1572\n",
      "Epoch 16/100\n",
      "2/2 [==============================] - 0s 2ms/step - loss: 10.3266 - mse: 124.0399\n",
      "Epoch 17/100\n",
      "2/2 [==============================] - 0s 2ms/step - loss: 19.3864 - mse: 508.6752\n",
      "Epoch 18/100\n",
      "2/2 [==============================] - 0s 2ms/step - loss: 13.0940 - mse: 265.6118\n",
      "Epoch 19/100\n",
      "2/2 [==============================] - 0s 2ms/step - loss: 15.7728 - mse: 396.9764\n",
      "Epoch 20/100\n",
      "2/2 [==============================] - 0s 2ms/step - loss: 10.1069 - mse: 156.1630\n",
      "Epoch 21/100\n",
      "2/2 [==============================] - 0s 2ms/step - loss: 13.0539 - mse: 224.2020\n",
      "Epoch 22/100\n",
      "2/2 [==============================] - 0s 2ms/step - loss: 26.1165 - mse: 979.9940\n",
      "Epoch 23/100\n",
      "2/2 [==============================] - 0s 3ms/step - loss: 11.0685 - mse: 194.0850\n",
      "Epoch 24/100\n",
      "2/2 [==============================] - 0s 3ms/step - loss: 15.1190 - mse: 311.4447\n",
      "Epoch 25/100\n",
      "2/2 [==============================] - 0s 2ms/step - loss: 14.2435 - mse: 271.3565\n",
      "Epoch 26/100\n",
      "2/2 [==============================] - 0s 2ms/step - loss: 19.1620 - mse: 557.8312\n",
      "Epoch 27/100\n",
      "2/2 [==============================] - 0s 2ms/step - loss: 11.5466 - mse: 177.3061\n",
      "Epoch 28/100\n",
      "2/2 [==============================] - 0s 2ms/step - loss: 29.6940 - mse: 1436.2361\n",
      "Epoch 29/100\n",
      "2/2 [==============================] - 0s 2ms/step - loss: 9.2551 - mse: 93.1433\n",
      "Epoch 30/100\n",
      "2/2 [==============================] - 0s 2ms/step - loss: 30.3016 - mse: 1677.1996\n",
      "Epoch 31/100\n",
      "2/2 [==============================] - 0s 2ms/step - loss: 55.0520 - mse: 5434.6553\n",
      "Epoch 32/100\n",
      "2/2 [==============================] - 0s 2ms/step - loss: 9.6804 - mse: 102.5631\n",
      "Epoch 33/100\n",
      "2/2 [==============================] - 0s 2ms/step - loss: 12.2899 - mse: 190.0756\n",
      "Epoch 34/100\n",
      "2/2 [==============================] - 0s 2ms/step - loss: 24.4353 - mse: 906.9142\n",
      "Epoch 35/100\n",
      "2/2 [==============================] - 0s 2ms/step - loss: 11.9542 - mse: 210.2247\n",
      "Epoch 36/100\n",
      "2/2 [==============================] - 0s 2ms/step - loss: 22.2030 - mse: 701.2143\n",
      "Epoch 37/100\n",
      "2/2 [==============================] - 0s 2ms/step - loss: 17.3928 - mse: 430.8427\n",
      "Epoch 38/100\n",
      "2/2 [==============================] - 0s 2ms/step - loss: 10.6692 - mse: 131.0045\n",
      "Epoch 39/100\n",
      "2/2 [==============================] - 0s 2ms/step - loss: 11.1867 - mse: 162.5159\n",
      "Epoch 40/100\n",
      "2/2 [==============================] - 0s 2ms/step - loss: 18.0208 - mse: 469.6955\n",
      "Epoch 41/100\n",
      "2/2 [==============================] - 0s 2ms/step - loss: 10.4118 - mse: 182.8342\n",
      "Epoch 42/100\n",
      "2/2 [==============================] - 0s 2ms/step - loss: 7.2608 - mse: 75.2409\n",
      "Epoch 43/100\n",
      "2/2 [==============================] - 0s 2ms/step - loss: 18.9886 - mse: 534.5602\n",
      "Epoch 44/100\n",
      "2/2 [==============================] - 0s 2ms/step - loss: 20.1538 - mse: 628.2812\n",
      "Epoch 45/100\n",
      "2/2 [==============================] - 0s 2ms/step - loss: 10.1296 - mse: 127.5977\n",
      "Epoch 46/100\n",
      "2/2 [==============================] - 0s 2ms/step - loss: 11.4000 - mse: 161.4902\n",
      "Epoch 47/100\n",
      "2/2 [==============================] - 0s 2ms/step - loss: 9.8027 - mse: 152.7248\n",
      "Epoch 48/100\n",
      "2/2 [==============================] - 0s 2ms/step - loss: 17.5790 - mse: 420.1409\n",
      "Epoch 49/100\n",
      "2/2 [==============================] - 0s 2ms/step - loss: 9.3444 - mse: 95.6747\n",
      "Epoch 50/100\n",
      "2/2 [==============================] - 0s 2ms/step - loss: 13.4086 - mse: 237.9072\n",
      "Epoch 51/100\n",
      "2/2 [==============================] - 0s 2ms/step - loss: 11.4414 - mse: 148.9443\n",
      "Epoch 52/100\n",
      "2/2 [==============================] - 0s 2ms/step - loss: 29.5123 - mse: 1494.7356\n",
      "Epoch 53/100\n",
      "2/2 [==============================] - 0s 2ms/step - loss: 16.8115 - mse: 418.6372\n",
      "Epoch 54/100\n",
      "2/2 [==============================] - 0s 2ms/step - loss: 21.8077 - mse: 701.7891\n",
      "Epoch 55/100\n",
      "2/2 [==============================] - 0s 3ms/step - loss: 22.4288 - mse: 750.5538\n",
      "Epoch 56/100\n",
      "2/2 [==============================] - 0s 2ms/step - loss: 10.6465 - mse: 172.5303\n",
      "Epoch 57/100\n",
      "2/2 [==============================] - 0s 2ms/step - loss: 12.4192 - mse: 186.6730\n",
      "Epoch 58/100\n",
      "2/2 [==============================] - 0s 2ms/step - loss: 9.4200 - mse: 100.8971\n",
      "Epoch 59/100\n",
      "2/2 [==============================] - 0s 2ms/step - loss: 12.2162 - mse: 198.2146\n",
      "Epoch 60/100\n",
      "2/2 [==============================] - 0s 2ms/step - loss: 11.6898 - mse: 178.8937\n",
      "Epoch 61/100\n",
      "2/2 [==============================] - 0s 2ms/step - loss: 16.1732 - mse: 365.3098\n",
      "Epoch 62/100\n",
      "2/2 [==============================] - 0s 2ms/step - loss: 11.2023 - mse: 159.4316\n",
      "Epoch 63/100\n",
      "2/2 [==============================] - 0s 2ms/step - loss: 12.4821 - mse: 221.7352\n",
      "Epoch 64/100\n",
      "2/2 [==============================] - 0s 2ms/step - loss: 15.8731 - mse: 360.8483\n",
      "Epoch 65/100\n",
      "2/2 [==============================] - 0s 2ms/step - loss: 10.6459 - mse: 140.6730\n",
      "Epoch 66/100\n",
      "2/2 [==============================] - 0s 2ms/step - loss: 21.6506 - mse: 694.9440\n",
      "Epoch 67/100\n",
      "2/2 [==============================] - 0s 2ms/step - loss: 10.6723 - mse: 134.4163\n",
      "Epoch 68/100\n",
      "2/2 [==============================] - 0s 2ms/step - loss: 10.6102 - mse: 146.7380\n",
      "Epoch 69/100\n",
      "2/2 [==============================] - 0s 2ms/step - loss: 22.5387 - mse: 731.7350\n",
      "Epoch 70/100\n",
      "2/2 [==============================] - 0s 2ms/step - loss: 9.3630 - mse: 165.4235\n",
      "Epoch 71/100\n",
      "2/2 [==============================] - 0s 2ms/step - loss: 15.4870 - mse: 325.2534\n",
      "Epoch 72/100\n",
      "2/2 [==============================] - 0s 2ms/step - loss: 7.0194 - mse: 67.7410\n",
      "Epoch 73/100\n",
      "2/2 [==============================] - 0s 2ms/step - loss: 12.2367 - mse: 216.6339\n",
      "Epoch 74/100\n",
      "2/2 [==============================] - 0s 3ms/step - loss: 17.3905 - mse: 409.7070\n",
      "Epoch 75/100\n",
      "2/2 [==============================] - 0s 2ms/step - loss: 7.2292 - mse: 71.5054\n",
      "Epoch 76/100\n",
      "2/2 [==============================] - 0s 2ms/step - loss: 9.9830 - mse: 171.1902\n",
      "Epoch 77/100\n",
      "2/2 [==============================] - 0s 2ms/step - loss: 21.4471 - mse: 693.6040\n",
      "Epoch 78/100\n",
      "2/2 [==============================] - 0s 2ms/step - loss: 18.8837 - mse: 542.3128\n",
      "Epoch 79/100\n",
      "2/2 [==============================] - 0s 2ms/step - loss: 16.1354 - mse: 382.5474\n",
      "Epoch 80/100\n",
      "2/2 [==============================] - 0s 2ms/step - loss: 23.8909 - mse: 866.5448\n",
      "Epoch 81/100\n",
      "2/2 [==============================] - 0s 2ms/step - loss: 11.1262 - mse: 148.4948\n",
      "Epoch 82/100\n",
      "2/2 [==============================] - 0s 2ms/step - loss: 12.6304 - mse: 229.8499\n",
      "Epoch 83/100\n",
      "2/2 [==============================] - 0s 2ms/step - loss: 17.3618 - mse: 392.5829\n",
      "Epoch 84/100\n",
      "2/2 [==============================] - 0s 2ms/step - loss: 6.8541 - mse: 64.0661\n",
      "Epoch 85/100\n",
      "2/2 [==============================] - 0s 2ms/step - loss: 16.0267 - mse: 362.1185\n",
      "Epoch 86/100\n",
      "2/2 [==============================] - 0s 2ms/step - loss: 15.8712 - mse: 335.5884\n",
      "Epoch 87/100\n",
      "2/2 [==============================] - 0s 2ms/step - loss: 20.3449 - mse: 579.3749\n",
      "Epoch 88/100\n",
      "2/2 [==============================] - 0s 2ms/step - loss: 34.0182 - mse: 1698.5114\n",
      "Epoch 89/100\n",
      "2/2 [==============================] - 0s 2ms/step - loss: 10.6336 - mse: 132.0362\n",
      "Epoch 90/100\n",
      "2/2 [==============================] - 0s 2ms/step - loss: 23.5034 - mse: 799.0003\n",
      "Epoch 91/100\n",
      "2/2 [==============================] - 0s 3ms/step - loss: 11.1338 - mse: 160.3762\n",
      "Epoch 92/100\n",
      "2/2 [==============================] - 0s 3ms/step - loss: 20.3602 - mse: 573.6074\n",
      "Epoch 93/100\n",
      "2/2 [==============================] - 0s 2ms/step - loss: 6.5501 - mse: 60.8179\n",
      "Epoch 94/100\n",
      "2/2 [==============================] - 0s 3ms/step - loss: 11.1649 - mse: 155.0993\n",
      "Epoch 95/100\n",
      "2/2 [==============================] - 0s 2ms/step - loss: 24.5566 - mse: 905.5350\n",
      "Epoch 96/100\n",
      "2/2 [==============================] - 0s 2ms/step - loss: 10.7745 - mse: 171.9317\n",
      "Epoch 97/100\n",
      "2/2 [==============================] - 0s 2ms/step - loss: 15.4833 - mse: 363.7196\n",
      "Epoch 98/100\n",
      "2/2 [==============================] - 0s 2ms/step - loss: 9.0437 - mse: 143.8888\n",
      "Epoch 99/100\n",
      "2/2 [==============================] - 0s 2ms/step - loss: 10.8628 - mse: 138.6212\n",
      "Epoch 100/100\n",
      "2/2 [==============================] - 0s 2ms/step - loss: 27.0787 - mse: 1118.1113\n"
     ]
    },
    {
     "data": {
      "text/plain": [
       "<keras.src.callbacks.History at 0x7fcec165a990>"
      ]
     },
     "execution_count": 48,
     "metadata": {},
     "output_type": "execute_result"
    }
   ],
   "source": [
    "# Model 2\n",
    "\n",
    "tf.random.set_seed(42)\n",
    "\n",
    "\n",
    "model_2 = tf.keras.Sequential([\n",
    "    tf.keras.layers.Dense(10),\n",
    "    tf.keras.layers.Dense(1)\n",
    "])\n",
    "\n",
    "model_2.compile(loss=tf.keras.losses.mae,\n",
    "                optimizer=tf.keras.optimizers.SGD(),\n",
    "                metrics=[\"mse\"])\n",
    "\n",
    "model_2.fit(tf.expand_dims(X_train, axis=-1), y_train, epochs=100)"
   ]
  },
  {
   "cell_type": "code",
   "execution_count": 49,
   "id": "554d5045",
   "metadata": {},
   "outputs": [
    {
     "name": "stdout",
     "output_type": "stream",
     "text": [
      "WARNING:tensorflow:6 out of the last 7 calls to <function Model.make_predict_function.<locals>.predict_function at 0x7fcec1721800> triggered tf.function retracing. Tracing is expensive and the excessive number of tracings could be due to (1) creating @tf.function repeatedly in a loop, (2) passing tensors with different shapes, (3) passing Python objects instead of tensors. For (1), please define your @tf.function outside of the loop. For (2), @tf.function has reduce_retracing=True option that can avoid unnecessary retracing. For (3), please refer to https://www.tensorflow.org/guide/function#controlling_retracing and https://www.tensorflow.org/api_docs/python/tf/function for  more details.\n",
      "1/1 [==============================] - 0s 29ms/step\n"
     ]
    },
    {
     "data": {
      "image/png": "[encoded data removed]",
      "text/plain": [
       "<Figure size 1000x700 with 1 Axes>"
      ]
     },
     "metadata": {},
     "output_type": "display_data"
    }
   ],
   "source": [
    "y_pred_2 = model_2.predict(X_test)\n",
    "plot_predictions(predictions=y_pred_2)"
   ]
  },
  {
   "cell_type": "code",
   "execution_count": 50,
   "id": "51c30d19",
   "metadata": {},
   "outputs": [
    {
     "data": {
      "text/plain": [
       "(<tf.Tensor: shape=(), dtype=float32, numpy=10.064272>,\n",
       " <tf.Tensor: shape=(), dtype=float32, numpy=108.575>)"
      ]
     },
     "execution_count": 50,
     "metadata": {},
     "output_type": "execute_result"
    }
   ],
   "source": [
    "mae_2 = mae(y_test, y_pred_2)\n",
    "mse_2 = mse(y_test, y_pred_2)\n",
    "\n",
    "mae_2, mse_2"
   ]
  },
  {
   "cell_type": "code",
   "execution_count": 51,
   "id": "9bf0b614",
   "metadata": {},
   "outputs": [
    {
     "name": "stdout",
     "output_type": "stream",
     "text": [
      "Epoch 1/40\n",
      "2/2 [==============================] - 0s 4ms/step - loss: 46.3545 - mse: 3000.9409\n",
      "Epoch 2/40\n",
      "2/2 [==============================] - 0s 2ms/step - loss: 12.7397 - mse: 368.9642\n",
      "Epoch 3/40\n",
      "2/2 [==============================] - 0s 2ms/step - loss: 18.4182 - mse: 471.8640\n",
      "Epoch 4/40\n",
      "2/2 [==============================] - 0s 2ms/step - loss: 17.3554 - mse: 465.5238\n",
      "Epoch 5/40\n",
      "2/2 [==============================] - 0s 2ms/step - loss: 6.4178 - mse: 65.1460\n",
      "Epoch 6/40\n",
      "2/2 [==============================] - 0s 4ms/step - loss: 6.6916 - mse: 66.4589\n",
      "Epoch 7/40\n",
      "2/2 [==============================] - 0s 2ms/step - loss: 11.4663 - mse: 213.0627\n",
      "Epoch 8/40\n",
      "2/2 [==============================] - 0s 2ms/step - loss: 12.6497 - mse: 228.4749\n",
      "Epoch 9/40\n",
      "2/2 [==============================] - 0s 2ms/step - loss: 6.5755 - mse: 73.2218\n",
      "Epoch 10/40\n",
      "2/2 [==============================] - 0s 2ms/step - loss: 13.3793 - mse: 273.3949\n",
      "Epoch 11/40\n",
      "2/2 [==============================] - 0s 2ms/step - loss: 7.1454 - mse: 73.0551\n",
      "Epoch 12/40\n",
      "2/2 [==============================] - 0s 2ms/step - loss: 6.9340 - mse: 74.3816\n",
      "Epoch 13/40\n",
      "2/2 [==============================] - 0s 3ms/step - loss: 11.1873 - mse: 192.1303\n",
      "Epoch 14/40\n",
      "2/2 [==============================] - 0s 3ms/step - loss: 6.1854 - mse: 57.4352\n",
      "Epoch 15/40\n",
      "2/2 [==============================] - 0s 2ms/step - loss: 8.5186 - mse: 99.1761\n",
      "Epoch 16/40\n",
      "2/2 [==============================] - 0s 2ms/step - loss: 3.4093 - mse: 24.5327\n",
      "Epoch 17/40\n",
      "2/2 [==============================] - 0s 2ms/step - loss: 10.3003 - mse: 155.1302\n",
      "Epoch 18/40\n",
      "2/2 [==============================] - 0s 2ms/step - loss: 3.5029 - mse: 19.8938\n",
      "Epoch 19/40\n",
      "2/2 [==============================] - 0s 2ms/step - loss: 4.8316 - mse: 34.3267\n",
      "Epoch 20/40\n",
      "2/2 [==============================] - 0s 3ms/step - loss: 5.7685 - mse: 47.3831\n",
      "Epoch 21/40\n",
      "2/2 [==============================] - 0s 2ms/step - loss: 2.6002 - mse: 14.8491\n",
      "Epoch 22/40\n",
      "2/2 [==============================] - 0s 3ms/step - loss: 8.8561 - mse: 109.3435\n",
      "Epoch 23/40\n",
      "2/2 [==============================] - 0s 2ms/step - loss: 4.4364 - mse: 28.1683\n",
      "Epoch 24/40\n",
      "2/2 [==============================] - 0s 2ms/step - loss: 5.8604 - mse: 47.3990\n",
      "Epoch 25/40\n",
      "2/2 [==============================] - 0s 2ms/step - loss: 1.9123 - mse: 6.3695\n",
      "Epoch 26/40\n",
      "2/2 [==============================] - 0s 2ms/step - loss: 1.4845 - mse: 5.4246\n",
      "Epoch 27/40\n",
      "2/2 [==============================] - 0s 2ms/step - loss: 2.7965 - mse: 11.5391\n",
      "Epoch 28/40\n",
      "2/2 [==============================] - 0s 2ms/step - loss: 1.6788 - mse: 4.5339\n",
      "Epoch 29/40\n",
      "2/2 [==============================] - 0s 2ms/step - loss: 2.2610 - mse: 8.8102\n",
      "Epoch 30/40\n",
      "2/2 [==============================] - 0s 2ms/step - loss: 1.1853 - mse: 1.7244\n",
      "Epoch 31/40\n",
      "2/2 [==============================] - 0s 2ms/step - loss: 3.8291 - mse: 19.6665\n",
      "Epoch 32/40\n",
      "2/2 [==============================] - 0s 2ms/step - loss: 1.6448 - mse: 9.3336\n",
      "Epoch 33/40\n",
      "2/2 [==============================] - 0s 2ms/step - loss: 7.0981 - mse: 70.6314\n",
      "Epoch 34/40\n",
      "2/2 [==============================] - 0s 2ms/step - loss: 4.3877 - mse: 27.7394\n",
      "Epoch 35/40\n",
      "2/2 [==============================] - 0s 2ms/step - loss: 5.0221 - mse: 39.9934\n",
      "Epoch 36/40\n",
      "2/2 [==============================] - 0s 2ms/step - loss: 6.1525 - mse: 52.2396\n",
      "Epoch 37/40\n",
      "2/2 [==============================] - 0s 2ms/step - loss: 4.8671 - mse: 36.5472\n",
      "Epoch 38/40\n",
      "2/2 [==============================] - 0s 2ms/step - loss: 3.5007 - mse: 18.0571\n",
      "Epoch 39/40\n",
      "2/2 [==============================] - 0s 2ms/step - loss: 5.5960 - mse: 44.6958\n",
      "Epoch 40/40\n",
      "2/2 [==============================] - 0s 2ms/step - loss: 2.5927 - mse: 12.0110\n"
     ]
    },
    {
     "data": {
      "text/plain": [
       "<keras.src.callbacks.History at 0x7fcec153af10>"
      ]
     },
     "execution_count": 51,
     "metadata": {},
     "output_type": "execute_result"
    }
   ],
   "source": [
    "# Model 3\n",
    "\n",
    "tf.random.set_seed(42)\n",
    "\n",
    "\n",
    "model_3 = tf.keras.Sequential([\n",
    "    tf.keras.layers.Dense(20),\n",
    "    tf.keras.layers.Dense(10),\n",
    "    tf.keras.layers.Dense(1)\n",
    "])\n",
    "\n",
    "model_3.compile(loss=tf.keras.losses.mae,\n",
    "                optimizer=tf.keras.optimizers.Adam(learning_rate=0.1),\n",
    "                metrics=[\"mse\"]\n",
    "               )\n",
    "\n",
    "model_3.fit(tf.expand_dims(X_train, axis=-1), y_train, epochs=40)\n"
   ]
  },
  {
   "cell_type": "code",
   "execution_count": 52,
   "id": "c01c2b5e",
   "metadata": {},
   "outputs": [
    {
     "name": "stdout",
     "output_type": "stream",
     "text": [
      "1/1 [==============================] - 0s 29ms/step\n"
     ]
    },
    {
     "data": {
      "image/png": "[encoded data removed]",
      "text/plain": [
       "<Figure size 1000x700 with 1 Axes>"
      ]
     },
     "metadata": {},
     "output_type": "display_data"
    }
   ],
   "source": [
    "y_pred_3 = model_3.predict(y_test)\n",
    "plot_predictions(predictions=y_pred_3)"
   ]
  },
  {
   "cell_type": "code",
   "execution_count": 53,
   "id": "807371af",
   "metadata": {},
   "outputs": [
    {
     "data": {
      "text/plain": [
       "(array([[65.8025  ],\n",
       "        [69.04253 ],\n",
       "        [72.282555],\n",
       "        [75.52258 ],\n",
       "        [78.76261 ],\n",
       "        [82.00263 ],\n",
       "        [85.24265 ],\n",
       "        [88.48267 ],\n",
       "        [91.72271 ],\n",
       "        [94.96274 ]], dtype=float32),\n",
       " <tf.Tensor: shape=(10,), dtype=int32, numpy=array([ 70,  74,  78,  82,  86,  90,  94,  98, 102, 106], dtype=int32)>)"
      ]
     },
     "execution_count": 53,
     "metadata": {},
     "output_type": "execute_result"
    }
   ],
   "source": [
    "y_pred_3, y_test"
   ]
  },
  {
   "cell_type": "code",
   "execution_count": 54,
   "id": "0dd3cdd3",
   "metadata": {},
   "outputs": [
    {
     "data": {
      "text/plain": [
       "(<tf.Tensor: shape=(), dtype=float32, numpy=7.617382>,\n",
       " <tf.Tensor: shape=(), dtype=float32, numpy=62.789387>)"
      ]
     },
     "execution_count": 54,
     "metadata": {},
     "output_type": "execute_result"
    }
   ],
   "source": [
    "mae_3 = mae(y_test, y_pred_3)\n",
    "mse_3 = mse(y_test, y_pred_3)\n",
    "\n",
    "mae_3, mse_3"
   ]
  },
  {
   "cell_type": "code",
   "execution_count": 73,
   "id": "1dca8381-3b09-40c4-97f1-7176bf15c94b",
   "metadata": {},
   "outputs": [
    {
     "name": "stdout",
     "output_type": "stream",
     "text": [
      "Requirement already satisfied: pandas in /usr/local/lib/python3.11/dist-packages (2.2.0)\n",
      "Requirement already satisfied: numpy<2,>=1.23.2 in /usr/local/lib/python3.11/dist-packages (from pandas) (1.26.2)\n",
      "Requirement already satisfied: python-dateutil>=2.8.2 in /usr/local/lib/python3.11/dist-packages (from pandas) (2.8.2)\n",
      "Requirement already satisfied: pytz>=2020.1 in /usr/local/lib/python3.11/dist-packages (from pandas) (2024.1)\n",
      "Requirement already satisfied: tzdata>=2022.7 in /usr/local/lib/python3.11/dist-packages (from pandas) (2024.1)\n",
      "Requirement already satisfied: six>=1.5 in /usr/lib/python3/dist-packages (from python-dateutil>=2.8.2->pandas) (1.16.0)\n",
      "\u001b[33mWARNING: Running pip as the 'root' user can result in broken permissions and conflicting behaviour with the system package manager. It is recommended to use a virtual environment instead: https://pip.pypa.io/warnings/venv\u001b[0m\u001b[33m\n",
      "\u001b[0m\n",
      "\u001b[1m[\u001b[0m\u001b[34;49mnotice\u001b[0m\u001b[1;39;49m]\u001b[0m\u001b[39;49m A new release of pip is available: \u001b[0m\u001b[31;49m23.3.1\u001b[0m\u001b[39;49m -> \u001b[0m\u001b[32;49m24.0\u001b[0m\n",
      "\u001b[1m[\u001b[0m\u001b[34;49mnotice\u001b[0m\u001b[1;39;49m]\u001b[0m\u001b[39;49m To update, run: \u001b[0m\u001b[32;49mpython3 -m pip install --upgrade pip\u001b[0m\n"
     ]
    }
   ],
   "source": [
    "!pip install pandas"
   ]
  },
  {
   "cell_type": "markdown",
   "id": "de9fe61a",
   "metadata": {},
   "source": [
    "### Comparing the results"
   ]
  },
  {
   "cell_type": "code",
   "execution_count": 74,
   "id": "73f793d6",
   "metadata": {},
   "outputs": [
    {
     "data": {
      "text/html": [
       "<div>\n",
       "<style scoped>\n",
       "    .dataframe tbody tr th:only-of-type {\n",
       "        vertical-align: middle;\n",
       "    }\n",
       "\n",
       "    .dataframe tbody tr th {\n",
       "        vertical-align: top;\n",
       "    }\n",
       "\n",
       "    .dataframe thead th {\n",
       "        text-align: right;\n",
       "    }\n",
       "</style>\n",
       "<table border=\"1\" class=\"dataframe\">\n",
       "  <thead>\n",
       "    <tr style=\"text-align: right;\">\n",
       "      <th></th>\n",
       "      <th>model</th>\n",
       "      <th>mae</th>\n",
       "      <th>mse</th>\n",
       "    </tr>\n",
       "  </thead>\n",
       "  <tbody>\n",
       "    <tr>\n",
       "      <th>0</th>\n",
       "      <td>model_1</td>\n",
       "      <td>30.717163</td>\n",
       "      <td>954.041687</td>\n",
       "    </tr>\n",
       "    <tr>\n",
       "      <th>1</th>\n",
       "      <td>model_2</td>\n",
       "      <td>10.064272</td>\n",
       "      <td>108.574997</td>\n",
       "    </tr>\n",
       "    <tr>\n",
       "      <th>2</th>\n",
       "      <td>model_3</td>\n",
       "      <td>7.617382</td>\n",
       "      <td>62.789387</td>\n",
       "    </tr>\n",
       "  </tbody>\n",
       "</table>\n",
       "</div>"
      ],
      "text/plain": [
       "     model        mae         mse\n",
       "0  model_1  30.717163  954.041687\n",
       "1  model_2  10.064272  108.574997\n",
       "2  model_3   7.617382   62.789387"
      ]
     },
     "execution_count": 74,
     "metadata": {},
     "output_type": "execute_result"
    }
   ],
   "source": [
    "import pandas as pd\n",
    "\n",
    "model_results = [[\"model_1\", mae_1.numpy(), mse_1.numpy()],\n",
    "                 [\"model_2\", mae_2.numpy(), mse_2.numpy()],\n",
    "                 [\"model_3\", mae_3.numpy(), mse_3.numpy()]]\n",
    "                 \n",
    "all_results = pd.DataFrame(model_results, columns=[\"model\", \"mae\", \"mse\"])\n",
    "all_results"
   ]
  },
  {
   "cell_type": "code",
   "execution_count": 75,
   "id": "18b83c19",
   "metadata": {},
   "outputs": [
    {
     "name": "stdout",
     "output_type": "stream",
     "text": [
      "Model: \"sequential_5\"\n",
      "_________________________________________________________________\n",
      " Layer (type)                Output Shape              Param #   \n",
      "=================================================================\n",
      " dense_6 (Dense)             (None, 10)                20        \n",
      "                                                                 \n",
      " dense_7 (Dense)             (None, 1)                 11        \n",
      "                                                                 \n",
      "=================================================================\n",
      "Total params: 31 (124.00 Byte)\n",
      "Trainable params: 31 (124.00 Byte)\n",
      "Non-trainable params: 0 (0.00 Byte)\n",
      "_________________________________________________________________\n"
     ]
    }
   ],
   "source": [
    " model_2.summary()"
   ]
  },
  {
   "cell_type": "code",
   "execution_count": 76,
   "id": "1e14d48d",
   "metadata": {},
   "outputs": [
    {
     "name": "stdout",
     "output_type": "stream",
     "text": [
      "Model: \"sequential_6\"\n",
      "_________________________________________________________________\n",
      " Layer (type)                Output Shape              Param #   \n",
      "=================================================================\n",
      " dense_8 (Dense)             (None, 20)                40        \n",
      "                                                                 \n",
      " dense_9 (Dense)             (None, 10)                210       \n",
      "                                                                 \n",
      " dense_10 (Dense)            (None, 1)                 11        \n",
      "                                                                 \n",
      "=================================================================\n",
      "Total params: 261 (1.02 KB)\n",
      "Trainable params: 261 (1.02 KB)\n",
      "Non-trainable params: 0 (0.00 Byte)\n",
      "_________________________________________________________________\n"
     ]
    }
   ],
   "source": [
    "model_3.summary()"
   ]
  },
  {
   "cell_type": "code",
   "execution_count": 77,
   "id": "7da098fd",
   "metadata": {},
   "outputs": [],
   "source": [
    "# Tracking your Experiments\n",
    "\n",
    "#TensorBoard - track modelling expriments.\n",
    "#Weights and Biases "
   ]
  },
  {
   "cell_type": "markdown",
   "id": "65e8685f",
   "metadata": {},
   "source": [
    "### Save the models"
   ]
  },
  {
   "cell_type": "code",
   "execution_count": 78,
   "id": "b4092363",
   "metadata": {},
   "outputs": [
    {
     "name": "stdout",
     "output_type": "stream",
     "text": [
      "INFO:tensorflow:Assets written to: model2_SavedModel_Format/assets\n"
     ]
    },
    {
     "name": "stderr",
     "output_type": "stream",
     "text": [
      "INFO:tensorflow:Assets written to: model2_SavedModel_Format/assets\n"
     ]
    }
   ],
   "source": [
    "# Save the model using SavedModel format\n",
    "\n",
    "model_2.save(\"model2_SavedModel_Format\")"
   ]
  },
  {
   "cell_type": "code",
   "execution_count": 63,
   "id": "870b50b2",
   "metadata": {},
   "outputs": [
    {
     "name": "stderr",
     "output_type": "stream",
     "text": [
      "/usr/local/lib/python3.11/dist-packages/keras/src/engine/training.py:3103: UserWarning: You are saving your model as an HDF5 file via `model.save()`. This file format is considered legacy. We recommend using instead the native Keras format, e.g. `model.save('my_model.keras')`.\n",
      "  saving_api.save_model(\n"
     ]
    }
   ],
   "source": [
    "# SAve the model using HDF5 format\n",
    "\n",
    "model_3.save(\"Model3_HDF5_Format.h5\")"
   ]
  },
  {
   "cell_type": "markdown",
   "id": "e83a7a5b",
   "metadata": {},
   "source": [
    "### Loading the saved models"
   ]
  },
  {
   "cell_type": "code",
   "execution_count": 64,
   "id": "088bcf3b",
   "metadata": {},
   "outputs": [
    {
     "name": "stdout",
     "output_type": "stream",
     "text": [
      "Model: \"sequential_5\"\n",
      "_________________________________________________________________\n",
      " Layer (type)                Output Shape              Param #   \n",
      "=================================================================\n",
      " dense_6 (Dense)             (None, 10)                20        \n",
      "                                                                 \n",
      " dense_7 (Dense)             (None, 1)                 11        \n",
      "                                                                 \n",
      "=================================================================\n",
      "Total params: 31 (124.00 Byte)\n",
      "Trainable params: 31 (124.00 Byte)\n",
      "Non-trainable params: 0 (0.00 Byte)\n",
      "_________________________________________________________________\n"
     ]
    }
   ],
   "source": [
    "loaded_SavedModel_Format = tf.keras.models.load_model(\"model2_SavedModel_Format\")\n",
    "loaded_SavedModel_Format.summary()"
   ]
  },
  {
   "cell_type": "code",
   "execution_count": 65,
   "id": "934f0490",
   "metadata": {},
   "outputs": [
    {
     "name": "stdout",
     "output_type": "stream",
     "text": [
      "1/1 [==============================] - 0s 24ms/step\n",
      "1/1 [==============================] - 0s 26ms/step\n"
     ]
    },
    {
     "data": {
      "text/plain": [
       "array([[ True],\n",
       "       [ True],\n",
       "       [ True],\n",
       "       [ True],\n",
       "       [ True],\n",
       "       [ True],\n",
       "       [ True],\n",
       "       [ True],\n",
       "       [ True],\n",
       "       [ True]])"
      ]
     },
     "execution_count": 65,
     "metadata": {},
     "output_type": "execute_result"
    }
   ],
   "source": [
    "model_2_preds = model_2.predict(X_test)\n",
    "loaded_SavedModel_Format_preds = loaded_SavedModel_Format.predict(X_test)\n",
    "model_2_preds == loaded_SavedModel_Format_preds"
   ]
  },
  {
   "cell_type": "code",
   "execution_count": 66,
   "id": "82ac0022",
   "metadata": {},
   "outputs": [
    {
     "data": {
      "text/plain": [
       "(array([[ 75.83551 ],\n",
       "        [ 80.77524 ],\n",
       "        [ 85.71496 ],\n",
       "        [ 90.654686],\n",
       "        [ 95.5944  ],\n",
       "        [100.53414 ],\n",
       "        [105.473854],\n",
       "        [110.41358 ],\n",
       "        [115.35331 ],\n",
       "        [120.29304 ]], dtype=float32),\n",
       " array([[ 75.83551 ],\n",
       "        [ 80.77524 ],\n",
       "        [ 85.71496 ],\n",
       "        [ 90.654686],\n",
       "        [ 95.5944  ],\n",
       "        [100.53414 ],\n",
       "        [105.473854],\n",
       "        [110.41358 ],\n",
       "        [115.35331 ],\n",
       "        [120.29304 ]], dtype=float32))"
      ]
     },
     "execution_count": 66,
     "metadata": {},
     "output_type": "execute_result"
    }
   ],
   "source": [
    "model_2_preds, loaded_SavedModel_Format_preds"
   ]
  },
  {
   "cell_type": "code",
   "execution_count": 67,
   "id": "4bcf73e8",
   "metadata": {},
   "outputs": [
    {
     "data": {
      "text/plain": [
       "<tf.Tensor: shape=(), dtype=bool, numpy=True>"
      ]
     },
     "execution_count": 67,
     "metadata": {},
     "output_type": "execute_result"
    }
   ],
   "source": [
    "mae(y_test, model_2_preds) == mae(y_test, loaded_SavedModel_Format_preds)"
   ]
  },
  {
   "cell_type": "code",
   "execution_count": 68,
   "id": "1d88a62b",
   "metadata": {},
   "outputs": [
    {
     "name": "stdout",
     "output_type": "stream",
     "text": [
      "Model: \"sequential_6\"\n",
      "_________________________________________________________________\n",
      " Layer (type)                Output Shape              Param #   \n",
      "=================================================================\n",
      " dense_8 (Dense)             (None, 20)                40        \n",
      "                                                                 \n",
      " dense_9 (Dense)             (None, 10)                210       \n",
      "                                                                 \n",
      " dense_10 (Dense)            (None, 1)                 11        \n",
      "                                                                 \n",
      "=================================================================\n",
      "Total params: 261 (1.02 KB)\n",
      "Trainable params: 261 (1.02 KB)\n",
      "Non-trainable params: 0 (0.00 Byte)\n",
      "_________________________________________________________________\n"
     ]
    }
   ],
   "source": [
    "# Loading the HDF5 Model\n",
    "\n",
    "loaded_HDF5_Model = tf.keras.models.load_model(\"Model3_HDF5_Format.h5\")\n",
    "loaded_HDF5_Model.summary()"
   ]
  },
  {
   "cell_type": "code",
   "execution_count": 69,
   "id": "36d49a76",
   "metadata": {},
   "outputs": [
    {
     "name": "stdout",
     "output_type": "stream",
     "text": [
      "1/1 [==============================] - 0s 18ms/step\n",
      "1/1 [==============================] - 0s 29ms/step\n"
     ]
    },
    {
     "data": {
      "text/plain": [
       "array([[ True],\n",
       "       [ True],\n",
       "       [ True],\n",
       "       [ True],\n",
       "       [ True],\n",
       "       [ True],\n",
       "       [ True],\n",
       "       [ True],\n",
       "       [ True],\n",
       "       [ True]])"
      ]
     },
     "execution_count": 69,
     "metadata": {},
     "output_type": "execute_result"
    }
   ],
   "source": [
    "model_3_preds = model_3.predict(X_test)\n",
    "loaded_HDF5_Model_preds = loaded_HDF5_Model.predict(X_test)\n",
    "model_3_preds == loaded_HDF5_Model_preds"
   ]
  },
  {
   "cell_type": "markdown",
   "id": "c464e039",
   "metadata": {},
   "source": [
    "## Working with some larger Data"
   ]
  },
  {
   "cell_type": "code",
   "execution_count": 70,
   "id": "94b391b3",
   "metadata": {},
   "outputs": [],
   "source": [
    "# Data from RAW Github to CSV\n",
    "\n",
    "insurance = pd.read_csv(\"https://raw.githubusercontent.com/stedy/Machine-Learning-with-R-datasets/master/insurance.csv\")"
   ]
  },
  {
   "cell_type": "code",
   "execution_count": 71,
   "id": "97cafcd1",
   "metadata": {},
   "outputs": [
    {
     "data": {
      "text/html": [
       "<div>\n",
       "<style scoped>\n",
       "    .dataframe tbody tr th:only-of-type {\n",
       "        vertical-align: middle;\n",
       "    }\n",
       "\n",
       "    .dataframe tbody tr th {\n",
       "        vertical-align: top;\n",
       "    }\n",
       "\n",
       "    .dataframe thead th {\n",
       "        text-align: right;\n",
       "    }\n",
       "</style>\n",
       "<table border=\"1\" class=\"dataframe\">\n",
       "  <thead>\n",
       "    <tr style=\"text-align: right;\">\n",
       "      <th></th>\n",
       "      <th>age</th>\n",
       "      <th>sex</th>\n",
       "      <th>bmi</th>\n",
       "      <th>children</th>\n",
       "      <th>smoker</th>\n",
       "      <th>region</th>\n",
       "      <th>charges</th>\n",
       "    </tr>\n",
       "  </thead>\n",
       "  <tbody>\n",
       "    <tr>\n",
       "      <th>0</th>\n",
       "      <td>19</td>\n",
       "      <td>female</td>\n",
       "      <td>27.900</td>\n",
       "      <td>0</td>\n",
       "      <td>yes</td>\n",
       "      <td>southwest</td>\n",
       "      <td>16884.92400</td>\n",
       "    </tr>\n",
       "    <tr>\n",
       "      <th>1</th>\n",
       "      <td>18</td>\n",
       "      <td>male</td>\n",
       "      <td>33.770</td>\n",
       "      <td>1</td>\n",
       "      <td>no</td>\n",
       "      <td>southeast</td>\n",
       "      <td>1725.55230</td>\n",
       "    </tr>\n",
       "    <tr>\n",
       "      <th>2</th>\n",
       "      <td>28</td>\n",
       "      <td>male</td>\n",
       "      <td>33.000</td>\n",
       "      <td>3</td>\n",
       "      <td>no</td>\n",
       "      <td>southeast</td>\n",
       "      <td>4449.46200</td>\n",
       "    </tr>\n",
       "    <tr>\n",
       "      <th>3</th>\n",
       "      <td>33</td>\n",
       "      <td>male</td>\n",
       "      <td>22.705</td>\n",
       "      <td>0</td>\n",
       "      <td>no</td>\n",
       "      <td>northwest</td>\n",
       "      <td>21984.47061</td>\n",
       "    </tr>\n",
       "    <tr>\n",
       "      <th>4</th>\n",
       "      <td>32</td>\n",
       "      <td>male</td>\n",
       "      <td>28.880</td>\n",
       "      <td>0</td>\n",
       "      <td>no</td>\n",
       "      <td>northwest</td>\n",
       "      <td>3866.85520</td>\n",
       "    </tr>\n",
       "    <tr>\n",
       "      <th>...</th>\n",
       "      <td>...</td>\n",
       "      <td>...</td>\n",
       "      <td>...</td>\n",
       "      <td>...</td>\n",
       "      <td>...</td>\n",
       "      <td>...</td>\n",
       "      <td>...</td>\n",
       "    </tr>\n",
       "    <tr>\n",
       "      <th>1333</th>\n",
       "      <td>50</td>\n",
       "      <td>male</td>\n",
       "      <td>30.970</td>\n",
       "      <td>3</td>\n",
       "      <td>no</td>\n",
       "      <td>northwest</td>\n",
       "      <td>10600.54830</td>\n",
       "    </tr>\n",
       "    <tr>\n",
       "      <th>1334</th>\n",
       "      <td>18</td>\n",
       "      <td>female</td>\n",
       "      <td>31.920</td>\n",
       "      <td>0</td>\n",
       "      <td>no</td>\n",
       "      <td>northeast</td>\n",
       "      <td>2205.98080</td>\n",
       "    </tr>\n",
       "    <tr>\n",
       "      <th>1335</th>\n",
       "      <td>18</td>\n",
       "      <td>female</td>\n",
       "      <td>36.850</td>\n",
       "      <td>0</td>\n",
       "      <td>no</td>\n",
       "      <td>southeast</td>\n",
       "      <td>1629.83350</td>\n",
       "    </tr>\n",
       "    <tr>\n",
       "      <th>1336</th>\n",
       "      <td>21</td>\n",
       "      <td>female</td>\n",
       "      <td>25.800</td>\n",
       "      <td>0</td>\n",
       "      <td>no</td>\n",
       "      <td>southwest</td>\n",
       "      <td>2007.94500</td>\n",
       "    </tr>\n",
       "    <tr>\n",
       "      <th>1337</th>\n",
       "      <td>61</td>\n",
       "      <td>female</td>\n",
       "      <td>29.070</td>\n",
       "      <td>0</td>\n",
       "      <td>yes</td>\n",
       "      <td>northwest</td>\n",
       "      <td>29141.36030</td>\n",
       "    </tr>\n",
       "  </tbody>\n",
       "</table>\n",
       "<p>1338 rows × 7 columns</p>\n",
       "</div>"
      ],
      "text/plain": [
       "      age     sex     bmi  children smoker     region      charges\n",
       "0      19  female  27.900         0    yes  southwest  16884.92400\n",
       "1      18    male  33.770         1     no  southeast   1725.55230\n",
       "2      28    male  33.000         3     no  southeast   4449.46200\n",
       "3      33    male  22.705         0     no  northwest  21984.47061\n",
       "4      32    male  28.880         0     no  northwest   3866.85520\n",
       "...   ...     ...     ...       ...    ...        ...          ...\n",
       "1333   50    male  30.970         3     no  northwest  10600.54830\n",
       "1334   18  female  31.920         0     no  northeast   2205.98080\n",
       "1335   18  female  36.850         0     no  southeast   1629.83350\n",
       "1336   21  female  25.800         0     no  southwest   2007.94500\n",
       "1337   61  female  29.070         0    yes  northwest  29141.36030\n",
       "\n",
       "[1338 rows x 7 columns]"
      ]
     },
     "execution_count": 71,
     "metadata": {},
     "output_type": "execute_result"
    }
   ],
   "source": [
    "insurance"
   ]
  },
  {
   "cell_type": "code",
   "execution_count": 79,
   "id": "8030a906",
   "metadata": {},
   "outputs": [
    {
     "data": {
      "text/html": [
       "<div>\n",
       "<style scoped>\n",
       "    .dataframe tbody tr th:only-of-type {\n",
       "        vertical-align: middle;\n",
       "    }\n",
       "\n",
       "    .dataframe tbody tr th {\n",
       "        vertical-align: top;\n",
       "    }\n",
       "\n",
       "    .dataframe thead th {\n",
       "        text-align: right;\n",
       "    }\n",
       "</style>\n",
       "<table border=\"1\" class=\"dataframe\">\n",
       "  <thead>\n",
       "    <tr style=\"text-align: right;\">\n",
       "      <th></th>\n",
       "      <th>age</th>\n",
       "      <th>bmi</th>\n",
       "      <th>children</th>\n",
       "      <th>charges</th>\n",
       "      <th>sex_female</th>\n",
       "      <th>sex_male</th>\n",
       "      <th>smoker_no</th>\n",
       "      <th>smoker_yes</th>\n",
       "      <th>region_northeast</th>\n",
       "      <th>region_northwest</th>\n",
       "      <th>region_southeast</th>\n",
       "      <th>region_southwest</th>\n",
       "    </tr>\n",
       "  </thead>\n",
       "  <tbody>\n",
       "    <tr>\n",
       "      <th>0</th>\n",
       "      <td>19</td>\n",
       "      <td>27.900</td>\n",
       "      <td>0</td>\n",
       "      <td>16884.92400</td>\n",
       "      <td>True</td>\n",
       "      <td>False</td>\n",
       "      <td>False</td>\n",
       "      <td>True</td>\n",
       "      <td>False</td>\n",
       "      <td>False</td>\n",
       "      <td>False</td>\n",
       "      <td>True</td>\n",
       "    </tr>\n",
       "    <tr>\n",
       "      <th>1</th>\n",
       "      <td>18</td>\n",
       "      <td>33.770</td>\n",
       "      <td>1</td>\n",
       "      <td>1725.55230</td>\n",
       "      <td>False</td>\n",
       "      <td>True</td>\n",
       "      <td>True</td>\n",
       "      <td>False</td>\n",
       "      <td>False</td>\n",
       "      <td>False</td>\n",
       "      <td>True</td>\n",
       "      <td>False</td>\n",
       "    </tr>\n",
       "    <tr>\n",
       "      <th>2</th>\n",
       "      <td>28</td>\n",
       "      <td>33.000</td>\n",
       "      <td>3</td>\n",
       "      <td>4449.46200</td>\n",
       "      <td>False</td>\n",
       "      <td>True</td>\n",
       "      <td>True</td>\n",
       "      <td>False</td>\n",
       "      <td>False</td>\n",
       "      <td>False</td>\n",
       "      <td>True</td>\n",
       "      <td>False</td>\n",
       "    </tr>\n",
       "    <tr>\n",
       "      <th>3</th>\n",
       "      <td>33</td>\n",
       "      <td>22.705</td>\n",
       "      <td>0</td>\n",
       "      <td>21984.47061</td>\n",
       "      <td>False</td>\n",
       "      <td>True</td>\n",
       "      <td>True</td>\n",
       "      <td>False</td>\n",
       "      <td>False</td>\n",
       "      <td>True</td>\n",
       "      <td>False</td>\n",
       "      <td>False</td>\n",
       "    </tr>\n",
       "    <tr>\n",
       "      <th>4</th>\n",
       "      <td>32</td>\n",
       "      <td>28.880</td>\n",
       "      <td>0</td>\n",
       "      <td>3866.85520</td>\n",
       "      <td>False</td>\n",
       "      <td>True</td>\n",
       "      <td>True</td>\n",
       "      <td>False</td>\n",
       "      <td>False</td>\n",
       "      <td>True</td>\n",
       "      <td>False</td>\n",
       "      <td>False</td>\n",
       "    </tr>\n",
       "  </tbody>\n",
       "</table>\n",
       "</div>"
      ],
      "text/plain": [
       "   age     bmi  children      charges  sex_female  sex_male  smoker_no  \\\n",
       "0   19  27.900         0  16884.92400        True     False      False   \n",
       "1   18  33.770         1   1725.55230       False      True       True   \n",
       "2   28  33.000         3   4449.46200       False      True       True   \n",
       "3   33  22.705         0  21984.47061       False      True       True   \n",
       "4   32  28.880         0   3866.85520       False      True       True   \n",
       "\n",
       "   smoker_yes  region_northeast  region_northwest  region_southeast  \\\n",
       "0        True             False             False             False   \n",
       "1       False             False             False              True   \n",
       "2       False             False             False              True   \n",
       "3       False             False              True             False   \n",
       "4       False             False              True             False   \n",
       "\n",
       "   region_southwest  \n",
       "0              True  \n",
       "1             False  \n",
       "2             False  \n",
       "3             False  \n",
       "4             False  "
      ]
     },
     "execution_count": 79,
     "metadata": {},
     "output_type": "execute_result"
    }
   ],
   "source": [
    "insurance_one_hot=pd.get_dummies(insurance)\n",
    "\n",
    "insurance_one_hot.head()"
   ]
  },
  {
   "cell_type": "code",
   "execution_count": 81,
   "id": "f34244cb",
   "metadata": {},
   "outputs": [],
   "source": [
    "X = insurance_one_hot.drop(\"charges\", axis=1)\n",
    "y = insurance_one_hot[\"charges\"] #Dependant Variable "
   ]
  },
  {
   "cell_type": "code",
   "execution_count": 105,
   "id": "9b6eb738",
   "metadata": {},
   "outputs": [
    {
     "data": {
      "text/html": [
       "<div>\n",
       "<style scoped>\n",
       "    .dataframe tbody tr th:only-of-type {\n",
       "        vertical-align: middle;\n",
       "    }\n",
       "\n",
       "    .dataframe tbody tr th {\n",
       "        vertical-align: top;\n",
       "    }\n",
       "\n",
       "    .dataframe thead th {\n",
       "        text-align: right;\n",
       "    }\n",
       "</style>\n",
       "<table border=\"1\" class=\"dataframe\">\n",
       "  <thead>\n",
       "    <tr style=\"text-align: right;\">\n",
       "      <th></th>\n",
       "      <th>age</th>\n",
       "      <th>bmi</th>\n",
       "      <th>children</th>\n",
       "      <th>sex_female</th>\n",
       "      <th>sex_male</th>\n",
       "      <th>smoker_no</th>\n",
       "      <th>smoker_yes</th>\n",
       "      <th>region_northeast</th>\n",
       "      <th>region_northwest</th>\n",
       "      <th>region_southeast</th>\n",
       "      <th>region_southwest</th>\n",
       "    </tr>\n",
       "  </thead>\n",
       "  <tbody>\n",
       "    <tr>\n",
       "      <th>0</th>\n",
       "      <td>19</td>\n",
       "      <td>27.900</td>\n",
       "      <td>0</td>\n",
       "      <td>True</td>\n",
       "      <td>False</td>\n",
       "      <td>False</td>\n",
       "      <td>True</td>\n",
       "      <td>False</td>\n",
       "      <td>False</td>\n",
       "      <td>False</td>\n",
       "      <td>True</td>\n",
       "    </tr>\n",
       "    <tr>\n",
       "      <th>1</th>\n",
       "      <td>18</td>\n",
       "      <td>33.770</td>\n",
       "      <td>1</td>\n",
       "      <td>False</td>\n",
       "      <td>True</td>\n",
       "      <td>True</td>\n",
       "      <td>False</td>\n",
       "      <td>False</td>\n",
       "      <td>False</td>\n",
       "      <td>True</td>\n",
       "      <td>False</td>\n",
       "    </tr>\n",
       "    <tr>\n",
       "      <th>2</th>\n",
       "      <td>28</td>\n",
       "      <td>33.000</td>\n",
       "      <td>3</td>\n",
       "      <td>False</td>\n",
       "      <td>True</td>\n",
       "      <td>True</td>\n",
       "      <td>False</td>\n",
       "      <td>False</td>\n",
       "      <td>False</td>\n",
       "      <td>True</td>\n",
       "      <td>False</td>\n",
       "    </tr>\n",
       "    <tr>\n",
       "      <th>3</th>\n",
       "      <td>33</td>\n",
       "      <td>22.705</td>\n",
       "      <td>0</td>\n",
       "      <td>False</td>\n",
       "      <td>True</td>\n",
       "      <td>True</td>\n",
       "      <td>False</td>\n",
       "      <td>False</td>\n",
       "      <td>True</td>\n",
       "      <td>False</td>\n",
       "      <td>False</td>\n",
       "    </tr>\n",
       "    <tr>\n",
       "      <th>4</th>\n",
       "      <td>32</td>\n",
       "      <td>28.880</td>\n",
       "      <td>0</td>\n",
       "      <td>False</td>\n",
       "      <td>True</td>\n",
       "      <td>True</td>\n",
       "      <td>False</td>\n",
       "      <td>False</td>\n",
       "      <td>True</td>\n",
       "      <td>False</td>\n",
       "      <td>False</td>\n",
       "    </tr>\n",
       "  </tbody>\n",
       "</table>\n",
       "</div>"
      ],
      "text/plain": [
       "   age     bmi  children  sex_female  sex_male  smoker_no  smoker_yes  \\\n",
       "0   19  27.900         0        True     False      False        True   \n",
       "1   18  33.770         1       False      True       True       False   \n",
       "2   28  33.000         3       False      True       True       False   \n",
       "3   33  22.705         0       False      True       True       False   \n",
       "4   32  28.880         0       False      True       True       False   \n",
       "\n",
       "   region_northeast  region_northwest  region_southeast  region_southwest  \n",
       "0             False             False             False              True  \n",
       "1             False             False              True             False  \n",
       "2             False             False              True             False  \n",
       "3             False              True             False             False  \n",
       "4             False              True             False             False  "
      ]
     },
     "execution_count": 105,
     "metadata": {},
     "output_type": "execute_result"
    }
   ],
   "source": [
    "X.head()\n"
   ]
  },
  {
   "cell_type": "code",
   "execution_count": 85,
   "id": "f1bbc7a9-2fb3-4c69-bd85-09640a4cfdf6",
   "metadata": {},
   "outputs": [
    {
     "data": {
      "text/plain": [
       "0    16884.92400\n",
       "1     1725.55230\n",
       "2     4449.46200\n",
       "3    21984.47061\n",
       "4     3866.85520\n",
       "Name: charges, dtype: float64"
      ]
     },
     "execution_count": 85,
     "metadata": {},
     "output_type": "execute_result"
    }
   ],
   "source": [
    "y.head()"
   ]
  },
  {
   "cell_type": "code",
   "execution_count": 87,
   "id": "77fab3c7-7ecd-4f9f-9bae-a40c0224c5ca",
   "metadata": {},
   "outputs": [
    {
     "name": "stdout",
     "output_type": "stream",
     "text": [
      "Collecting scikit-learn\n",
      "  Downloading scikit_learn-1.4.0-1-cp311-cp311-manylinux_2_17_x86_64.manylinux2014_x86_64.whl.metadata (11 kB)\n",
      "Requirement already satisfied: numpy<2.0,>=1.19.5 in /usr/local/lib/python3.11/dist-packages (from scikit-learn) (1.26.2)\n",
      "Collecting scipy>=1.6.0 (from scikit-learn)\n",
      "  Downloading scipy-1.12.0-cp311-cp311-manylinux_2_17_x86_64.manylinux2014_x86_64.whl.metadata (60 kB)\n",
      "\u001b[2K     \u001b[90m━━━━━━━━━━━━━━━━━━━━━━━━━━━━━━━━━━━━━━━━\u001b[0m \u001b[32m60.4/60.4 kB\u001b[0m \u001b[31m3.5 MB/s\u001b[0m eta \u001b[36m0:00:00\u001b[0m\n",
      "\u001b[?25hCollecting joblib>=1.2.0 (from scikit-learn)\n",
      "  Downloading joblib-1.3.2-py3-none-any.whl.metadata (5.4 kB)\n",
      "Collecting threadpoolctl>=2.0.0 (from scikit-learn)\n",
      "  Downloading threadpoolctl-3.2.0-py3-none-any.whl.metadata (10.0 kB)\n",
      "Downloading scikit_learn-1.4.0-1-cp311-cp311-manylinux_2_17_x86_64.manylinux2014_x86_64.whl (12.1 MB)\n",
      "\u001b[2K   \u001b[90m━━━━━━━━━━━━━━━━━━━━━━━━━━━━━━━━━━━━━━━━\u001b[0m \u001b[32m12.1/12.1 MB\u001b[0m \u001b[31m45.4 MB/s\u001b[0m eta \u001b[36m0:00:00\u001b[0m00:01\u001b[0m00:01\u001b[0m\n",
      "\u001b[?25hDownloading joblib-1.3.2-py3-none-any.whl (302 kB)\n",
      "\u001b[2K   \u001b[90m━━━━━━━━━━━━━━━━━━━━━━━━━━━━━━━━━━━━━━━━\u001b[0m \u001b[32m302.2/302.2 kB\u001b[0m \u001b[31m33.4 MB/s\u001b[0m eta \u001b[36m0:00:00\u001b[0m\n",
      "\u001b[?25hDownloading scipy-1.12.0-cp311-cp311-manylinux_2_17_x86_64.manylinux2014_x86_64.whl (38.4 MB)\n",
      "\u001b[2K   \u001b[90m━━━━━━━━━━━━━━━━━━━━━━━━━━━━━━━━━━━━━━━━\u001b[0m \u001b[32m38.4/38.4 MB\u001b[0m \u001b[31m31.8 MB/s\u001b[0m eta \u001b[36m0:00:00\u001b[0m00:01\u001b[0m00:01\u001b[0m\n",
      "\u001b[?25hDownloading threadpoolctl-3.2.0-py3-none-any.whl (15 kB)\n",
      "Installing collected packages: threadpoolctl, scipy, joblib, scikit-learn\n",
      "Successfully installed joblib-1.3.2 scikit-learn-1.4.0 scipy-1.12.0 threadpoolctl-3.2.0\n",
      "\u001b[33mWARNING: Running pip as the 'root' user can result in broken permissions and conflicting behaviour with the system package manager. It is recommended to use a virtual environment instead: https://pip.pypa.io/warnings/venv\u001b[0m\u001b[33m\n",
      "\u001b[0m\n",
      "\u001b[1m[\u001b[0m\u001b[34;49mnotice\u001b[0m\u001b[1;39;49m]\u001b[0m\u001b[39;49m A new release of pip is available: \u001b[0m\u001b[31;49m23.3.1\u001b[0m\u001b[39;49m -> \u001b[0m\u001b[32;49m24.0\u001b[0m\n",
      "\u001b[1m[\u001b[0m\u001b[34;49mnotice\u001b[0m\u001b[1;39;49m]\u001b[0m\u001b[39;49m To update, run: \u001b[0m\u001b[32;49mpython3 -m pip install --upgrade pip\u001b[0m\n"
     ]
    }
   ],
   "source": [
    "!pip install -U scikit-learn"
   ]
  },
  {
   "cell_type": "code",
   "execution_count": 126,
   "id": "c33e82b1-f698-4040-ad63-b604df7f45f8",
   "metadata": {},
   "outputs": [],
   "source": [
    "# Train Test Split using scikit\n",
    "import tensorflow.keras as keras\n",
    "from sklearn.model_selection import train_test_split\n",
    "X_train, X_test, y_train, y_test = train_test_split(X, y, test_size=0.2, random_state=42)"
   ]
  },
  {
   "cell_type": "code",
   "execution_count": 125,
   "id": "c014c22b-79fc-46a7-b886-53209cbea6bc",
   "metadata": {},
   "outputs": [
    {
     "data": {
      "text/plain": [
       "(1338, 1070, 268)"
      ]
     },
     "execution_count": 125,
     "metadata": {},
     "output_type": "execute_result"
    }
   ],
   "source": [
    "len(X), len(X_train), len(X_test)"
   ]
  },
  {
   "cell_type": "code",
   "execution_count": 130,
   "id": "7d4ab837-7644-40bb-bbc3-bdc22cf7827c",
   "metadata": {},
   "outputs": [
    {
     "data": {
      "text/html": [
       "<div>\n",
       "<style scoped>\n",
       "    .dataframe tbody tr th:only-of-type {\n",
       "        vertical-align: middle;\n",
       "    }\n",
       "\n",
       "    .dataframe tbody tr th {\n",
       "        vertical-align: top;\n",
       "    }\n",
       "\n",
       "    .dataframe thead th {\n",
       "        text-align: right;\n",
       "    }\n",
       "</style>\n",
       "<table border=\"1\" class=\"dataframe\">\n",
       "  <thead>\n",
       "    <tr style=\"text-align: right;\">\n",
       "      <th></th>\n",
       "      <th>age</th>\n",
       "      <th>bmi</th>\n",
       "      <th>children</th>\n",
       "      <th>sex_female</th>\n",
       "      <th>sex_male</th>\n",
       "      <th>smoker_no</th>\n",
       "      <th>smoker_yes</th>\n",
       "      <th>region_northeast</th>\n",
       "      <th>region_northwest</th>\n",
       "      <th>region_southeast</th>\n",
       "      <th>region_southwest</th>\n",
       "    </tr>\n",
       "  </thead>\n",
       "  <tbody>\n",
       "    <tr>\n",
       "      <th>764</th>\n",
       "      <td>45</td>\n",
       "      <td>25.175</td>\n",
       "      <td>2</td>\n",
       "      <td>True</td>\n",
       "      <td>False</td>\n",
       "      <td>True</td>\n",
       "      <td>False</td>\n",
       "      <td>True</td>\n",
       "      <td>False</td>\n",
       "      <td>False</td>\n",
       "      <td>False</td>\n",
       "    </tr>\n",
       "    <tr>\n",
       "      <th>887</th>\n",
       "      <td>36</td>\n",
       "      <td>30.020</td>\n",
       "      <td>0</td>\n",
       "      <td>True</td>\n",
       "      <td>False</td>\n",
       "      <td>True</td>\n",
       "      <td>False</td>\n",
       "      <td>False</td>\n",
       "      <td>True</td>\n",
       "      <td>False</td>\n",
       "      <td>False</td>\n",
       "    </tr>\n",
       "    <tr>\n",
       "      <th>890</th>\n",
       "      <td>64</td>\n",
       "      <td>26.885</td>\n",
       "      <td>0</td>\n",
       "      <td>True</td>\n",
       "      <td>False</td>\n",
       "      <td>False</td>\n",
       "      <td>True</td>\n",
       "      <td>False</td>\n",
       "      <td>True</td>\n",
       "      <td>False</td>\n",
       "      <td>False</td>\n",
       "    </tr>\n",
       "    <tr>\n",
       "      <th>1293</th>\n",
       "      <td>46</td>\n",
       "      <td>25.745</td>\n",
       "      <td>3</td>\n",
       "      <td>False</td>\n",
       "      <td>True</td>\n",
       "      <td>True</td>\n",
       "      <td>False</td>\n",
       "      <td>False</td>\n",
       "      <td>True</td>\n",
       "      <td>False</td>\n",
       "      <td>False</td>\n",
       "    </tr>\n",
       "    <tr>\n",
       "      <th>259</th>\n",
       "      <td>19</td>\n",
       "      <td>31.920</td>\n",
       "      <td>0</td>\n",
       "      <td>False</td>\n",
       "      <td>True</td>\n",
       "      <td>False</td>\n",
       "      <td>True</td>\n",
       "      <td>False</td>\n",
       "      <td>True</td>\n",
       "      <td>False</td>\n",
       "      <td>False</td>\n",
       "    </tr>\n",
       "  </tbody>\n",
       "</table>\n",
       "</div>"
      ],
      "text/plain": [
       "      age     bmi  children  sex_female  sex_male  smoker_no  smoker_yes  \\\n",
       "764    45  25.175         2        True     False       True       False   \n",
       "887    36  30.020         0        True     False       True       False   \n",
       "890    64  26.885         0        True     False      False        True   \n",
       "1293   46  25.745         3       False      True       True       False   \n",
       "259    19  31.920         0       False      True      False        True   \n",
       "\n",
       "      region_northeast  region_northwest  region_southeast  region_southwest  \n",
       "764               True             False             False             False  \n",
       "887              False              True             False             False  \n",
       "890              False              True             False             False  \n",
       "1293             False              True             False             False  \n",
       "259              False              True             False             False  "
      ]
     },
     "execution_count": 130,
     "metadata": {},
     "output_type": "execute_result"
    }
   ],
   "source": [
    "X_test.head()"
   ]
  },
  {
   "cell_type": "code",
   "execution_count": 117,
   "id": "bbd938bc-d5f7-4060-840a-c7260e1a81d2",
   "metadata": {},
   "outputs": [
    {
     "name": "stdout",
     "output_type": "stream",
     "text": [
      "Epoch 1/50\n",
      "34/34 [==============================] - 0s 779us/step - loss: 8845.9727 - mae: 8845.9727\n",
      "Epoch 2/50\n",
      "34/34 [==============================] - 0s 654us/step - loss: 7059.5215 - mae: 7059.5215\n",
      "Epoch 3/50\n",
      "34/34 [==============================] - 0s 736us/step - loss: 6388.6113 - mae: 6388.6113\n",
      "Epoch 4/50\n",
      "34/34 [==============================] - 0s 705us/step - loss: 5966.0889 - mae: 5966.0889\n",
      "Epoch 5/50\n",
      "34/34 [==============================] - 0s 660us/step - loss: 5231.3037 - mae: 5231.3037\n",
      "Epoch 6/50\n",
      "34/34 [==============================] - 0s 670us/step - loss: 4219.8315 - mae: 4219.8315\n",
      "Epoch 7/50\n",
      "34/34 [==============================] - 0s 672us/step - loss: 4288.0181 - mae: 4288.0181\n",
      "Epoch 8/50\n",
      "34/34 [==============================] - 0s 594us/step - loss: 3959.1458 - mae: 3959.1458\n",
      "Epoch 9/50\n",
      "34/34 [==============================] - 0s 623us/step - loss: 3884.5237 - mae: 3884.5237\n",
      "Epoch 10/50\n",
      "34/34 [==============================] - 0s 615us/step - loss: 3908.8127 - mae: 3908.8127\n",
      "Epoch 11/50\n",
      "34/34 [==============================] - 0s 648us/step - loss: 3755.2117 - mae: 3755.2117\n",
      "Epoch 12/50\n",
      "34/34 [==============================] - 0s 602us/step - loss: 3754.8855 - mae: 3754.8855\n",
      "Epoch 13/50\n",
      "34/34 [==============================] - 0s 596us/step - loss: 3719.1284 - mae: 3719.1284\n",
      "Epoch 14/50\n",
      "34/34 [==============================] - 0s 583us/step - loss: 3695.1697 - mae: 3695.1697\n",
      "Epoch 15/50\n",
      "34/34 [==============================] - 0s 597us/step - loss: 3734.8962 - mae: 3734.8962\n",
      "Epoch 16/50\n",
      "34/34 [==============================] - 0s 646us/step - loss: 3728.4556 - mae: 3728.4556\n",
      "Epoch 17/50\n",
      "34/34 [==============================] - 0s 616us/step - loss: 3769.3867 - mae: 3769.3867\n",
      "Epoch 18/50\n",
      "34/34 [==============================] - 0s 604us/step - loss: 3724.4438 - mae: 3724.4438\n",
      "Epoch 19/50\n",
      "34/34 [==============================] - 0s 682us/step - loss: 3684.8127 - mae: 3684.8127\n",
      "Epoch 20/50\n",
      "34/34 [==============================] - 0s 636us/step - loss: 3627.3721 - mae: 3627.3721\n",
      "Epoch 21/50\n",
      "34/34 [==============================] - 0s 628us/step - loss: 3756.1355 - mae: 3756.1355\n",
      "Epoch 22/50\n",
      "34/34 [==============================] - 0s 599us/step - loss: 3645.0635 - mae: 3645.0635\n",
      "Epoch 23/50\n",
      "34/34 [==============================] - 0s 597us/step - loss: 3665.0952 - mae: 3665.0952\n",
      "Epoch 24/50\n",
      "34/34 [==============================] - 0s 569us/step - loss: 3757.9934 - mae: 3757.9934\n",
      "Epoch 25/50\n",
      "34/34 [==============================] - 0s 679us/step - loss: 3785.8325 - mae: 3785.8325\n",
      "Epoch 26/50\n",
      "34/34 [==============================] - 0s 662us/step - loss: 3593.6077 - mae: 3593.6077\n",
      "Epoch 27/50\n",
      "34/34 [==============================] - 0s 678us/step - loss: 3602.5342 - mae: 3602.5342\n",
      "Epoch 28/50\n",
      "34/34 [==============================] - 0s 641us/step - loss: 3582.9526 - mae: 3582.9526\n",
      "Epoch 29/50\n",
      "34/34 [==============================] - 0s 619us/step - loss: 3617.9463 - mae: 3617.9463\n",
      "Epoch 30/50\n",
      "34/34 [==============================] - 0s 615us/step - loss: 3832.3367 - mae: 3832.3367\n",
      "Epoch 31/50\n",
      "34/34 [==============================] - 0s 727us/step - loss: 3808.6699 - mae: 3808.6699\n",
      "Epoch 32/50\n",
      "34/34 [==============================] - 0s 646us/step - loss: 3557.0896 - mae: 3557.0896\n",
      "Epoch 33/50\n",
      "34/34 [==============================] - 0s 597us/step - loss: 3591.0713 - mae: 3591.0713\n",
      "Epoch 34/50\n",
      "34/34 [==============================] - 0s 595us/step - loss: 3646.2095 - mae: 3646.2095\n",
      "Epoch 35/50\n",
      "34/34 [==============================] - 0s 657us/step - loss: 3618.9016 - mae: 3618.9016\n",
      "Epoch 36/50\n",
      "34/34 [==============================] - 0s 616us/step - loss: 3614.4719 - mae: 3614.4719\n",
      "Epoch 37/50\n",
      "34/34 [==============================] - 0s 640us/step - loss: 3585.0862 - mae: 3585.0862\n",
      "Epoch 38/50\n",
      "34/34 [==============================] - 0s 661us/step - loss: 3599.3428 - mae: 3599.3428\n",
      "Epoch 39/50\n",
      "34/34 [==============================] - 0s 625us/step - loss: 3582.5938 - mae: 3582.5938\n",
      "Epoch 40/50\n",
      "34/34 [==============================] - 0s 715us/step - loss: 3581.3430 - mae: 3581.3430\n",
      "Epoch 41/50\n",
      "34/34 [==============================] - 0s 639us/step - loss: 3527.9341 - mae: 3527.9341\n",
      "Epoch 42/50\n",
      "34/34 [==============================] - 0s 629us/step - loss: 3527.6462 - mae: 3527.6462\n",
      "Epoch 43/50\n",
      "34/34 [==============================] - 0s 648us/step - loss: 3644.7649 - mae: 3644.7649\n",
      "Epoch 44/50\n",
      "34/34 [==============================] - 0s 622us/step - loss: 3574.6052 - mae: 3574.6052\n",
      "Epoch 45/50\n",
      "34/34 [==============================] - 0s 665us/step - loss: 3545.0759 - mae: 3545.0759\n",
      "Epoch 46/50\n",
      "34/34 [==============================] - 0s 660us/step - loss: 3536.1440 - mae: 3536.1440\n",
      "Epoch 47/50\n",
      "34/34 [==============================] - 0s 694us/step - loss: 3622.3245 - mae: 3622.3245\n",
      "Epoch 48/50\n",
      "34/34 [==============================] - 0s 699us/step - loss: 3604.8564 - mae: 3604.8564\n",
      "Epoch 49/50\n",
      "34/34 [==============================] - 0s 665us/step - loss: 3559.1694 - mae: 3559.1694\n",
      "Epoch 50/50\n",
      "34/34 [==============================] - 0s 761us/step - loss: 3565.9927 - mae: 3565.9927\n"
     ]
    },
    {
     "data": {
      "text/plain": [
       "<keras.src.callbacks.History at 0x7fceb7454250>"
      ]
     },
     "execution_count": 117,
     "metadata": {},
     "output_type": "execute_result"
    }
   ],
   "source": [
    "#Model\n",
    "\n",
    "tf.random.set_seed(42)\n",
    "\n",
    "insurance_model = tf.keras.Sequential([\n",
    "    tf.keras.layers.Dense(100),\n",
    "    #tf.keras.layers.Dense(40),\n",
    "    tf.keras.layers.Dense(1),\n",
    "])\n",
    "\n",
    "insurance_model.compile(loss=tf.keras.losses.mae,\n",
    "                        optimizer=tf.keras.optimizers.Adam(learning_rate=0.1),\n",
    "                        metrics=[\"mae\"])\n",
    "\n",
    "X_train = np.asarray(X_train).astype(np.float32)\n",
    "#y_train = np.asarray(y_train).astype('float32')\n",
    "\n",
    "insurance_model.fit(X_train, y_train, epochs=50)\n",
    "    \n",
    "    "
   ]
  },
  {
   "cell_type": "code",
   "execution_count": 133,
   "id": "55150043-0923-451a-8473-63077a0c8462",
   "metadata": {},
   "outputs": [
    {
     "name": "stdout",
     "output_type": "stream",
     "text": [
      "9/9 [==============================] - 0s 811us/step - loss: 3181.0225 - mae: 3181.0225\n"
     ]
    },
    {
     "data": {
      "text/plain": [
       "[3181.0224609375, 3181.0224609375]"
      ]
     },
     "execution_count": 133,
     "metadata": {},
     "output_type": "execute_result"
    }
   ],
   "source": [
    "X_test = np.asarray(X_test).astype(np.float32)\n",
    "y_test = np.asarray(y_test).astype(np.float32)\n",
    "insurance_model.evaluate(X_test, y_test)"
   ]
  },
  {
   "cell_type": "code",
   "execution_count": 136,
   "id": "91feec98-44d7-47c4-9ee2-3e8465d7e8e7",
   "metadata": {},
   "outputs": [
    {
     "data": {
      "text/plain": [
       "(9575.4421, 13346.089736364485)"
      ]
     },
     "execution_count": 136,
     "metadata": {},
     "output_type": "execute_result"
    }
   ],
   "source": [
    "y_train.median(), y_train.mean()"
   ]
  },
  {
   "cell_type": "markdown",
   "id": "e71f7739-7b1e-4dca-b536-809ff87e2224",
   "metadata": {},
   "source": [
    "## Improve model\n",
    "\n",
    "1) Add extra layer\n",
    "2) Train for longer\n"
   ]
  },
  {
   "cell_type": "code",
   "execution_count": 147,
   "id": "dc98a413-4904-4753-b327-b3ce5feac699",
   "metadata": {},
   "outputs": [
    {
     "name": "stdout",
     "output_type": "stream",
     "text": [
      "Epoch 1/200\n",
      "34/34 [==============================] - 0s 784us/step - loss: 10525.3174 - mae: 10525.3174\n",
      "Epoch 2/200\n",
      "34/34 [==============================] - 0s 722us/step - loss: 6013.5176 - mae: 6013.5176\n",
      "Epoch 3/200\n",
      "34/34 [==============================] - 0s 778us/step - loss: 6444.5708 - mae: 6444.5708\n",
      "Epoch 4/200\n",
      "34/34 [==============================] - 0s 710us/step - loss: 5321.6733 - mae: 5321.6733\n",
      "Epoch 5/200\n",
      "34/34 [==============================] - 0s 648us/step - loss: 7070.4907 - mae: 7070.4907\n",
      "Epoch 6/200\n",
      "34/34 [==============================] - 0s 679us/step - loss: 5292.4946 - mae: 5292.4946\n",
      "Epoch 7/200\n",
      "34/34 [==============================] - 0s 667us/step - loss: 4264.1113 - mae: 4264.1113\n",
      "Epoch 8/200\n",
      "34/34 [==============================] - 0s 669us/step - loss: 4948.2075 - mae: 4948.2075\n",
      "Epoch 9/200\n",
      "34/34 [==============================] - 0s 675us/step - loss: 4546.3779 - mae: 4546.3779\n",
      "Epoch 10/200\n",
      "34/34 [==============================] - 0s 758us/step - loss: 4286.6582 - mae: 4286.6582\n",
      "Epoch 11/200\n",
      "34/34 [==============================] - 0s 706us/step - loss: 4407.6748 - mae: 4407.6748\n",
      "Epoch 12/200\n",
      "34/34 [==============================] - 0s 703us/step - loss: 4151.8062 - mae: 4151.8062\n",
      "Epoch 13/200\n",
      "34/34 [==============================] - 0s 721us/step - loss: 4122.1406 - mae: 4122.1406\n",
      "Epoch 14/200\n",
      "34/34 [==============================] - 0s 646us/step - loss: 4576.0391 - mae: 4576.0391\n",
      "Epoch 15/200\n",
      "34/34 [==============================] - 0s 643us/step - loss: 4389.8843 - mae: 4389.8843\n",
      "Epoch 16/200\n",
      "34/34 [==============================] - 0s 608us/step - loss: 5158.2173 - mae: 5158.2173\n",
      "Epoch 17/200\n",
      "34/34 [==============================] - 0s 620us/step - loss: 4076.3174 - mae: 4076.3174\n",
      "Epoch 18/200\n",
      "34/34 [==============================] - 0s 631us/step - loss: 4582.8364 - mae: 4582.8364\n",
      "Epoch 19/200\n",
      "34/34 [==============================] - 0s 669us/step - loss: 5187.0337 - mae: 5187.0337\n",
      "Epoch 20/200\n",
      "34/34 [==============================] - 0s 714us/step - loss: 5003.9331 - mae: 5003.9331\n",
      "Epoch 21/200\n",
      "34/34 [==============================] - 0s 753us/step - loss: 4088.9429 - mae: 4088.9429\n",
      "Epoch 22/200\n",
      "34/34 [==============================] - 0s 726us/step - loss: 4150.9912 - mae: 4150.9912\n",
      "Epoch 23/200\n",
      "34/34 [==============================] - 0s 721us/step - loss: 4204.0508 - mae: 4204.0508\n",
      "Epoch 24/200\n",
      "34/34 [==============================] - 0s 635us/step - loss: 3913.8374 - mae: 3913.8374\n",
      "Epoch 25/200\n",
      "34/34 [==============================] - 0s 640us/step - loss: 4962.6797 - mae: 4962.6797\n",
      "Epoch 26/200\n",
      "34/34 [==============================] - 0s 696us/step - loss: 3977.5850 - mae: 3977.5850\n",
      "Epoch 27/200\n",
      "34/34 [==============================] - 0s 647us/step - loss: 4200.8398 - mae: 4200.8398\n",
      "Epoch 28/200\n",
      "34/34 [==============================] - 0s 619us/step - loss: 4000.0803 - mae: 4000.0803\n",
      "Epoch 29/200\n",
      "34/34 [==============================] - 0s 651us/step - loss: 3954.5972 - mae: 3954.5972\n",
      "Epoch 30/200\n",
      "34/34 [==============================] - 0s 670us/step - loss: 4022.8210 - mae: 4022.8210\n",
      "Epoch 31/200\n",
      "34/34 [==============================] - 0s 772us/step - loss: 3788.0720 - mae: 3788.0720\n",
      "Epoch 32/200\n",
      "34/34 [==============================] - 0s 699us/step - loss: 4224.8652 - mae: 4224.8652\n",
      "Epoch 33/200\n",
      "34/34 [==============================] - 0s 712us/step - loss: 4660.4736 - mae: 4660.4736\n",
      "Epoch 34/200\n",
      "34/34 [==============================] - 0s 681us/step - loss: 10454.3389 - mae: 10454.3389\n",
      "Epoch 35/200\n",
      "34/34 [==============================] - 0s 682us/step - loss: 15505.1543 - mae: 15505.1543\n",
      "Epoch 36/200\n",
      "34/34 [==============================] - 0s 675us/step - loss: 77163.9688 - mae: 77163.9688\n",
      "Epoch 37/200\n",
      "34/34 [==============================] - 0s 661us/step - loss: 38391.4648 - mae: 38391.4648\n",
      "Epoch 38/200\n",
      "34/34 [==============================] - 0s 680us/step - loss: 6911.2104 - mae: 6911.2104\n",
      "Epoch 39/200\n",
      "34/34 [==============================] - 0s 664us/step - loss: 4605.4609 - mae: 4605.4609\n",
      "Epoch 40/200\n",
      "34/34 [==============================] - 0s 708us/step - loss: 4138.0522 - mae: 4138.0522\n",
      "Epoch 41/200\n",
      "34/34 [==============================] - 0s 647us/step - loss: 4280.8638 - mae: 4280.8638\n",
      "Epoch 42/200\n",
      "34/34 [==============================] - 0s 653us/step - loss: 4288.2227 - mae: 4288.2227\n",
      "Epoch 43/200\n",
      "34/34 [==============================] - 0s 646us/step - loss: 5079.0151 - mae: 5079.0151\n",
      "Epoch 44/200\n",
      "34/34 [==============================] - 0s 678us/step - loss: 4065.3962 - mae: 4065.3962\n",
      "Epoch 45/200\n",
      "34/34 [==============================] - 0s 719us/step - loss: 3835.2600 - mae: 3835.2600\n",
      "Epoch 46/200\n",
      "34/34 [==============================] - 0s 697us/step - loss: 4023.4592 - mae: 4023.4592\n",
      "Epoch 47/200\n",
      "34/34 [==============================] - 0s 708us/step - loss: 4105.5317 - mae: 4105.5317\n",
      "Epoch 48/200\n",
      "34/34 [==============================] - 0s 653us/step - loss: 3925.1514 - mae: 3925.1514\n",
      "Epoch 49/200\n",
      "34/34 [==============================] - 0s 683us/step - loss: 3851.4368 - mae: 3851.4368\n",
      "Epoch 50/200\n",
      "34/34 [==============================] - 0s 680us/step - loss: 4023.4883 - mae: 4023.4883\n",
      "Epoch 51/200\n",
      "34/34 [==============================] - 0s 646us/step - loss: 3898.9683 - mae: 3898.9683\n",
      "Epoch 52/200\n",
      "34/34 [==============================] - 0s 652us/step - loss: 3946.7305 - mae: 3946.7305\n",
      "Epoch 53/200\n",
      "34/34 [==============================] - 0s 716us/step - loss: 3764.1846 - mae: 3764.1846\n",
      "Epoch 54/200\n",
      "34/34 [==============================] - 0s 731us/step - loss: 4133.1802 - mae: 4133.1802\n",
      "Epoch 55/200\n",
      "34/34 [==============================] - 0s 724us/step - loss: 4049.8247 - mae: 4049.8247\n",
      "Epoch 56/200\n",
      "34/34 [==============================] - 0s 663us/step - loss: 4109.6934 - mae: 4109.6934\n",
      "Epoch 57/200\n",
      "34/34 [==============================] - 0s 659us/step - loss: 4059.2812 - mae: 4059.2812\n",
      "Epoch 58/200\n",
      "34/34 [==============================] - 0s 616us/step - loss: 3947.9355 - mae: 3947.9355\n",
      "Epoch 59/200\n",
      "34/34 [==============================] - 0s 693us/step - loss: 3681.4609 - mae: 3681.4609\n",
      "Epoch 60/200\n",
      "34/34 [==============================] - 0s 666us/step - loss: 3936.6504 - mae: 3936.6504\n",
      "Epoch 61/200\n",
      "34/34 [==============================] - 0s 706us/step - loss: 3971.9207 - mae: 3971.9207\n",
      "Epoch 62/200\n",
      "34/34 [==============================] - 0s 639us/step - loss: 3881.8271 - mae: 3881.8271\n",
      "Epoch 63/200\n",
      "34/34 [==============================] - 0s 662us/step - loss: 3975.0476 - mae: 3975.0476\n",
      "Epoch 64/200\n",
      "34/34 [==============================] - 0s 641us/step - loss: 4043.3062 - mae: 4043.3062\n",
      "Epoch 65/200\n",
      "34/34 [==============================] - 0s 704us/step - loss: 3935.9917 - mae: 3935.9917\n",
      "Epoch 66/200\n",
      "34/34 [==============================] - 0s 666us/step - loss: 4084.8462 - mae: 4084.8462\n",
      "Epoch 67/200\n",
      "34/34 [==============================] - 0s 761us/step - loss: 4099.2344 - mae: 4099.2344\n",
      "Epoch 68/200\n",
      "34/34 [==============================] - 0s 762us/step - loss: 4417.8760 - mae: 4417.8760\n",
      "Epoch 69/200\n",
      "34/34 [==============================] - 0s 670us/step - loss: 4054.7878 - mae: 4054.7878\n",
      "Epoch 70/200\n",
      "34/34 [==============================] - 0s 687us/step - loss: 4056.7412 - mae: 4056.7412\n",
      "Epoch 71/200\n",
      "34/34 [==============================] - 0s 694us/step - loss: 4288.5742 - mae: 4288.5742\n",
      "Epoch 72/200\n",
      "34/34 [==============================] - 0s 639us/step - loss: 3858.1187 - mae: 3858.1187\n",
      "Epoch 73/200\n",
      "34/34 [==============================] - 0s 661us/step - loss: 3945.1877 - mae: 3945.1877\n",
      "Epoch 74/200\n",
      "34/34 [==============================] - 0s 636us/step - loss: 3946.2715 - mae: 3946.2715\n",
      "Epoch 75/200\n",
      "34/34 [==============================] - 0s 653us/step - loss: 3793.6570 - mae: 3793.6570\n",
      "Epoch 76/200\n",
      "34/34 [==============================] - 0s 641us/step - loss: 3873.6099 - mae: 3873.6099\n",
      "Epoch 77/200\n",
      "34/34 [==============================] - 0s 656us/step - loss: 4106.6436 - mae: 4106.6436\n",
      "Epoch 78/200\n",
      "34/34 [==============================] - 0s 697us/step - loss: 3955.6968 - mae: 3955.6968\n",
      "Epoch 79/200\n",
      "34/34 [==============================] - 0s 718us/step - loss: 4242.1025 - mae: 4242.1025\n",
      "Epoch 80/200\n",
      "34/34 [==============================] - 0s 747us/step - loss: 3897.9880 - mae: 3897.9880\n",
      "Epoch 81/200\n",
      "34/34 [==============================] - 0s 665us/step - loss: 4590.3091 - mae: 4590.3091\n",
      "Epoch 82/200\n",
      "34/34 [==============================] - 0s 724us/step - loss: 4490.5908 - mae: 4490.5908\n",
      "Epoch 83/200\n",
      "34/34 [==============================] - 0s 688us/step - loss: 4141.6377 - mae: 4141.6377\n",
      "Epoch 84/200\n",
      "34/34 [==============================] - 0s 763us/step - loss: 3903.9800 - mae: 3903.9800\n",
      "Epoch 85/200\n",
      "34/34 [==============================] - 0s 645us/step - loss: 3732.5100 - mae: 3732.5100\n",
      "Epoch 86/200\n",
      "34/34 [==============================] - 0s 657us/step - loss: 3825.9041 - mae: 3825.9041\n",
      "Epoch 87/200\n",
      "34/34 [==============================] - 0s 652us/step - loss: 4331.5542 - mae: 4331.5542\n",
      "Epoch 88/200\n",
      "34/34 [==============================] - 0s 729us/step - loss: 3765.6414 - mae: 3765.6414\n",
      "Epoch 89/200\n",
      "34/34 [==============================] - 0s 655us/step - loss: 4026.8186 - mae: 4026.8186\n",
      "Epoch 90/200\n",
      "34/34 [==============================] - 0s 676us/step - loss: 4578.7163 - mae: 4578.7163\n",
      "Epoch 91/200\n",
      "34/34 [==============================] - 0s 654us/step - loss: 3679.4592 - mae: 3679.4592\n",
      "Epoch 92/200\n",
      "34/34 [==============================] - 0s 660us/step - loss: 4160.3179 - mae: 4160.3179\n",
      "Epoch 93/200\n",
      "34/34 [==============================] - 0s 652us/step - loss: 3903.5752 - mae: 3903.5752\n",
      "Epoch 94/200\n",
      "34/34 [==============================] - 0s 685us/step - loss: 3947.0286 - mae: 3947.0286\n",
      "Epoch 95/200\n",
      "34/34 [==============================] - 0s 717us/step - loss: 3724.9302 - mae: 3724.9302\n",
      "Epoch 96/200\n",
      "34/34 [==============================] - 0s 685us/step - loss: 3892.6897 - mae: 3892.6897\n",
      "Epoch 97/200\n",
      "34/34 [==============================] - 0s 742us/step - loss: 3958.5710 - mae: 3958.5710\n",
      "Epoch 98/200\n",
      "34/34 [==============================] - 0s 639us/step - loss: 3884.8799 - mae: 3884.8799\n",
      "Epoch 99/200\n",
      "34/34 [==============================] - 0s 662us/step - loss: 3977.1697 - mae: 3977.1697\n",
      "Epoch 100/200\n",
      "34/34 [==============================] - 0s 612us/step - loss: 3698.6108 - mae: 3698.6108\n",
      "Epoch 101/200\n",
      "34/34 [==============================] - 0s 681us/step - loss: 3930.3943 - mae: 3930.3943\n",
      "Epoch 102/200\n",
      "34/34 [==============================] - 0s 652us/step - loss: 3849.6096 - mae: 3849.6096\n",
      "Epoch 103/200\n",
      "34/34 [==============================] - 0s 631us/step - loss: 3915.8469 - mae: 3915.8469\n",
      "Epoch 104/200\n",
      "34/34 [==============================] - 0s 643us/step - loss: 3934.2480 - mae: 3934.2480\n",
      "Epoch 105/200\n",
      "34/34 [==============================] - 0s 611us/step - loss: 3901.8269 - mae: 3901.8269\n",
      "Epoch 106/200\n",
      "34/34 [==============================] - 0s 632us/step - loss: 3802.0986 - mae: 3802.0986\n",
      "Epoch 107/200\n",
      "34/34 [==============================] - 0s 652us/step - loss: 3961.7424 - mae: 3961.7424\n",
      "Epoch 108/200\n",
      "34/34 [==============================] - 0s 618us/step - loss: 3701.2915 - mae: 3701.2915\n",
      "Epoch 109/200\n",
      "34/34 [==============================] - 0s 679us/step - loss: 3928.6279 - mae: 3928.6279\n",
      "Epoch 110/200\n",
      "34/34 [==============================] - 0s 711us/step - loss: 4348.3340 - mae: 4348.3340\n",
      "Epoch 111/200\n",
      "34/34 [==============================] - 0s 733us/step - loss: 4159.7441 - mae: 4159.7441\n",
      "Epoch 112/200\n",
      "34/34 [==============================] - 0s 704us/step - loss: 4134.3872 - mae: 4134.3872\n",
      "Epoch 113/200\n",
      "34/34 [==============================] - 0s 729us/step - loss: 4454.7207 - mae: 4454.7207\n",
      "Epoch 114/200\n",
      "34/34 [==============================] - 0s 702us/step - loss: 4118.2881 - mae: 4118.2881\n",
      "Epoch 115/200\n",
      "34/34 [==============================] - 0s 697us/step - loss: 4427.2261 - mae: 4427.2261\n",
      "Epoch 116/200\n",
      "34/34 [==============================] - 0s 695us/step - loss: 4170.1465 - mae: 4170.1465\n",
      "Epoch 117/200\n",
      "34/34 [==============================] - 0s 658us/step - loss: 4749.7256 - mae: 4749.7256\n",
      "Epoch 118/200\n",
      "34/34 [==============================] - 0s 645us/step - loss: 4888.8477 - mae: 4888.8477\n",
      "Epoch 119/200\n",
      "34/34 [==============================] - 0s 667us/step - loss: 4298.2051 - mae: 4298.2051\n",
      "Epoch 120/200\n",
      "34/34 [==============================] - 0s 724us/step - loss: 3862.3325 - mae: 3862.3325\n",
      "Epoch 121/200\n",
      "34/34 [==============================] - 0s 686us/step - loss: 3823.0632 - mae: 3823.0632\n",
      "Epoch 122/200\n",
      "34/34 [==============================] - 0s 732us/step - loss: 4080.4766 - mae: 4080.4766\n",
      "Epoch 123/200\n",
      "34/34 [==============================] - 0s 668us/step - loss: 4046.2966 - mae: 4046.2966\n",
      "Epoch 124/200\n",
      "34/34 [==============================] - 0s 663us/step - loss: 3850.6904 - mae: 3850.6904\n",
      "Epoch 125/200\n",
      "34/34 [==============================] - 0s 686us/step - loss: 3779.5674 - mae: 3779.5674\n",
      "Epoch 126/200\n",
      "34/34 [==============================] - 0s 630us/step - loss: 4090.9150 - mae: 4090.9150\n",
      "Epoch 127/200\n",
      "34/34 [==============================] - 0s 773us/step - loss: 3973.0491 - mae: 3973.0491\n",
      "Epoch 128/200\n",
      "34/34 [==============================] - 0s 673us/step - loss: 3919.9004 - mae: 3919.9004\n",
      "Epoch 129/200\n",
      "34/34 [==============================] - 0s 665us/step - loss: 3934.2725 - mae: 3934.2725\n",
      "Epoch 130/200\n",
      "34/34 [==============================] - 0s 658us/step - loss: 4008.2454 - mae: 4008.2454\n",
      "Epoch 131/200\n",
      "34/34 [==============================] - 0s 644us/step - loss: 3927.9131 - mae: 3927.9131\n",
      "Epoch 132/200\n",
      "34/34 [==============================] - 0s 661us/step - loss: 4181.0088 - mae: 4181.0088\n",
      "Epoch 133/200\n",
      "34/34 [==============================] - 0s 712us/step - loss: 4057.0906 - mae: 4057.0906\n",
      "Epoch 134/200\n",
      "34/34 [==============================] - 0s 710us/step - loss: 3908.7834 - mae: 3908.7834\n",
      "Epoch 135/200\n",
      "34/34 [==============================] - 0s 744us/step - loss: 4052.2612 - mae: 4052.2612\n",
      "Epoch 136/200\n",
      "34/34 [==============================] - 0s 687us/step - loss: 4164.0010 - mae: 4164.0010\n",
      "Epoch 137/200\n",
      "34/34 [==============================] - 0s 659us/step - loss: 3948.0286 - mae: 3948.0286\n",
      "Epoch 138/200\n",
      "34/34 [==============================] - 0s 652us/step - loss: 4289.2725 - mae: 4289.2725\n",
      "Epoch 139/200\n",
      "34/34 [==============================] - 0s 661us/step - loss: 4038.7429 - mae: 4038.7429\n",
      "Epoch 140/200\n",
      "34/34 [==============================] - 0s 682us/step - loss: 3937.8435 - mae: 3937.8435\n",
      "Epoch 141/200\n",
      "34/34 [==============================] - 0s 644us/step - loss: 4248.6279 - mae: 4248.6279\n",
      "Epoch 142/200\n",
      "34/34 [==============================] - 0s 670us/step - loss: 7431.1553 - mae: 7431.1553\n",
      "Epoch 143/200\n",
      "34/34 [==============================] - 0s 687us/step - loss: 11838.9014 - mae: 11838.9014\n",
      "Epoch 144/200\n",
      "34/34 [==============================] - 0s 703us/step - loss: 10227.4629 - mae: 10227.4629\n",
      "Epoch 145/200\n",
      "34/34 [==============================] - 0s 624us/step - loss: 20805.3262 - mae: 20805.3262\n",
      "Epoch 146/200\n",
      "34/34 [==============================] - 0s 676us/step - loss: 20057.8008 - mae: 20057.8008\n",
      "Epoch 147/200\n",
      "34/34 [==============================] - 0s 672us/step - loss: 124460.5234 - mae: 124460.5234\n",
      "Epoch 148/200\n",
      "34/34 [==============================] - 0s 674us/step - loss: 45501.4688 - mae: 45501.4688\n",
      "Epoch 149/200\n",
      "34/34 [==============================] - 0s 664us/step - loss: 4713.3462 - mae: 4713.3462\n",
      "Epoch 150/200\n",
      "34/34 [==============================] - 0s 635us/step - loss: 4501.3823 - mae: 4501.3823\n",
      "Epoch 151/200\n",
      "34/34 [==============================] - 0s 638us/step - loss: 5082.8511 - mae: 5082.8511\n",
      "Epoch 152/200\n",
      "34/34 [==============================] - 0s 675us/step - loss: 4403.5659 - mae: 4403.5659\n",
      "Epoch 153/200\n",
      "34/34 [==============================] - 0s 650us/step - loss: 4113.9136 - mae: 4113.9136\n",
      "Epoch 154/200\n",
      "34/34 [==============================] - 0s 686us/step - loss: 4711.4839 - mae: 4711.4839\n",
      "Epoch 155/200\n",
      "34/34 [==============================] - 0s 647us/step - loss: 4221.7573 - mae: 4221.7573\n",
      "Epoch 156/200\n",
      "34/34 [==============================] - 0s 715us/step - loss: 4184.0654 - mae: 4184.0654\n",
      "Epoch 157/200\n",
      "34/34 [==============================] - 0s 709us/step - loss: 3951.4924 - mae: 3951.4924\n",
      "Epoch 158/200\n",
      "34/34 [==============================] - 0s 755us/step - loss: 4257.0796 - mae: 4257.0796\n",
      "Epoch 159/200\n",
      "34/34 [==============================] - 0s 665us/step - loss: 3919.6277 - mae: 3919.6277\n",
      "Epoch 160/200\n",
      "34/34 [==============================] - 0s 670us/step - loss: 3868.3613 - mae: 3868.3613\n",
      "Epoch 161/200\n",
      "34/34 [==============================] - 0s 701us/step - loss: 4037.4448 - mae: 4037.4448\n",
      "Epoch 162/200\n",
      "34/34 [==============================] - 0s 747us/step - loss: 3949.3052 - mae: 3949.3052\n",
      "Epoch 163/200\n",
      "34/34 [==============================] - 0s 721us/step - loss: 4172.3931 - mae: 4172.3931\n",
      "Epoch 164/200\n",
      "34/34 [==============================] - 0s 669us/step - loss: 3783.7483 - mae: 3783.7483\n",
      "Epoch 165/200\n",
      "34/34 [==============================] - 0s 642us/step - loss: 3784.8137 - mae: 3784.8137\n",
      "Epoch 166/200\n",
      "34/34 [==============================] - 0s 690us/step - loss: 3753.8811 - mae: 3753.8811\n",
      "Epoch 167/200\n",
      "34/34 [==============================] - 0s 629us/step - loss: 3908.1853 - mae: 3908.1853\n",
      "Epoch 168/200\n",
      "34/34 [==============================] - 0s 740us/step - loss: 3874.7273 - mae: 3874.7273\n",
      "Epoch 169/200\n",
      "34/34 [==============================] - 0s 664us/step - loss: 3828.1663 - mae: 3828.1663\n",
      "Epoch 170/200\n",
      "34/34 [==============================] - 0s 728us/step - loss: 3777.7576 - mae: 3777.7576\n",
      "Epoch 171/200\n",
      "34/34 [==============================] - 0s 664us/step - loss: 3910.5593 - mae: 3910.5593\n",
      "Epoch 172/200\n",
      "34/34 [==============================] - 0s 704us/step - loss: 3782.4966 - mae: 3782.4966\n",
      "Epoch 173/200\n",
      "34/34 [==============================] - 0s 643us/step - loss: 3905.3086 - mae: 3905.3086\n",
      "Epoch 174/200\n",
      "34/34 [==============================] - 0s 670us/step - loss: 3830.6304 - mae: 3830.6304\n",
      "Epoch 175/200\n",
      "34/34 [==============================] - 0s 714us/step - loss: 3918.3359 - mae: 3918.3359\n",
      "Epoch 176/200\n",
      "34/34 [==============================] - 0s 694us/step - loss: 4030.4863 - mae: 4030.4863\n",
      "Epoch 177/200\n",
      "34/34 [==============================] - 0s 664us/step - loss: 4261.5728 - mae: 4261.5728\n",
      "Epoch 178/200\n",
      "34/34 [==============================] - 0s 673us/step - loss: 4145.1025 - mae: 4145.1025\n",
      "Epoch 179/200\n",
      "34/34 [==============================] - 0s 650us/step - loss: 4110.7480 - mae: 4110.7480\n",
      "Epoch 180/200\n",
      "34/34 [==============================] - 0s 656us/step - loss: 3607.9041 - mae: 3607.9041\n",
      "Epoch 181/200\n",
      "34/34 [==============================] - 0s 688us/step - loss: 3742.4641 - mae: 3742.4641\n",
      "Epoch 182/200\n",
      "34/34 [==============================] - 0s 671us/step - loss: 3899.0146 - mae: 3899.0146\n",
      "Epoch 183/200\n",
      "34/34 [==============================] - 0s 672us/step - loss: 4286.6987 - mae: 4286.6987\n",
      "Epoch 184/200\n",
      "34/34 [==============================] - 0s 715us/step - loss: 4241.7856 - mae: 4241.7856\n",
      "Epoch 185/200\n",
      "34/34 [==============================] - 0s 640us/step - loss: 3827.8464 - mae: 3827.8464\n",
      "Epoch 186/200\n",
      "34/34 [==============================] - 0s 637us/step - loss: 4104.1030 - mae: 4104.1030\n",
      "Epoch 187/200\n",
      "34/34 [==============================] - 0s 652us/step - loss: 3773.9434 - mae: 3773.9434\n",
      "Epoch 188/200\n",
      "34/34 [==============================] - 0s 721us/step - loss: 4007.7449 - mae: 4007.7449\n",
      "Epoch 189/200\n",
      "34/34 [==============================] - 0s 754us/step - loss: 3876.1406 - mae: 3876.1406\n",
      "Epoch 190/200\n",
      "34/34 [==============================] - 0s 688us/step - loss: 3715.0276 - mae: 3715.0276\n",
      "Epoch 191/200\n",
      "34/34 [==============================] - 0s 737us/step - loss: 3843.0503 - mae: 3843.0503\n",
      "Epoch 192/200\n",
      "34/34 [==============================] - 0s 694us/step - loss: 3844.0027 - mae: 3844.0027\n",
      "Epoch 193/200\n",
      "34/34 [==============================] - 0s 698us/step - loss: 3846.4045 - mae: 3846.4045\n",
      "Epoch 194/200\n",
      "34/34 [==============================] - 0s 741us/step - loss: 3819.9114 - mae: 3819.9114\n",
      "Epoch 195/200\n",
      "34/34 [==============================] - 0s 713us/step - loss: 3754.4893 - mae: 3754.4893\n",
      "Epoch 196/200\n",
      "34/34 [==============================] - 0s 638us/step - loss: 3626.5364 - mae: 3626.5364\n",
      "Epoch 197/200\n",
      "34/34 [==============================] - 0s 693us/step - loss: 4060.5623 - mae: 4060.5623\n",
      "Epoch 198/200\n",
      "34/34 [==============================] - 0s 679us/step - loss: 3889.9238 - mae: 3889.9238\n",
      "Epoch 199/200\n",
      "34/34 [==============================] - 0s 656us/step - loss: 3894.0195 - mae: 3894.0195\n",
      "Epoch 200/200\n",
      "34/34 [==============================] - 0s 691us/step - loss: 3640.5007 - mae: 3640.5007\n"
     ]
    },
    {
     "data": {
      "text/plain": [
       "<keras.src.callbacks.History at 0x7fce211ba350>"
      ]
     },
     "execution_count": 147,
     "metadata": {},
     "output_type": "execute_result"
    }
   ],
   "source": [
    "tf.random.set_seed(42)\n",
    "\n",
    "\n",
    "insurance_model_2 = tf.keras.Sequential([\n",
    "    tf.keras.layers.Dense(100),\n",
    "    tf.keras.layers.Dense(10),\n",
    "    tf.keras.layers.Dense(1),\n",
    "])\n",
    "\n",
    "insurance_model_2.compile(loss=tf.keras.losses.mae,\n",
    "                         optimizer=tf.keras.optimizers.Adam(learning_rate=0.8),\n",
    "                         metrics=[\"mae\"])\n",
    "\n",
    "X_train = np.asarray(X_train).astype(np.float32)\n",
    "y_train = np.asarray(y_train).astype(np.float32)\n",
    "insurance_model_2.fit(X_train, y_train, epochs=200)\n",
    "                         "
   ]
  },
  {
   "cell_type": "code",
   "execution_count": 153,
   "id": "76ba1ea5-4095-4f43-b67c-15fd83ba9e67",
   "metadata": {},
   "outputs": [
    {
     "name": "stdout",
     "output_type": "stream",
     "text": [
      "Epoch 1/200\n",
      "34/34 [==============================] - 0s 733us/step - loss: 8627.0400 - mae: 8627.0400\n",
      "Epoch 2/200\n",
      "34/34 [==============================] - 0s 763us/step - loss: 6781.0171 - mae: 6781.0171\n",
      "Epoch 3/200\n",
      "34/34 [==============================] - 0s 703us/step - loss: 6183.5469 - mae: 6183.5469\n",
      "Epoch 4/200\n",
      "34/34 [==============================] - 0s 660us/step - loss: 5331.8179 - mae: 5331.8179\n",
      "Epoch 5/200\n",
      "34/34 [==============================] - 0s 684us/step - loss: 4036.5466 - mae: 4036.5466\n",
      "Epoch 6/200\n",
      "34/34 [==============================] - 0s 730us/step - loss: 3944.7085 - mae: 3944.7085\n",
      "Epoch 7/200\n",
      "34/34 [==============================] - 0s 793us/step - loss: 3932.3757 - mae: 3932.3757\n",
      "Epoch 8/200\n",
      "34/34 [==============================] - 0s 659us/step - loss: 4086.8308 - mae: 4086.8308\n",
      "Epoch 9/200\n",
      "34/34 [==============================] - 0s 733us/step - loss: 3801.7571 - mae: 3801.7571\n",
      "Epoch 10/200\n",
      "34/34 [==============================] - 0s 676us/step - loss: 3792.6343 - mae: 3792.6343\n",
      "Epoch 11/200\n",
      "34/34 [==============================] - 0s 733us/step - loss: 3833.0476 - mae: 3833.0476\n",
      "Epoch 12/200\n",
      "34/34 [==============================] - 0s 705us/step - loss: 3785.6853 - mae: 3785.6853\n",
      "Epoch 13/200\n",
      "34/34 [==============================] - 0s 711us/step - loss: 3799.1350 - mae: 3799.1350\n",
      "Epoch 14/200\n",
      "34/34 [==============================] - 0s 630us/step - loss: 4023.6008 - mae: 4023.6008\n",
      "Epoch 15/200\n",
      "34/34 [==============================] - 0s 692us/step - loss: 3777.0667 - mae: 3777.0667\n",
      "Epoch 16/200\n",
      "34/34 [==============================] - 0s 650us/step - loss: 3714.4241 - mae: 3714.4241\n",
      "Epoch 17/200\n",
      "34/34 [==============================] - 0s 686us/step - loss: 3768.8718 - mae: 3768.8718\n",
      "Epoch 18/200\n",
      "34/34 [==============================] - 0s 724us/step - loss: 3791.5520 - mae: 3791.5520\n",
      "Epoch 19/200\n",
      "34/34 [==============================] - 0s 752us/step - loss: 3767.1299 - mae: 3767.1299\n",
      "Epoch 20/200\n",
      "34/34 [==============================] - 0s 780us/step - loss: 3657.1150 - mae: 3657.1150\n",
      "Epoch 21/200\n",
      "34/34 [==============================] - 0s 783us/step - loss: 3927.6064 - mae: 3927.6064\n",
      "Epoch 22/200\n",
      "34/34 [==============================] - 0s 735us/step - loss: 3592.4348 - mae: 3592.4348\n",
      "Epoch 23/200\n",
      "34/34 [==============================] - 0s 722us/step - loss: 3926.9976 - mae: 3926.9976\n",
      "Epoch 24/200\n",
      "34/34 [==============================] - 0s 679us/step - loss: 3727.9055 - mae: 3727.9055\n",
      "Epoch 25/200\n",
      "34/34 [==============================] - 0s 681us/step - loss: 3760.9709 - mae: 3760.9709\n",
      "Epoch 26/200\n",
      "34/34 [==============================] - 0s 676us/step - loss: 3598.9368 - mae: 3598.9368\n",
      "Epoch 27/200\n",
      "34/34 [==============================] - 0s 692us/step - loss: 3738.2930 - mae: 3738.2930\n",
      "Epoch 28/200\n",
      "34/34 [==============================] - 0s 635us/step - loss: 3625.9082 - mae: 3625.9082\n",
      "Epoch 29/200\n",
      "34/34 [==============================] - 0s 638us/step - loss: 3622.3608 - mae: 3622.3608\n",
      "Epoch 30/200\n",
      "34/34 [==============================] - 0s 697us/step - loss: 4001.1089 - mae: 4001.1089\n",
      "Epoch 31/200\n",
      "34/34 [==============================] - 0s 682us/step - loss: 3640.7566 - mae: 3640.7566\n",
      "Epoch 32/200\n",
      "34/34 [==============================] - 0s 707us/step - loss: 3655.7356 - mae: 3655.7356\n",
      "Epoch 33/200\n",
      "34/34 [==============================] - 0s 670us/step - loss: 3830.9773 - mae: 3830.9773\n",
      "Epoch 34/200\n",
      "34/34 [==============================] - 0s 739us/step - loss: 3870.2957 - mae: 3870.2957\n",
      "Epoch 35/200\n",
      "34/34 [==============================] - 0s 778us/step - loss: 3723.0457 - mae: 3723.0457\n",
      "Epoch 36/200\n",
      "34/34 [==============================] - 0s 680us/step - loss: 3605.6111 - mae: 3605.6111\n",
      "Epoch 37/200\n",
      "34/34 [==============================] - 0s 752us/step - loss: 3668.5359 - mae: 3668.5359\n",
      "Epoch 38/200\n",
      "34/34 [==============================] - 0s 743us/step - loss: 3781.0562 - mae: 3781.0562\n",
      "Epoch 39/200\n",
      "34/34 [==============================] - 0s 686us/step - loss: 3546.3782 - mae: 3546.3782\n",
      "Epoch 40/200\n",
      "34/34 [==============================] - 0s 702us/step - loss: 3668.5598 - mae: 3668.5598\n",
      "Epoch 41/200\n",
      "34/34 [==============================] - 0s 692us/step - loss: 3554.9573 - mae: 3554.9573\n",
      "Epoch 42/200\n",
      "34/34 [==============================] - 0s 758us/step - loss: 3667.5869 - mae: 3667.5869\n",
      "Epoch 43/200\n",
      "34/34 [==============================] - 0s 659us/step - loss: 3584.3848 - mae: 3584.3848\n",
      "Epoch 44/200\n",
      "34/34 [==============================] - 0s 660us/step - loss: 3574.6487 - mae: 3574.6487\n",
      "Epoch 45/200\n",
      "34/34 [==============================] - 0s 645us/step - loss: 3591.8059 - mae: 3591.8059\n",
      "Epoch 46/200\n",
      "34/34 [==============================] - 0s 629us/step - loss: 3657.6709 - mae: 3657.6709\n",
      "Epoch 47/200\n",
      "34/34 [==============================] - 0s 670us/step - loss: 3651.1931 - mae: 3651.1931\n",
      "Epoch 48/200\n",
      "34/34 [==============================] - 0s 757us/step - loss: 3674.5984 - mae: 3674.5984\n",
      "Epoch 49/200\n",
      "34/34 [==============================] - 0s 667us/step - loss: 3607.0100 - mae: 3607.0100\n",
      "Epoch 50/200\n",
      "34/34 [==============================] - 0s 714us/step - loss: 3692.0352 - mae: 3692.0352\n",
      "Epoch 51/200\n",
      "34/34 [==============================] - 0s 683us/step - loss: 3595.4065 - mae: 3595.4065\n",
      "Epoch 52/200\n",
      "34/34 [==============================] - 0s 699us/step - loss: 3577.1255 - mae: 3577.1255\n",
      "Epoch 53/200\n",
      "34/34 [==============================] - 0s 631us/step - loss: 3555.2478 - mae: 3555.2478\n",
      "Epoch 54/200\n",
      "34/34 [==============================] - 0s 640us/step - loss: 3658.1055 - mae: 3658.1055\n",
      "Epoch 55/200\n",
      "34/34 [==============================] - 0s 672us/step - loss: 3751.9116 - mae: 3751.9116\n",
      "Epoch 56/200\n",
      "34/34 [==============================] - 0s 680us/step - loss: 3554.4553 - mae: 3554.4553\n",
      "Epoch 57/200\n",
      "34/34 [==============================] - 0s 689us/step - loss: 3675.8914 - mae: 3675.8914\n",
      "Epoch 58/200\n",
      "34/34 [==============================] - 0s 627us/step - loss: 3609.9014 - mae: 3609.9014\n",
      "Epoch 59/200\n",
      "34/34 [==============================] - 0s 740us/step - loss: 3579.5256 - mae: 3579.5256\n",
      "Epoch 60/200\n",
      "34/34 [==============================] - 0s 648us/step - loss: 3716.7717 - mae: 3716.7717\n",
      "Epoch 61/200\n",
      "34/34 [==============================] - 0s 689us/step - loss: 3671.3574 - mae: 3671.3574\n",
      "Epoch 62/200\n",
      "34/34 [==============================] - 0s 728us/step - loss: 3596.0178 - mae: 3596.0178\n",
      "Epoch 63/200\n",
      "34/34 [==============================] - 0s 709us/step - loss: 3549.5354 - mae: 3549.5354\n",
      "Epoch 64/200\n",
      "34/34 [==============================] - 0s 662us/step - loss: 3575.1750 - mae: 3575.1750\n",
      "Epoch 65/200\n",
      "34/34 [==============================] - 0s 681us/step - loss: 3604.7585 - mae: 3604.7585\n",
      "Epoch 66/200\n",
      "34/34 [==============================] - 0s 663us/step - loss: 3679.9250 - mae: 3679.9250\n",
      "Epoch 67/200\n",
      "34/34 [==============================] - 0s 655us/step - loss: 3619.0054 - mae: 3619.0054\n",
      "Epoch 68/200\n",
      "34/34 [==============================] - 0s 685us/step - loss: 3886.4807 - mae: 3886.4807\n",
      "Epoch 69/200\n",
      "34/34 [==============================] - 0s 683us/step - loss: 3740.7278 - mae: 3740.7278\n",
      "Epoch 70/200\n",
      "34/34 [==============================] - 0s 682us/step - loss: 3727.6274 - mae: 3727.6274\n",
      "Epoch 71/200\n",
      "34/34 [==============================] - 0s 703us/step - loss: 3756.2649 - mae: 3756.2649\n",
      "Epoch 72/200\n",
      "34/34 [==============================] - 0s 784us/step - loss: 3636.6787 - mae: 3636.6787\n",
      "Epoch 73/200\n",
      "34/34 [==============================] - 0s 707us/step - loss: 3630.6057 - mae: 3630.6057\n",
      "Epoch 74/200\n",
      "34/34 [==============================] - 0s 750us/step - loss: 3667.7134 - mae: 3667.7134\n",
      "Epoch 75/200\n",
      "34/34 [==============================] - 0s 721us/step - loss: 3589.7798 - mae: 3589.7798\n",
      "Epoch 76/200\n",
      "34/34 [==============================] - 0s 701us/step - loss: 3605.8240 - mae: 3605.8240\n",
      "Epoch 77/200\n",
      "34/34 [==============================] - 0s 706us/step - loss: 3542.9893 - mae: 3542.9893\n",
      "Epoch 78/200\n",
      "34/34 [==============================] - 0s 716us/step - loss: 3679.6821 - mae: 3679.6821\n",
      "Epoch 79/200\n",
      "34/34 [==============================] - 0s 741us/step - loss: 3824.6440 - mae: 3824.6440\n",
      "Epoch 80/200\n",
      "34/34 [==============================] - 0s 669us/step - loss: 3641.7883 - mae: 3641.7883\n",
      "Epoch 81/200\n",
      "34/34 [==============================] - 0s 690us/step - loss: 3697.7024 - mae: 3697.7024\n",
      "Epoch 82/200\n",
      "34/34 [==============================] - 0s 711us/step - loss: 3798.5408 - mae: 3798.5408\n",
      "Epoch 83/200\n",
      "34/34 [==============================] - 0s 761us/step - loss: 3773.6721 - mae: 3773.6721\n",
      "Epoch 84/200\n",
      "34/34 [==============================] - 0s 675us/step - loss: 3655.3091 - mae: 3655.3091\n",
      "Epoch 85/200\n",
      "34/34 [==============================] - 0s 716us/step - loss: 3656.1660 - mae: 3656.1660\n",
      "Epoch 86/200\n",
      "34/34 [==============================] - 0s 771us/step - loss: 3516.1746 - mae: 3516.1746\n",
      "Epoch 87/200\n",
      "34/34 [==============================] - 0s 694us/step - loss: 3650.6182 - mae: 3650.6182\n",
      "Epoch 88/200\n",
      "34/34 [==============================] - 0s 689us/step - loss: 3560.9363 - mae: 3560.9363\n",
      "Epoch 89/200\n",
      "34/34 [==============================] - 0s 720us/step - loss: 3659.1113 - mae: 3659.1113\n",
      "Epoch 90/200\n",
      "34/34 [==============================] - 0s 731us/step - loss: 3614.0952 - mae: 3614.0952\n",
      "Epoch 91/200\n",
      "34/34 [==============================] - 0s 730us/step - loss: 3559.7402 - mae: 3559.7402\n",
      "Epoch 92/200\n",
      "34/34 [==============================] - 0s 671us/step - loss: 3742.5925 - mae: 3742.5925\n",
      "Epoch 93/200\n",
      "34/34 [==============================] - 0s 665us/step - loss: 3757.0066 - mae: 3757.0066\n",
      "Epoch 94/200\n",
      "34/34 [==============================] - 0s 623us/step - loss: 3847.4536 - mae: 3847.4536\n",
      "Epoch 95/200\n",
      "34/34 [==============================] - 0s 696us/step - loss: 3637.2263 - mae: 3637.2263\n",
      "Epoch 96/200\n",
      "34/34 [==============================] - 0s 673us/step - loss: 3678.4924 - mae: 3678.4924\n",
      "Epoch 97/200\n",
      "34/34 [==============================] - 0s 721us/step - loss: 3679.4277 - mae: 3679.4277\n",
      "Epoch 98/200\n",
      "34/34 [==============================] - 0s 695us/step - loss: 3565.3191 - mae: 3565.3191\n",
      "Epoch 99/200\n",
      "34/34 [==============================] - 0s 735us/step - loss: 3793.4814 - mae: 3793.4814\n",
      "Epoch 100/200\n",
      "34/34 [==============================] - 0s 698us/step - loss: 3611.7202 - mae: 3611.7202\n",
      "Epoch 101/200\n",
      "34/34 [==============================] - 0s 660us/step - loss: 3543.7720 - mae: 3543.7720\n",
      "Epoch 102/200\n",
      "34/34 [==============================] - 0s 696us/step - loss: 3584.0615 - mae: 3584.0615\n",
      "Epoch 103/200\n",
      "34/34 [==============================] - 0s 693us/step - loss: 3567.6917 - mae: 3567.6917\n",
      "Epoch 104/200\n",
      "34/34 [==============================] - 0s 669us/step - loss: 3535.6917 - mae: 3535.6917\n",
      "Epoch 105/200\n",
      "34/34 [==============================] - 0s 710us/step - loss: 3615.3596 - mae: 3615.3596\n",
      "Epoch 106/200\n",
      "34/34 [==============================] - 0s 681us/step - loss: 3587.5269 - mae: 3587.5269\n",
      "Epoch 107/200\n",
      "34/34 [==============================] - 0s 726us/step - loss: 3589.1252 - mae: 3589.1252\n",
      "Epoch 108/200\n",
      "34/34 [==============================] - 0s 680us/step - loss: 3536.3049 - mae: 3536.3049\n",
      "Epoch 109/200\n",
      "34/34 [==============================] - 0s 660us/step - loss: 3559.3706 - mae: 3559.3706\n",
      "Epoch 110/200\n",
      "34/34 [==============================] - 0s 659us/step - loss: 3711.5996 - mae: 3711.5996\n",
      "Epoch 111/200\n",
      "34/34 [==============================] - 0s 686us/step - loss: 3718.0129 - mae: 3718.0129\n",
      "Epoch 112/200\n",
      "34/34 [==============================] - 0s 697us/step - loss: 3602.5005 - mae: 3602.5005\n",
      "Epoch 113/200\n",
      "34/34 [==============================] - 0s 667us/step - loss: 3633.6096 - mae: 3633.6096\n",
      "Epoch 114/200\n",
      "34/34 [==============================] - 0s 714us/step - loss: 3650.2224 - mae: 3650.2224\n",
      "Epoch 115/200\n",
      "34/34 [==============================] - 0s 669us/step - loss: 3597.2939 - mae: 3597.2939\n",
      "Epoch 116/200\n",
      "34/34 [==============================] - 0s 648us/step - loss: 3601.1472 - mae: 3601.1472\n",
      "Epoch 117/200\n",
      "34/34 [==============================] - 0s 634us/step - loss: 3704.9106 - mae: 3704.9106\n",
      "Epoch 118/200\n",
      "34/34 [==============================] - 0s 674us/step - loss: 3532.5950 - mae: 3532.5950\n",
      "Epoch 119/200\n",
      "34/34 [==============================] - 0s 637us/step - loss: 3599.3813 - mae: 3599.3813\n",
      "Epoch 120/200\n",
      "34/34 [==============================] - 0s 654us/step - loss: 3653.3521 - mae: 3653.3521\n",
      "Epoch 121/200\n",
      "34/34 [==============================] - 0s 658us/step - loss: 3674.4375 - mae: 3674.4375\n",
      "Epoch 122/200\n",
      "34/34 [==============================] - 0s 659us/step - loss: 3565.9067 - mae: 3565.9067\n",
      "Epoch 123/200\n",
      "34/34 [==============================] - 0s 739us/step - loss: 3559.8723 - mae: 3559.8723\n",
      "Epoch 124/200\n",
      "34/34 [==============================] - 0s 742us/step - loss: 3618.8806 - mae: 3618.8806\n",
      "Epoch 125/200\n",
      "34/34 [==============================] - 0s 684us/step - loss: 3543.1367 - mae: 3543.1367\n",
      "Epoch 126/200\n",
      "34/34 [==============================] - 0s 742us/step - loss: 3625.2559 - mae: 3625.2559\n",
      "Epoch 127/200\n",
      "34/34 [==============================] - 0s 720us/step - loss: 3581.4973 - mae: 3581.4973\n",
      "Epoch 128/200\n",
      "34/34 [==============================] - 0s 700us/step - loss: 3676.7356 - mae: 3676.7356\n",
      "Epoch 129/200\n",
      "34/34 [==============================] - 0s 671us/step - loss: 3629.9573 - mae: 3629.9573\n",
      "Epoch 130/200\n",
      "34/34 [==============================] - 0s 663us/step - loss: 3535.2021 - mae: 3535.2021\n",
      "Epoch 131/200\n",
      "34/34 [==============================] - 0s 661us/step - loss: 3585.6458 - mae: 3585.6458\n",
      "Epoch 132/200\n",
      "34/34 [==============================] - 0s 664us/step - loss: 3757.1973 - mae: 3757.1973\n",
      "Epoch 133/200\n",
      "34/34 [==============================] - 0s 710us/step - loss: 3622.5425 - mae: 3622.5425\n",
      "Epoch 134/200\n",
      "34/34 [==============================] - 0s 715us/step - loss: 3643.8467 - mae: 3643.8467\n",
      "Epoch 135/200\n",
      "34/34 [==============================] - 0s 675us/step - loss: 3541.0764 - mae: 3541.0764\n",
      "Epoch 136/200\n",
      "34/34 [==============================] - 0s 693us/step - loss: 3549.3635 - mae: 3549.3635\n",
      "Epoch 137/200\n",
      "34/34 [==============================] - 0s 650us/step - loss: 3567.5813 - mae: 3567.5813\n",
      "Epoch 138/200\n",
      "34/34 [==============================] - 0s 678us/step - loss: 3635.9646 - mae: 3635.9646\n",
      "Epoch 139/200\n",
      "34/34 [==============================] - 0s 705us/step - loss: 3689.7478 - mae: 3689.7478\n",
      "Epoch 140/200\n",
      "34/34 [==============================] - 0s 677us/step - loss: 3593.7371 - mae: 3593.7371\n",
      "Epoch 141/200\n",
      "34/34 [==============================] - 0s 738us/step - loss: 3686.8923 - mae: 3686.8923\n",
      "Epoch 142/200\n",
      "34/34 [==============================] - 0s 670us/step - loss: 3658.9912 - mae: 3658.9912\n",
      "Epoch 143/200\n",
      "34/34 [==============================] - 0s 678us/step - loss: 3598.2209 - mae: 3598.2209\n",
      "Epoch 144/200\n",
      "34/34 [==============================] - 0s 688us/step - loss: 3569.7600 - mae: 3569.7600\n",
      "Epoch 145/200\n",
      "34/34 [==============================] - 0s 648us/step - loss: 3695.4958 - mae: 3695.4958\n",
      "Epoch 146/200\n",
      "34/34 [==============================] - 0s 642us/step - loss: 3744.2449 - mae: 3744.2449\n",
      "Epoch 147/200\n",
      "34/34 [==============================] - 0s 682us/step - loss: 3683.9514 - mae: 3683.9514\n",
      "Epoch 148/200\n",
      "34/34 [==============================] - 0s 687us/step - loss: 3608.4658 - mae: 3608.4658\n",
      "Epoch 149/200\n",
      "34/34 [==============================] - 0s 672us/step - loss: 3549.2041 - mae: 3549.2041\n",
      "Epoch 150/200\n",
      "34/34 [==============================] - 0s 675us/step - loss: 3564.2722 - mae: 3564.2722\n",
      "Epoch 151/200\n",
      "34/34 [==============================] - 0s 657us/step - loss: 3543.4878 - mae: 3543.4878\n",
      "Epoch 152/200\n",
      "34/34 [==============================] - 0s 746us/step - loss: 3578.5208 - mae: 3578.5208\n",
      "Epoch 153/200\n",
      "34/34 [==============================] - 0s 676us/step - loss: 3570.2295 - mae: 3570.2295\n",
      "Epoch 154/200\n",
      "34/34 [==============================] - 0s 670us/step - loss: 3848.7908 - mae: 3848.7908\n",
      "Epoch 155/200\n",
      "34/34 [==============================] - 0s 657us/step - loss: 3579.3025 - mae: 3579.3025\n",
      "Epoch 156/200\n",
      "34/34 [==============================] - 0s 682us/step - loss: 3647.9363 - mae: 3647.9363\n",
      "Epoch 157/200\n",
      "34/34 [==============================] - 0s 643us/step - loss: 3570.9460 - mae: 3570.9460\n",
      "Epoch 158/200\n",
      "34/34 [==============================] - 0s 660us/step - loss: 3596.7783 - mae: 3596.7783\n",
      "Epoch 159/200\n",
      "34/34 [==============================] - 0s 650us/step - loss: 3533.6653 - mae: 3533.6653\n",
      "Epoch 160/200\n",
      "34/34 [==============================] - 0s 745us/step - loss: 3613.9038 - mae: 3613.9038\n",
      "Epoch 161/200\n",
      "34/34 [==============================] - 0s 732us/step - loss: 3535.8723 - mae: 3535.8723\n",
      "Epoch 162/200\n",
      "34/34 [==============================] - 0s 699us/step - loss: 3637.2253 - mae: 3637.2253\n",
      "Epoch 163/200\n",
      "34/34 [==============================] - 0s 744us/step - loss: 3661.7109 - mae: 3661.7109\n",
      "Epoch 164/200\n",
      "34/34 [==============================] - 0s 633us/step - loss: 3607.2695 - mae: 3607.2695\n",
      "Epoch 165/200\n",
      "34/34 [==============================] - 0s 679us/step - loss: 3622.6560 - mae: 3622.6560\n",
      "Epoch 166/200\n",
      "34/34 [==============================] - 0s 699us/step - loss: 3565.1785 - mae: 3565.1785\n",
      "Epoch 167/200\n",
      "34/34 [==============================] - 0s 681us/step - loss: 3634.8391 - mae: 3634.8391\n",
      "Epoch 168/200\n",
      "34/34 [==============================] - 0s 685us/step - loss: 3609.5222 - mae: 3609.5222\n",
      "Epoch 169/200\n",
      "34/34 [==============================] - 0s 767us/step - loss: 3551.1973 - mae: 3551.1973\n",
      "Epoch 170/200\n",
      "34/34 [==============================] - 0s 709us/step - loss: 3579.7822 - mae: 3579.7822\n",
      "Epoch 171/200\n",
      "34/34 [==============================] - 0s 702us/step - loss: 3622.1687 - mae: 3622.1687\n",
      "Epoch 172/200\n",
      "34/34 [==============================] - 0s 690us/step - loss: 3649.8713 - mae: 3649.8713\n",
      "Epoch 173/200\n",
      "34/34 [==============================] - 0s 662us/step - loss: 3552.0935 - mae: 3552.0935\n",
      "Epoch 174/200\n",
      "34/34 [==============================] - 0s 649us/step - loss: 3532.9485 - mae: 3532.9485\n",
      "Epoch 175/200\n",
      "34/34 [==============================] - 0s 659us/step - loss: 3547.4592 - mae: 3547.4592\n",
      "Epoch 176/200\n",
      "34/34 [==============================] - 0s 667us/step - loss: 3553.6790 - mae: 3553.6790\n",
      "Epoch 177/200\n",
      "34/34 [==============================] - 0s 689us/step - loss: 3617.5735 - mae: 3617.5735\n",
      "Epoch 178/200\n",
      "34/34 [==============================] - 0s 695us/step - loss: 3622.8010 - mae: 3622.8010\n",
      "Epoch 179/200\n",
      "34/34 [==============================] - 0s 722us/step - loss: 3633.7952 - mae: 3633.7952\n",
      "Epoch 180/200\n",
      "34/34 [==============================] - 0s 628us/step - loss: 3550.3701 - mae: 3550.3701\n",
      "Epoch 181/200\n",
      "34/34 [==============================] - 0s 637us/step - loss: 3638.1067 - mae: 3638.1067\n",
      "Epoch 182/200\n",
      "34/34 [==============================] - 0s 673us/step - loss: 3567.6284 - mae: 3567.6284\n",
      "Epoch 183/200\n",
      "34/34 [==============================] - 0s 684us/step - loss: 3649.5215 - mae: 3649.5215\n",
      "Epoch 184/200\n",
      "34/34 [==============================] - 0s 678us/step - loss: 3578.8081 - mae: 3578.8081\n",
      "Epoch 185/200\n",
      "34/34 [==============================] - 0s 695us/step - loss: 3548.7324 - mae: 3548.7324\n",
      "Epoch 186/200\n",
      "34/34 [==============================] - 0s 710us/step - loss: 3690.7795 - mae: 3690.7795\n",
      "Epoch 187/200\n",
      "34/34 [==============================] - 0s 690us/step - loss: 3699.1658 - mae: 3699.1658\n",
      "Epoch 188/200\n",
      "34/34 [==============================] - 0s 755us/step - loss: 3615.5952 - mae: 3615.5952\n",
      "Epoch 189/200\n",
      "34/34 [==============================] - 0s 738us/step - loss: 3628.2385 - mae: 3628.2385\n",
      "Epoch 190/200\n",
      "34/34 [==============================] - 0s 752us/step - loss: 3610.2996 - mae: 3610.2996\n",
      "Epoch 191/200\n",
      "34/34 [==============================] - 0s 710us/step - loss: 3656.4043 - mae: 3656.4043\n",
      "Epoch 192/200\n",
      "34/34 [==============================] - 0s 708us/step - loss: 3632.8550 - mae: 3632.8550\n",
      "Epoch 193/200\n",
      "34/34 [==============================] - 0s 738us/step - loss: 3576.8857 - mae: 3576.8857\n",
      "Epoch 194/200\n",
      "34/34 [==============================] - 0s 682us/step - loss: 3570.4136 - mae: 3570.4136\n",
      "Epoch 195/200\n",
      "34/34 [==============================] - 0s 685us/step - loss: 3602.7427 - mae: 3602.7427\n",
      "Epoch 196/200\n",
      "34/34 [==============================] - 0s 688us/step - loss: 3596.8672 - mae: 3596.8672\n",
      "Epoch 197/200\n",
      "34/34 [==============================] - 0s 781us/step - loss: 3570.5935 - mae: 3570.5935\n",
      "Epoch 198/200\n",
      "34/34 [==============================] - 0s 685us/step - loss: 3593.4504 - mae: 3593.4504\n",
      "Epoch 199/200\n",
      "34/34 [==============================] - 0s 761us/step - loss: 3622.2642 - mae: 3622.2642\n",
      "Epoch 200/200\n",
      "34/34 [==============================] - 0s 735us/step - loss: 3580.7021 - mae: 3580.7021\n"
     ]
    }
   ],
   "source": [
    "# Model 3 \n",
    "\n",
    "tf.random.set_seed(42)\n",
    "\n",
    "insurance_model_3 = tf.keras.Sequential([\n",
    "    tf.keras.layers.Dense(100),\n",
    "    tf.keras.layers.Dense(10),\n",
    "    tf.keras.layers.Dense(1),\n",
    "])\n",
    "\n",
    "insurance_model_3.compile(loss=tf.keras.losses.mae,\n",
    "                          optimizer=tf.keras.optimizers.Adam(learning_rate=0.05),\n",
    "                          metrics=[\"mae\"],\n",
    "                         )\n",
    "\n",
    "hist = insurance_model_3.fit(X_train, y_train, epochs=200)"
   ]
  },
  {
   "cell_type": "code",
   "execution_count": 154,
   "id": "79fa09e4-21d2-4c3c-bb30-8d3d29df71f5",
   "metadata": {},
   "outputs": [
    {
     "name": "stdout",
     "output_type": "stream",
     "text": [
      "9/9 [==============================] - 0s 906us/step - loss: 3192.9805 - mae: 3192.9805\n"
     ]
    },
    {
     "data": {
      "text/plain": [
       "[3192.98046875, 3192.98046875]"
      ]
     },
     "execution_count": 154,
     "metadata": {},
     "output_type": "execute_result"
    }
   ],
   "source": [
    "insurance_model_3.evaluate(X_test, y_test)"
   ]
  },
  {
   "cell_type": "code",
   "execution_count": 155,
   "id": "e9196fc0-09e0-4fab-b301-872a90d7689b",
   "metadata": {},
   "outputs": [
    {
     "data": {
      "text/plain": [
       "Text(0.5, 0, 'epochs')"
      ]
     },
     "execution_count": 155,
     "metadata": {},
     "output_type": "execute_result"
    },
    {
     "data": {
      "image/png": "[encoded data removed]",
      "text/plain": [
       "<Figure size 640x480 with 1 Axes>"
      ]
     },
     "metadata": {},
     "output_type": "display_data"
    }
   ],
   "source": [
    "pd.DataFrame(hist.history).plot()\n",
    "plt.ylabel(\"loss\")\n",
    "plt.xlabel(\"epochs\")"
   ]
  },
  {
   "cell_type": "markdown",
   "id": "ce9739e0-19d4-43ef-a19a-51452af09a12",
   "metadata": {},
   "source": [
    "## Pre-Processing Data (Normalization and Standardization)"
   ]
  },
  {
   "cell_type": "code",
   "execution_count": 157,
   "id": "bca4144a-edaa-407e-8707-8c464deaf83a",
   "metadata": {},
   "outputs": [],
   "source": [
    "# Normalize\n",
    "\n",
    "from sklearn.compose import make_column_transformer\n",
    "from sklearn.preprocessing import MinMaxScaler, OneHotEncoder\n",
    "\n",
    "ct = make_column_transformer(\n",
    "    (MinMaxScaler(), [\"age\", \"bmi\", \"children\"]),\n",
    "    (OneHotEncoder(handle_unknown=\"ignore\"), [\"sex\", \"smoker\", \"region\"])\n",
    ")\n",
    "\n",
    "X = insurance.drop(\"charges\", axis=1)\n",
    "y = insurance[\"charges\"]"
   ]
  },
  {
   "cell_type": "code",
   "execution_count": 161,
   "id": "15992916-fb15-455d-ad10-c366f8deb52a",
   "metadata": {},
   "outputs": [],
   "source": [
    "X_train, X_test, y_train, y_test = train_test_split(X, y, test_size=0.2, random_state=42)\n",
    "ct.fit(X_train)\n",
    "\n",
    "X_train_normal = ct.transform(X_train)\n",
    "X_test_normal = ct.transform(X_test)"
   ]
  },
  {
   "cell_type": "code",
   "execution_count": 163,
   "id": "b8a055cb-80b0-4855-8d89-00e0f0657fdc",
   "metadata": {},
   "outputs": [
    {
     "data": {
      "text/plain": [
       "age                19\n",
       "sex            female\n",
       "bmi              27.9\n",
       "children            0\n",
       "smoker            yes\n",
       "region      southwest\n",
       "Name: 0, dtype: object"
      ]
     },
     "execution_count": 163,
     "metadata": {},
     "output_type": "execute_result"
    }
   ],
   "source": [
    "X_train.loc[0]"
   ]
  },
  {
   "cell_type": "code",
   "execution_count": 168,
   "id": "7fc9eaf3-c6d9-4672-a662-7b8420aefeeb",
   "metadata": {},
   "outputs": [
    {
     "data": {
      "text/plain": [
       "array([0.60869565, 0.10734463, 0.4       , 1.        , 0.        ,\n",
       "       1.        , 0.        , 0.        , 1.        , 0.        ,\n",
       "       0.        ])"
      ]
     },
     "execution_count": 168,
     "metadata": {},
     "output_type": "execute_result"
    }
   ],
   "source": [
    "X_train_normal[0]"
   ]
  },
  {
   "cell_type": "code",
   "execution_count": 169,
   "id": "c3d25e90-466a-4988-9609-75f8eab1ead3",
   "metadata": {},
   "outputs": [
    {
     "data": {
      "text/plain": [
       "((1070, 6), (1070, 11))"
      ]
     },
     "execution_count": 169,
     "metadata": {},
     "output_type": "execute_result"
    }
   ],
   "source": [
    "X_train.shape, X_train_normal.shape"
   ]
  },
  {
   "cell_type": "code",
   "execution_count": 171,
   "id": "2caf5829-4673-4c54-8e0a-9c258d8c1bde",
   "metadata": {},
   "outputs": [
    {
     "name": "stdout",
     "output_type": "stream",
     "text": [
      "Epoch 1/100\n",
      "34/34 [==============================] - 0s 772us/step - loss: 13344.0039 - mae: 13344.0039\n",
      "Epoch 2/100\n",
      "34/34 [==============================] - 0s 804us/step - loss: 13335.9043 - mae: 13335.9043\n",
      "Epoch 3/100\n",
      "34/34 [==============================] - 0s 789us/step - loss: 13315.9990 - mae: 13315.9990\n",
      "Epoch 4/100\n",
      "34/34 [==============================] - 0s 715us/step - loss: 13273.6445 - mae: 13273.6445\n",
      "Epoch 5/100\n",
      "34/34 [==============================] - 0s 670us/step - loss: 13197.2188 - mae: 13197.2188\n",
      "Epoch 6/100\n",
      "34/34 [==============================] - 0s 700us/step - loss: 13075.5918 - mae: 13075.5918\n",
      "Epoch 7/100\n",
      "34/34 [==============================] - 0s 648us/step - loss: 12898.4980 - mae: 12898.4980\n",
      "Epoch 8/100\n",
      "34/34 [==============================] - 0s 674us/step - loss: 12655.7998 - mae: 12655.7998\n",
      "Epoch 9/100\n",
      "34/34 [==============================] - 0s 622us/step - loss: 12337.2734 - mae: 12337.2734\n",
      "Epoch 10/100\n",
      "34/34 [==============================] - 0s 719us/step - loss: 11937.9922 - mae: 11937.9922\n",
      "Epoch 11/100\n",
      "34/34 [==============================] - 0s 666us/step - loss: 11466.4580 - mae: 11466.4580\n",
      "Epoch 12/100\n",
      "34/34 [==============================] - 0s 692us/step - loss: 10961.7490 - mae: 10961.7490\n",
      "Epoch 13/100\n",
      "34/34 [==============================] - 0s 712us/step - loss: 10460.8154 - mae: 10460.8154\n",
      "Epoch 14/100\n",
      "34/34 [==============================] - 0s 681us/step - loss: 9964.1025 - mae: 9964.1025\n",
      "Epoch 15/100\n",
      "34/34 [==============================] - 0s 644us/step - loss: 9495.0459 - mae: 9495.0459\n",
      "Epoch 16/100\n",
      "34/34 [==============================] - 0s 710us/step - loss: 9078.9307 - mae: 9078.9307\n",
      "Epoch 17/100\n",
      "34/34 [==============================] - 0s 677us/step - loss: 8733.3135 - mae: 8733.3135\n",
      "Epoch 18/100\n",
      "34/34 [==============================] - 0s 740us/step - loss: 8452.4365 - mae: 8452.4365\n",
      "Epoch 19/100\n",
      "34/34 [==============================] - 0s 708us/step - loss: 8237.3584 - mae: 8237.3584\n",
      "Epoch 20/100\n",
      "34/34 [==============================] - 0s 689us/step - loss: 8090.4971 - mae: 8090.4971\n",
      "Epoch 21/100\n",
      "34/34 [==============================] - 0s 694us/step - loss: 7982.7017 - mae: 7982.7017\n",
      "Epoch 22/100\n",
      "34/34 [==============================] - 0s 694us/step - loss: 7908.1113 - mae: 7908.1113\n",
      "Epoch 23/100\n",
      "34/34 [==============================] - 0s 638us/step - loss: 7849.3682 - mae: 7849.3682\n",
      "Epoch 24/100\n",
      "34/34 [==============================] - 0s 653us/step - loss: 7796.9780 - mae: 7796.9780\n",
      "Epoch 25/100\n",
      "34/34 [==============================] - 0s 682us/step - loss: 7758.7339 - mae: 7758.7339\n",
      "Epoch 26/100\n",
      "34/34 [==============================] - 0s 723us/step - loss: 7707.1475 - mae: 7707.1475\n",
      "Epoch 27/100\n",
      "34/34 [==============================] - 0s 691us/step - loss: 7665.1587 - mae: 7665.1587\n",
      "Epoch 28/100\n",
      "34/34 [==============================] - 0s 680us/step - loss: 7623.0254 - mae: 7623.0254\n",
      "Epoch 29/100\n",
      "34/34 [==============================] - 0s 654us/step - loss: 7580.7905 - mae: 7580.7905\n",
      "Epoch 30/100\n",
      "34/34 [==============================] - 0s 648us/step - loss: 7537.5054 - mae: 7537.5054\n",
      "Epoch 31/100\n",
      "34/34 [==============================] - 0s 678us/step - loss: 7493.7612 - mae: 7493.7612\n",
      "Epoch 32/100\n",
      "34/34 [==============================] - 0s 684us/step - loss: 7449.8369 - mae: 7449.8369\n",
      "Epoch 33/100\n",
      "34/34 [==============================] - 0s 678us/step - loss: 7405.8066 - mae: 7405.8066\n",
      "Epoch 34/100\n",
      "34/34 [==============================] - 0s 673us/step - loss: 7357.8818 - mae: 7357.8818\n",
      "Epoch 35/100\n",
      "34/34 [==============================] - 0s 604us/step - loss: 7311.3672 - mae: 7311.3672\n",
      "Epoch 36/100\n",
      "34/34 [==============================] - 0s 611us/step - loss: 7261.3994 - mae: 7261.3994\n",
      "Epoch 37/100\n",
      "34/34 [==============================] - 0s 741us/step - loss: 7211.3433 - mae: 7211.3433\n",
      "Epoch 38/100\n",
      "34/34 [==============================] - 0s 773us/step - loss: 7160.6470 - mae: 7160.6470\n",
      "Epoch 39/100\n",
      "34/34 [==============================] - 0s 712us/step - loss: 7106.1250 - mae: 7106.1250\n",
      "Epoch 40/100\n",
      "34/34 [==============================] - 0s 703us/step - loss: 7051.0034 - mae: 7051.0034\n",
      "Epoch 41/100\n",
      "34/34 [==============================] - 0s 801us/step - loss: 6994.9341 - mae: 6994.9341\n",
      "Epoch 42/100\n",
      "34/34 [==============================] - 0s 669us/step - loss: 6936.4126 - mae: 6936.4126\n",
      "Epoch 43/100\n",
      "34/34 [==============================] - 0s 661us/step - loss: 6874.1968 - mae: 6874.1968\n",
      "Epoch 44/100\n",
      "34/34 [==============================] - 0s 653us/step - loss: 6808.4585 - mae: 6808.4585\n",
      "Epoch 45/100\n",
      "34/34 [==============================] - 0s 798us/step - loss: 6741.8330 - mae: 6741.8330\n",
      "Epoch 46/100\n",
      "34/34 [==============================] - 0s 660us/step - loss: 6673.2910 - mae: 6673.2910\n",
      "Epoch 47/100\n",
      "34/34 [==============================] - 0s 687us/step - loss: 6602.9014 - mae: 6602.9014\n",
      "Epoch 48/100\n",
      "34/34 [==============================] - 0s 700us/step - loss: 6524.5347 - mae: 6524.5347\n",
      "Epoch 49/100\n",
      "34/34 [==============================] - 0s 661us/step - loss: 6446.2725 - mae: 6446.2725\n",
      "Epoch 50/100\n",
      "34/34 [==============================] - 0s 648us/step - loss: 6361.3843 - mae: 6361.3843\n",
      "Epoch 51/100\n",
      "34/34 [==============================] - 0s 690us/step - loss: 6277.5801 - mae: 6277.5801\n",
      "Epoch 52/100\n",
      "34/34 [==============================] - 0s 641us/step - loss: 6185.1255 - mae: 6185.1255\n",
      "Epoch 53/100\n",
      "34/34 [==============================] - 0s 745us/step - loss: 6090.1050 - mae: 6090.1050\n",
      "Epoch 54/100\n",
      "34/34 [==============================] - 0s 712us/step - loss: 5992.3184 - mae: 5992.3184\n",
      "Epoch 55/100\n",
      "34/34 [==============================] - 0s 690us/step - loss: 5885.9146 - mae: 5885.9146\n",
      "Epoch 56/100\n",
      "34/34 [==============================] - 0s 687us/step - loss: 5778.4985 - mae: 5778.4985\n",
      "Epoch 57/100\n",
      "34/34 [==============================] - 0s 739us/step - loss: 5663.4448 - mae: 5663.4448\n",
      "Epoch 58/100\n",
      "34/34 [==============================] - 0s 637us/step - loss: 5546.4419 - mae: 5546.4419\n",
      "Epoch 59/100\n",
      "34/34 [==============================] - 0s 647us/step - loss: 5429.4966 - mae: 5429.4966\n",
      "Epoch 60/100\n",
      "34/34 [==============================] - 0s 659us/step - loss: 5307.1333 - mae: 5307.1333\n",
      "Epoch 61/100\n",
      "34/34 [==============================] - 0s 647us/step - loss: 5180.6128 - mae: 5180.6128\n",
      "Epoch 62/100\n",
      "34/34 [==============================] - 0s 662us/step - loss: 5051.5410 - mae: 5051.5410\n",
      "Epoch 63/100\n",
      "34/34 [==============================] - 0s 650us/step - loss: 4923.0264 - mae: 4923.0264\n",
      "Epoch 64/100\n",
      "34/34 [==============================] - 0s 682us/step - loss: 4791.9805 - mae: 4791.9805\n",
      "Epoch 65/100\n",
      "34/34 [==============================] - 0s 669us/step - loss: 4664.6050 - mae: 4664.6050\n",
      "Epoch 66/100\n",
      "34/34 [==============================] - 0s 658us/step - loss: 4537.3179 - mae: 4537.3179\n",
      "Epoch 67/100\n",
      "34/34 [==============================] - 0s 680us/step - loss: 4426.8267 - mae: 4426.8267\n",
      "Epoch 68/100\n",
      "34/34 [==============================] - 0s 652us/step - loss: 4318.9399 - mae: 4318.9399\n",
      "Epoch 69/100\n",
      "34/34 [==============================] - 0s 752us/step - loss: 4216.3555 - mae: 4216.3555\n",
      "Epoch 70/100\n",
      "34/34 [==============================] - 0s 710us/step - loss: 4122.0356 - mae: 4122.0356\n",
      "Epoch 71/100\n",
      "34/34 [==============================] - 0s 698us/step - loss: 4033.7419 - mae: 4033.7419\n",
      "Epoch 72/100\n",
      "34/34 [==============================] - 0s 671us/step - loss: 3957.0757 - mae: 3957.0757\n",
      "Epoch 73/100\n",
      "34/34 [==============================] - 0s 736us/step - loss: 3891.1667 - mae: 3891.1667\n",
      "Epoch 74/100\n",
      "34/34 [==============================] - 0s 684us/step - loss: 3836.5354 - mae: 3836.5354\n",
      "Epoch 75/100\n",
      "34/34 [==============================] - 0s 637us/step - loss: 3791.7092 - mae: 3791.7092\n",
      "Epoch 76/100\n",
      "34/34 [==============================] - 0s 671us/step - loss: 3757.4939 - mae: 3757.4939\n",
      "Epoch 77/100\n",
      "34/34 [==============================] - 0s 641us/step - loss: 3730.2039 - mae: 3730.2039\n",
      "Epoch 78/100\n",
      "34/34 [==============================] - 0s 717us/step - loss: 3711.1917 - mae: 3711.1917\n",
      "Epoch 79/100\n",
      "34/34 [==============================] - 0s 686us/step - loss: 3696.6494 - mae: 3696.6494\n",
      "Epoch 80/100\n",
      "34/34 [==============================] - 0s 687us/step - loss: 3686.5779 - mae: 3686.5779\n",
      "Epoch 81/100\n",
      "34/34 [==============================] - 0s 642us/step - loss: 3679.0391 - mae: 3679.0391\n",
      "Epoch 82/100\n",
      "34/34 [==============================] - 0s 630us/step - loss: 3674.9866 - mae: 3674.9866\n",
      "Epoch 83/100\n",
      "34/34 [==============================] - 0s 698us/step - loss: 3668.2263 - mae: 3668.2263\n",
      "Epoch 84/100\n",
      "34/34 [==============================] - 0s 713us/step - loss: 3665.1782 - mae: 3665.1782\n",
      "Epoch 85/100\n",
      "34/34 [==============================] - 0s 709us/step - loss: 3662.4167 - mae: 3662.4167\n",
      "Epoch 86/100\n",
      "34/34 [==============================] - 0s 683us/step - loss: 3660.4548 - mae: 3660.4548\n",
      "Epoch 87/100\n",
      "34/34 [==============================] - 0s 735us/step - loss: 3657.5884 - mae: 3657.5884\n",
      "Epoch 88/100\n",
      "34/34 [==============================] - 0s 621us/step - loss: 3654.8254 - mae: 3654.8254\n",
      "Epoch 89/100\n",
      "34/34 [==============================] - 0s 623us/step - loss: 3653.0889 - mae: 3653.0889\n",
      "Epoch 90/100\n",
      "34/34 [==============================] - 0s 678us/step - loss: 3651.7322 - mae: 3651.7322\n",
      "Epoch 91/100\n",
      "34/34 [==============================] - 0s 702us/step - loss: 3648.5730 - mae: 3648.5730\n",
      "Epoch 92/100\n",
      "34/34 [==============================] - 0s 639us/step - loss: 3647.9138 - mae: 3647.9138\n",
      "Epoch 93/100\n",
      "34/34 [==============================] - 0s 701us/step - loss: 3645.5078 - mae: 3645.5078\n",
      "Epoch 94/100\n",
      "34/34 [==============================] - 0s 710us/step - loss: 3643.9341 - mae: 3643.9341\n",
      "Epoch 95/100\n",
      "34/34 [==============================] - 0s 637us/step - loss: 3644.8313 - mae: 3644.8313\n",
      "Epoch 96/100\n",
      "34/34 [==============================] - 0s 645us/step - loss: 3641.6714 - mae: 3641.6714\n",
      "Epoch 97/100\n",
      "34/34 [==============================] - 0s 644us/step - loss: 3639.5283 - mae: 3639.5283\n",
      "Epoch 98/100\n",
      "34/34 [==============================] - 0s 664us/step - loss: 3637.4270 - mae: 3637.4270\n",
      "Epoch 99/100\n",
      "34/34 [==============================] - 0s 691us/step - loss: 3636.9099 - mae: 3636.9099\n",
      "Epoch 100/100\n",
      "34/34 [==============================] - 0s 658us/step - loss: 3635.1628 - mae: 3635.1628\n"
     ]
    },
    {
     "data": {
      "text/plain": [
       "<keras.src.callbacks.History at 0x7fce1c584f90>"
      ]
     },
     "execution_count": 171,
     "metadata": {},
     "output_type": "execute_result"
    }
   ],
   "source": [
    "# neural network model\n",
    "\n",
    "tf.random.set_seed(42)\n",
    "\n",
    "\n",
    "insurance_model = tf.keras.Sequential([\n",
    "    tf.keras.layers.Dense(100),\n",
    "    tf.keras.layers.Dense(10),\n",
    "    tf.keras.layers.Dense(1),\n",
    "])\n",
    "\n",
    "insurance_model.compile(loss=tf.keras.losses.mae,\n",
    "                        optimizer=tf.keras.optimizers.Adam(),\n",
    "                        metrics=[\"mae\"],\n",
    "                                 )\n",
    "y_train = np.asarray(y_train).astype(np.float32)\n",
    "\n",
    "insurance_model.fit(X_train_normal, y_train, epochs=100)"
   ]
  },
  {
   "cell_type": "code",
   "execution_count": 172,
   "id": "7f1f7454-12ec-4f1f-bc0e-6c4382e6bbe0",
   "metadata": {},
   "outputs": [
    {
     "name": "stdout",
     "output_type": "stream",
     "text": [
      "9/9 [==============================] - 0s 764us/step - loss: 3438.1746 - mae: 3438.1746\n"
     ]
    },
    {
     "data": {
      "text/plain": [
       "[3438.174560546875, 3438.174560546875]"
      ]
     },
     "execution_count": 172,
     "metadata": {},
     "output_type": "execute_result"
    }
   ],
   "source": [
    "y_test = np.asarray(y_test).astype(np.float32)\n",
    "\n",
    "insurance_model.evaluate(X_test_normal, y_test)"
   ]
  },
  {
   "cell_type": "markdown",
   "id": "c9ef54d4-8c04-4a4d-9ccb-fa7442b67eaf",
   "metadata": {},
   "source": [
    "## End of the Regression Notebook"
   ]
  }
 ],
 "metadata": {
  "kernelspec": {
   "display_name": "Python 3 (ipykernel)",
   "language": "python",
   "name": "python3"
  },
  "language_info": {
   "codemirror_mode": {
    "name": "ipython",
    "version": 3
   },
   "file_extension": ".py",
   "mimetype": "text/x-python",
   "name": "python",
   "nbconvert_exporter": "python",
   "pygments_lexer": "ipython3",
   "version": "3.11.0rc1"
  }
 },
 "nbformat": 4,
 "nbformat_minor": 5
}
